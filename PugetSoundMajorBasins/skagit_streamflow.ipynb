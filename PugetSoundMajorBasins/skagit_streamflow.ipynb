{
 "metadata": {
  "name": "",
  "signature": "sha256:22be83b8549076b044f333ee52cf13ab60954e0f31074ff6ac4341ec861413e8"
 },
 "nbformat": 3,
 "nbformat_minor": 0,
 "worksheets": [
  {
   "cells": [
    {
     "cell_type": "code",
     "collapsed": false,
     "input": [
      "import matplotlib.pyplot as plt\n",
      "from matplotlib.finance import quotes_historical_yahoo\n",
      "from matplotlib.dates import YearLocator, MonthLocator, DateFormatter\n",
      "import numpy as np\n",
      "import pandas as pd\n",
      "import datetime as dt\n",
      "from matplotlib.dates import date2num, num2date \n",
      "from matplotlib.pyplot import figure, show\n",
      "from matplotlib import scale as mscale\n",
      "from matplotlib import transforms as mtransforms\n",
      "import pylab\n",
      "import matplotlib\n",
      "import os\n",
      "%matplotlib inline\n",
      "\n",
      "os.chdir('D:\\\\trash\\\\junk\\\\cedar')\n",
      "data1 = np.genfromtxt('daily_flow.txt',dtype='int')\n",
      "data1_1 = np.genfromtxt('daily_flow.txt')\n",
      "\n",
      "sim = data1_1[:,2]\n",
      "data2 = np.genfromtxt('obsflow.txt',dtype='int')\n",
      "data2_1 = np.genfromtxt('obsflow.txt')\n",
      "obs = data2_1[:,2]\n",
      "\n",
      "time1=np.zeros([data1.shape[0],1])\n",
      "for i in range(0,data1.shape[0]):\n",
      "    a1= year[i]\n",
      "    b1= month[i]\n",
      "    c1= day[i]\n",
      "    d1= dt.date(a1,b1,c1)\n",
      "    time1[i] = date2num(d1)\n",
      "    i+=1\n",
      "#print time1\n",
      "\n",
      "fig = plt.figure(figsize=(12,6))\n",
      "ax = fig.add_subplot(111)\n",
      "ax.plot_date(time1, obs, 'b',label='Obs')\n",
      "ax.plot_date(time1, sim, 'r',label='Sim')\n",
      "pylab.ylim([0,1800])\n",
      "\n",
      "\n",
      "plt.gcf().autofmt_xdate()\n",
      "legend = ax.legend(loc='center left', shadow=True)\n",
      "plt.title('Daily flow in Skagit (12189500)',fontsize=16)\n",
      "\n",
      "ax.set_xlabel('time (day)',fontsize=14, x=0.5, y=0)\n",
      "ax.set_ylabel('Flow (cms)',fontsize=14)\n",
      "matplotlib.rc('xtick', labelsize=14)\n",
      "matplotlib.rc('ytick', labelsize=14)\n",
      "ax.set_xlim([np.min(time1), np.max(time1)])\n",
      "\n",
      "tempr1=0\n",
      "tempr2=0\n",
      "for i in range(0,sim.shape[0]):\n",
      "    tempr1+=(sim[i]-obs[i])**2\n",
      "    tempr2+=(obs[i]-np.mean(obs))**2\n",
      "    i+=1\n",
      "nash=1-tempr1/tempr2\n",
      "nash_1=\"{:.2f}\".format(nash)\n",
      "ax.text(time1[20],1450,'$Nash= $'+str(nash_1),fontsize=16)\n",
      "#ax2.set_xlim([np.max(time1), np.min(time1)])\n",
      "#plt.show()"
     ],
     "language": "python",
     "metadata": {},
     "outputs": [
      {
       "ename": "IndexError",
       "evalue": "index 2 is out of bounds for axis 1 with size 2",
       "output_type": "pyerr",
       "traceback": [
        "\u001b[1;31m---------------------------------------------------------------------------\u001b[0m\n\u001b[1;31mIndexError\u001b[0m                                Traceback (most recent call last)",
        "\u001b[1;32m<ipython-input-2-d38366a31cc7>\u001b[0m in \u001b[0;36m<module>\u001b[1;34m()\u001b[0m\n\u001b[0;32m     20\u001b[0m \u001b[0myear\u001b[0m \u001b[1;33m=\u001b[0m \u001b[0mdata1\u001b[0m\u001b[1;33m[\u001b[0m\u001b[1;33m:\u001b[0m\u001b[1;33m,\u001b[0m\u001b[1;36m0\u001b[0m\u001b[1;33m]\u001b[0m\u001b[1;33m\u001b[0m\u001b[0m\n\u001b[0;32m     21\u001b[0m \u001b[0mmonth\u001b[0m \u001b[1;33m=\u001b[0m \u001b[0mdata1\u001b[0m\u001b[1;33m[\u001b[0m\u001b[1;33m:\u001b[0m\u001b[1;33m,\u001b[0m\u001b[1;36m1\u001b[0m\u001b[1;33m]\u001b[0m\u001b[1;33m\u001b[0m\u001b[0m\n\u001b[1;32m---> 22\u001b[1;33m \u001b[0mday\u001b[0m \u001b[1;33m=\u001b[0m \u001b[0mdata1\u001b[0m\u001b[1;33m[\u001b[0m\u001b[1;33m:\u001b[0m\u001b[1;33m,\u001b[0m\u001b[1;36m2\u001b[0m\u001b[1;33m]\u001b[0m\u001b[1;33m\u001b[0m\u001b[0m\n\u001b[0m\u001b[0;32m     23\u001b[0m \u001b[0msim\u001b[0m \u001b[1;33m=\u001b[0m \u001b[0mdata1_1\u001b[0m\u001b[1;33m[\u001b[0m\u001b[1;33m:\u001b[0m\u001b[1;33m,\u001b[0m\u001b[1;36m3\u001b[0m\u001b[1;33m]\u001b[0m\u001b[1;33m\u001b[0m\u001b[0m\n\u001b[0;32m     24\u001b[0m \u001b[0mdata2\u001b[0m \u001b[1;33m=\u001b[0m \u001b[0mnp\u001b[0m\u001b[1;33m.\u001b[0m\u001b[0mgenfromtxt\u001b[0m\u001b[1;33m(\u001b[0m\u001b[1;34m'obsflow.txt'\u001b[0m\u001b[1;33m,\u001b[0m\u001b[0mdtype\u001b[0m\u001b[1;33m=\u001b[0m\u001b[1;34m'int'\u001b[0m\u001b[1;33m)\u001b[0m\u001b[1;33m\u001b[0m\u001b[0m\n",
        "\u001b[1;31mIndexError\u001b[0m: index 2 is out of bounds for axis 1 with size 2"
       ]
      }
     ],
     "prompt_number": 2
    },
    {
     "cell_type": "code",
     "collapsed": false,
     "input": [],
     "language": "python",
     "metadata": {},
     "outputs": []
    }
   ],
   "metadata": {}
  }
 ]
}