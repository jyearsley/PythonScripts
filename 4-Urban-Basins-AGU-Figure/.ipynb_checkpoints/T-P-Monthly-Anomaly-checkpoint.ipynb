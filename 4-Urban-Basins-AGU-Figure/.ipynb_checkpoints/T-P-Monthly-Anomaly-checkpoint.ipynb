{
 "metadata": {
  "name": "",
  "signature": "sha256:283e74cc7a135bee9b0e58c7478f550fb46fa73adf59a9906f329eac413077eb"
 },
 "nbformat": 3,
 "nbformat_minor": 0,
 "worksheets": [
  {
   "cells": [
    {
     "cell_type": "markdown",
     "metadata": {},
     "source": [
      "###This notebook includes the Temperature and Precipitation monthly anomalies."
     ]
    },
    {
     "cell_type": "code",
     "collapsed": false,
     "input": [
      "%pylab inline"
     ],
     "language": "python",
     "metadata": {},
     "outputs": [
      {
       "output_type": "stream",
       "stream": "stdout",
       "text": [
        "Populating the interactive namespace from numpy and matplotlib\n"
       ]
      },
      {
       "output_type": "stream",
       "stream": "stderr",
       "text": [
        "WARNING: pylab import has clobbered these variables: ['norm', 'colors']\n",
        "`%matplotlib` prevents importing * from pylab and numpy\n"
       ]
      }
     ],
     "prompt_number": 57
    },
    {
     "cell_type": "markdown",
     "metadata": {},
     "source": [
      "<font color='blue'>**First, import all necessary libraries.**</font>"
     ]
    },
    {
     "cell_type": "code",
     "collapsed": false,
     "input": [
      "# Import all needed libraries \n",
      "import sys, os, datetime, time\n",
      "import collections\n",
      "import numpy as np\n",
      "import pandas as pd\n",
      "import numpy.ma as ma\n",
      "import math\n",
      "import matplotlib.dates as dates\n",
      "import matplotlib.ticker as ticker\n",
      "import matplotlib.pyplot as plt\n",
      "from matplotlib.backends.backend_pdf import PdfPages\n",
      "from scipy.stats import norm\n",
      "from scipy import stats\n",
      "\n",
      "import os\n",
      "os.getcwd() \n",
      "os.chdir(\"D:\\\\Box Sync\\\\WQ-PAPER\")\n",
      "os.getcwd()"
     ],
     "language": "python",
     "metadata": {},
     "outputs": [
      {
       "ename": "WindowsError",
       "evalue": "[Error 2] The system cannot find the file specified: 'D:\\\\Box Sync\\\\Python_Scripts'",
       "output_type": "pyerr",
       "traceback": [
        "\u001b[1;31m---------------------------------------------------------------------------\u001b[0m\n\u001b[1;31mWindowsError\u001b[0m                              Traceback (most recent call last)",
        "\u001b[1;32m<ipython-input-58-161a2d117062>\u001b[0m in \u001b[0;36m<module>\u001b[1;34m()\u001b[0m\n\u001b[0;32m     15\u001b[0m \u001b[1;32mimport\u001b[0m \u001b[0mos\u001b[0m\u001b[1;33m\u001b[0m\u001b[0m\n\u001b[0;32m     16\u001b[0m \u001b[0mos\u001b[0m\u001b[1;33m.\u001b[0m\u001b[0mgetcwd\u001b[0m\u001b[1;33m(\u001b[0m\u001b[1;33m)\u001b[0m\u001b[1;33m\u001b[0m\u001b[0m\n\u001b[1;32m---> 17\u001b[1;33m \u001b[0mos\u001b[0m\u001b[1;33m.\u001b[0m\u001b[0mchdir\u001b[0m\u001b[1;33m(\u001b[0m\u001b[1;34m\"D:\\\\Box Sync\\\\Python_Scripts\"\u001b[0m\u001b[1;33m)\u001b[0m\u001b[1;33m\u001b[0m\u001b[0m\n\u001b[0m\u001b[0;32m     18\u001b[0m \u001b[0mos\u001b[0m\u001b[1;33m.\u001b[0m\u001b[0mgetcwd\u001b[0m\u001b[1;33m(\u001b[0m\u001b[1;33m)\u001b[0m\u001b[1;33m\u001b[0m\u001b[0m\n",
        "\u001b[1;31mWindowsError\u001b[0m: [Error 2] The system cannot find the file specified: 'D:\\\\Box Sync\\\\Python_Scripts'"
       ]
      }
     ],
     "prompt_number": 58
    },
    {
     "cell_type": "markdown",
     "metadata": {},
     "source": [
      "<font color='blue'>**Edit the figure properties**</font> "
     ]
    },
    {
     "cell_type": "code",
     "collapsed": false,
     "input": [
      "import matplotlib as mpl\n",
      "mpl.rcParams['lines.linewidth'] = 2\n",
      "font = {'family' : 'sans-serif',\n",
      "        'sans-serif' : 'Verdana',\n",
      "        'weight' : 'medium',\n",
      "        'size'   : '12'}\n",
      "params1 = {\n",
      "          'axes.labelsize': 12,\n",
      "          'text.fontsize': 12,\n",
      "          'xtick.labelsize': 12,\n",
      "          'xtick.direction': 'out',\n",
      "          'ytick.labelsize': 12,\n",
      "          'legend.pad': 0.01,     # empty space around the legend box\n",
      "          'legend.fontsize': 12,\n",
      "          'legend.labelspacing':0.25,\n",
      "          'font.size': 12,\n",
      "          'font.style': 'normal',\n",
      "          'axes.style': 'normal',\n",
      "          'xtick.labelstyle': 'normal',\n",
      "          }\n",
      "mpl.RcParams.update(params1)\n",
      "mpl.rc('font', **font)\n",
      "plt.rc(\"xtick\", direction=\"out\")\n",
      "plt.rc(\"ytick\", direction=\"out\")\n",
      "plt.rc('legend',**{'fontsize':12})"
     ],
     "language": "python",
     "metadata": {},
     "outputs": []
    },
    {
     "cell_type": "code",
     "collapsed": false,
     "input": [
      "scenarios = ['TAIR', 'PPT']\n",
      "strings = ['RCP4.5(mid-20th)', 'RCP4.5(late-20th)', 'RCP8.5(mid-20th)', 'RCP8.5(late-20th)']\n",
      "colors = [\"#666666\", \"#666666\", \"#000000\", \"#000000\"] \n",
      "linestyles = ['-', '--', '-', '--']\n",
      "\n",
      "mainpath = {}\n",
      "# define the 2-dimensional dictionary with multiple keys per value\n",
      "AnomalyPath = collections.defaultdict(dict)\n",
      "\n",
      "# read the monthly anomalyies for P and T\n",
      "mainpath = 'D:\\\\Dropbox\\\\WQ-PAPER\\\\ClimateScenarioAnomaly\\\\'\n",
      "for i, s in enumerate(scenarios):\n",
      "    AnomalyPath[s] = str(mainpath)+str(scenarios[i])+'.txt'\n",
      "\n",
      "for i, s in enumerate(scenarios):\n",
      "    print AnomalyPath[s]"
     ],
     "language": "python",
     "metadata": {},
     "outputs": []
    },
    {
     "cell_type": "markdown",
     "metadata": {},
     "source": [
      "<font color='blue'>**Read in the input file: ppt ratio and temperature diff for different scenarios.**</font><br>"
     ]
    },
    {
     "cell_type": "code",
     "collapsed": false,
     "input": [
      "pptratio = collections.defaultdict(dict)\n",
      "tempdiff = collections.defaultdict(dict)\n",
      "\n",
      "for i, s in enumerate(strings):\n",
      "    tempdiff[s] = np.genfromtxt(AnomalyPath['TAIR'], dtype=float, skiprows=1, usecols=[i+1])\n",
      "for i, s in enumerate(strings):\n",
      "    pptratio[s] = np.genfromtxt(AnomalyPath['PPT'], dtype=float, skiprows=1, usecols=[i+1])"
     ],
     "language": "python",
     "metadata": {},
     "outputs": []
    },
    {
     "cell_type": "code",
     "collapsed": false,
     "input": [
      "fig=plt.figure(figsize=(7,8),dpi=400)\n",
      "ax = plt.subplot(2, 1, 1)\n",
      "fig.subplots_adjust(hspace = 0.3, wspace = 0.1)\n",
      "props = dict(boxstyle='round', facecolor='wheat', alpha=0.5)\n",
      "#title('Tair', fontsize=14.0, y=1.02, fontweight=\"bold\")\n",
      "for c, t, l in zip(colors, strings, linestyles):\n",
      "    plt.plot(range(1, 13), tempdiff[t], color=c, label=str(t), linewidth=3.0, linestyle=l)\n",
      "    plt.ylabel('Temp. Diff. ($^\\circ$C)', fontsize=12.)\n",
      "    plt.xlim([1,12])\n",
      "    ax.xaxis.set_major_locator(ticker.FixedLocator(np.arange(1,13)))\n",
      "    ax.xaxis.set_major_formatter(ticker.FixedFormatter(['Jan','Feb','Mar','Apr','May','Jun','Jul','Aug','Sep','Oct','Nov','Dec']))\n",
      "    grid(True)\n",
      "    #ax.legend(loc='best')\n",
      "    ax.legend(loc='best', bbox_to_anchor=(0.45, 1.15))\n",
      "\n",
      "ax = plt.subplot(2, 1, 2)\n",
      "fig.subplots_adjust(hspace = 0.3, wspace = 0.1)\n",
      "props = dict(boxstyle='round', facecolor='wheat', alpha=0.5)\n",
      "#title('Tair', fontsize=14.0, y=1.02, fontweight=\"bold\")\n",
      "for c, t, l in zip(colors, strings, linestyles):\n",
      "    plt.plot(range(1, 13), pptratio[t], color=c, label=str(t), linewidth=3.0, linestyle=l)\n",
      "    plt.ylabel('Precip. Ratio', fontsize=12.)\n",
      "    plt.xlabel('month', fontsize=12.)\n",
      "    plt.xlim([1,12])\n",
      "    ax.xaxis.set_major_locator(ticker.FixedLocator(np.arange(1,13)))\n",
      "    ax.xaxis.set_major_formatter(ticker.FixedFormatter(['Jan','Feb','Mar','Apr','May','Jun','Jul','Aug','Sep','Oct','Nov','Dec']))\n",
      "    grid(True)\n",
      "\n",
      "outputfilepath = str(mainpath) + 'anomaly.png'    \n",
      "savefig(str(outputfilepath),dpi=500,format = 'png',transparent='True')\n"
     ],
     "language": "python",
     "metadata": {},
     "outputs": []
    },
    {
     "cell_type": "code",
     "collapsed": false,
     "input": [],
     "language": "python",
     "metadata": {},
     "outputs": []
    }
   ],
   "metadata": {}
  }
 ]
}