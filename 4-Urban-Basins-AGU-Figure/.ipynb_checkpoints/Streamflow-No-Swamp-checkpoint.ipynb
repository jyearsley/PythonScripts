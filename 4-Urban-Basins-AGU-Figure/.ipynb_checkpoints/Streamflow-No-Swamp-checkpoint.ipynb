{
 "metadata": {
  "name": "",
  "signature": "sha256:39bec7a2dcab3debe95a4b3877c9fd0cce231930669ed626c87bd0c3c36edec8"
 },
 "nbformat": 3,
 "nbformat_minor": 0,
 "worksheets": [
  {
   "cells": [
    {
     "cell_type": "markdown",
     "metadata": {},
     "source": [
      "###This notebook includes Python tools for plotting all results for the 2014 AUG poster. The main difference between this and the other urban (four-basin) WQ scripts is the inclusion of all basins in one script."
     ]
    },
    {
     "cell_type": "code",
     "collapsed": false,
     "input": [
      "%pylab inline"
     ],
     "language": "python",
     "metadata": {},
     "outputs": [
      {
       "output_type": "stream",
       "stream": "stdout",
       "text": [
        "Populating the interactive namespace from numpy and matplotlib\n"
       ]
      }
     ],
     "prompt_number": 1
    },
    {
     "cell_type": "markdown",
     "metadata": {},
     "source": [
      "<font color='blue'>**First, import all necessary libraries.**</font>"
     ]
    },
    {
     "cell_type": "code",
     "collapsed": false,
     "input": [
      "# Import all needed libraries \n",
      "import sys, os, datetime, time\n",
      "import collections\n",
      "import numpy as np\n",
      "import pandas as pd\n",
      "import numpy.ma as ma\n",
      "import math\n",
      "import matplotlib.dates as dates\n",
      "import matplotlib.ticker as ticker\n",
      "import matplotlib.pyplot as plt\n",
      "from matplotlib.backends.backend_pdf import PdfPages\n",
      "from scipy.stats import norm\n",
      "from scipy import stats\n",
      "\n",
      "import os\n",
      "os.getcwd() \n",
      "os.chdir(\"D:\\\\Dropbox\\\\Python_Scripts\")\n",
      "os.getcwd()"
     ],
     "language": "python",
     "metadata": {},
     "outputs": [
      {
       "metadata": {},
       "output_type": "pyout",
       "prompt_number": 2,
       "text": [
        "'D:\\\\Dropbox\\\\Python_Scripts'"
       ]
      }
     ],
     "prompt_number": 2
    },
    {
     "cell_type": "markdown",
     "metadata": {},
     "source": [
      "<font color='blue'>**Edit the figure properties**</font> "
     ]
    },
    {
     "cell_type": "code",
     "collapsed": false,
     "input": [
      "import matplotlib as mpl\n",
      "mpl.rcParams['lines.linewidth'] = 2\n",
      "font = {'family' : 'sans-serif',\n",
      "        'sans-serif' : 'Verdana',\n",
      "        'weight' : 'medium',\n",
      "        'size'   : '12'}\n",
      "params1 = {\n",
      "          'axes.labelsize': 12,\n",
      "          'text.fontsize': 12,\n",
      "          'xtick.labelsize': 12,\n",
      "          'xtick.direction': 'out',\n",
      "          'ytick.labelsize': 12,\n",
      "          'legend.pad': 0.01,     # empty space around the legend box\n",
      "          'legend.fontsize': 12,\n",
      "          'legend.labelspacing':0.25,\n",
      "          'font.size': 12,\n",
      "          'font.style': 'normal',\n",
      "          'axes.style': 'normal',\n",
      "          'xtick.labelstyle': 'normal',\n",
      "          }\n",
      "mpl.RcParams.update(params1)\n",
      "mpl.rc('font', **font)\n",
      "plt.rc(\"xtick\", direction=\"out\")\n",
      "plt.rc(\"ytick\", direction=\"out\")\n",
      "plt.rc('legend',**{'fontsize':12})"
     ],
     "language": "python",
     "metadata": {},
     "outputs": [],
     "prompt_number": 3
    },
    {
     "cell_type": "markdown",
     "metadata": {},
     "source": [
      "**<font color='blue'>Read the input streamflow files (change the path if needed)<br></font>\n",
      "<span style=\"background-color: #FFFF00\"><span style=\"color:#f00\">Attention?</span></span>**"
     ]
    },
    {
     "cell_type": "code",
     "collapsed": false,
     "input": [
      "basin_name = ['Mercer', 'Thornton', 'Issaquah']\n",
      "basin_nameL = ['mercer', 'thornton', 'issaquah']\n",
      "gage_ID = ['12120000','12128000', '12121600']\n",
      "mainpath = {}\n",
      "simflowpath = {}\n",
      "obsflowpath = {}\n",
      "simflowdata = {}\n",
      "obsflowdata = {}\n",
      "tempsimflowdate = {}\n",
      "tempobsflowdate = {}\n",
      "\n",
      "for (i, n), j in zip(enumerate(basin_name), gage_ID):\n",
      "    mainpath[n] = 'D:\\\\Dropbox\\\\Python_Scripts\\\\'+str(basin_name[i])\n",
      "    simflowpath[n] = str(mainpath[n])+'\\\\daily_flow.txt'\n",
      "    print \"flow sim path is:\", simflowpath[n]\n",
      "    obsflowpath[n] = str(mainpath[n])+'\\\\streamflow.'+str(gage_ID[i])+'.cms.txt'\n",
      "    print \"flow obs path is:\", obsflowpath[n], \"\\n\""
     ],
     "language": "python",
     "metadata": {},
     "outputs": [
      {
       "output_type": "stream",
       "stream": "stdout",
       "text": [
        "flow sim path is: D:\\Dropbox\\Python_Scripts\\Mercer\\daily_flow.txt\n",
        "flow obs path is: D:\\Dropbox\\Python_Scripts\\Mercer\\streamflow.12120000.cms.txt \n",
        "\n",
        "flow sim path is: D:\\Dropbox\\Python_Scripts\\Thornton\\daily_flow.txt\n",
        "flow obs path is: D:\\Dropbox\\Python_Scripts\\Thornton\\streamflow.12128000.cms.txt \n",
        "\n",
        "flow sim path is: D:\\Dropbox\\Python_Scripts\\Issaquah\\daily_flow.txt\n",
        "flow obs path is: D:\\Dropbox\\Python_Scripts\\Issaquah\\streamflow.12121600.cms.txt \n",
        "\n"
       ]
      }
     ],
     "prompt_number": 4
    },
    {
     "cell_type": "markdown",
     "metadata": {},
     "source": [
      "**<font color='blue'>Read the data in. </font>**"
     ]
    },
    {
     "cell_type": "code",
     "collapsed": false,
     "input": [
      "# Read flow sim and obs dates &  data\n",
      "for i, n in enumerate(basin_name):\n",
      "    simflowdata[n] = np.genfromtxt(simflowpath[n], usecols=[1])\n",
      "    obsflowdata[n] = np.genfromtxt(obsflowpath[n], usecols=[1])\n",
      "    tempsimflowdate[n] = np.genfromtxt(simflowpath[n], dtype=str, skiprows=0, usecols=0)\n",
      "    tempobsflowdate[n] = np.genfromtxt(obsflowpath[n], dtype=str, skiprows=0, usecols =0)"
     ],
     "language": "python",
     "metadata": {},
     "outputs": [],
     "prompt_number": 5
    },
    {
     "cell_type": "markdown",
     "metadata": {},
     "source": [
      "<font color='blue'>**Sort and match the obs. and sim. flow files based on dates.**<br></font>"
     ]
    },
    {
     "cell_type": "code",
     "collapsed": false,
     "input": [
      "mask_flow = {}\n",
      "idx_flow ={}\n",
      "# Convert the string format dates into a datetime object\n",
      "simflowdate = collections.defaultdict(list)\n",
      "for i, n in enumerate(basin_name):\n",
      "    for j in range(len(tempsimflowdate[n])):\n",
      "        simflowdate[n].append(datetime.datetime.strptime(tempsimflowdate[n][j],'%m/%d/%Y'))\n",
      "# sort the dates in an acending order\n",
      "for i, n in enumerate(basin_name):\n",
      "    simflowdate[n].sort()\n",
      "\n",
      "# Convert the string format dates into a datetime object\n",
      "obsflowdate = collections.defaultdict(list)\n",
      "for i, n in enumerate(basin_name):\n",
      "    for j in range(len(tempobsflowdate[n])):\n",
      "        obsflowdate[n].append(datetime.datetime.strptime(tempobsflowdate[n][j],'%Y-%m-%d'))\n",
      "for i, n in enumerate(basin_name):\n",
      "    obsflowdate[n].sort()\n",
      "\n",
      "# extract the matching dates from both arrays and mark them by mask\n",
      "# searchsorted(t1,t2) finds index in t1 for every value in t2:      \n",
      "for i, n in enumerate(basin_name):\n",
      "    idx_flow[n] = np.searchsorted(simflowdate[n], obsflowdate[n], side='right')-1\n",
      "for i, n in enumerate(basin_name):\n",
      "    mask_flow[n] = idx_flow[n] >=0"
     ],
     "language": "python",
     "metadata": {},
     "outputs": [],
     "prompt_number": 6
    },
    {
     "cell_type": "markdown",
     "metadata": {},
     "source": [
      "<font color='blue'>**Plot the time series of sim. vs. obs daily streamflows in cms.** </font>"
     ]
    },
    {
     "cell_type": "code",
     "collapsed": false,
     "input": [
      "fdate = collections.defaultdict(list)\n",
      "for i, n in enumerate(basin_name):\n",
      "    for j in idx_flow[n]:\n",
      "        if j >=0 :\n",
      "            fdate[n].append(datetime.datetime.strptime(tempsimflowdate[n][j],'%m/%d/%Y'))\n",
      "            \n",
      "ssim = {}\n",
      "sobs = {}\n",
      "for i, n in enumerate(basin_name):\n",
      "    ssim[n] = pd.Series(simflowdata[n][idx_flow[n]][mask_flow[n]], index=fdate[n])\n",
      "    sobs[n] = pd.Series(obsflowdata[n][mask_flow[n]], index=fdate[n])\n",
      "\n",
      "fig=plt.figure(figsize=(12,12),dpi=400)\n",
      "for i, n in enumerate(basin_name):\n",
      "    ax = plt.subplot(3, 1, i+1)\n",
      "    # add spacing between subplots\n",
      "    fig.subplots_adjust(hspace = 0.2, wspace = 0.1)\n",
      "    \n",
      "    props = dict(boxstyle='round', facecolor='wheat', alpha=0.5)\n",
      "    # title(n, fontsize=14.0, y=1.02, color = 'black', fontweight=\"bold\")\n",
      "    \n",
      "    ssim[n].plot(label='Sim', color='red', linewidth=2.0)\n",
      "    sobs[n].plot(label='Obs',color ='black', linewidth=2.0)\n",
      "    \n",
      "    if (n == 'Mercer'): \n",
      "        calstartdate = datetime.datetime(1993,1,1)\n",
      "        calenddate = datetime.datetime(2002,1,1)\n",
      "        ax.axvspan(calstartdate, calenddate, alpha=0.5, color='0.85')\n",
      "        textstr1 = 'Calibration:\\n$Nash = 0.66$'\n",
      "        plt.text(0.6, 0.9, textstr1, fontsize=14, transform=ax.transAxes, verticalalignment='top', bbox=props)\n",
      "        plt.text(0.15, 0.88, 'Mercer', fontsize=16)\n",
      "        textstr2 = 'Validation:\\n$Nash = 0.69$'\n",
      "        plt.text(0.388, 0.9, textstr2, fontsize=14, transform=ax.transAxes, verticalalignment='top', bbox=props)\n",
      "\n",
      "    if (n == 'Thornton'): \n",
      "        calstartdate = datetime.datetime(1997,1,1)\n",
      "        calenddate = datetime.datetime(2002,1,1)\n",
      "        textstr1 = 'Calibration:\\n$Nash = 0.71$'\n",
      "        plt.text(0.465, 0.9, textstr1, fontsize=14, transform=ax.transAxes, verticalalignment='top', bbox=props)\n",
      "        plt.text(0.15, 0.88, 'Thornton', fontsize=16)\n",
      "        textstr2 = 'Validation:\\n$Nash = 0.66$'\n",
      "        plt.text(0.26, 0.9, textstr2, fontsize=14, transform=ax.transAxes, verticalalignment='top', bbox=props)\n",
      "        ax.axvspan(calstartdate, calenddate, alpha=0.5, color='0.85')\n",
      "    \n",
      "    if (n == 'Issaquah'): \n",
      "        calstartdate = datetime.datetime(1998,1,1)\n",
      "        calenddate = datetime.datetime(2002,1,1)\n",
      "        textstr1 = 'Calibration:\\n$Nash = 0.74$'\n",
      "        plt.text(0.405, 0.9, textstr1, fontsize=14, transform=ax.transAxes, verticalalignment='top', bbox=props)\n",
      "        plt.text(0.15, 0.88, 'Issaquah', fontsize=16)\n",
      "        textstr2 = 'Validation:\\n$Nash = 0.87$'\n",
      "        plt.text(0.185, 0.9, textstr2, fontsize=14, transform=ax.transAxes, verticalalignment='top', bbox=props)\n",
      "        ax.axvspan(calstartdate, calenddate, alpha=0.5, color='0.85')\n",
      "    \n",
      "    grid(True)\n",
      "    if (i == 0):\n",
      "        ax.legend(loc='upper right')\n",
      "    plt.ylabel('Streamflow ($m^{3}/s$)', fontsize=12.)\n",
      "\n",
      "    # force all axis label placed horizontally\n",
      "    plt.setp(ax.xaxis.get_majorticklabels(), rotation='horizontal')\n",
      "    \n",
      "    # set ticker properties\n",
      "    ax.xaxis.set_tick_params(width=1, length=5)\n",
      "    ax.get_xaxis().tick_bottom()\n",
      "    \n",
      "    # plt.tight_layout()\n",
      "    \n",
      "outputfilepath = 'D:\\\\Dropbox\\\\Python_Scripts\\\\daily_flow.png'    \n",
      "savefig(str(outputfilepath),dpi=500,format = 'png',transparent='True')"
     ],
     "language": "python",
     "metadata": {},
     "outputs": [
      {
       "metadata": {},
       "output_type": "display_data",
       "text": [
        "<matplotlib.figure.Figure at 0x16c55048>"
       ]
      }
     ],
     "prompt_number": 19
    },
    {
     "cell_type": "code",
     "collapsed": false,
     "input": [],
     "language": "python",
     "metadata": {},
     "outputs": []
    }
   ],
   "metadata": {}
  }
 ]
}