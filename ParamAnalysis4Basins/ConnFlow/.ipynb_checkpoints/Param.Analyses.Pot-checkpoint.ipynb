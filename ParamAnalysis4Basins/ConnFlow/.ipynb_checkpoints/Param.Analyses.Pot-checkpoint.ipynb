{
 "metadata": {
  "name": "",
  "signature": "sha256:bb88f4d8e59fe9529c1a73f9cfafb438d53f5597124394fd5a1de36caf7922cd"
 },
 "nbformat": 3,
 "nbformat_minor": 0,
 "worksheets": [
  {
   "cells": [
    {
     "cell_type": "markdown",
     "metadata": {},
     "source": [
      "###This notebook includes Python tools for analyzing DHSVM outputs.\n",
      "Time series data are analyzed with **numpy** and **pandas** tools and plotted with **matplotlib**. Spatial maps are analyzed and plotted using **netCDF4** and **Basemap** utilities. In general, the scripts that needs to be changed (eg. file path, locations, time range, and variables to plot, etc) are on top of the coding block if there's any. However, differences in the input data may require changing the code, such as which columns to read as the dates, how many rows to skip as the header, etc. Currently all input file paths are absolute paths so you should be able to run the code as it is and plot from my output files. All plots are saved into a pdf page (specify the file name in the second code block). Note that you'll have to run the last code block to close the pdf file you opened in order to view the file correctly. "
     ]
    },
    {
     "cell_type": "code",
     "collapsed": false,
     "input": [
      "%pylab inline"
     ],
     "language": "python",
     "metadata": {},
     "outputs": [
      {
       "output_type": "stream",
       "stream": "stdout",
       "text": [
        "Populating the interactive namespace from numpy and matplotlib\n"
       ]
      }
     ],
     "prompt_number": 1
    },
    {
     "cell_type": "markdown",
     "metadata": {},
     "source": [
      "**First**, import all necessary libraries."
     ]
    },
    {
     "cell_type": "code",
     "collapsed": false,
     "input": [
      "# Import all needed libraries \n",
      "import sys, os, datetime, time\n",
      "import numpy as np\n",
      "import pandas as pd\n",
      "import numpy.ma as ma\n",
      "import math\n",
      "import matplotlib.dates as dates\n",
      "import matplotlib.ticker as ticker\n",
      "import matplotlib.pyplot as plt\n",
      "from matplotlib.backends.backend_pdf import PdfPages\n",
      "from scipy.stats import norm\n",
      "from scipy import stats\n",
      "\n",
      "import os\n",
      "os.getcwd() \n",
      "os.chdir(\"D:\\\\Dropbox\\\\Python_Scripts\")\n",
      "os.getcwd()"
     ],
     "language": "python",
     "metadata": {},
     "outputs": [
      {
       "metadata": {},
       "output_type": "pyout",
       "prompt_number": 2,
       "text": [
        "'D:\\\\Dropbox\\\\Python_Scripts'"
       ]
      }
     ],
     "prompt_number": 2
    },
    {
     "cell_type": "markdown",
     "metadata": {},
     "source": [
      "Read the input **streamflow** files (change the path if needed)<br>\n",
      "<span style=\"background-color: #FFFF00\">**<span style=\"color:#f00\">Attention</span>**: the last date in obs. file **MUST NOT** exceed the last date of sim.</span>"
     ]
    },
    {
     "cell_type": "code",
     "collapsed": false,
     "input": [
      "\n",
      "# Enter file path for sim. and obs. flow files\n",
      "paramfile = 'D:\\\\Dropbox\\\\Python_Scripts\\\\ParamAnalysis\\\\ConnFlow\\\\white_param.txt'\n",
      "\n",
      "# Read flow sim and obs dates &  data\n",
      "ID = np.genfromtxt(paramfile, dtype=int, skiprows=1, usecols=[0])\n",
      "PPT = np.genfromtxt(paramfile, skiprows=1, usecols=[1])\n",
      "LatK = np.genfromtxt(paramfile, skiprows=1, usecols=[2])\n",
      "Exponent = np.genfromtxt(paramfile, skiprows=1, usecols=[3])\n",
      "Porosity = np.genfromtxt(paramfile, skiprows=1, usecols=[4])\n",
      "FCap = np.genfromtxt(paramfile, skiprows=1, usecols=[5])\n",
      "Nash_Flow = np.genfromtxt(paramfile, skiprows=1, usecols=[6])\n",
      "\n",
      "# find the column that contains the max value\n",
      "x = np.array(Nash_Flow)\n",
      "idx = x.argmax()\n",
      "print \"max_nash_flow = \", max(Nash_Flow), \"@ ID \", ID[idx]\n",
      "\n",
      "print \"Total parameter sets = \", len(ID)\n"
     ],
     "language": "python",
     "metadata": {},
     "outputs": [
      {
       "output_type": "stream",
       "stream": "stdout",
       "text": [
        "max_nash_flow =  0.541056 @ ID  415\n",
        "Total parameter sets =  147\n"
       ]
      }
     ],
     "prompt_number": 3
    },
    {
     "cell_type": "markdown",
     "metadata": {},
     "source": [
      "Compute <b><span style=\"color:#f00\">Correlation</span></b> between parameters and R2"
     ]
    },
    {
     "cell_type": "code",
     "collapsed": false,
     "input": [
      "plt.figure(figsize=(7,7),dpi=400)\n",
      "ax = plt.subplot(2,1,1)\n",
      "plot(PPT, Nash_Flow, 'bo', markersize=3)\n",
      "title('PPT', fontsize=14., y=1.02, fontweight='bold')\n",
      "ax = plt.subplot(2,1,2)\n",
      "plt.hist(PPT)\n",
      "np.corrcoef(PPT,Nash_Flow)"
     ],
     "language": "python",
     "metadata": {},
     "outputs": [
      {
       "metadata": {},
       "output_type": "pyout",
       "prompt_number": 4,
       "text": [
        "array([[ 1.        , -0.55180717],\n",
        "       [-0.55180717,  1.        ]])"
       ]
      },
      {
       "metadata": {},
       "output_type": "display_data",
       "png": "[encoded data removed]",
       "text": [
        "<matplotlib.figure.Figure at 0xc6c8be0>"
       ]
      }
     ],
     "prompt_number": 4
    },
    {
     "cell_type": "code",
     "collapsed": false,
     "input": [
      "plt.figure(figsize=(7,7),dpi=400)\n",
      "ax = plt.subplot(2,1,1)\n",
      "plot(LatK, Nash_Flow, 'bo', markersize=3)\n",
      "title('LatK', fontsize=14., y=1.02, fontweight='bold')\n",
      "ax = plt.subplot(2,1,2)\n",
      "plt.hist(LatK)\n",
      "np.corrcoef(LatK,Nash_Flow)\n"
     ],
     "language": "python",
     "metadata": {},
     "outputs": [
      {
       "metadata": {},
       "output_type": "pyout",
       "prompt_number": 5,
       "text": [
        "array([[ 1.        ,  0.81316303],\n",
        "       [ 0.81316303,  1.        ]])"
       ]
      },
      {
       "metadata": {},
       "output_type": "display_data",
       "png": "[encoded data removed]",
       "text": [
        "<matplotlib.figure.Figure at 0xc922550>"
       ]
      }
     ],
     "prompt_number": 5
    },
    {
     "cell_type": "code",
     "collapsed": false,
     "input": [
      "plt.figure(figsize=(7,7),dpi=400)\n",
      "ax = plt.subplot(2,1,1)\n",
      "plot(Exponent, Nash_Flow, 'bo', markersize=3)\n",
      "title('Exponent', fontsize=14., y=1.02, fontweight='bold')\n",
      "ax = plt.subplot(2,1,2)\n",
      "plt.hist(Exponent)\n",
      "np.corrcoef(Exponent,Nash_Flow)"
     ],
     "language": "python",
     "metadata": {},
     "outputs": [
      {
       "metadata": {},
       "output_type": "pyout",
       "prompt_number": 6,
       "text": [
        "array([[ 1.        , -0.47584822],\n",
        "       [-0.47584822,  1.        ]])"
       ]
      },
      {
       "metadata": {},
       "output_type": "display_data",
       "png": "[encoded data removed]",
       "text": [
        "<matplotlib.figure.Figure at 0xc6d2278>"
       ]
      }
     ],
     "prompt_number": 6
    },
    {
     "cell_type": "code",
     "collapsed": false,
     "input": [],
     "language": "python",
     "metadata": {},
     "outputs": [],
     "prompt_number": 6
    }
   ],
   "metadata": {}
  }
 ]
}