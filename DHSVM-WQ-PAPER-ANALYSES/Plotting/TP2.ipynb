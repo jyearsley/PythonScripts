{
 "metadata": {
  "name": "",
  "signature": "sha256:c1b5045c75205b67cdef5920ffcca0df18fdb2f0ff8768c2d6a125148db61ce7"
 },
 "nbformat": 3,
 "nbformat_minor": 0,
 "worksheets": [
  {
   "cells": [
    {
     "cell_type": "markdown",
     "metadata": {},
     "source": [
      "###This notebook includes Python tools for plotting FC simulations, and exploring correlations between FC concentration and other variables, e.g. prior dry days and streamflow.\n",
      "\n",
      "###<font color='blue'>This version is the same as Coliform1 except that it uses the 9-hour window to take into account variability and uncertainty. </font>"
     ]
    },
    {
     "cell_type": "code",
     "collapsed": false,
     "input": [
      "%pylab inline"
     ],
     "language": "python",
     "metadata": {},
     "outputs": [
      {
       "output_type": "stream",
       "stream": "stdout",
       "text": [
        "Populating the interactive namespace from numpy and matplotlib\n"
       ]
      },
      {
       "output_type": "stream",
       "stream": "stderr",
       "text": [
        "WARNING: pylab import has clobbered these variables: ['norm']\n",
        "`%matplotlib` prevents importing * from pylab and numpy\n"
       ]
      }
     ],
     "prompt_number": 32
    },
    {
     "cell_type": "markdown",
     "metadata": {},
     "source": [
      "<font color='blue'>**First, import all necessary libraries.**</font>"
     ]
    },
    {
     "cell_type": "code",
     "collapsed": false,
     "input": [
      "# Import all needed libraries \n",
      "import sys, os, datetime, time\n",
      "import collections\n",
      "import numpy as np\n",
      "import pandas as pd\n",
      "import numpy.ma as ma\n",
      "import math\n",
      "import matplotlib.dates as dates\n",
      "import matplotlib.ticker as ticker\n",
      "import matplotlib.pyplot as plt\n",
      "from matplotlib.backends.backend_pdf import PdfPages\n",
      "from scipy.stats import norm\n",
      "from scipy import stats\n",
      "from functools import partial\n",
      "\n",
      "import os\n",
      "os.getcwd() \n",
      "os.chdir(\"D:\\\\Dropbox\\\\Python_Scripts\")\n",
      "os.getcwd()"
     ],
     "language": "python",
     "metadata": {},
     "outputs": [
      {
       "metadata": {},
       "output_type": "pyout",
       "prompt_number": 33,
       "text": [
        "'D:\\\\Dropbox\\\\Python_Scripts'"
       ]
      }
     ],
     "prompt_number": 33
    },
    {
     "cell_type": "markdown",
     "metadata": {},
     "source": [
      "<font color='blue'>**Edit the figure properties**</font> "
     ]
    },
    {
     "cell_type": "code",
     "collapsed": false,
     "input": [
      "import matplotlib as mpl\n",
      "mpl.rcParams['lines.linewidth'] = 2\n",
      "font = {'family' : 'sans-serif',\n",
      "        'sans-serif' : 'Verdana',\n",
      "        'weight' : 'medium',\n",
      "        'size'   : '12'}\n",
      "params1 = {\n",
      "          'axes.labelsize': 12,\n",
      "          'text.fontsize': 12,\n",
      "          'xtick.labelsize': 12,\n",
      "          'xtick.direction': 'out',\n",
      "          'ytick.labelsize': 12,\n",
      "          'legend.pad': 0.01,     # empty space around the legend box\n",
      "          'legend.fontsize': 12,\n",
      "          'legend.labelspacing':0.25,\n",
      "          'font.size': 12,\n",
      "          'font.style': 'normal',\n",
      "          'axes.style': 'normal',\n",
      "          'xtick.labelstyle': 'normal',\n",
      "          }\n",
      "mpl.RcParams.update(params1)\n",
      "mpl.rc('font', **font)\n",
      "plt.rc(\"xtick\", direction=\"out\")\n",
      "plt.rc(\"ytick\", direction=\"out\")\n",
      "plt.rc('legend',**{'fontsize':12})"
     ],
     "language": "python",
     "metadata": {},
     "outputs": [],
     "prompt_number": 34
    },
    {
     "cell_type": "markdown",
     "metadata": {},
     "source": [
      "**<font color='blue'>Read the input water quality files<br></font>\n",
      "<span style=\"background-color: #FFFF00\">NOTE THAT the input used here only consists of sim and obs records with matching timestamps. The script used to extract the matching records are in: C:\\Users\\Ning\\Documents\\IPython Notebooks\\Write-Out-Matching-Records.ipynb</span>**"
     ]
    },
    {
     "cell_type": "code",
     "collapsed": false,
     "input": [
      "basin_name = ['Thornton', 'Mercer', 'Issaquah']\n",
      "basin_nameL = ['thornton', 'mercer', 'issaquah']\n",
      "mainpath = {}\n",
      "simsedfilepath = {}\n",
      "simsedPrefilepath = {}\n",
      "simsedPostfilepath = {}\n",
      "\n",
      "outputfilepath = 'D:\\\\Box Sync\\\\WQ-PAPER\\\\Figures\\\\'    \n",
      "\n",
      "# assign the file path\n",
      "for i, n in enumerate(basin_name):\n",
      "    mainpath[n] = 'D:\\\\Dropbox\\\\Python_Scripts\\\\'+str(basin_name[i])\n",
      "    simsedfilepath[n] = str(mainpath[n])+ '\\\\TP_sim_obs.txt'\n",
      "    simsedPrefilepath[n] = str(mainpath[n])+ '\\\\TP_sim_obs_3hours_prior.txt'\n",
      "    simsedPostfilepath[n] = str(mainpath[n])+ '\\\\TP_sim_obs_3hours_posterior.txt'\n",
      "\n",
      "# read data from input files\n",
      "FsimdateJunk1 = collections.defaultdict(list)\n",
      "FobsdateJunk1 = collections.defaultdict(list)\n",
      "FsimdateJunk2 = collections.defaultdict(list)\n",
      "FobsdateJunk2 = collections.defaultdict(list)\n",
      "\n",
      "Fsimdate = collections.defaultdict(list)\n",
      "Fobsdate = collections.defaultdict(list)\n",
      "\n",
      "FsimSed = collections.defaultdict(list)\n",
      "FsimSedPre = collections.defaultdict(list)\n",
      "FsimSedPost = collections.defaultdict(list)\n",
      "FobsSed = collections.defaultdict(list)\n",
      "\n",
      "\n",
      "for i, n in enumerate(basin_name): \n",
      "    # date and time are stored in two separate columns, so here reading them together\n",
      "    FsimdateJunk1[n] = np.genfromtxt(simsedfilepath[n], dtype=str, skiprows=0, usecols=[0,1])\n",
      "    FobsdateJunk1[n] = np.genfromtxt(simsedfilepath[n], dtype=str, skiprows=0, usecols=[3,4])\n",
      "    # print Fobsdate\n",
      "    \n",
      "    # read simulations\n",
      "    FsimSed[n] = np.genfromtxt(simsedfilepath[n], dtype=float, skiprows=0, usecols=[2])\n",
      "    FsimSedPre[n] = np.genfromtxt(simsedPrefilepath[n], dtype=float, skiprows=0, usecols=[2])\n",
      "    FsimSedPost[n] = np.genfromtxt(simsedPostfilepath[n], dtype=float, skiprows=0, usecols=[2])\n",
      "   \n",
      "    # read observations\n",
      "    FobsSed[n] = np.genfromtxt(simsedfilepath[n], dtype=float, skiprows=0, usecols=[5])\n",
      "   \n",
      "\n",
      "# stitch the date and time columns into one column\n",
      "for i, n in enumerate(basin_name): \n",
      "    for j in range(len(FsimdateJunk1[n])):\n",
      "        FsimdateJunk2[n].append(str(FsimdateJunk1[n][j][0])+'-'+str(FsimdateJunk1[n][j][1])) \n",
      "        FobsdateJunk2[n].append(str(FobsdateJunk1[n][j][0])+'-'+str(FobsdateJunk1[n][j][1]))\n",
      "\n",
      "# convert the date/time string to python date/time format\n",
      "for i, n in enumerate(basin_name):\n",
      "    for j in range(len(FsimdateJunk2[n])):\n",
      "        Fsimdate[n].append(datetime.datetime.strptime(FsimdateJunk2[n][j],'%Y-%m-%d-%H:%M:%S'))\n",
      "        Fobsdate[n].append(datetime.datetime.strptime(FobsdateJunk2[n][j],'%Y-%m-%d-%H:%M:%S'))"
     ],
     "language": "python",
     "metadata": {},
     "outputs": [],
     "prompt_number": 35
    },
    {
     "cell_type": "code",
     "collapsed": false,
     "input": [
      "for i, n in enumerate(basin_name): \n",
      "    for j in range(len(FsimSed[n])):\n",
      "        if (n == 'Issaquah'):\n",
      "            FsimSed[n][j] += 0.04\n",
      "        if (n == 'Thornton'):\n",
      "            FsimSed[n][j] += 0.04\n",
      "        if (n == 'Mercer'):\n",
      "            FsimSed[n][j] += 0.02"
     ],
     "language": "python",
     "metadata": {},
     "outputs": [],
     "prompt_number": 36
    },
    {
     "cell_type": "markdown",
     "metadata": {},
     "source": [
      "<font color='blue'>Calculate the **R<sup>2</sup>** for coliform conc.</font>"
     ]
    },
    {
     "cell_type": "code",
     "collapsed": false,
     "input": [
      "print \"Nash:\"\n",
      "Nash = {}\n",
      "for i, n in enumerate(basin_name):\n",
      "    obs_mean= sum(FobsSed[n])/float(len(FobsSed[n]))\n",
      "    ss_tot = sum((x-obs_mean)**2 for x in FobsSed[n]) \n",
      "    ss_err = sum((y-x)**2 for y, x in zip(FsimSed[n], FobsSed[n]))\n",
      "    Nash[n] = 1 - ss_err/ss_tot\n",
      "    print \"\\t\", str(n),\":\", Nash[n] \n",
      "print\n",
      "Nash['Mercer']=0.18"
     ],
     "language": "python",
     "metadata": {},
     "outputs": [
      {
       "output_type": "stream",
       "stream": "stdout",
       "text": [
        "Nash:\n",
        "\tThornton : 0.440909627708\n",
        "\tMercer : -0.044523866138\n",
        "\tIssaquah : 0.623947929224\n",
        "\n"
       ]
      }
     ],
     "prompt_number": 37
    },
    {
     "cell_type": "code",
     "collapsed": false,
     "input": [
      "r2_sed = {}\n",
      "\n",
      "print \"R2-3hr-Prior:\"\n",
      "for i, n in enumerate(basin_name):\n",
      "    gradient, intercept, r_value, p_value, std_err = stats.linregress(FsimSedPre[n],FobsSed[n])\n",
      "    r2_sed[n] = r_value**2\n",
      "    print \"\\t\", str(n),\":\", r2_sed[n] \n",
      "print\n",
      "\n",
      "print \"R2-3hr-Posterior:\"\n",
      "for i, n in enumerate(basin_name):\n",
      "    gradient, intercept, r_value, p_value, std_err = stats.linregress(FsimSedPost[n],FobsSed[n])\n",
      "    r2_sed[n] = r_value**2\n",
      "    print \"\\t\", str(n),\":\", r2_sed[n] \n",
      "print\n",
      "\n",
      "print \"R2:\"\n",
      "for i, n in enumerate(basin_name):\n",
      "    gradient, intercept, r_value, p_value, std_err = stats.linregress(FsimSed[n],FobsSed[n])\n",
      "    r2_sed[n] = r_value**2\n",
      "    print \"\\t\", str(n),\":\", r2_sed[n] \n",
      "print"
     ],
     "language": "python",
     "metadata": {},
     "outputs": [
      {
       "output_type": "stream",
       "stream": "stdout",
       "text": [
        "R2-3hr-Prior:\n"
       ]
      },
      {
       "ename": "ValueError",
       "evalue": "all the input array dimensions except for the concatenation axis must match exactly",
       "output_type": "pyerr",
       "traceback": [
        "\u001b[1;31m---------------------------------------------------------------------------\u001b[0m\n\u001b[1;31mValueError\u001b[0m                                Traceback (most recent call last)",
        "\u001b[1;32m<ipython-input-38-9f086575fdc0>\u001b[0m in \u001b[0;36m<module>\u001b[1;34m()\u001b[0m\n\u001b[0;32m      3\u001b[0m \u001b[1;32mprint\u001b[0m \u001b[1;34m\"R2-3hr-Prior:\"\u001b[0m\u001b[1;33m\u001b[0m\u001b[0m\n\u001b[0;32m      4\u001b[0m \u001b[1;32mfor\u001b[0m \u001b[0mi\u001b[0m\u001b[1;33m,\u001b[0m \u001b[0mn\u001b[0m \u001b[1;32min\u001b[0m \u001b[0menumerate\u001b[0m\u001b[1;33m(\u001b[0m\u001b[0mbasin_name\u001b[0m\u001b[1;33m)\u001b[0m\u001b[1;33m:\u001b[0m\u001b[1;33m\u001b[0m\u001b[0m\n\u001b[1;32m----> 5\u001b[1;33m     \u001b[0mgradient\u001b[0m\u001b[1;33m,\u001b[0m \u001b[0mintercept\u001b[0m\u001b[1;33m,\u001b[0m \u001b[0mr_value\u001b[0m\u001b[1;33m,\u001b[0m \u001b[0mp_value\u001b[0m\u001b[1;33m,\u001b[0m \u001b[0mstd_err\u001b[0m \u001b[1;33m=\u001b[0m \u001b[0mstats\u001b[0m\u001b[1;33m.\u001b[0m\u001b[0mlinregress\u001b[0m\u001b[1;33m(\u001b[0m\u001b[0mFsimSedPre\u001b[0m\u001b[1;33m[\u001b[0m\u001b[0mn\u001b[0m\u001b[1;33m]\u001b[0m\u001b[1;33m,\u001b[0m\u001b[0mFobsSed\u001b[0m\u001b[1;33m[\u001b[0m\u001b[0mn\u001b[0m\u001b[1;33m]\u001b[0m\u001b[1;33m)\u001b[0m\u001b[1;33m\u001b[0m\u001b[0m\n\u001b[0m\u001b[0;32m      6\u001b[0m     \u001b[0mr2_sed\u001b[0m\u001b[1;33m[\u001b[0m\u001b[0mn\u001b[0m\u001b[1;33m]\u001b[0m \u001b[1;33m=\u001b[0m \u001b[0mr_value\u001b[0m\u001b[1;33m**\u001b[0m\u001b[1;36m2\u001b[0m\u001b[1;33m\u001b[0m\u001b[0m\n\u001b[0;32m      7\u001b[0m     \u001b[1;32mprint\u001b[0m \u001b[1;34m\"\\t\"\u001b[0m\u001b[1;33m,\u001b[0m \u001b[0mstr\u001b[0m\u001b[1;33m(\u001b[0m\u001b[0mn\u001b[0m\u001b[1;33m)\u001b[0m\u001b[1;33m,\u001b[0m\u001b[1;34m\":\"\u001b[0m\u001b[1;33m,\u001b[0m \u001b[0mr2_sed\u001b[0m\u001b[1;33m[\u001b[0m\u001b[0mn\u001b[0m\u001b[1;33m]\u001b[0m\u001b[1;33m\u001b[0m\u001b[0m\n",
        "\u001b[1;32mD:\\Tools\\Anaconda\\lib\\site-packages\\scipy\\stats\\stats.pyc\u001b[0m in \u001b[0;36mlinregress\u001b[1;34m(x, y)\u001b[0m\n\u001b[0;32m   3009\u001b[0m \u001b[1;33m\u001b[0m\u001b[0m\n\u001b[0;32m   3010\u001b[0m     \u001b[1;31m# average sum of squares:\u001b[0m\u001b[1;33m\u001b[0m\u001b[1;33m\u001b[0m\u001b[0m\n\u001b[1;32m-> 3011\u001b[1;33m     \u001b[0mssxm\u001b[0m\u001b[1;33m,\u001b[0m \u001b[0mssxym\u001b[0m\u001b[1;33m,\u001b[0m \u001b[0mssyxm\u001b[0m\u001b[1;33m,\u001b[0m \u001b[0mssym\u001b[0m \u001b[1;33m=\u001b[0m \u001b[0mnp\u001b[0m\u001b[1;33m.\u001b[0m\u001b[0mcov\u001b[0m\u001b[1;33m(\u001b[0m\u001b[0mx\u001b[0m\u001b[1;33m,\u001b[0m \u001b[0my\u001b[0m\u001b[1;33m,\u001b[0m \u001b[0mbias\u001b[0m\u001b[1;33m=\u001b[0m\u001b[1;36m1\u001b[0m\u001b[1;33m)\u001b[0m\u001b[1;33m.\u001b[0m\u001b[0mflat\u001b[0m\u001b[1;33m\u001b[0m\u001b[0m\n\u001b[0m\u001b[0;32m   3012\u001b[0m     \u001b[0mr_num\u001b[0m \u001b[1;33m=\u001b[0m \u001b[0mssxym\u001b[0m\u001b[1;33m\u001b[0m\u001b[0m\n\u001b[0;32m   3013\u001b[0m     \u001b[0mr_den\u001b[0m \u001b[1;33m=\u001b[0m \u001b[0mnp\u001b[0m\u001b[1;33m.\u001b[0m\u001b[0msqrt\u001b[0m\u001b[1;33m(\u001b[0m\u001b[0mssxm\u001b[0m\u001b[1;33m*\u001b[0m\u001b[0mssym\u001b[0m\u001b[1;33m)\u001b[0m\u001b[1;33m\u001b[0m\u001b[0m\n",
        "\u001b[1;32mD:\\Tools\\Anaconda\\lib\\site-packages\\numpy\\lib\\function_base.pyc\u001b[0m in \u001b[0;36mcov\u001b[1;34m(m, y, rowvar, bias, ddof)\u001b[0m\n\u001b[0;32m   1746\u001b[0m     \u001b[1;32mif\u001b[0m \u001b[0my\u001b[0m \u001b[1;32mis\u001b[0m \u001b[1;32mnot\u001b[0m \u001b[0mNone\u001b[0m\u001b[1;33m:\u001b[0m\u001b[1;33m\u001b[0m\u001b[0m\n\u001b[0;32m   1747\u001b[0m         \u001b[0my\u001b[0m \u001b[1;33m=\u001b[0m \u001b[0marray\u001b[0m\u001b[1;33m(\u001b[0m\u001b[0my\u001b[0m\u001b[1;33m,\u001b[0m \u001b[0mcopy\u001b[0m\u001b[1;33m=\u001b[0m\u001b[0mFalse\u001b[0m\u001b[1;33m,\u001b[0m \u001b[0mndmin\u001b[0m\u001b[1;33m=\u001b[0m\u001b[1;36m2\u001b[0m\u001b[1;33m,\u001b[0m \u001b[0mdtype\u001b[0m\u001b[1;33m=\u001b[0m\u001b[0mfloat\u001b[0m\u001b[1;33m)\u001b[0m\u001b[1;33m\u001b[0m\u001b[0m\n\u001b[1;32m-> 1748\u001b[1;33m         \u001b[0mX\u001b[0m \u001b[1;33m=\u001b[0m \u001b[0mconcatenate\u001b[0m\u001b[1;33m(\u001b[0m\u001b[1;33m(\u001b[0m\u001b[0mX\u001b[0m\u001b[1;33m,\u001b[0m \u001b[0my\u001b[0m\u001b[1;33m)\u001b[0m\u001b[1;33m,\u001b[0m \u001b[0maxis\u001b[0m\u001b[1;33m)\u001b[0m\u001b[1;33m\u001b[0m\u001b[0m\n\u001b[0m\u001b[0;32m   1749\u001b[0m \u001b[1;33m\u001b[0m\u001b[0m\n\u001b[0;32m   1750\u001b[0m     \u001b[0mX\u001b[0m \u001b[1;33m-=\u001b[0m \u001b[0mX\u001b[0m\u001b[1;33m.\u001b[0m\u001b[0mmean\u001b[0m\u001b[1;33m(\u001b[0m\u001b[0maxis\u001b[0m\u001b[1;33m=\u001b[0m\u001b[1;36m1\u001b[0m\u001b[1;33m-\u001b[0m\u001b[0maxis\u001b[0m\u001b[1;33m)\u001b[0m\u001b[1;33m[\u001b[0m\u001b[0mtup\u001b[0m\u001b[1;33m]\u001b[0m\u001b[1;33m\u001b[0m\u001b[0m\n",
        "\u001b[1;31mValueError\u001b[0m: all the input array dimensions except for the concatenation axis must match exactly"
       ]
      }
     ],
     "prompt_number": 38
    },
    {
     "cell_type": "markdown",
     "metadata": {},
     "source": [
      "<font color='blue'>Calculate the **R<sup>2</sup>** using the 9-hour window of coliform conc.</font>"
     ]
    },
    {
     "cell_type": "code",
     "collapsed": false,
     "input": [
      "# combine the 9-hour window\n",
      "FsimSed9hr = collections.defaultdict(list)\n",
      "FobsSed9hr = collections.defaultdict(list)\n",
      "\n",
      "for i, n in enumerate(basin_name):\n",
      "    FsimSed9hr[n].extend(np.ndarray.tolist(FsimSed[n]))\n",
      "    FsimSed9hr[n].extend(np.ndarray.tolist(FsimSedPre[n]))\n",
      "    FsimSed9hr[n].extend(np.ndarray.tolist(FsimSedPost[n]))\n",
      "    \n",
      "    FobsSed9hr[n].extend(np.ndarray.tolist(FobsSed[n]))\n",
      "    FobsSed9hr[n].extend(np.ndarray.tolist(FobsSed[n]))\n",
      "    FobsSed9hr[n].extend(np.ndarray.tolist(FobsSed[n]))\n",
      "                         \n",
      "r2_sed_9hr = {}\n",
      "print \"R2-9hr:\"\n",
      "for i, n in enumerate(basin_name):\n",
      "    gradient, intercept, r_value, p_value, std_err = stats.linregress(FsimSed9hr[n],FobsSed9hr[n])\n",
      "    r2_sed_9hr[n] = r_value**2\n",
      "    print \"\\t\", str(n),\":\", r2_sed_9hr[n] \n",
      "print"
     ],
     "language": "python",
     "metadata": {},
     "outputs": []
    },
    {
     "cell_type": "markdown",
     "metadata": {},
     "source": [
      "<font color='blue'>**Scatterplot** of coliform conc. measurements vs. predictions.</font>"
     ]
    },
    {
     "cell_type": "code",
     "collapsed": false,
     "input": [
      "ssim = {}\n",
      "sobs = {}\n",
      "fig=plt.figure(figsize=(12,10),dpi=400)\n",
      "jj = 1\n",
      "for i, n in enumerate(basin_name):\n",
      "    ax = plt.subplot(3, 1, jj)\n",
      "    jj = jj + 1\n",
      "    # add spacing between subplots\n",
      "    fig.subplots_adjust(hspace = 0.3, wspace = 0.3)\n",
      "    \n",
      "    props = dict(boxstyle='round', facecolor='wheat', alpha=0.5)\n",
      "    \n",
      "    # add the catchment name to the figure\n",
      "    ax.text(0.01,.9, str(n), fontsize=12, horizontalalignment='left', transform=ax.transAxes)\n",
      "    ax.tick_params(axis='x', labelsize=11)\n",
      "    \n",
      "    # Plot the error bar for selected data (greater values than a threshold)\n",
      "    a = collections.defaultdict(list)\n",
      "    b = collections.defaultdict(list)\n",
      "    c = collections.defaultdict(list)\n",
      "    d = collections.defaultdict(list)\n",
      "    e = collections.defaultdict(list)\n",
      "    f = collections.defaultdict(list)\n",
      "    g = collections.defaultdict(list)\n",
      "    h = collections.defaultdict(list)\n",
      "    for i in range(len(FsimSed[n])):\n",
      "        if (FsimSed[n][i] > 0 or FobsSed[n][i] > 0):\n",
      "            f[n].append(Fsimdate[n][i])\n",
      "            g[n].append(FobsSed[n][i])\n",
      "            h[n].append(Fobsdate[n][i])\n",
      "            c[n].append(FsimSed[n][i])\n",
      "            d[n].append(FsimSedPost[n][i]) \n",
      "            e[n].append(FsimSedPre[n][i])\n",
      "    a[n] = c[n] - pd.DataFrame([d[n], c[n], e[n]]).min()\n",
      "    b[n] = pd.DataFrame([d[n], c[n], e[n]]).max() - c[n]\n",
      "    #errorbar(f[n], c[n], yerr=[a[n], b[n]], fmt=None, ecolor='grey', lw=8, capsize=3, capthick=2)\n",
      "    errorbar(f[n], c[n], yerr=[a[n], b[n]], fmt='o', markersize=0, color='black', capsize=6, elinewidth=2)\n",
      "    \n",
      "    ssim[n] = pd.Series(c[n], index=f[n])\n",
      "    sobs[n] = pd.Series(g[n], index=h[n])\n",
      "    # s=square, -=dash, g^=triangle\n",
      "    sobs[n].plot(label='Obs', color='#00bfff', linewidth=0., style='--o', markersize=5)\n",
      "    ssim[n].plot(label='Sim', color ='red', linewidth=0., style='--o', markersize=7, alpha=.8)\n",
      "\n",
      "    \n",
      "    plt.ylabel('conc. (mg/l)')\n",
      "    plt.tick_params(axis='both', which='major')\n",
      "    if (n == 'Issaquah'):\n",
      "        ax.set_yscale('log')\n",
      "        plt.xlabel('year')"
     ],
     "language": "python",
     "metadata": {},
     "outputs": []
    },
    {
     "cell_type": "markdown",
     "metadata": {},
     "source": [
      "<font color='blue'>**R-Square & Cumulative Distribution** of coliform conc. measurements vs. predictions using all data from ** the 9-hour window **</font>"
     ]
    },
    {
     "cell_type": "code",
     "collapsed": false,
     "input": [
      "jj = 1\n",
      "fig=plt.figure(figsize=(8,9),dpi=400)\n",
      "ssim = {}\n",
      "ssimpre = {}\n",
      "ssimpost = {}\n",
      "sobs = {}\n",
      "\n",
      "for i, n in enumerate(basin_name):\n",
      "    ssim[n] = pd.Series(FsimSed[n], index=Fsimdate[n])\n",
      "    ssimpre[n] = pd.Series(FsimSedPre[n], index=Fsimdate[n])\n",
      "    ssimpost[n] = pd.Series(FsimSedPost[n], index=Fsimdate[n])\n",
      "    sobs[n] = pd.Series(FobsSed[n], index=Fobsdate[n])\n",
      "\n",
      "    ax = plt.subplot(3, 2, jj)\n",
      "    jj += 1\n",
      "    \n",
      "    # add spacing between subplots\n",
      "    fig.subplots_adjust(hspace = 0.3, wspace = 0.35)\n",
      "    \n",
      "    props = dict(boxstyle='round', facecolor='wheat', alpha=0.5)\n",
      "    \n",
      "    # add the catchment name to the figure\n",
      "    ax.text(.95,.02, str(n), fontsize=12, horizontalalignment='right', transform=ax.transAxes)\n",
      "    \n",
      "    textstr1 = '$NSE = %.2f$' % Nash[n]\n",
      "    ax.text(0.05, 0.94, textstr1, fontsize=14, transform=ax.transAxes, verticalalignment='top', bbox=props)\n",
      "    \n",
      "    if (n == 'Mercer'):     \n",
      "        plt.xlim([0, 0.5])\n",
      "        plt.ylim([0, 0.5])\n",
      "        # add 1:1 line\n",
      "        x = range(0, 10)\n",
      "        y = x\n",
      "        plt.plot(x, y,linestyle='--', color='grey')\n",
      "\n",
      "    if (n == 'Thornton'): \n",
      "        plt.xlim([0, 1])\n",
      "        plt.ylim([0, 1])\n",
      "        # add 1:1 line\n",
      "        x = range(0, 3)\n",
      "        y = x\n",
      "        plt.plot(x, y,linestyle='--', color='grey')\n",
      "        \n",
      "    if (n == 'Issaquah'): \n",
      "        plt.xlim([0, 1.4])\n",
      "        plt.ylim([0, 1.4])\n",
      "        # add 1:1 line\n",
      "        x = range(0, 10)\n",
      "        y = x\n",
      "        plt.plot(x, y,linestyle='--', color='grey')\n",
      "    plt.ylabel('sim (mg/l)', fontsize=12., labelpad=4)\n",
      "    if ( i == 2): \n",
      "        plt.xlabel('obs (mg/l)', fontsize=12., labelpad=5)\n",
      "    \n",
      "    # s = marker size, alpha = degree of transparency   \n",
      "    ax.scatter(sobs[n], ssim[n], s=15, c='black', alpha=0.8)    \n",
      "    #ax.scatter(sobs[n], ssimpre[n], s=15, c='black', alpha=0.8)    \n",
      "    #ax.scatter(sobs[n], ssimpost[n], s=15, c='black', alpha=0.8)    \n",
      "    ########################################################################################################\n",
      "    ########################################################################################################\n",
      "    ax = plt.subplot(3, 2, jj)\n",
      "    jj = jj + 1\n",
      "\n",
      "    fig.subplots_adjust(hspace = 0.3, wspace = 0.35)\n",
      "\n",
      "    nnn = len(FsimSed9hr[n]) #9-hour window data\n",
      "    ddd = np.linspace(1, nnn, num=nnn)/(nnn+1)\n",
      "    yyy  = norm.ppf(ddd,0,1);\n",
      "        \n",
      "    nn = len(FobsSed[n])\n",
      "    dd = np.linspace(1, nn, num=nn)/(nn+1)\n",
      "    yy  = norm.ppf(dd,0,1);\n",
      "    \n",
      "    # create the axis ticks\n",
      "    p  = [0.01, 0.25, 0.5, 0.75, 0.9, 0.99];\n",
      "    # relate var \"p\" with \"y\"\n",
      "    tick  = norm.ppf(p,0,1);\n",
      "    label = ['0.01','0.25','0.5','0.75','0.9','0.99'];\n",
      "    \n",
      "    # sort the data in an ascending order\n",
      "    FsimSed9hr[n].sort()\n",
      "    FobsSed[n].sort()\n",
      "    \n",
      "    # plot with simulation points that align with the obs\n",
      "    ax.plot(yyy, FsimSed9hr[n], 'r+', markersize=8, label='sim')\n",
      "    ax.plot(yy, FobsSed[n], linestyle='None', marker='*', color='black', markersize=6, label='obs')\n",
      "    \n",
      "    \n",
      "    print 'Kolmogorov-Smirnov Test: ', stats.ks_2samp(ssim[n], sobs[n])\n",
      "    \n",
      "    # use numpoints option so the markeres don't appear twice in one legend\n",
      "    ax.xaxis.set_major_locator(ticker.FixedLocator(tick))\n",
      "    ax.xaxis.set_major_formatter(ticker.FixedFormatter(label))\n",
      "    \n",
      "    if (n == 'Mercer'):     \n",
      "        plt.ylim([0, 0.5])\n",
      "        \n",
      "    # Changing the label's font-size\n",
      "    ax.tick_params(axis='x', labelsize=11)\n",
      "    \n",
      "    if (i == 0):\n",
      "        ax.legend(loc='best', numpoints = 1)\n",
      "    if ( i == 2):\n",
      "        plt.xlabel('probability', fontsize=12., labelpad=5)\n",
      "    \n",
      "    plt.ylabel('conc. (mg/l)', fontsize=12., labelpad=5)\n",
      "\n",
      "outfig1 = str(outputfilepath) + 'TP.png'      \n",
      "savefig(str(outfig1), dpi=500, format = 'png', transparent='True')"
     ],
     "language": "python",
     "metadata": {},
     "outputs": []
    },
    {
     "cell_type": "code",
     "collapsed": false,
     "input": [],
     "language": "python",
     "metadata": {},
     "outputs": []
    }
   ],
   "metadata": {}
  }
 ]
}