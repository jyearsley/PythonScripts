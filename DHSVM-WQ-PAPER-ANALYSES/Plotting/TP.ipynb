{
 "metadata": {
  "name": "",
  "signature": "sha256:dd95e752fb6d5a64d231b97e2b9150327af4aeefab37b4de24fd0d4839161f9d"
 },
 "nbformat": 3,
 "nbformat_minor": 0,
 "worksheets": [
  {
   "cells": [
    {
     "cell_type": "markdown",
     "metadata": {},
     "source": [
      "###This notebook includes Python tools for plotting Total Phosphorous (TP) simulations, and exploring correlations between sediment concentration and other variables, e.g. prior dry days and streamflow.\n",
      "\n",
      "###<font color='blue'>This version doesn't use the 9-hour window! </font>"
     ]
    },
    {
     "cell_type": "code",
     "collapsed": false,
     "input": [
      "%pylab inline"
     ],
     "language": "python",
     "metadata": {},
     "outputs": [
      {
       "output_type": "stream",
       "stream": "stdout",
       "text": [
        "Populating the interactive namespace from numpy and matplotlib\n"
       ]
      },
      {
       "output_type": "stream",
       "stream": "stderr",
       "text": [
        "WARNING: pylab import has clobbered these variables: ['norm']\n",
        "`%matplotlib` prevents importing * from pylab and numpy\n"
       ]
      }
     ],
     "prompt_number": 23
    },
    {
     "cell_type": "markdown",
     "metadata": {},
     "source": [
      "<font color='blue'>**First, import all necessary libraries.**</font>"
     ]
    },
    {
     "cell_type": "code",
     "collapsed": false,
     "input": [
      "# Import all needed libraries \n",
      "import sys, os, datetime, time\n",
      "import collections\n",
      "import numpy as np\n",
      "import pandas as pd\n",
      "import numpy.ma as ma\n",
      "import math\n",
      "import matplotlib.dates as dates\n",
      "import matplotlib.ticker as ticker\n",
      "import matplotlib.pyplot as plt\n",
      "from matplotlib.backends.backend_pdf import PdfPages\n",
      "from scipy.stats import norm\n",
      "from scipy import stats\n",
      "\n",
      "import os\n",
      "os.getcwd() \n",
      "os.chdir(\"D:\\\\Dropbox\\\\Python_Scripts\")\n",
      "os.getcwd()"
     ],
     "language": "python",
     "metadata": {},
     "outputs": [
      {
       "metadata": {},
       "output_type": "pyout",
       "prompt_number": 24,
       "text": [
        "'D:\\\\Dropbox\\\\Python_Scripts'"
       ]
      }
     ],
     "prompt_number": 24
    },
    {
     "cell_type": "markdown",
     "metadata": {},
     "source": [
      "<font color='blue'>**Edit the figure properties**</font> "
     ]
    },
    {
     "cell_type": "code",
     "collapsed": false,
     "input": [
      "import matplotlib as mpl\n",
      "mpl.rcParams['lines.linewidth'] = 2\n",
      "font = {'family' : 'sans-serif',\n",
      "        'sans-serif' : 'Verdana',\n",
      "        'weight' : 'medium',\n",
      "        'size'   : '12'}\n",
      "params1 = {\n",
      "          'axes.labelsize': 12,\n",
      "          'text.fontsize': 12,\n",
      "          'xtick.labelsize': 12,\n",
      "          'xtick.direction': 'out',\n",
      "          'ytick.labelsize': 12,\n",
      "          'legend.pad': 0.01,     # empty space around the legend box\n",
      "          'legend.fontsize': 12,\n",
      "          'legend.labelspacing':0.25,\n",
      "          'font.size': 12,\n",
      "          'font.style': 'normal',\n",
      "          'axes.style': 'normal',\n",
      "          'xtick.labelstyle': 'normal',\n",
      "          }\n",
      "mpl.RcParams.update(params1)\n",
      "mpl.rc('font', **font)\n",
      "plt.rc(\"xtick\", direction=\"out\")\n",
      "plt.rc(\"ytick\", direction=\"out\")\n",
      "plt.rc('legend',**{'fontsize':12})"
     ],
     "language": "python",
     "metadata": {},
     "outputs": [],
     "prompt_number": 25
    },
    {
     "cell_type": "markdown",
     "metadata": {},
     "source": [
      "**<font color='blue'>Read the input water quality files<br></font>\n",
      "<span style=\"background-color: #FFFF00\">NOTE THAT the input used here only consists of sim and obs records with matching timestamps. The script used to extract the matching records are in: C:\\Users\\Ning\\Documents\\IPython Notebooks\\Write-Out-Matching-Records.ipynb</span>**"
     ]
    },
    {
     "cell_type": "code",
     "collapsed": false,
     "input": [
      "basin_name = ['Thornton', 'Mercer', 'Issaquah']\n",
      "basin_nameL = ['thornton', 'mercer', 'issaquah']\n",
      "mainpath = {}\n",
      "simTPfilepath = {}\n",
      "\n",
      "outputfilepath = 'D:\\\\Box Sync\\\\WQ-PAPER\\\\Figures\\\\'    \n",
      "\n",
      "# assign the file path\n",
      "for i, n in enumerate(basin_name):\n",
      "    mainpath[n] = 'D:\\\\Box Sync\\\\Python_Scripts\\\\'+str(basin_name[i])\n",
      "    simTPfilepath[n] = str(mainpath[n])+'\\\\TP_sim_obs.txt'\n",
      "\n",
      "# read data from input files\n",
      "FsimdateJunk1 = collections.defaultdict(list)\n",
      "FobsdateJunk1 = collections.defaultdict(list)\n",
      "FsimdateJunk2 = collections.defaultdict(list)\n",
      "FobsdateJunk2 = collections.defaultdict(list)\n",
      "Fsimdate = collections.defaultdict(list)\n",
      "Fobsdate = collections.defaultdict(list)\n",
      "\n",
      "FsimTP = collections.defaultdict(list)\n",
      "FobsTP = collections.defaultdict(list)\n",
      "\n",
      "for i, n in enumerate(basin_name): \n",
      "    # date and time are stored in two separate columns, so here reading them together\n",
      "    FsimdateJunk1[n] = np.genfromtxt(simTPfilepath[n], dtype=str, skiprows=0, usecols=[0,1])\n",
      "    FobsdateJunk1[n] = np.genfromtxt(simTPfilepath[n], dtype=str, skiprows=0, usecols=[3,4])\n",
      "    # print Fobsdate\n",
      "    \n",
      "    # read simulations\n",
      "    FsimTP[n] = np.genfromtxt(simTPfilepath[n], dtype=float, skiprows=0, usecols=[2])\n",
      "    \n",
      "    # read observations\n",
      "    FobsTP[n] = np.genfromtxt(simTPfilepath[n], dtype=float, skiprows=0, usecols=[5])\n",
      "\n",
      "# stitch the date and time columns into one column\n",
      "for i, n in enumerate(basin_name): \n",
      "    for j in range(len(FsimdateJunk1[n])):\n",
      "        FsimdateJunk2[n].append(str(FsimdateJunk1[n][j][0])+'-'+str(FsimdateJunk1[n][j][1])) \n",
      "        FobsdateJunk2[n].append(str(FobsdateJunk1[n][j][0])+'-'+str(FobsdateJunk1[n][j][1]))\n",
      "\n",
      "# convert the date/time string to python date/time format\n",
      "for i, n in enumerate(basin_name):\n",
      "    for j in range(len(FsimdateJunk2[n])):\n",
      "        Fsimdate[n].append(datetime.datetime.strptime(FsimdateJunk2[n][j],'%Y-%m-%d-%H:%M:%S'))\n",
      "        Fobsdate[n].append(datetime.datetime.strptime(FobsdateJunk2[n][j],'%Y-%m-%d-%H:%M:%S'))"
     ],
     "language": "python",
     "metadata": {},
     "outputs": [],
     "prompt_number": 26
    },
    {
     "cell_type": "code",
     "collapsed": false,
     "input": [
      "for i, n in enumerate(basin_name): \n",
      "    for j in range(len(FsimTP[n])):\n",
      "        if (n == 'Issaquah'):\n",
      "            FsimTP[n][j] += 0.04\n",
      "        if (n == 'Thornton'):\n",
      "            FsimTP[n][j] += 0.04\n",
      "        if (n == 'Mercer'):\n",
      "            FsimTP[n][j] += 0.02"
     ],
     "language": "python",
     "metadata": {},
     "outputs": [],
     "prompt_number": 27
    },
    {
     "cell_type": "markdown",
     "metadata": {},
     "source": [
      "<font color='blue'>Calculate the **Nash**</font>"
     ]
    },
    {
     "cell_type": "code",
     "collapsed": false,
     "input": [
      "print \"Nash:\"\n",
      "Nash = {}\n",
      "for i, n in enumerate(basin_name):\n",
      "    obs_mean= sum(FobsTP[n])/float(len(FobsTP[n]))\n",
      "    ss_tot = sum((x-obs_mean)**2 for x in FobsTP[n]) \n",
      "    ss_err = sum((y-x)**2 for y, x in zip(FsimTP[n], FobsTP[n]))\n",
      "    Nash[n] = 1 - ss_err/ss_tot\n",
      "    print \"\\t\", str(n),\":\", Nash[n] \n",
      "print\n",
      "\n",
      "# Calculate Nash for the highest quaritle\n",
      "TP75 = {}\n",
      "FsimTPQ4 = collections.defaultdict(list)\n",
      "FobsTPQ4 = collections.defaultdict(list)\n",
      "Nash_TPQ4 = collections.defaultdict(list)\n",
      "    \n",
      "print \"Nash for highest quartile:\"\n",
      "for i, n in enumerate(basin_name):\n",
      "    TP75[n] = pd.DataFrame(FobsTP[n]).quantile(0.9)    \n",
      "    print \"quartile:\", TP75[n].values\n",
      "    for j in range(len(FobsTP[n])):\n",
      "        if (FobsTP[n][j] > TP75[n].values):\n",
      "            idx = j\n",
      "            FsimTPQ4[n].append(FsimTP[n][idx])\n",
      "            FobsTPQ4[n].append(FobsTP[n][idx])\n",
      "            obs_mean= sum(FobsTPQ4[n])/float(len(FobsTPQ4[n]))\n",
      "            ss_tot = sum((x-obs_mean)**2 for x in FobsTPQ4[n]) \n",
      "            ss_err = sum((y-x)**2 for y, x in zip(FsimTPQ4[n], FobsTPQ4[n]))\n",
      "    Nash_TPQ4[n] = 1 - ss_err/ss_tot\n",
      "    print \"%0.3f\" % Nash_TPQ4[n]\n",
      "\n",
      "print\n",
      "for i, n in enumerate(basin_name):\n",
      "    print \"Size (\", str(n), \"):\", len(FsimTP[n]), len(FsimTPQ4[n]) "
     ],
     "language": "python",
     "metadata": {},
     "outputs": [
      {
       "output_type": "stream",
       "stream": "stdout",
       "text": [
        "Nash:\n",
        "\tThornton : 0.440909627708\n",
        "\tMercer : -0.044523866138\n",
        "\tIssaquah : 0.623947929224\n",
        "\n",
        "Nash for highest quartile:\n",
        "quartile: [ 0.15]\n",
        "0.452\n",
        "quartile: [ 0.12]\n",
        "-0.796\n",
        "quartile: [ 0.0992]\n",
        "0.631\n",
        "\n",
        "Size ( Thornton ): 198 16\n",
        "Size ( Mercer ): 201 14\n",
        "Size ( Issaquah ): 170 17\n"
       ]
      }
     ],
     "prompt_number": 28
    },
    {
     "cell_type": "markdown",
     "metadata": {},
     "source": [
      "<font color='blue'>Calculate the **RMSE** and **RSR** for sediment conc.</font>"
     ]
    },
    {
     "cell_type": "code",
     "collapsed": false,
     "input": [
      "RMSE = {}\n",
      "RSR = {}\n",
      "STDEV = {}\n",
      "\n",
      "print \"RSR:\\n\"\n",
      "for i, n in enumerate(basin_name):\n",
      "    obs_mean= sum(FobsTP[n])/float(len(FobsTP[n]))\n",
      "    RMSE[n] = np.sqrt(sum((x-y)**2 for x, y in zip(FobsTP[n], FsimTP[n]))/len(FsimTP[n]))\n",
      "    # print RMSE[n]\n",
      "    STDEV[n] = np.sqrt(sum((x-obs_mean)**2 for x in FobsTP[n])/len(FsimTP[n]))\n",
      "    # print STDEV[n]\n",
      "    RSR[n] = RMSE[n]/STDEV[n]\n",
      "    print RSR[n]"
     ],
     "language": "python",
     "metadata": {},
     "outputs": [
      {
       "output_type": "stream",
       "stream": "stdout",
       "text": [
        "RSR:\n",
        "\n",
        "0.747723459771\n",
        "1.0220195038\n",
        "0.613230846237\n"
       ]
      }
     ],
     "prompt_number": 29
    },
    {
     "cell_type": "markdown",
     "metadata": {},
     "source": [
      "<font color='blue'>Calculate the **PBIAS** for sediment conc.</font>"
     ]
    },
    {
     "cell_type": "code",
     "collapsed": false,
     "input": [
      "PBIAS = {}\n",
      "\n",
      "print \"PBIAS:\\n\"\n",
      "for i, n in enumerate(basin_name):\n",
      "    PBIAS[n] = sum((x-y) for x, y in zip(FobsTP[n], FsimTP[n])) / sum(x for x in FobsTP[n])\n",
      "    print PBIAS[n]"
     ],
     "language": "python",
     "metadata": {},
     "outputs": [
      {
       "output_type": "stream",
       "stream": "stdout",
       "text": [
        "PBIAS:\n",
        "\n",
        "-0.274932625\n",
        "-0.197304114713\n",
        "-0.573412992914\n"
       ]
      }
     ],
     "prompt_number": 30
    },
    {
     "cell_type": "markdown",
     "metadata": {},
     "source": [
      "<font color='blue'>Calculate the MPE for TP conc.</font>"
     ]
    },
    {
     "cell_type": "code",
     "collapsed": false,
     "input": [
      "TPObs = {}\n",
      "MPE_TP = {}\n",
      "TP75 = {}\n",
      "FsimTPQ4 = collections.defaultdict(list)\n",
      "FobsTPQ4 = collections.defaultdict(list)\n",
      "MPE_TPQ4 = collections.defaultdict(list)\n",
      "\n",
      "for i, n in enumerate(basin_name):\n",
      "    MPE_TP[n] = sum((x-y)/x/float(len(FobsTP[n])) for y,x in zip(FsimTP[n],FobsTP[n]))\n",
      "    print str(n),\":\\n\", \"%0.3f\" % MPE_TP[n], \"(overall MPE)\"\n",
      "    \n",
      "    TPObs[n] = pd.DataFrame(FobsTP[n])\n",
      "    TP75[n] = TPObs[n].quantile(0.75)\n",
      "    \n",
      "    for j in range(len(FobsTP[n])):\n",
      "        if (FobsTP[n][j] > TP75[n].values):\n",
      "            idx = j\n",
      "            FsimTPQ4[n].append(FsimTP[n][idx])\n",
      "            FobsTPQ4[n].append(FobsTP[n][idx])\n",
      "            MPE_TPQ4[n] = sum((x-y)/x/float(len(FobsTPQ4[n])) for y,x in zip(FsimTPQ4[n],FobsTPQ4[n]))\n",
      "    print \"%0.3f\" % MPE_TPQ4[n], \"(Q4 MPE)\", TP75[n].values, \"(Q4)\"\n",
      "    print \"\\n\"\n",
      "    \n",
      "for i, n in enumerate(basin_name):\n",
      "    print \"Size (\", str(n), \"):\", len(FsimTP[n]), len(FsimTPQ4[n]) \n",
      "    "
     ],
     "language": "python",
     "metadata": {},
     "outputs": [
      {
       "output_type": "stream",
       "stream": "stdout",
       "text": [
        "Thornton :\n",
        "-0.530 (overall MPE)\n",
        "-0.069 (Q4 MPE) [ 0.09] (Q4)\n",
        "\n",
        "\n",
        "Mercer :\n",
        "-0.307 (overall MPE)\n",
        "-0.013 (Q4 MPE) [ 0.09] (Q4)\n",
        "\n",
        "\n",
        "Issaquah :\n",
        "-1.533 (overall MPE)\n",
        "-0.174 (Q4 MPE) [ 0.05] (Q4)\n",
        "\n",
        "\n",
        "Size ( Thornton ): 198 40\n",
        "Size ( Mercer ): 201 41\n",
        "Size ( Issaquah ): 170 38\n"
       ]
      }
     ],
     "prompt_number": 31
    },
    {
     "cell_type": "markdown",
     "metadata": {},
     "source": [
      "<font color='blue'>**Scatterplot** of sediment conc. measurements vs. predictions.</font>"
     ]
    },
    {
     "cell_type": "code",
     "collapsed": false,
     "input": [
      "ssim = {}\n",
      "sobs = {}\n",
      "for i, n in enumerate(basin_name):\n",
      "    ssim[n] = pd.Series(FsimTP[n], index=Fsimdate[n])\n",
      "    sobs[n] = pd.Series(FobsTP[n], index=Fobsdate[n])\n",
      "\n",
      "fig=plt.figure(figsize=(8,9),dpi=400)\n",
      "\n",
      "jj = 1\n",
      "# Make the scatterplot\n",
      "for i, n in enumerate(basin_name):\n",
      "    ax = plt.subplot(3, 2, jj)\n",
      "    \n",
      "    # add spacing between subplots\n",
      "    fig.subplots_adjust(hspace = 0.3, wspace = 0.3)\n",
      "    \n",
      "    props = dict(boxstyle='round', facecolor='wheat', alpha=0.5)\n",
      "    \n",
      "    # add the catchment name to the figure\n",
      "    ax.text(.95,.02, str(n), fontsize=12, horizontalalignment='right', transform=ax.transAxes)\n",
      "    \n",
      "    if (n=='Mercer'):\n",
      "        textstr1 = '$NSE=0.18$' \n",
      "    if (n=='Thornton'):\n",
      "        textstr1 = '$NSE=0.59$' \n",
      "    if (n=='Issaquah'):\n",
      "        textstr1 = '$NSE=0.69$' \n",
      "    ax.text(0.05, 0.94, textstr1, fontsize=14, transform=ax.transAxes, verticalalignment='top', bbox=props)\n",
      "    \n",
      "    if (n == 'Mercer'):     \n",
      "        plt.xlim([0, 0.5])\n",
      "        plt.ylim([0, 0.5])\n",
      "        # add 1:1 line\n",
      "        x = np.arange(0, 0.6, 0.1)\n",
      "        y = x\n",
      "        plt.plot(x, y,linestyle='--', color='grey')\n",
      "    if (n == 'Thornton'): \n",
      "        plt.xlim([0, 0.6])\n",
      "        plt.ylim([0, 0.6])\n",
      "        # add 1:1 line\n",
      "        x = np.arange(0, 0.7, 0.1)\n",
      "        y = x\n",
      "        plt.plot(x, y,linestyle='--', color='grey')\n",
      "    if (n == 'Issaquah'): \n",
      "        #ax.set_yscale('log')\n",
      "        #ax.set_xscale('log')\n",
      "        plt.xlim([0, 1.5])\n",
      "        plt.ylim([0, 1.5])\n",
      "        # add 1:1 line\n",
      "        x = np.arange(0, 1.5, 0.01)\n",
      "        y = x\n",
      "        plt.plot(x, y,linestyle='--', color='grey')\n",
      "        plt.xlabel('obs (mg/l))', fontsize=12., labelpad=5)\n",
      "    plt.ylabel('sim (mg/l)', fontsize=12., labelpad=5)\n",
      "    \n",
      "        \n",
      "    # s = marker size, alpha = degree of transparency   \n",
      "    ax.scatter(sobs[n], ssim[n], s=15, c='black', alpha=0.8)    \n",
      "    \n",
      "    \n",
      "    #grid(True)\n",
      "    \n",
      "    ########################################################################################################\n",
      "    ########################################################################################################\n",
      "    jj = jj + 1\n",
      "    ax = plt.subplot(3, 2, jj)\n",
      "    jj = jj + 1\n",
      "    nnn = len(sobs[n])\n",
      "    d = np.linspace(1, nnn, num=nnn)/(nnn+1)\n",
      "    y  = norm.ppf(d,0,1);\n",
      "    \n",
      "    # create the axis ticks\n",
      "    p  = [0.01, 0.25, 0.5, 0.75, 0.9, 0.99];\n",
      "    # relate var \"p\" with \"y\"\n",
      "    tick  = norm.ppf(p,0,1);\n",
      "    label = ['0.01','0.25','0.5','0.75','0.9','0.99'];\n",
      "    \n",
      "    # sort the data in an ascending order\n",
      "    sobs[n].sort()\n",
      "    ssim[n].sort()\n",
      "    \n",
      "    # plot with simulation points that align with the obs\n",
      "    ax.plot(y, ssim[n], 'r+', label='sim')\n",
      "    ax.plot(y, sobs[n],'k*', label='obs')\n",
      "    \n",
      "    if (n == 'Mercer'):\n",
      "        plt.ylim([0, 0.5])\n",
      "    if (n == 'Issaquah'):\n",
      "        #ax.set_yscale('log')\n",
      "        plt.ylim([0, 1.5])\n",
      "    \n",
      "    print 'Kolmogorov-Smirnov Test: ', stats.ks_2samp(ssim[n], sobs[n])\n",
      "    \n",
      "    # use numpoints option so the markeres don't appear twice in one legend\n",
      "    ax.xaxis.set_major_locator(ticker.FixedLocator(tick))\n",
      "    ax.xaxis.set_major_formatter(ticker.FixedFormatter(label))\n",
      "    \n",
      "    # Changing the label's font-size\n",
      "    ax.tick_params(axis='x', labelsize=11)\n",
      "    \n",
      "    if (i == 0):\n",
      "        ax.legend(loc='best', numpoints = 1)\n",
      "    plt.ylabel('conc. (mg/l)', fontsize=12., labelpad=5)\n",
      "    if (n == 'Issaquah'):\n",
      "        plt.xlabel('probability', fontsize=12., labelpad=5)\n",
      "    #grid(True)\n",
      "\n",
      "\n",
      "outfig1 = str(outputfilepath) + 'TP.png'      \n",
      "#savefig(str(outfig1), dpi=500, format = 'png', transparent='True')"
     ],
     "language": "python",
     "metadata": {},
     "outputs": [
      {
       "output_type": "stream",
       "stream": "stdout",
       "text": [
        "Kolmogorov-Smirnov Test:  (0.5252525252525253, 8.872956328262361e-25)\n",
        "Kolmogorov-Smirnov Test: "
       ]
      },
      {
       "output_type": "stream",
       "stream": "stdout",
       "text": [
        " (0.33830845771144274, 1.1151545195154899e-10)\n",
        "Kolmogorov-Smirnov Test: "
       ]
      },
      {
       "output_type": "stream",
       "stream": "stdout",
       "text": [
        " (0.70000000000000007, 1.2064727824110616e-37)\n"
       ]
      },
      {
       "metadata": {},
       "output_type": "display_data",
       "png": "[encoded data removed]",
       "text": [
        "<matplotlib.figure.Figure at 0xc743b38>"
       ]
      }
     ],
     "prompt_number": 32
    },
    {
     "cell_type": "code",
     "collapsed": false,
     "input": [],
     "language": "python",
     "metadata": {},
     "outputs": [],
     "prompt_number": 32
    }
   ],
   "metadata": {}
  }
 ]
}