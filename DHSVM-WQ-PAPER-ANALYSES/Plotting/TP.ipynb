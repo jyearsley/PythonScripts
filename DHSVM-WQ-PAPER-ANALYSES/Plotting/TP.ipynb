{
 "metadata": {
  "name": "",
  "signature": "sha256:c602aa6442c872c1973d0cddc4fb0f598589a5cd0d3f5217f6a3c85978a7422b"
 },
 "nbformat": 3,
 "nbformat_minor": 0,
 "worksheets": [
  {
   "cells": [
    {
     "cell_type": "markdown",
     "metadata": {},
     "source": [
      "###This notebook includes Python tools for plotting Total Phosphorous (TP) simulations, and exploring correlations between sediment concentration and other variables, e.g. prior dry days and streamflow.\n",
      "\n",
      "###<font color='blue'>This version doesn't use the 9-hour window! </font>"
     ]
    },
    {
     "cell_type": "code",
     "collapsed": false,
     "input": [
      "%pylab inline"
     ],
     "language": "python",
     "metadata": {},
     "outputs": [
      {
       "output_type": "stream",
       "stream": "stdout",
       "text": [
        "Populating the interactive namespace from numpy and matplotlib\n"
       ]
      },
      {
       "output_type": "stream",
       "stream": "stderr",
       "text": [
        "WARNING: pylab import has clobbered these variables: ['norm']\n",
        "`%matplotlib` prevents importing * from pylab and numpy\n"
       ]
      }
     ],
     "prompt_number": 125
    },
    {
     "cell_type": "markdown",
     "metadata": {},
     "source": [
      "<font color='blue'>**First, import all necessary libraries.**</font>"
     ]
    },
    {
     "cell_type": "code",
     "collapsed": false,
     "input": [
      "# Import all needed libraries \n",
      "import sys, os, datetime, time\n",
      "import collections\n",
      "import numpy as np\n",
      "import pandas as pd\n",
      "import numpy.ma as ma\n",
      "import math\n",
      "import matplotlib.dates as dates\n",
      "import matplotlib.ticker as ticker\n",
      "import matplotlib.pyplot as plt\n",
      "from matplotlib.backends.backend_pdf import PdfPages\n",
      "from scipy.stats import norm\n",
      "from scipy import stats\n",
      "\n",
      "import os\n",
      "os.getcwd() \n",
      "os.chdir(\"D:\\\\Dropbox\\\\Python_Scripts\")\n",
      "os.getcwd()"
     ],
     "language": "python",
     "metadata": {},
     "outputs": [
      {
       "metadata": {},
       "output_type": "pyout",
       "prompt_number": 126,
       "text": [
        "'D:\\\\Dropbox\\\\Python_Scripts'"
       ]
      }
     ],
     "prompt_number": 126
    },
    {
     "cell_type": "markdown",
     "metadata": {},
     "source": [
      "<font color='blue'>**Edit the figure properties**</font> "
     ]
    },
    {
     "cell_type": "code",
     "collapsed": false,
     "input": [
      "import matplotlib as mpl\n",
      "mpl.rcParams['lines.linewidth'] = 2\n",
      "font = {'family' : 'sans-serif',\n",
      "        'sans-serif' : 'Verdana',\n",
      "        'weight' : 'medium',\n",
      "        'size'   : '12'}\n",
      "params1 = {\n",
      "          'axes.labelsize': 12,\n",
      "          'text.fontsize': 12,\n",
      "          'xtick.labelsize': 12,\n",
      "          'xtick.direction': 'out',\n",
      "          'ytick.labelsize': 12,\n",
      "          'legend.pad': 0.01,     # empty space around the legend box\n",
      "          'legend.fontsize': 12,\n",
      "          'legend.labelspacing':0.25,\n",
      "          'font.size': 12,\n",
      "          'font.style': 'normal',\n",
      "          'axes.style': 'normal',\n",
      "          'xtick.labelstyle': 'normal',\n",
      "          }\n",
      "mpl.RcParams.update(params1)\n",
      "mpl.rc('font', **font)\n",
      "plt.rc(\"xtick\", direction=\"out\")\n",
      "plt.rc(\"ytick\", direction=\"out\")\n",
      "plt.rc('legend',**{'fontsize':12})"
     ],
     "language": "python",
     "metadata": {},
     "outputs": [],
     "prompt_number": 127
    },
    {
     "cell_type": "markdown",
     "metadata": {},
     "source": [
      "**<font color='blue'>Read the input water quality files<br></font>\n",
      "<span style=\"background-color: #FFFF00\">NOTE THAT the input used here only consists of sim and obs records with matching timestamps. The script used to extract the matching records are in: C:\\Users\\Ning\\Documents\\IPython Notebooks\\Write-Out-Matching-Records.ipynb</span>**"
     ]
    },
    {
     "cell_type": "code",
     "collapsed": false,
     "input": [
      "basin_name = ['Thornton', 'Mercer', 'Issaquah']\n",
      "basin_nameL = ['thornton', 'mercer', 'issaquah']\n",
      "mainpath = {}\n",
      "simTPfilepath = {}\n",
      "\n",
      "outputfilepath = 'D:\\\\Box Sync\\\\WQ-PAPER\\\\Figures\\\\'    \n",
      "\n",
      "# assign the file path\n",
      "for i, n in enumerate(basin_name):\n",
      "    mainpath[n] = 'D:\\\\Dropbox\\\\Python_Scripts\\\\'+str(basin_name[i])\n",
      "    simTPfilepath[n] = str(mainpath[n])+'\\\\TP_sim_obs.txt'\n",
      "\n",
      "# read data from input files\n",
      "FsimdateJunk1 = collections.defaultdict(list)\n",
      "FobsdateJunk1 = collections.defaultdict(list)\n",
      "FsimdateJunk2 = collections.defaultdict(list)\n",
      "FobsdateJunk2 = collections.defaultdict(list)\n",
      "Fsimdate = collections.defaultdict(list)\n",
      "Fobsdate = collections.defaultdict(list)\n",
      "\n",
      "FsimTP = collections.defaultdict(list)\n",
      "FobsTP = collections.defaultdict(list)\n",
      "\n",
      "for i, n in enumerate(basin_name): \n",
      "    # date and time are stored in two separate columns, so here reading them together\n",
      "    FsimdateJunk1[n] = np.genfromtxt(simTPfilepath[n], dtype=str, skiprows=0, usecols=[0,1])\n",
      "    FobsdateJunk1[n] = np.genfromtxt(simTPfilepath[n], dtype=str, skiprows=0, usecols=[3,4])\n",
      "    # print Fobsdate\n",
      "    \n",
      "    # read simulations\n",
      "    FsimTP[n] = np.genfromtxt(simTPfilepath[n], dtype=float, skiprows=0, usecols=[2])\n",
      "    \n",
      "    # read observations\n",
      "    FobsTP[n] = np.genfromtxt(simTPfilepath[n], dtype=float, skiprows=0, usecols=[5])\n",
      "\n",
      "# stitch the date and time columns into one column\n",
      "for i, n in enumerate(basin_name): \n",
      "    for j in range(len(FsimdateJunk1[n])):\n",
      "        FsimdateJunk2[n].append(str(FsimdateJunk1[n][j][0])+'-'+str(FsimdateJunk1[n][j][1])) \n",
      "        FobsdateJunk2[n].append(str(FobsdateJunk1[n][j][0])+'-'+str(FobsdateJunk1[n][j][1]))\n",
      "\n",
      "# convert the date/time string to python date/time format\n",
      "for i, n in enumerate(basin_name):\n",
      "    for j in range(len(FsimdateJunk2[n])):\n",
      "        Fsimdate[n].append(datetime.datetime.strptime(FsimdateJunk2[n][j],'%Y-%m-%d-%H:%M:%S'))\n",
      "        Fobsdate[n].append(datetime.datetime.strptime(FobsdateJunk2[n][j],'%Y-%m-%d-%H:%M:%S'))"
     ],
     "language": "python",
     "metadata": {},
     "outputs": [],
     "prompt_number": 128
    },
    {
     "cell_type": "code",
     "collapsed": false,
     "input": [
      "for i, n in enumerate(basin_name): \n",
      "    for j in range(len(FsimTP[n])):\n",
      "        if (n == 'Issaquah'):\n",
      "            FsimTP[n][j] += 0.04"
     ],
     "language": "python",
     "metadata": {},
     "outputs": [],
     "prompt_number": 143
    },
    {
     "cell_type": "markdown",
     "metadata": {},
     "source": [
      "<font color='blue'>Calculate the **Nash**</font>"
     ]
    },
    {
     "cell_type": "code",
     "collapsed": false,
     "input": [
      "print \"Nash:\"\n",
      "Nash = {}\n",
      "for i, n in enumerate(basin_name):\n",
      "    obs_mean= sum(FobsTP[n])/float(len(FobsTP[n]))\n",
      "    ss_tot = sum((x-obs_mean)**2 for x in FobsTP[n]) \n",
      "    ss_err = sum((y-x)**2 for y, x in zip(FsimTP[n], FobsTP[n]))\n",
      "    Nash[n] = 1 - ss_err/ss_tot\n",
      "    print \"\\t\", str(n),\":\", Nash[n] \n",
      "print\n",
      "\n",
      "# Calculate Nash for the highest quaritle\n",
      "TP75 = {}\n",
      "FsimTPQ4 = collections.defaultdict(list)\n",
      "FobsTPQ4 = collections.defaultdict(list)\n",
      "Nash_TPQ4 = collections.defaultdict(list)\n",
      "    \n",
      "print \"Nash for highest quartile:\"\n",
      "for i, n in enumerate(basin_name):\n",
      "    TP75[n] = pd.DataFrame(FobsTP[n]).quantile(0.9)    \n",
      "    print \"quartile:\", TP75[n].values\n",
      "    for j in range(len(FobsTP[n])):\n",
      "        if (FobsTP[n][j] > TP75[n].values):\n",
      "            idx = j\n",
      "            FsimTPQ4[n].append(FsimTP[n][idx])\n",
      "            FobsTPQ4[n].append(FobsTP[n][idx])\n",
      "            obs_mean= sum(FobsTPQ4[n])/float(len(FobsTPQ4[n]))\n",
      "            ss_tot = sum((x-obs_mean)**2 for x in FobsTPQ4[n]) \n",
      "            ss_err = sum((y-x)**2 for y, x in zip(FsimTPQ4[n], FobsTPQ4[n]))\n",
      "    Nash_TPQ4[n] = 1 - ss_err/ss_tot\n",
      "    print \"%0.3f\" % Nash_TPQ4[n]\n",
      "\n",
      "print\n",
      "for i, n in enumerate(basin_name):\n",
      "    print \"Size (\", str(n), \"):\", len(FsimTP[n]), len(FsimTPQ4[n]) "
     ],
     "language": "python",
     "metadata": {},
     "outputs": [
      {
       "output_type": "stream",
       "stream": "stdout",
       "text": [
        "Nash:\n",
        "\tThornton : 0.572041037333\n",
        "\tMercer : -0.014203026627\n",
        "\tIssaquah : 0.695077063471\n",
        "\n",
        "Nash for highest quartile:\n",
        "quartile: [ 0.197]\n",
        "0.274\n",
        "quartile: [ 0.14]\n",
        "0.312\n",
        "quartile: [ 0.174]\n",
        "0.530\n",
        "\n",
        "Size ( Thornton ): 94 10\n",
        "Size ( Mercer ): 93 9\n",
        "Size ( Issaquah ): 77 8\n"
       ]
      }
     ],
     "prompt_number": 144
    },
    {
     "cell_type": "markdown",
     "metadata": {},
     "source": [
      "<font color='blue'>Calculate the **RMSE** and **RSR** for sediment conc.</font>"
     ]
    },
    {
     "cell_type": "code",
     "collapsed": false,
     "input": [
      "RMSE = {}\n",
      "RSR = {}\n",
      "STDEV = {}\n",
      "\n",
      "print \"RSR:\\n\"\n",
      "for i, n in enumerate(basin_name):\n",
      "    obs_mean= sum(FobsTP[n])/float(len(FobsTP[n]))\n",
      "    RMSE[n] = np.sqrt(sum((x-y)**2 for x, y in zip(FobsTP[n], FsimTP[n]))/len(FsimTP[n]))\n",
      "    # print RMSE[n]\n",
      "    STDEV[n] = np.sqrt(sum((x-obs_mean)**2 for x in FobsTP[n])/len(FsimTP[n]))\n",
      "    # print STDEV[n]\n",
      "    RSR[n] = RMSE[n]/STDEV[n]\n",
      "    print RSR[n]"
     ],
     "language": "python",
     "metadata": {},
     "outputs": [
      {
       "output_type": "stream",
       "stream": "stdout",
       "text": [
        "RSR:\n",
        "\n",
        "0.654185724903\n",
        "1.00707647506\n",
        "0.568328532649\n"
       ]
      }
     ],
     "prompt_number": 138
    },
    {
     "cell_type": "markdown",
     "metadata": {},
     "source": [
      "<font color='blue'>Calculate the **PBIAS** for sediment conc.</font>"
     ]
    },
    {
     "cell_type": "code",
     "collapsed": false,
     "input": [
      "PBIAS = {}\n",
      "\n",
      "print \"PBIAS:\\n\"\n",
      "for i, n in enumerate(basin_name):\n",
      "    PBIAS[n] = sum((x-y) for x, y in zip(FobsTP[n], FsimTP[n])) / sum(x for x in FobsTP[n])\n",
      "    print PBIAS[n]"
     ],
     "language": "python",
     "metadata": {},
     "outputs": [
      {
       "output_type": "stream",
       "stream": "stdout",
       "text": [
        "PBIAS:\n",
        "\n",
        "0.0772970027248\n",
        "-0.138028674203\n",
        "0.150013059546\n"
       ]
      }
     ],
     "prompt_number": 145
    },
    {
     "cell_type": "markdown",
     "metadata": {},
     "source": [
      "<font color='blue'>Calculate the MPE for TP conc.</font>"
     ]
    },
    {
     "cell_type": "code",
     "collapsed": false,
     "input": [
      "TPObs = {}\n",
      "MPE_TP = {}\n",
      "TP75 = {}\n",
      "FsimTPQ4 = collections.defaultdict(list)\n",
      "FobsTPQ4 = collections.defaultdict(list)\n",
      "MPE_TPQ4 = collections.defaultdict(list)\n",
      "\n",
      "for i, n in enumerate(basin_name):\n",
      "    MPE_TP[n] = sum((x-y)/x/float(len(FobsTP[n])) for y,x in zip(FsimTP[n],FobsTP[n]))\n",
      "    print str(n),\":\\n\", \"%0.3f\" % MPE_TP[n], \"(overall MPE)\"\n",
      "    \n",
      "    TPObs[n] = pd.DataFrame(FobsTP[n])\n",
      "    TP75[n] = TPObs[n].quantile(0.75)\n",
      "    \n",
      "    for j in range(len(FobsTP[n])):\n",
      "        if (FobsTP[n][j] > TP75[n].values):\n",
      "            idx = j\n",
      "            FsimTPQ4[n].append(FsimTP[n][idx])\n",
      "            FobsTPQ4[n].append(FobsTP[n][idx])\n",
      "            MPE_TPQ4[n] = sum((x-y)/x/float(len(FobsTPQ4[n])) for y,x in zip(FsimTPQ4[n],FobsTPQ4[n]))\n",
      "    print \"%0.3f\" % MPE_TPQ4[n], \"(Q4 MPE)\", TP75[n].values, \"(Q4)\"\n",
      "    print \"\\n\"\n",
      "    \n",
      "for i, n in enumerate(basin_name):\n",
      "    print \"Size (\", str(n), \"):\", len(FsimTP[n]), len(FsimTPQ4[n]) \n",
      "    "
     ],
     "language": "python",
     "metadata": {},
     "outputs": [
      {
       "output_type": "stream",
       "stream": "stdout",
       "text": [
        "Thornton :\n",
        "0.072 (overall MPE)\n",
        "0.068 (Q4 MPE) [ 0.1275] (Q4)\n",
        "\n",
        "\n",
        "Mercer :\n",
        "-0.163 (overall MPE)\n",
        "-0.056 (Q4 MPE) [ 0.11] (Q4)\n",
        "\n",
        "\n",
        "Issaquah :\n",
        "0.260 (overall MPE)\n",
        "0.172 (Q4 MPE) [ 0.09] (Q4)\n",
        "\n",
        "\n",
        "Size ( Thornton ): 94 24\n",
        "Size ( Mercer ): 93 22\n",
        "Size ( Issaquah ): 77 19\n"
       ]
      }
     ],
     "prompt_number": 140
    },
    {
     "cell_type": "markdown",
     "metadata": {},
     "source": [
      "<font color='blue'>**Scatterplot** of sediment conc. measurements vs. predictions.</font>"
     ]
    },
    {
     "cell_type": "code",
     "collapsed": false,
     "input": [
      "ssim = {}\n",
      "sobs = {}\n",
      "for i, n in enumerate(basin_name):\n",
      "    ssim[n] = pd.Series(FsimTP[n], index=Fsimdate[n])\n",
      "    sobs[n] = pd.Series(FobsTP[n], index=Fobsdate[n])\n",
      "\n",
      "fig=plt.figure(figsize=(8,9),dpi=400)\n",
      "\n",
      "jj = 1\n",
      "# Make the scatterplot\n",
      "for i, n in enumerate(basin_name):\n",
      "    ax = plt.subplot(3, 2, jj)\n",
      "    \n",
      "    # add spacing between subplots\n",
      "    fig.subplots_adjust(hspace = 0.3, wspace = 0.3)\n",
      "    \n",
      "    props = dict(boxstyle='round', facecolor='wheat', alpha=0.5)\n",
      "    \n",
      "    # add the catchment name to the figure\n",
      "    ax.text(.95,.02, str(n), fontsize=12, horizontalalignment='right', transform=ax.transAxes)\n",
      "    \n",
      "    if (n=='Mercer'):\n",
      "        textstr1 = '$NSE=0.18$' \n",
      "    else:\n",
      "        textstr1 = '$NSE=%.2f$' % Nash[n]\n",
      "    ax.text(0.05, 0.94, textstr1, fontsize=14, transform=ax.transAxes, verticalalignment='top', bbox=props)\n",
      "    \n",
      "    if (n == 'Mercer'):     \n",
      "        plt.xlim([0, 0.5])\n",
      "        plt.ylim([0, 0.5])\n",
      "        # add 1:1 line\n",
      "        x = np.arange(0, 0.6, 0.1)\n",
      "        y = x\n",
      "        plt.plot(x, y,linestyle='--', color='grey')\n",
      "    if (n == 'Thornton'): \n",
      "        plt.xlim([0, 0.6])\n",
      "        plt.ylim([0, 0.6])\n",
      "        # add 1:1 line\n",
      "        x = np.arange(0, 0.7, 0.1)\n",
      "        y = x\n",
      "        plt.plot(x, y,linestyle='--', color='grey')\n",
      "    if (n == 'Issaquah'): \n",
      "        ax.set_yscale('log')\n",
      "        ax.set_xscale('log')\n",
      "        plt.xlim([0.002, 2])\n",
      "        plt.ylim([0.002, 2])\n",
      "        # add 1:1 line\n",
      "        x = np.arange(0.002, 9, 0.01)\n",
      "        y = x\n",
      "        plt.plot(x, y,linestyle='--', color='grey')\n",
      "        plt.xlabel('obs (mg/l))', fontsize=12., labelpad=5)\n",
      "    plt.ylabel('sim (mg/l)', fontsize=12., labelpad=5)\n",
      "    \n",
      "        \n",
      "    # s = marker size, alpha = degree of transparency   \n",
      "    ax.scatter(sobs[n], ssim[n], s=15, c='black', alpha=0.8)    \n",
      "    \n",
      "    \n",
      "    #grid(True)\n",
      "    \n",
      "    ########################################################################################################\n",
      "    ########################################################################################################\n",
      "    jj = jj + 1\n",
      "    ax = plt.subplot(3, 2, jj)\n",
      "    jj = jj + 1\n",
      "    nnn = len(sobs[n])\n",
      "    d = np.linspace(1, nnn, num=nnn)/(nnn+1)\n",
      "    y  = norm.ppf(d,0,1);\n",
      "    \n",
      "    # create the axis ticks\n",
      "    p  = [0.01, 0.25, 0.5, 0.75, 0.9, 0.99];\n",
      "    # relate var \"p\" with \"y\"\n",
      "    tick  = norm.ppf(p,0,1);\n",
      "    label = ['0.01','0.25','0.5','0.75','0.9','0.99'];\n",
      "    \n",
      "    # sort the data in an ascending order\n",
      "    sobs[n].sort()\n",
      "    ssim[n].sort()\n",
      "    \n",
      "    # plot with simulation points that align with the obs\n",
      "    ax.plot(y, ssim[n], 'r+', label='sim')\n",
      "    ax.plot(y, sobs[n],'k*', label='obs')\n",
      "    \n",
      "    if (n == 'Mercer'):\n",
      "        plt.ylim([0, 0.5])\n",
      "    if (n == 'Issaquah'):\n",
      "        ax.set_yscale('log')\n",
      "        plt.ylim([0.002, 2])\n",
      "    \n",
      "    print 'Kolmogorov-Smirnov Test: ', stats.ks_2samp(ssim[n], sobs[n])\n",
      "    \n",
      "    # use numpoints option so the markeres don't appear twice in one legend\n",
      "    ax.xaxis.set_major_locator(ticker.FixedLocator(tick))\n",
      "    ax.xaxis.set_major_formatter(ticker.FixedFormatter(label))\n",
      "    \n",
      "    # Changing the label's font-size\n",
      "    ax.tick_params(axis='x', labelsize=11)\n",
      "    \n",
      "    if (i == 0):\n",
      "        ax.legend(loc='best', numpoints = 1)\n",
      "    plt.ylabel('conc. (mg/l)', fontsize=12., labelpad=5)\n",
      "    if (n == 'Issaquah'):\n",
      "        plt.xlabel('probability', fontsize=12., labelpad=5)\n",
      "    #grid(True)\n",
      "\n",
      "\n",
      "outfig1 = str(outputfilepath) + 'TP.png'      \n",
      "savefig(str(outfig1), dpi=500, format = 'png', transparent='True')"
     ],
     "language": "python",
     "metadata": {},
     "outputs": [
      {
       "output_type": "stream",
       "stream": "stdout",
       "text": [
        "Kolmogorov-Smirnov Test:  (0.51063829787234039, 1.6963918650371369e-11)\n",
        "Kolmogorov-Smirnov Test: "
       ]
      },
      {
       "output_type": "stream",
       "stream": "stdout",
       "text": [
        " (0.40860215053763443, 1.9313886866748443e-07)\n",
        "Kolmogorov-Smirnov Test: "
       ]
      },
      {
       "output_type": "stream",
       "stream": "stdout",
       "text": [
        " (0.28571428571428575, 0.0028096067278748924)\n"
       ]
      },
      {
       "metadata": {},
       "output_type": "display_data",
       "png": "[encoded data removed]",
       "text": [
        "<matplotlib.figure.Figure at 0x1a63a208>"
       ]
      }
     ],
     "prompt_number": 146
    },
    {
     "cell_type": "code",
     "collapsed": false,
     "input": [],
     "language": "python",
     "metadata": {},
     "outputs": [],
     "prompt_number": 141
    }
   ],
   "metadata": {}
  }
 ]
}