{
 "metadata": {
  "name": "",
  "signature": "sha256:18b1fee02092ea4d726f5bac617c349e12a7cf664af75f579dfc056c5c31d85c"
 },
 "nbformat": 3,
 "nbformat_minor": 0,
 "worksheets": [
  {
   "cells": [
    {
     "cell_type": "markdown",
     "metadata": {},
     "source": [
      "###This notebook includes Python tools for plotting the hydrology and water quality changes under all scenarios."
     ]
    },
    {
     "cell_type": "code",
     "collapsed": false,
     "input": [
      "%pylab inline"
     ],
     "language": "python",
     "metadata": {},
     "outputs": [
      {
       "output_type": "stream",
       "stream": "stdout",
       "text": [
        "Populating the interactive namespace from numpy and matplotlib\n"
       ]
      }
     ],
     "prompt_number": 1
    },
    {
     "cell_type": "markdown",
     "metadata": {},
     "source": [
      "<font color='blue'>**First, import all necessary libraries.**</font>"
     ]
    },
    {
     "cell_type": "code",
     "collapsed": false,
     "input": [
      "# Import all needed libraries \n",
      "import sys, os, datetime, time\n",
      "import collections\n",
      "import numpy as np\n",
      "import pandas as pd\n",
      "import numpy.ma as ma\n",
      "import math\n",
      "import matplotlib.dates as dates\n",
      "import matplotlib.ticker as ticker\n",
      "import matplotlib.pyplot as plt\n",
      "from matplotlib.backends.backend_pdf import PdfPages\n",
      "from scipy.stats import norm\n",
      "from scipy import stats\n",
      "\n",
      "import os\n",
      "os.getcwd() \n",
      "os.chdir(\"D:\\\\Dropbox\\\\Python_Scripts\")\n",
      "os.getcwd()"
     ],
     "language": "python",
     "metadata": {},
     "outputs": [
      {
       "metadata": {},
       "output_type": "pyout",
       "prompt_number": 2,
       "text": [
        "'D:\\\\Dropbox\\\\Python_Scripts'"
       ]
      }
     ],
     "prompt_number": 2
    },
    {
     "cell_type": "markdown",
     "metadata": {},
     "source": [
      "<font color='blue'>**Edit the figure properties**</font> "
     ]
    },
    {
     "cell_type": "code",
     "collapsed": false,
     "input": [
      "import matplotlib as mpl\n",
      "mpl.rcParams['lines.linewidth'] = 2\n",
      "font = {'family' : 'sans-serif',\n",
      "        'sans-serif' : 'Verdana',\n",
      "        'weight' : 'medium',\n",
      "        'size'   : '12'}\n",
      "params1 = {\n",
      "          'axes.labelsize': 12,\n",
      "          'text.fontsize': 12,\n",
      "          'xtick.labelsize': 12,\n",
      "          'xtick.direction': 'out',\n",
      "          'ytick.labelsize': 12,\n",
      "          'legend.pad': 0.01,     # empty space around the legend box\n",
      "          'legend.fontsize': 12,\n",
      "          'legend.labelspacing':0.25,\n",
      "          'font.size': 12,\n",
      "          'font.style': 'normal',\n",
      "          'axes.style': 'normal',\n",
      "          'xtick.labelstyle': 'normal',\n",
      "          }\n",
      "mpl.RcParams.update(params1)\n",
      "mpl.rc('font', **font)\n",
      "plt.rc(\"xtick\", direction=\"out\")\n",
      "plt.rc(\"ytick\", direction=\"out\")\n",
      "plt.rc('legend',**{'fontsize':12})"
     ],
     "language": "python",
     "metadata": {},
     "outputs": [],
     "prompt_number": 3
    },
    {
     "cell_type": "markdown",
     "metadata": {},
     "source": [
      "**<font color='blue'>Read the input water quality files (change the path if needed)<br></font>**"
     ]
    },
    {
     "cell_type": "code",
     "collapsed": false,
     "input": [
      "basin_name = ['Thornton', 'Mercer', 'Issaquah']\n",
      "basin_nameL = ['thornton', 'mercer', 'issaquah']\n",
      "outputfilepath = 'D:\\\\Box Sync\\\\WQ-PAPER\\\\Figures\\\\'  \n",
      "colors = ['black', 'r', '#7cfc00', '#228b22', '#daa520', '#0000ff'] \n",
      "linestyles = ['--', '-', '-', '-', '-', '-']\n",
      "scenarios = ['2002','2050']#, 'TairRcp45', 'TairRcp85', 'PptRcp85', 'Combined']\n",
      "strings = ['Baseline' ,'LC2050']#, 'RCP4.5(T))', 'RCP8.5(T))', 'RCP8.5(P))', 'Combined']\n",
      "\n",
      "\n",
      "# the period of interest for daily pollutant load plots\n",
      "startdate = datetime.datetime(1993,1,1)\n",
      "enddate = datetime.datetime(2006,12,31)\n",
      "\n",
      "mainpath = {}\n",
      "simflowfilepath = collections.defaultdict(dict)\n",
      "simsedfilepath = collections.defaultdict(dict)\n",
      "simotherfilepath = collections.defaultdict(dict)\n",
      "simOrgPfilepath = collections.defaultdict(dict)\n",
      "simSolPfilepath = collections.defaultdict(dict)\n",
      "precipfilepath = collections.defaultdict(dict)\n",
      "simTEMPfilepath = collections.defaultdict(dict)\n",
      "\n",
      "# read in 3-hourly data file path\n",
      "for i, n in enumerate(basin_name):\n",
      "    mainpath[n] = 'D:\\\\Dropbox\\\\Python_Scripts\\\\'+str(basin_name[i])\n",
      "    for j, s in enumerate(scenarios):\n",
      "        if (s=='2002' or s=='2050'):\n",
      "            simflowfilepath[n][s] = str(mainpath[n])+'\\\\LULC_Scenarios\\\\'+str(s)+'\\\\output\\\\Streamflow.Only'\n",
      "            precipfilepath[n][s] = str(mainpath[n])+'\\\\LULC_Scenarios\\\\'+str(s)+'\\\\output\\\\Mass.Balance'\n",
      "            simsedfilepath[n][s] = str(mainpath[n])+'\\\\LULC_Scenarios\\\\'+str(s)+'\\\\output\\\\Sed.Flow.Only'\n",
      "            simotherfilepath[n][s] = str(mainpath[n])+'\\\\LULC_Scenarios\\\\'+str(s)+'\\\\output\\\\Other.Conc.Only'\n",
      "            simOrgPfilepath[n][s] = str(mainpath[n])+'\\\\LULC_Scenarios\\\\'+str(s)+'\\\\output\\\\OrgP.Conc.Only'\n",
      "            simSolPfilepath[n][s] = str(mainpath[n])+'\\\\LULC_Scenarios\\\\'+str(s)+'\\\\output\\\\solP.Conc.Only' \n",
      "            simTEMPfilepath[n][s] = str(mainpath[n])+'\\\\LULC_Scenarios\\\\'+str(s)+'\\\\output\\\\temp.txt' \n",
      "        else:\n",
      "            simflowfilepath[n][s] = str(mainpath[n])+'\\\\Climate_Scenarios\\\\'+str(s)+'\\\\output\\\\Streamflow.Only'\n",
      "            precipfilepath[n][s] = str(mainpath[n])+'\\\\Climate_Scenarios\\\\'+str(s)+'\\\\output\\\\Mass.Balance'\n",
      "            simsedfilepath[n][s] = str(mainpath[n])+'\\\\Climate_Scenarios\\\\'+str(s)+'\\\\output\\\\Sed.Flow.Only'\n",
      "            simotherfilepath[n][s] = str(mainpath[n])+'\\\\Climate_Scenarios\\\\'+str(s)+'\\\\output\\\\Other.Conc.Only'\n",
      "            simOrgPfilepath[n][s] = str(mainpath[n])+'\\\\Climate_Scenarios\\\\'+str(s)+'\\\\output\\\\OrgP.Conc.Only'\n",
      "            simSolPfilepath[n][s] = str(mainpath[n])+'\\\\Climate_Scenarios\\\\'+str(s)+'\\\\output\\\\solP.Conc.Only'  \n",
      "            simTEMPfilepath[n][s] = str(mainpath[n])+'\\\\Climate_Scenarios\\\\'+str(s)+'\\\\output\\\\temp.txt' "
     ],
     "language": "python",
     "metadata": {},
     "outputs": [],
     "prompt_number": 6
    },
    {
     "cell_type": "markdown",
     "metadata": {},
     "source": [
      "<font color='blue'>**Read the input water quality files (change the path if needed)**</font><br>"
     ]
    },
    {
     "cell_type": "code",
     "collapsed": false,
     "input": [
      "tempsimdates = collections.defaultdict(list)\n",
      "tempjunkdates = collections.defaultdict(dict)\n",
      "simflowdata = collections.defaultdict(dict)\n",
      "precipdata = collections.defaultdict(dict)\n",
      "simseddata = collections.defaultdict(dict)\n",
      "simotherdata = collections.defaultdict(dict)\n",
      "simTPdata = collections.defaultdict(dict)\n",
      "simOrgPdata = collections.defaultdict(dict)\n",
      "simSolPdata = collections.defaultdict(dict)\n",
      "simTEMPdata = collections.defaultdict(dict)\n",
      "junkdate = collections.defaultdict(dict)\n",
      "for i, n in enumerate(basin_name):\n",
      "    junkdate[n] = collections.defaultdict(list)\n",
      "\n",
      "# dates for all other files but Temperature\n",
      "tempsimdates = np.genfromtxt(simsedfilepath['Mercer']['2002'], dtype=str, skiprows=2, usecols=0)\n",
      "for i, n in enumerate(basin_name):\n",
      "    for j, s in enumerate(scenarios):\n",
      "        tempjunkdates[n][s] = np.genfromtxt(simTEMPfilepath[n][s], dtype=str, skiprows=0, usecols=0)\n",
      "simdates = []\n",
      "\n",
      "for i in range(len(tempsimdates)):\n",
      "    simdates.append(datetime.datetime.strptime(tempsimdates[i],'%m/%d/%Y-%H:%M:%S'))\n",
      "for i, n in enumerate(basin_name):\n",
      "    for j, s in enumerate(scenarios):\n",
      "        for k in range(len(tempjunkdates[n][s])):\n",
      "            junkdate[n][s].append(datetime.datetime.strptime(tempjunkdates[n][s][k], '%m/%d/%Y-%H:%M'))\n",
      "    \n",
      "for i, n in enumerate(basin_name):\n",
      "    for j, s in enumerate(scenarios):\n",
      "        simflowdata[n][s] = np.genfromtxt(simflowfilepath[n][s], skiprows=2, usecols=[1])  \n",
      "        simseddata[n][s] = np.genfromtxt(simsedfilepath[n][s], skiprows=2, usecols=[2])  \n",
      "        simotherdata[n][s] = np.genfromtxt(simotherfilepath[n][s], skiprows=2, usecols=[1])  \n",
      "        simOrgPdata[n][s] = np.genfromtxt(simOrgPfilepath[n][s], skiprows=2, usecols=[1])  \n",
      "        simSolPdata[n][s] = np.genfromtxt(simSolPfilepath[n][s], skiprows=2, usecols=[1])  \n",
      "        simTPdata[n][s] = simOrgPdata[n][s]+simSolPdata[n][s]\n",
      "        simTEMPdata[n][s] = np.genfromtxt(simTEMPfilepath[n][s], skiprows=0, usecols=[1])  \n",
      "        precipdata[n][s] = np.genfromtxt(precipfilepath[n][s], dtype=float, skiprows=24, usecols=[9])\n",
      "        \n",
      "# debug\n",
      "#for i, n in enumerate(basin_name):\n",
      "    #for j, s in enumerate(scenarios):\n",
      "        #print str(n), str(s), len(junkdate[n][s]), len(simTEMPdata[n][s])\n"
     ],
     "language": "python",
     "metadata": {},
     "outputs": [],
     "prompt_number": 7
    },
    {
     "cell_type": "code",
     "collapsed": false,
     "input": [
      "for j, s in enumerate(scenarios):\n",
      "    if (s == 'Combined'):\n",
      "        for i in range(len(simseddata['Issaquah'][s])):\n",
      "            if (simseddata['Issaquah'][s][i] > 4000):\n",
      "                simseddata['Issaquah'][s] = simseddata[n][s]/2\n",
      "            elif (s == '2050'):\n",
      "                for i in range(len(simseddata['Issaquah'][s])):\n",
      "                    if (simseddata['Issaquah'][s][i] > 4000):\n",
      "                        simseddata['Issaquah'][s] = simseddata[n][s]/2\n",
      "            else:\n",
      "                for i in range(len(simseddata['Issaquah'][s])):\n",
      "                    if (simseddata['Issaquah'][s][i] > 2000):\n",
      "                        simseddata['Issaquah'][s] = simseddata[n][s]/2\n",
      "                        \n",
      "for i in range(len(simseddata['Issaquah']['2002'])):\n",
      "    if (simseddata['Issaquah']['2002'][i] > 4200):\n",
      "        simseddata['Issaquah']['2002'][i] = 4200\n",
      "    if (simseddata['Issaquah']['2050'][i] > 8400):\n",
      "        simseddata['Issaquah']['2050'][i] = 8400\n",
      "    if (simseddata['Issaquah']['PptRcp85'][i] > 7000):\n",
      "        simseddata['Issaquah']['PptRcp85'][i] = 7000\n",
      "    if (simseddata['Issaquah']['TairRcp85'][i] > 2400):\n",
      "        simseddata['Issaquah']['TairRcp85'][i] = 2400\n",
      "    if (simseddata['Issaquah']['TairRcp85'][i] > 1800):\n",
      "        simseddata['Issaquah']['TairRcp85'][i] = 1800\n",
      "    if (simseddata['Issaquah']['Combined'][i] > 10000):\n",
      "        simseddata['Issaquah']['TairRcp85'][i] = 10000"
     ],
     "language": "python",
     "metadata": {},
     "outputs": [
      {
       "ename": "KeyError",
       "evalue": "'PptRcp85'",
       "output_type": "pyerr",
       "traceback": [
        "\u001b[1;31m---------------------------------------------------------------------------\u001b[0m\n\u001b[1;31mKeyError\u001b[0m                                  Traceback (most recent call last)",
        "\u001b[1;32m<ipython-input-8-81c0c738fe56>\u001b[0m in \u001b[0;36m<module>\u001b[1;34m()\u001b[0m\n\u001b[0;32m     18\u001b[0m     \u001b[1;32mif\u001b[0m \u001b[1;33m(\u001b[0m\u001b[0msimseddata\u001b[0m\u001b[1;33m[\u001b[0m\u001b[1;34m'Issaquah'\u001b[0m\u001b[1;33m]\u001b[0m\u001b[1;33m[\u001b[0m\u001b[1;34m'2050'\u001b[0m\u001b[1;33m]\u001b[0m\u001b[1;33m[\u001b[0m\u001b[0mi\u001b[0m\u001b[1;33m]\u001b[0m \u001b[1;33m>\u001b[0m \u001b[1;36m8400\u001b[0m\u001b[1;33m)\u001b[0m\u001b[1;33m:\u001b[0m\u001b[1;33m\u001b[0m\u001b[0m\n\u001b[0;32m     19\u001b[0m         \u001b[0msimseddata\u001b[0m\u001b[1;33m[\u001b[0m\u001b[1;34m'Issaquah'\u001b[0m\u001b[1;33m]\u001b[0m\u001b[1;33m[\u001b[0m\u001b[1;34m'2050'\u001b[0m\u001b[1;33m]\u001b[0m\u001b[1;33m[\u001b[0m\u001b[0mi\u001b[0m\u001b[1;33m]\u001b[0m \u001b[1;33m=\u001b[0m \u001b[1;36m8400\u001b[0m\u001b[1;33m\u001b[0m\u001b[0m\n\u001b[1;32m---> 20\u001b[1;33m     \u001b[1;32mif\u001b[0m \u001b[1;33m(\u001b[0m\u001b[0msimseddata\u001b[0m\u001b[1;33m[\u001b[0m\u001b[1;34m'Issaquah'\u001b[0m\u001b[1;33m]\u001b[0m\u001b[1;33m[\u001b[0m\u001b[1;34m'PptRcp85'\u001b[0m\u001b[1;33m]\u001b[0m\u001b[1;33m[\u001b[0m\u001b[0mi\u001b[0m\u001b[1;33m]\u001b[0m \u001b[1;33m>\u001b[0m \u001b[1;36m7000\u001b[0m\u001b[1;33m)\u001b[0m\u001b[1;33m:\u001b[0m\u001b[1;33m\u001b[0m\u001b[0m\n\u001b[0m\u001b[0;32m     21\u001b[0m         \u001b[0msimseddata\u001b[0m\u001b[1;33m[\u001b[0m\u001b[1;34m'Issaquah'\u001b[0m\u001b[1;33m]\u001b[0m\u001b[1;33m[\u001b[0m\u001b[1;34m'PptRcp85'\u001b[0m\u001b[1;33m]\u001b[0m\u001b[1;33m[\u001b[0m\u001b[0mi\u001b[0m\u001b[1;33m]\u001b[0m \u001b[1;33m=\u001b[0m \u001b[1;36m7000\u001b[0m\u001b[1;33m\u001b[0m\u001b[0m\n\u001b[0;32m     22\u001b[0m     \u001b[1;32mif\u001b[0m \u001b[1;33m(\u001b[0m\u001b[0msimseddata\u001b[0m\u001b[1;33m[\u001b[0m\u001b[1;34m'Issaquah'\u001b[0m\u001b[1;33m]\u001b[0m\u001b[1;33m[\u001b[0m\u001b[1;34m'TairRcp85'\u001b[0m\u001b[1;33m]\u001b[0m\u001b[1;33m[\u001b[0m\u001b[0mi\u001b[0m\u001b[1;33m]\u001b[0m \u001b[1;33m>\u001b[0m \u001b[1;36m2400\u001b[0m\u001b[1;33m)\u001b[0m\u001b[1;33m:\u001b[0m\u001b[1;33m\u001b[0m\u001b[0m\n",
        "\u001b[1;31mKeyError\u001b[0m: 'PptRcp85'"
       ]
      }
     ],
     "prompt_number": 8
    },
    {
     "cell_type": "markdown",
     "metadata": {},
     "source": [
      "<font color='blue'>**Calculate the mean daily, month and annual load.**</font>"
     ]
    },
    {
     "cell_type": "code",
     "collapsed": false,
     "input": [
      "DailySedLoad = collections.defaultdict(dict)\n",
      "MonthlySedLoad = collections.defaultdict(dict)\n",
      "AnnualSedLoad = collections.defaultdict(dict)\n",
      "DailyColiformLoad = collections.defaultdict(dict)\n",
      "MonthlyColiformLoad = collections.defaultdict(dict)\n",
      "AnnualColiformLoad = collections.defaultdict(dict)\n",
      "DailyTPLoad = collections.defaultdict(dict)\n",
      "MonthlyTPLoad = collections.defaultdict(dict)\n",
      "AnnualTPLoad = collections.defaultdict(dict)\n",
      "DailyFlowRate = collections.defaultdict(dict)\n",
      "MonthlyFlowRate = collections.defaultdict(dict)\n",
      "AnnualFlowRate = collections.defaultdict(dict)\n",
      "DailyThermalLoad = collections.defaultdict(dict)\n",
      "AnnualThermalLoad = collections.defaultdict(dict)\n",
      "MonthlyThermalLoad = collections.defaultdict(dict)\n",
      "DailyTemp = collections.defaultdict(dict)\n",
      "MonthlyTemp = collections.defaultdict(dict)\n",
      "AnnualTemp = collections.defaultdict(dict)\n",
      "\n",
      "for i, n in enumerate(basin_name):\n",
      "    for j, s in enumerate(scenarios):\n",
      "        DailySedLoad[n][s] = pd.Series(simseddata[n][s]*simflowdata[n][s]/(10**6), index=simdates).resample('D', how='sum')\n",
      "        DailyColiformLoad[n][s] = pd.Series(simotherdata[n][s]*simflowdata[n][s]/(10**5), index=simdates).resample('D', how='sum')\n",
      "        DailyTPLoad[n][s] = pd.Series(simTPdata[n][s]*simflowdata[n][s]/(10**6), index=simdates).resample('D', how='sum')\n",
      "        DailyFlowRate[n][s] = pd.Series(simflowdata[n][s], index=simdates).resample('D', how='sum')/24/3600\n",
      "        DailyTemp[n][s] = pd.Series(simTEMPdata[n][s], index=junkdate[n][s]).resample('D', how='mean')"
     ],
     "language": "python",
     "metadata": {},
     "outputs": [],
     "prompt_number": 9
    },
    {
     "cell_type": "code",
     "collapsed": false,
     "input": [
      "# Truncate the data into desired time frame\n",
      "for i, n in enumerate(basin_name):\n",
      "    for j, s in enumerate(scenarios):\n",
      "        DailySedLoad[n][s] = DailySedLoad[n][s].truncate(before=startdate, after=enddate)\n",
      "        DailyColiformLoad[n][s] = DailyColiformLoad[n][s].truncate(before=startdate, after=enddate)\n",
      "        DailyTPLoad[n][s] = DailyTPLoad[n][s].truncate(before=startdate, after=enddate)\n",
      "        DailyFlowRate[n][s] = DailyFlowRate[n][s].truncate(before=startdate, after=enddate)\n",
      "        DailyTemp[n][s] = DailyTemp[n][s].truncate(before=startdate, after=enddate)"
     ],
     "language": "python",
     "metadata": {},
     "outputs": [],
     "prompt_number": 10
    },
    {
     "cell_type": "code",
     "collapsed": false,
     "input": [
      "for i, n in enumerate(basin_name):\n",
      "    for j, s in enumerate(scenarios):\n",
      "        MonthlySedLoad[n][s] = DailySedLoad[n][s].resample('M', how='sum')\n",
      "        MonthlyColiformLoad[n][s] = DailyColiformLoad[n][s].resample('M', how='sum')\n",
      "        MonthlyTPLoad[n][s] = DailyTPLoad[n][s].resample('M', how='sum')\n",
      "        MonthlyFlowRate[n][s] = DailyFlowRate[n][s].resample('M', how='mean') #mean monthly streamflow\n",
      "        MonthlyTemp[n][s] = DailyTemp[n][s].resample('M', how='mean')\n",
      "        \n",
      "for i, n in enumerate(basin_name):\n",
      "    for j, s in enumerate(scenarios):\n",
      "        AnnualSedLoad[n][s] = DailySedLoad[n][s].resample('A', how='sum')\n",
      "        AnnualColiformLoad[n][s] = DailyColiformLoad[n][s].resample('A', how='sum')\n",
      "        AnnualTPLoad[n][s] = DailyTPLoad[n][s].resample('A', how='sum')\n",
      "        AnnualFlowRate[n][s] = DailyFlowRate[n][s].resample('A', how='mean')\n",
      "        AnnualTemp[n][s] = DailyTemp[n][s].resample('A', how='mean')"
     ],
     "language": "python",
     "metadata": {},
     "outputs": [],
     "prompt_number": 11
    },
    {
     "cell_type": "markdown",
     "metadata": {},
     "source": [
      "<font color='blue'>Calculate Pearson-r between **monthly flow rate** and **monthly load**</font>"
     ]
    },
    {
     "cell_type": "code",
     "collapsed": false,
     "input": [
      "for i, n in enumerate(basin_name):\n",
      "    str(n)\n",
      "    for j, s in enumerate(scenarios):\n",
      "        r_value, p_value = stats.pearsonr(MonthlySedLoad[n][s], MonthlyFlowRate[n][s])\n",
      "        print str(s), r_value"
     ],
     "language": "python",
     "metadata": {},
     "outputs": [
      {
       "output_type": "stream",
       "stream": "stdout",
       "text": [
        "2002 0.592728609785\n",
        "2050 0.629197492666\n",
        "2002 0.667619404214\n",
        "2050 0.556276471098\n",
        "2002 0.581462131791\n",
        "2050 0.636809997699\n"
       ]
      }
     ],
     "prompt_number": 12
    },
    {
     "cell_type": "code",
     "collapsed": false,
     "input": [
      "for i, n in enumerate(basin_name):\n",
      "    str(n)\n",
      "    for j, s in enumerate(scenarios):\n",
      "        r_value, p_value = stats.pearsonr(MonthlyTPLoad[n][s], MonthlyFlowRate[n][s])\n",
      "        print str(s), r_value"
     ],
     "language": "python",
     "metadata": {},
     "outputs": [
      {
       "output_type": "stream",
       "stream": "stdout",
       "text": [
        "2002 0.964677885209\n",
        "2050 0.8594737433\n",
        "2002 0.937004148015\n",
        "2050 0.765245701017\n",
        "2002 0.654306058763\n",
        "2050 0.656962059333\n"
       ]
      }
     ],
     "prompt_number": 13
    },
    {
     "cell_type": "markdown",
     "metadata": {},
     "source": [
      "<font color='blue'>Calculate Pearson-r between **monthly TP load** and **monthly TSS load**</font>"
     ]
    },
    {
     "cell_type": "code",
     "collapsed": false,
     "input": [
      "for i, n in enumerate(basin_name):\n",
      "    print \"\\n\",str(n)\n",
      "    for j, s in enumerate(scenarios):\n",
      "        r_value, p_value = stats.pearsonr(MonthlySedLoad[n][s], MonthlyTPLoad[n][s])\n",
      "        print str(s), r_value"
     ],
     "language": "python",
     "metadata": {},
     "outputs": [
      {
       "output_type": "stream",
       "stream": "stdout",
       "text": [
        "\n",
        "Thornton\n",
        "2002 0.772584805501\n",
        "2050 0.936896763342\n",
        "\n",
        "Mercer\n",
        "2002 0.813401751465\n",
        "2050 0.948264362814\n",
        "\n",
        "Issaquah\n",
        "2002 0.954355593394\n",
        "2050 0.970616745425\n"
       ]
      }
     ],
     "prompt_number": 14
    },
    {
     "cell_type": "markdown",
     "metadata": {},
     "source": [
      "<font color='blue'>**Calculate Annual avg. Water Temperature.**</font>"
     ]
    },
    {
     "cell_type": "code",
     "collapsed": false,
     "input": [
      "fig=plt.figure(figsize=(6,9),dpi=400)\n",
      "for i, n in enumerate(basin_name):\n",
      "    ax = plt.subplot(3, 1, i+1)\n",
      "    fig.subplots_adjust(hspace=0.3, wspace=0.1, bottom=0.2)\n",
      "    props = dict(boxstyle='round', facecolor='wheat', alpha=0.5)\n",
      "    plt.text(0.99, 0.01, str(n), color='blue', transform=ax.transAxes, verticalalignment='bottom', horizontalalignment='right')\n",
      "    for (j, s), c, t, l in zip(enumerate(scenarios), colors, strings, linestyles):\n",
      "        AnnualTemp[n][s].plot(color=c, label=str(t), linewidth=3.0, linestyle=l)\n",
      "    plt.ylabel('Temperature ($^\\circ$C)', fontsize=12.)\n",
      "    if (i == 2):\n",
      "        plt.xlabel('year', fontsize=12.)\n",
      "    grid(True)\n",
      "    if (i == 0):\n",
      "        leg=ax.legend(fancybox=True, loc=9, ncol=1, bbox_to_anchor=(0.8, 1.))\n",
      "        leg.get_frame().set_alpha(0.5)\n",
      "outputfile = str(outputfilepath)+'\\\\Scenarios-Annual-Mean-Temperature.png'    \n",
      "#savefig(str(outputfile),dpi=500,format = 'png',transparent='True')"
     ],
     "language": "python",
     "metadata": {},
     "outputs": []
    },
    {
     "cell_type": "markdown",
     "metadata": {},
     "source": [
      "<font color='blue'>**Calculate monthly avg. thermal load.**</font>"
     ]
    },
    {
     "cell_type": "code",
     "collapsed": false,
     "input": [
      "Cp = 4180 # specific heat capacity of water (unit: J/(kg*K))\n",
      "P = 1000  # water density (kg/m^3)\n",
      "\n",
      "# mean monthly temperature in Lake Washington\n",
      "MonthlyTempLake = pd.Series([7.7, 7.26, 8.06, 10.36, 15.14, 17.18, 19.97, 21.52, 19.42, 16.07, 12.25, 9.33], index=range(1, 13))\n",
      "#print MonthlyTempLake"
     ],
     "language": "python",
     "metadata": {},
     "outputs": [],
     "prompt_number": 15
    },
    {
     "cell_type": "code",
     "collapsed": false,
     "input": [
      "print pow(2, 3)\n",
      "monthSed = collections.defaultdict(dict)\n",
      "monthColiform = collections.defaultdict(dict)\n",
      "monthTP = collections.defaultdict(dict)\n",
      "monthFlow = collections.defaultdict(dict)\n",
      "monthWAvgTemp = collections.defaultdict(dict)\n",
      "MonthThermalLoad = collections.defaultdict(dict)\n",
      "\n",
      "for i, n in enumerate(basin_name):\n",
      "    for j, s in enumerate(scenarios):\n",
      "        monthSed[n][s] = MonthlySedLoad[n][s].groupby(lambda x: x.month).mean()\n",
      "        monthColiform[n][s] = MonthlyColiformLoad[n][s].groupby(lambda x: x.month).mean()\n",
      "        monthTP[n][s] = MonthlyTPLoad[n][s].groupby(lambda x: x.month).mean()\n",
      "        monthFlow[n][s] = MonthlyFlowRate[n][s].groupby(lambda x: x.month).mean()\n",
      "        \n",
      "        #average monthly temperature\n",
      "        monthWAvgTemp[n][s] = MonthlyTemp[n][s].groupby(lambda x: x.month).mean()\n",
      "        # monthly thermal contribution to lake washington (in MW - megawatt)\n",
      "        MonthThermalLoad[n][s] = Cp*P*monthFlow[n][s]*(monthWAvgTemp[n][s]-MonthlyTempLake)/pow(10, 6)"
     ],
     "language": "python",
     "metadata": {},
     "outputs": [
      {
       "output_type": "stream",
       "stream": "stdout",
       "text": [
        "8\n"
       ]
      }
     ],
     "prompt_number": 16
    },
    {
     "cell_type": "code",
     "collapsed": false,
     "input": [
      "# Reorganize the data set to conform to the wateryear (ie. Oct-Sep)\n",
      "for i, n in enumerate(basin_name):\n",
      "    for j, s in enumerate(scenarios):\n",
      "        monthSed[n][s] = monthSed[n][s][9:].append(monthSed[n][s][:9])\n",
      "        monthColiform[n][s] = monthColiform[n][s][9:].append(monthColiform[n][s][:9])\n",
      "        monthTP[n][s] = monthTP[n][s][9:].append(monthTP[n][s][:9])\n",
      "        monthFlow[n][s] = monthFlow[n][s][9:].append(monthFlow[n][s][:9])"
     ],
     "language": "python",
     "metadata": {},
     "outputs": [],
     "prompt_number": 17
    },
    {
     "cell_type": "markdown",
     "metadata": {},
     "source": [
      "<font color='blue'>**Calculate mean monthly Temperature.**</font>"
     ]
    },
    {
     "cell_type": "code",
     "collapsed": false,
     "input": [
      "fig=plt.figure(figsize=(6,9),dpi=400)\n",
      "for i, n in enumerate(basin_name):\n",
      "    ax = plt.subplot(3, 1, i+1)\n",
      "    fig.subplots_adjust(hspace = 0.3, wspace = 0.1)\n",
      "    props = dict(boxstyle='round', facecolor='wheat', alpha=0.5)\n",
      "    ax.text(.02,.9, str(n), color='blue',fontsize=12, horizontalalignment='left', transform=ax.transAxes)\n",
      "    for (j, s), c, t, l in zip(enumerate(scenarios), colors, strings, linestyles):\n",
      "        plt.plot(range(1, 13), monthWAvgTemp[n][s].values, color=c, label=str(t), linewidth=3.0, linestyle=l)\n",
      "    if (n == 'Issaquah'):\n",
      "        plt.ylabel('Temperature ($^\\circ$C)', fontsize=12.)\n",
      "    else:\n",
      "        plt.ylabel('Temperature ($^\\circ$C)', fontsize=12.)\n",
      "    if (i == 2):\n",
      "        plt.xlabel('month', fontsize=12.)\n",
      "    plt.xlim([1,12])\n",
      "    plt.ylim([1,18])\n",
      "    ax.xaxis.set_major_locator(ticker.FixedLocator(np.arange(1,13)))\n",
      "    ax.xaxis.set_major_formatter(ticker.FixedFormatter(['Jan','Feb','Mar','Apr','May','Jun','Jul','Aug','Sep','Oct','Nov','Dec']))\n",
      "    grid(False)\n",
      "    if (i == 0):\n",
      "        leg=ax.legend(fancybox=True, loc=9, ncol=1, bbox_to_anchor=(0.83, 1.02))\n",
      "        leg.get_frame().set_alpha(0.5)\n",
      "\n",
      "outputfile = str(outputfilepath)+'Scenarios-Mean-Avg-WTemp.png'    \n",
      "savefig(str(outputfile),dpi=500,format = 'png',transparent='True')"
     ],
     "language": "python",
     "metadata": {},
     "outputs": []
    },
    {
     "cell_type": "markdown",
     "metadata": {},
     "source": [
      "<font color='blue'>**Plot the mean monthly thermal load**</font>"
     ]
    },
    {
     "cell_type": "code",
     "collapsed": false,
     "input": [
      "fig=plt.figure(figsize=(6,9),dpi=400)\n",
      "for i, n in enumerate(basin_name):\n",
      "    ax = plt.subplot(3, 1, i+1)\n",
      "    fig.subplots_adjust(hspace = 0.3, wspace = 0.1)\n",
      "    props = dict(boxstyle='round', facecolor='wheat', alpha=0.5)\n",
      "    ax.text(.02,.02, str(n), color='blue',fontsize=12, horizontalalignment='left', transform=ax.transAxes)\n",
      "    for (j, s), c, t, l in zip(enumerate(scenarios), colors, strings, linestyles):\n",
      "        plt.plot(range(1, 13), MonthThermalLoad[n][s].values, color=c, label=str(t), linewidth=3.0, linestyle=l)\n",
      "    plt.ylabel('Load ($MW$)', fontsize=12.)\n",
      "    if (i == 2):\n",
      "        plt.xlabel('month', fontsize=12.)\n",
      "    plt.xlim([1,12])\n",
      "    if (n == 'Thornton'):\n",
      "        plt.ylim([-12,6])\n",
      "    if (n == 'Mercer'):\n",
      "        plt.ylim([-40,10])\n",
      "    ax.xaxis.set_major_locator(ticker.FixedLocator(np.arange(1,13)))\n",
      "    ax.xaxis.set_major_formatter(ticker.FixedFormatter(['Jan','Feb','Mar','Apr','May','Jun','Jul','Aug','Sep','Oct','Nov','Dec']))\n",
      "    grid(False)\n",
      "    if (i == 0):\n",
      "        leg=ax.legend(fancybox=True, loc=9, ncol=2, bbox_to_anchor=(0.65, 1.18))\n",
      "        leg.get_frame().set_alpha(0.5)\n",
      "\n",
      "outputfilepath = 'D:\\\\Box Sync\\\\WQ-PAPER\\\\Figures\\\\'\n",
      "outputfile = str(outputfilepath)+'Scenarios-Mean--Avg-ThermLoad.png'    \n",
      "#savefig(str(outputfile),dpi=500,format = 'png',transparent='True')"
     ],
     "language": "python",
     "metadata": {},
     "outputs": []
    },
    {
     "cell_type": "markdown",
     "metadata": {},
     "source": [
      "<font color='blue'>Calculate the percentage change in monthly thermal load comparing to the baseline condition </font>"
     ]
    },
    {
     "cell_type": "code",
     "collapsed": false,
     "input": [
      "r = collections.defaultdict(dict)\n",
      "for i, n in enumerate(basin_name):\n",
      "    for j, s in enumerate(scenarios):\n",
      "        if (s != '2002'):\n",
      "            r[n][s] = (MonthThermalLoad[n][s].values-MonthThermalLoad[n]['2002'].values)/MonthThermalLoad[n]['2002'].values"
     ],
     "language": "python",
     "metadata": {},
     "outputs": []
    },
    {
     "cell_type": "code",
     "collapsed": false,
     "input": [
      "for i, n in enumerate(basin_name):\n",
      "    print \"\\n\", str(n)\n",
      "    for j, s in enumerate(scenarios):\n",
      "        if (s != '2002'):\n",
      "            print str(s)\n",
      "            print r[n][s]"
     ],
     "language": "python",
     "metadata": {},
     "outputs": []
    },
    {
     "cell_type": "code",
     "collapsed": false,
     "input": [
      "scenarios_new = ['2050', 'TairRcp45', 'TairRcp85', 'PptRcp85', 'Combined']\n",
      "colors_new = ['r', '#7cfc00', '#228b22', '#daa520', '#0000ff'] \n",
      "strings_new = ['LC2050', 'RCP4.5(T))', 'RCP8.5(T))', 'RCP8.5(P))', 'Combined']\n",
      "\n",
      "# set spacing between grouped bar plots\n",
      "margin = 0.20\n",
      "bar_width = float((1.-margin)/(len(scenarios)))\n",
      "print bar_width\n",
      "\n",
      "fig=plt.figure(figsize=(12,8),dpi=400)\n",
      "for i, n in enumerate(basin_name):\n",
      "    ax = plt.subplot(3, 1, i+1)\n",
      "    pp = range(1, 13)\n",
      "    qq = [0] * 12\n",
      "    ax.plot(pp, qq, color='black')\n",
      "    fig.subplots_adjust(hspace = 0.3, wspace = 0.1)\n",
      "    props = dict(boxstyle='round', facecolor='wheat', alpha=0.5)\n",
      "    ax.text(.02,.02, str(n), color='blue',fontsize=12, horizontalalignment='left', transform=ax.transAxes)\n",
      "    for (j, s), c, t, l in zip(enumerate(scenarios_new), colors_new, strings_new, linestyles):\n",
      "        plt.bar(np.arange(1+j*bar_width, 13+j*bar_width), r[n][s], bar_width, alpha=0.8, color=c,label=str(t))\n",
      "    plt.ylabel('Load ($MW$)', fontsize=12.)\n",
      "    if (i == 2):\n",
      "        plt.xlabel('month', fontsize=12.)\n",
      "    plt.xlim([1,12.68])\n",
      "    if (n == 'Thornton'):\n",
      "        plt.ylim([-6,6])\n",
      "    if (n == 'Mercer'):\n",
      "        plt.ylim([-18, 18])\n",
      "    if (n == 'Issaquah'):\n",
      "        plt.ylim([-60, 60])\n",
      "    ax.xaxis.set_major_locator(ticker.FixedLocator(np.arange(1.333,13.333)))\n",
      "    ax.xaxis.set_major_formatter(ticker.FixedFormatter(['Jan','Feb','Mar','Apr','May','Jun','Jul','Aug','Sep','Oct','Nov','Dec']))\n",
      "    grid(False)\n",
      "    if (i == 0):\n",
      "        leg=ax.legend(fancybox=True, loc=9, ncol=3, bbox_to_anchor=(0.65, 1.19))\n",
      "        leg.get_frame().set_alpha(0.5)\n",
      "\n",
      "outputfilepath = 'D:\\\\Box Sync\\\\WQ-PAPER\\\\Figures\\\\'\n",
      "outputfile = str(outputfilepath)+'Scenarios-Mean--Avg-ThermLoad2.png'    \n",
      "savefig(str(outputfile),dpi=500,format = 'png',transparent='True')"
     ],
     "language": "python",
     "metadata": {},
     "outputs": []
    },
    {
     "cell_type": "markdown",
     "metadata": {},
     "source": [
      "<font color='blue'>**Calculate monthly total SEDIMENT.**</font>"
     ]
    },
    {
     "cell_type": "code",
     "collapsed": false,
     "input": [
      "fig=plt.figure(figsize=(6,10),dpi=400)\n",
      "\n",
      "for i, n in enumerate(basin_name):\n",
      "    ax = plt.subplot(3, 1, i+1)\n",
      "    fig.subplots_adjust(hspace=0.3, wspace=0.1, bottom=0.2)\n",
      "    props = dict(boxstyle='round', facecolor='wheat', alpha=0.5)\n",
      "    ax.text(.02,.9, str(n), color='blue',fontsize=12, horizontalalignment='left', transform=ax.transAxes)\n",
      "    for (j, s), c, t, l in zip(enumerate(scenarios), colors, strings, linestyles):\n",
      "        plt.plot(range(1, 13), monthSed[n][s].values, color=c, label=str(t), linewidth=3.0, linestyle=l)\n",
      "        #unit: Mega Gram\n",
      "        plt.ylabel('load ($Mg$)', fontsize=12.)\n",
      "        if (i == 2):\n",
      "            plt.xlabel('month', fontsize=12.)\n",
      "            plt.xlim([1,12])\n",
      "            if (n == 'Issaquah'):\n",
      "                plt.ylim([0, 6000])\n",
      "            else:\n",
      "                plt.ylim([0, 50])\n",
      "        ax.xaxis.set_major_locator(ticker.FixedLocator(np.arange(1,13)))\n",
      "        ax.xaxis.set_major_formatter(ticker.FixedFormatter(['Oct','Nov','Dec','Jan','Feb','Mar','Apr','May','Jun','Jul','Aug','Sep']))\n",
      "        if (i == 0):\n",
      "            #leg = ax.legend(fancybox=True, loc=9, bbox_to_anchor=(0.83, 1.01))\n",
      "            leg = ax.legend(fancybox=True, loc=9, ncol=2, bbox_to_anchor=(0.65, 1.03))\n",
      "            leg.get_frame().set_alpha(0.5)\n",
      "\n",
      "output = str(outputfilepath) + 'Scenarios-Monthly-SedLoad.png'    \n",
      "#savefig(str(output),dpi=500,format = 'png',transparent='True')"
     ],
     "language": "python",
     "metadata": {},
     "outputs": [
      {
       "metadata": {},
       "output_type": "display_data",
       "png": "[encoded data removed]",
       "text": [
        "<matplotlib.figure.Figure at 0x15f2c2e8>"
       ]
      }
     ],
     "prompt_number": 18
    },
    {
     "cell_type": "code",
     "collapsed": false,
     "input": [
      "r = collections.defaultdict(dict)\n",
      "qq =0 \n",
      "fig=plt.figure(figsize=(24,10),dpi=400)\n",
      "for i, n in enumerate(basin_name):\n",
      "    for j, s in enumerate(scenarios):\n",
      "        qq+=1\n",
      "        r_value, p_value = stats.pearsonr(monthFlow[n][s], monthSed[n][s])\n",
      "        r[n][s] = r_value\n",
      "        ax = plt.subplot(len(basin_name), len(scenarios),  qq)\n",
      "        props = dict(boxstyle='round', facecolor='wheat', alpha=0.5)\n",
      "        ax.text(.98,.1, str(n), color='black', fontsize=12, horizontalalignment='right', transform=ax.transAxes)  \n",
      "        ax.text(.98,.02, '--'+str(s), color='black', fontsize=12, horizontalalignment='right', transform=ax.transAxes)  \n",
      "        textstr1 = '$r = %.2f$' % r[n][s]\n",
      "        ax.text(0.9, 0.9, textstr1, fontsize=14, transform=ax.transAxes, horizontalalignment='right', verticalalignment='top', bbox=props)\n",
      "        ax.scatter(monthFlow[n][s], monthSed[n][s])"
     ],
     "language": "python",
     "metadata": {},
     "outputs": []
    },
    {
     "cell_type": "markdown",
     "metadata": {},
     "source": [
      "<font color='blue'>**Calculate monthly total PHOSPHOROUS.**</font>"
     ]
    },
    {
     "cell_type": "code",
     "collapsed": false,
     "input": [
      "fig=plt.figure(figsize=(6,10),dpi=400)\n",
      "for i, n in enumerate(basin_name):\n",
      "    ax = plt.subplot(3, 1, i+1)\n",
      "    fig.subplots_adjust(hspace = 0.3, wspace = 0.1, bottom=0.2)\n",
      "    props = dict(boxstyle='round', facecolor='wheat', alpha=0.5)\n",
      "    ax.text(.02,.9, str(n), color='blue',fontsize=12, horizontalalignment='left', transform=ax.transAxes)\n",
      "    for (j, s), c, t, l in zip(enumerate(scenarios), colors, strings, linestyles):\n",
      "        plt.plot(range(1, 13), monthTP[n][s].values, color=c, label=str(t), linewidth=3.0, linestyle=l)\n",
      "        plt.ylabel('load. ($Mg$)', fontsize=12.)\n",
      "        if (i == 2):\n",
      "            plt.xlabel('month', fontsize=12.)\n",
      "            plt.xlim([1,12])\n",
      "        if (n == 'Thornton'):\n",
      "            plt.ylim([0, 0.2])\n",
      "        ax.xaxis.set_major_locator(ticker.FixedLocator(np.arange(1,13)))\n",
      "        ax.xaxis.set_major_formatter(ticker.FixedFormatter(['Oct','Nov','Dec','Jan','Feb','Mar','Apr','May','Jun','Jul','Aug','Sep']))\n",
      "        #grid(True)\n",
      "        if (i == 0):\n",
      "            leg = ax.legend(fancybox=True, loc=9, ncol=2, bbox_to_anchor=(0.65, 1.03))\n",
      "            leg.get_frame().set_alpha(0.5)\n",
      "\n",
      "output = str(outputfilepath) + 'Scenarios-Monthly-TP.png'   \n",
      "#savefig(str(output),dpi=500,format = 'png',transparent='True')\"\n"
     ],
     "language": "python",
     "metadata": {},
     "outputs": [
      {
       "metadata": {},
       "output_type": "display_data",
       "png": "[encoded data removed]",
       "text": [
        "<matplotlib.figure.Figure at 0x16f70588>"
       ]
      }
     ],
     "prompt_number": 19
    },
    {
     "cell_type": "code",
     "collapsed": false,
     "input": [
      "r = collections.defaultdict(dict)\n",
      "qq =0 \n",
      "fig=plt.figure(figsize=(24,10),dpi=400)\n",
      "for i, n in enumerate(basin_name):\n",
      "    for j, s in enumerate(scenarios):\n",
      "        qq+=1\n",
      "        r_value, p_value = stats.pearsonr(monthFlow[n][s], monthTP[n][s])\n",
      "        r[n][s] = r_value\n",
      "        ax = plt.subplot(len(basin_name), len(scenarios),  qq)\n",
      "        props = dict(boxstyle='round', facecolor='wheat', alpha=0.5)\n",
      "        ax.text(.98,.1, str(n), color='black', fontsize=12, horizontalalignment='right', transform=ax.transAxes)  \n",
      "        ax.text(.98,.02, '--'+str(s), color='black', fontsize=12, horizontalalignment='right', transform=ax.transAxes)  \n",
      "        textstr1 = '$r = %.2f$' % r[n][s]\n",
      "        ax.text(0.9, 0.9, textstr1, fontsize=14, transform=ax.transAxes, horizontalalignment='right', verticalalignment='top', bbox=props)\n",
      "        ax.scatter(monthFlow[n][s], monthTP[n][s])"
     ],
     "language": "python",
     "metadata": {},
     "outputs": []
    },
    {
     "cell_type": "markdown",
     "metadata": {},
     "source": [
      "<font color='blue'>**Calculate the relative change in total annual loads**</font>"
     ]
    },
    {
     "cell_type": "code",
     "collapsed": false,
     "input": [
      "for i, n in enumerate(basin_name):\n",
      "    print \"\\n\", str(n)\n",
      "    for j, s in enumerate(scenarios):\n",
      "        print str(s)\n",
      "        pcnt=(AnnualTPLoad[n][s].sum()-AnnualTPLoad[n]['2002'].sum())/AnnualTPLoad[n]['2002'].sum()*100 \n",
      "        print \" %.2f%%\\n\" % pcnt\n",
      "        #AnnualColiformLoad[n][s] \n",
      "        #AnnualTPLoad[n][s]"
     ],
     "language": "python",
     "metadata": {},
     "outputs": [
      {
       "output_type": "stream",
       "stream": "stdout",
       "text": [
        "\n",
        "Thornton\n",
        "2002\n",
        " 0.00%\n",
        "\n",
        "2050\n",
        " 64.48%\n",
        "\n",
        "TairRcp45\n",
        " -3.66%\n",
        "\n",
        "TairRcp85\n",
        " -5.26%\n",
        "\n",
        "PptRcp85\n",
        " 9.06%\n",
        "\n",
        "Combined\n",
        " 60.66%\n",
        "\n",
        "\n",
        "Mercer\n",
        "2002\n",
        " 0.00%\n",
        "\n",
        "2050\n",
        " 67.61%\n",
        "\n",
        "TairRcp45\n",
        " -2.89%\n",
        "\n",
        "TairRcp85\n",
        " -4.20%\n",
        "\n",
        "PptRcp85\n",
        " 4.77%\n",
        "\n",
        "Combined\n",
        " 60.54%\n",
        "\n",
        "\n",
        "Issaquah\n",
        "2002\n",
        " 0.00%\n",
        "\n",
        "2050\n",
        " 431.88%\n",
        "\n",
        "TairRcp45\n",
        " -18.60%\n",
        "\n",
        "TairRcp85\n",
        " -25.54%\n",
        "\n",
        "PptRcp85\n",
        " 66.60%\n",
        "\n",
        "Combined\n",
        " 517.31%\n",
        "\n"
       ]
      }
     ],
     "prompt_number": 12
    },
    {
     "cell_type": "code",
     "collapsed": false,
     "input": [
      "for i, n in enumerate(basin_name):\n",
      "    print \"\\n\", str(n)\n",
      "    for j, s in enumerate(scenarios):\n",
      "        print str(s)\n",
      "        print monthSed[n][s]\n",
      "        #pcnt=(MonthThermalLoad[n][s].sum()-MonthThermalLoad[n]['2002'].sum())/MonthThermalLoad[n]['2002'].sum()*100\n",
      "        #print \" %.2f%%\\n\" % pcnt"
     ],
     "language": "python",
     "metadata": {},
     "outputs": [
      {
       "output_type": "stream",
       "stream": "stdout",
       "text": [
        "\n",
        "Thornton\n",
        "2002\n",
        "10     6.909677\n",
        "11    14.718658\n",
        "12     7.461211\n",
        "1     12.626049\n",
        "2      6.085895\n",
        "3      6.064963\n",
        "4      3.933165\n",
        "5      4.467896\n",
        "6      5.191274\n",
        "7      0.963946\n",
        "8      3.430053\n",
        "9      3.703197\n",
        "dtype: float64\n",
        "2050\n",
        "10    24.614285\n",
        "11    36.545765\n",
        "12    19.346191\n",
        "1     32.173531\n",
        "2     17.961790\n",
        "3     18.775130\n",
        "4     13.016293\n",
        "5     15.348589\n",
        "6     18.554789\n",
        "7      4.206829\n",
        "8     11.748242\n",
        "9     15.620756\n",
        "dtype: float64\n",
        "\n",
        "Mercer\n",
        "2002\n",
        "10    11.479696\n",
        "11    14.907262\n",
        "12    12.229437\n",
        "1     15.890596\n",
        "2     11.503695\n",
        "3     12.092596\n",
        "4     10.534382\n",
        "5      8.422595\n",
        "6      9.021782\n",
        "7      4.572486\n",
        "8      4.989468\n",
        "9      7.293389\n",
        "dtype: float64\n",
        "2050\n",
        "10    34.287688\n",
        "11    39.029966\n",
        "12    30.972712\n",
        "1     39.520460\n",
        "2     30.339083\n",
        "3     33.305802\n",
        "4     31.614742\n",
        "5     25.479610\n",
        "6     27.653009\n",
        "7     15.196042\n",
        "8     15.724658\n",
        "9     22.594437\n",
        "dtype: float64\n",
        "\n",
        "Issaquah\n",
        "2002\n",
        "10       46.871647\n",
        "11    11904.671992\n",
        "12     4121.571415\n",
        "1      5725.887386\n",
        "2     10908.061915\n",
        "3      1445.236180\n",
        "4       906.432237\n",
        "5        29.849780\n",
        "6        13.364818\n",
        "7         5.739719\n",
        "8         6.804608\n",
        "9         6.935498\n",
        "dtype: float64\n",
        "2050\n",
        "10      475.419143\n",
        "11    27305.000032\n",
        "12     9944.978009\n",
        "1     12347.388244\n",
        "2     23727.971362\n",
        "3      5634.985647\n",
        "4      2909.899488\n",
        "5       174.641694\n",
        "6       108.797351\n",
        "7        32.459344\n",
        "8        53.492031\n",
        "9        47.560684\n",
        "dtype: float64\n"
       ]
      }
     ],
     "prompt_number": 20
    },
    {
     "cell_type": "code",
     "collapsed": false,
     "input": [
      "for i, n in enumerate(basin_name):\n",
      "    print \"\\n\", str(n)\n",
      "    for j, s in enumerate(scenarios):\n",
      "        print str(s)\n",
      "        print monthTP[n][s]"
     ],
     "language": "python",
     "metadata": {},
     "outputs": [
      {
       "output_type": "stream",
       "stream": "stdout",
       "text": [
        "\n",
        "Thornton\n",
        "2002\n",
        "10    0.030726\n",
        "11    0.084539\n",
        "12    0.082606\n",
        "1     0.102088\n",
        "2     0.070365\n",
        "3     0.064813\n",
        "4     0.043537\n",
        "5     0.032663\n",
        "6     0.027811\n",
        "7     0.009561\n",
        "8     0.014385\n",
        "9     0.015802\n",
        "dtype: float64\n",
        "2050\n",
        "10    0.087683\n",
        "11    0.154071\n",
        "12    0.101951\n",
        "1     0.138231\n",
        "2     0.083531\n",
        "3     0.086744\n",
        "4     0.062174\n",
        "5     0.060307\n",
        "6     0.066567\n",
        "7     0.019136\n",
        "8     0.039311\n",
        "9     0.052458\n",
        "dtype: float64\n",
        "\n",
        "Mercer\n",
        "2002\n",
        "10    0.076835\n",
        "11    0.132529\n",
        "12    0.156002\n",
        "1     0.189625\n",
        "2     0.150109\n",
        "3     0.152492\n",
        "4     0.120563\n",
        "5     0.091287\n",
        "6     0.079386\n",
        "7     0.045178\n",
        "8     0.040782\n",
        "9     0.049427\n",
        "dtype: float64\n",
        "2050\n",
        "10    0.189398\n",
        "11    0.245351\n",
        "12    0.221363\n",
        "1     0.266964\n",
        "2     0.204397\n",
        "3     0.219902\n",
        "4     0.196186\n",
        "5     0.154630\n",
        "6     0.157211\n",
        "7     0.088346\n",
        "8     0.087478\n",
        "9     0.121289\n",
        "dtype: float64\n",
        "\n",
        "Issaquah\n",
        "2002\n",
        "10    0.178765\n",
        "11    2.666252\n",
        "12    2.181797\n",
        "1     2.939286\n",
        "2     3.512883\n",
        "3     0.880557\n",
        "4     0.397211\n",
        "5     0.213454\n",
        "6     0.148348\n",
        "7     0.068611\n",
        "8     0.064581\n",
        "9     0.070452\n",
        "dtype: float64\n",
        "2050\n",
        "10     1.332395\n",
        "11    18.128578\n",
        "12    10.647939\n",
        "1     14.567412\n",
        "2     18.594619\n",
        "3      3.762103\n",
        "4      1.412493\n",
        "5      0.682451\n",
        "6      0.629373\n",
        "7      0.289617\n",
        "8      0.407325\n",
        "9      0.403870\n",
        "dtype: float64\n"
       ]
      }
     ],
     "prompt_number": 21
    }
   ],
   "metadata": {}
  }
 ]
}