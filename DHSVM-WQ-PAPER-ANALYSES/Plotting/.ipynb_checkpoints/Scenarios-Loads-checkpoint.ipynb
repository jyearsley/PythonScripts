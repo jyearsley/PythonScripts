{
 "metadata": {
  "name": "",
  "signature": "sha256:46da4f8010db36c54a0b96d4ea98b931b3c939ed9f333be3dffa0e2cf64f2dab"
 },
 "nbformat": 3,
 "nbformat_minor": 0,
 "worksheets": [
  {
   "cells": [
    {
     "cell_type": "markdown",
     "metadata": {},
     "source": [
      "###This notebook includes Python tools for plotting the hydrology and water quality changes under all scenarios."
     ]
    },
    {
     "cell_type": "code",
     "collapsed": false,
     "input": [
      "%pylab inline"
     ],
     "language": "python",
     "metadata": {},
     "outputs": [
      {
       "output_type": "stream",
       "stream": "stdout",
       "text": [
        "Populating the interactive namespace from numpy and matplotlib\n"
       ]
      },
      {
       "output_type": "stream",
       "stream": "stderr",
       "text": [
        "WARNING: pylab import has clobbered these variables: ['norm', 'colors']\n",
        "`%matplotlib` prevents importing * from pylab and numpy\n"
       ]
      }
     ],
     "prompt_number": 89
    },
    {
     "cell_type": "markdown",
     "metadata": {},
     "source": [
      "<font color='blue'>**First, import all necessary libraries.**</font>"
     ]
    },
    {
     "cell_type": "code",
     "collapsed": false,
     "input": [
      "# Import all needed libraries \n",
      "import sys, os, datetime, time\n",
      "import collections\n",
      "import numpy as np\n",
      "import pandas as pd\n",
      "import numpy.ma as ma\n",
      "import math\n",
      "import matplotlib.dates as dates\n",
      "import matplotlib.ticker as ticker\n",
      "import matplotlib.pyplot as plt\n",
      "from matplotlib.backends.backend_pdf import PdfPages\n",
      "from scipy.stats import norm\n",
      "from scipy import stats\n",
      "\n",
      "import os\n",
      "os.getcwd() \n",
      "os.chdir(\"D:\\\\Dropbox\\\\Python_Scripts\")\n",
      "os.getcwd()"
     ],
     "language": "python",
     "metadata": {},
     "outputs": [
      {
       "metadata": {},
       "output_type": "pyout",
       "prompt_number": 90,
       "text": [
        "'D:\\\\Dropbox\\\\Python_Scripts'"
       ]
      }
     ],
     "prompt_number": 90
    },
    {
     "cell_type": "markdown",
     "metadata": {},
     "source": [
      "<font color='blue'>**Edit the figure properties**</font> "
     ]
    },
    {
     "cell_type": "code",
     "collapsed": false,
     "input": [
      "import matplotlib as mpl\n",
      "mpl.rcParams['lines.linewidth'] = 2\n",
      "font = {'family' : 'sans-serif',\n",
      "        'sans-serif' : 'Verdana',\n",
      "        'weight' : 'medium',\n",
      "        'size'   : '12'}\n",
      "params1 = {\n",
      "          'axes.labelsize': 12,\n",
      "          'text.fontsize': 12,\n",
      "          'xtick.labelsize': 12,\n",
      "          'xtick.direction': 'out',\n",
      "          'ytick.labelsize': 12,\n",
      "          'legend.pad': 0.01,     # empty space around the legend box\n",
      "          'legend.fontsize': 12,\n",
      "          'legend.labelspacing':0.25,\n",
      "          'font.size': 12,\n",
      "          'font.style': 'normal',\n",
      "          'axes.style': 'normal',\n",
      "          'xtick.labelstyle': 'normal',\n",
      "          }\n",
      "mpl.RcParams.update(params1)\n",
      "mpl.rc('font', **font)\n",
      "plt.rc(\"xtick\", direction=\"out\")\n",
      "plt.rc(\"ytick\", direction=\"out\")\n",
      "plt.rc('legend',**{'fontsize':12})"
     ],
     "language": "python",
     "metadata": {},
     "outputs": [],
     "prompt_number": 91
    },
    {
     "cell_type": "markdown",
     "metadata": {},
     "source": [
      "**<font color='blue'>Read the input water quality files (change the path if needed)<br></font>**"
     ]
    },
    {
     "cell_type": "code",
     "collapsed": false,
     "input": [
      "basin_name = ['Thornton', 'Mercer', 'Issaquah']\n",
      "basin_nameL = ['thornton', 'mercer', 'issaquah']\n",
      "outputfilepath = 'D:\\\\Box Sync\\\\WQ-PAPER\\\\Figures\\\\'  \n",
      "colors = ['black', 'r', '#7cfc00', '#228b22', '#daa520', '#0000ff'] \n",
      "linestyles = ['--', '-', '-', '-', '-', '-']\n",
      "scenarios = ['2002','2050', 'TairRcp45', 'TairRcp85', 'PptRcp85', 'Combined']\n",
      "strings = ['Baseline' ,'LC2050', 'RCP4.5(T))', 'RCP8.5(T))', 'RCP8.5(P))', 'Combined']\n",
      "\n",
      "\n",
      "# the period of interest for daily pollutant load plots\n",
      "startdate = datetime.datetime(1993,1,1)\n",
      "enddate = datetime.datetime(2006,12,31)\n",
      "\n",
      "mainpath = {}\n",
      "simflowfilepath = collections.defaultdict(dict)\n",
      "simsedfilepath = collections.defaultdict(dict)\n",
      "simotherfilepath = collections.defaultdict(dict)\n",
      "simOrgPfilepath = collections.defaultdict(dict)\n",
      "simSolPfilepath = collections.defaultdict(dict)\n",
      "precipfilepath = collections.defaultdict(dict)\n",
      "simTEMPfilepath = collections.defaultdict(dict)\n",
      "\n",
      "# read in 3-hourly data file path\n",
      "for i, n in enumerate(basin_name):\n",
      "    mainpath[n] = 'D:\\\\Dropbox\\\\Python_Scripts\\\\'+str(basin_name[i])\n",
      "    for j, s in enumerate(scenarios):\n",
      "        if (s=='2002' or s=='2050'):\n",
      "            simflowfilepath[n][s] = str(mainpath[n])+'\\\\LULC_Scenarios\\\\'+str(s)+'\\\\output\\\\Streamflow.Only'\n",
      "            precipfilepath[n][s] = str(mainpath[n])+'\\\\LULC_Scenarios\\\\'+str(s)+'\\\\output\\\\Mass.Balance'\n",
      "            simsedfilepath[n][s] = str(mainpath[n])+'\\\\LULC_Scenarios\\\\'+str(s)+'\\\\output\\\\Sed.Flow.Only'\n",
      "            simotherfilepath[n][s] = str(mainpath[n])+'\\\\LULC_Scenarios\\\\'+str(s)+'\\\\output\\\\Other.Conc.Only'\n",
      "            simOrgPfilepath[n][s] = str(mainpath[n])+'\\\\LULC_Scenarios\\\\'+str(s)+'\\\\output\\\\OrgP.Conc.Only'\n",
      "            simSolPfilepath[n][s] = str(mainpath[n])+'\\\\LULC_Scenarios\\\\'+str(s)+'\\\\output\\\\solP.Conc.Only' \n",
      "            simTEMPfilepath[n][s] = str(mainpath[n])+'\\\\LULC_Scenarios\\\\'+str(s)+'\\\\output\\\\temp.txt' \n",
      "        else:\n",
      "            simflowfilepath[n][s] = str(mainpath[n])+'\\\\Climate_Scenarios\\\\'+str(s)+'\\\\output\\\\Streamflow.Only'\n",
      "            precipfilepath[n][s] = str(mainpath[n])+'\\\\Climate_Scenarios\\\\'+str(s)+'\\\\output\\\\Mass.Balance'\n",
      "            simsedfilepath[n][s] = str(mainpath[n])+'\\\\Climate_Scenarios\\\\'+str(s)+'\\\\output\\\\Sed.Flow.Only'\n",
      "            simotherfilepath[n][s] = str(mainpath[n])+'\\\\Climate_Scenarios\\\\'+str(s)+'\\\\output\\\\Other.Conc.Only'\n",
      "            simOrgPfilepath[n][s] = str(mainpath[n])+'\\\\Climate_Scenarios\\\\'+str(s)+'\\\\output\\\\OrgP.Conc.Only'\n",
      "            simSolPfilepath[n][s] = str(mainpath[n])+'\\\\Climate_Scenarios\\\\'+str(s)+'\\\\output\\\\solP.Conc.Only'  \n",
      "            simTEMPfilepath[n][s] = str(mainpath[n])+'\\\\Climate_Scenarios\\\\'+str(s)+'\\\\output\\\\temp.txt' "
     ],
     "language": "python",
     "metadata": {},
     "outputs": []
    },
    {
     "cell_type": "markdown",
     "metadata": {},
     "source": [
      "<font color='blue'>**Read the input water quality files (change the path if needed)**</font><br>"
     ]
    },
    {
     "cell_type": "code",
     "collapsed": false,
     "input": [
      "tempsimdates = collections.defaultdict(list)\n",
      "tempjunkdates = collections.defaultdict(dict)\n",
      "simflowdata = collections.defaultdict(dict)\n",
      "precipdata = collections.defaultdict(dict)\n",
      "simseddata = collections.defaultdict(dict)\n",
      "simotherdata = collections.defaultdict(dict)\n",
      "simTPdata = collections.defaultdict(dict)\n",
      "simOrgPdata = collections.defaultdict(dict)\n",
      "simSolPdata = collections.defaultdict(dict)\n",
      "simTEMPdata = collections.defaultdict(dict)\n",
      "junkdate = collections.defaultdict(dict)\n",
      "for i, n in enumerate(basin_name):\n",
      "    junkdate[n] = collections.defaultdict(list)\n",
      "\n",
      "# dates for all other files but Temperature\n",
      "tempsimdates = np.genfromtxt(simsedfilepath['Mercer']['2002'], dtype=str, skiprows=2, usecols=0)\n",
      "for i, n in enumerate(basin_name):\n",
      "    for j, s in enumerate(scenarios):\n",
      "        tempjunkdates[n][s] = np.genfromtxt(simTEMPfilepath[n][s], dtype=str, skiprows=0, usecols=0)\n",
      "simdates = []\n",
      "\n",
      "for i in range(len(tempsimdates)):\n",
      "    simdates.append(datetime.datetime.strptime(tempsimdates[i],'%m/%d/%Y-%H:%M:%S'))\n",
      "for i, n in enumerate(basin_name):\n",
      "    for j, s in enumerate(scenarios):\n",
      "        for k in range(len(tempjunkdates[n][s])):\n",
      "            junkdate[n][s].append(datetime.datetime.strptime(tempjunkdates[n][s][k], '%m/%d/%Y-%H:%M'))\n",
      "    \n",
      "for i, n in enumerate(basin_name):\n",
      "    for j, s in enumerate(scenarios):\n",
      "        simflowdata[n][s] = np.genfromtxt(simflowfilepath[n][s], skiprows=2, usecols=[1])  \n",
      "        simseddata[n][s] = np.genfromtxt(simsedfilepath[n][s], skiprows=2, usecols=[2])  \n",
      "        simotherdata[n][s] = np.genfromtxt(simotherfilepath[n][s], skiprows=2, usecols=[1])  \n",
      "        simOrgPdata[n][s] = np.genfromtxt(simOrgPfilepath[n][s], skiprows=2, usecols=[1])  \n",
      "        simSolPdata[n][s] = np.genfromtxt(simSolPfilepath[n][s], skiprows=2, usecols=[1])  \n",
      "        simTPdata[n][s] = simOrgPdata[n][s]+simSolPdata[n][s]\n",
      "        simTEMPdata[n][s] = np.genfromtxt(simTEMPfilepath[n][s], skiprows=0, usecols=[1])  \n",
      "        precipdata[n][s] = np.genfromtxt(precipfilepath[n][s], dtype=float, skiprows=24, usecols=[9])\n",
      "        \n",
      "# debug\n",
      "#for i, n in enumerate(basin_name):\n",
      "    #for j, s in enumerate(scenarios):\n",
      "        #print str(n), str(s), len(junkdate[n][s]), len(simTEMPdata[n][s])\n"
     ],
     "language": "python",
     "metadata": {},
     "outputs": []
    },
    {
     "cell_type": "code",
     "collapsed": false,
     "input": [
      "for j, s in enumerate(scenarios):\n",
      "    if (s == 'Combined'):\n",
      "        for i in range(len(simseddata['Issaquah'][s])):\n",
      "            if (simseddata['Issaquah'][s][i] > 4000):\n",
      "                simseddata['Issaquah'][s] = simseddata[n][s]/2\n",
      "            elif (s == '2050'):\n",
      "                for i in range(len(simseddata['Issaquah'][s])):\n",
      "                    if (simseddata['Issaquah'][s][i] > 4000):\n",
      "                        simseddata['Issaquah'][s] = simseddata[n][s]/2\n",
      "            else:\n",
      "                for i in range(len(simseddata['Issaquah'][s])):\n",
      "                    if (simseddata['Issaquah'][s][i] > 2000):\n",
      "                        simseddata['Issaquah'][s] = simseddata[n][s]/2\n",
      "                        \n",
      "for i in range(len(simseddata['Issaquah']['2002'])):\n",
      "    if (simseddata['Issaquah']['2002'][i] > 4200):\n",
      "        simseddata['Issaquah']['2002'][i] = 4200\n",
      "    if (simseddata['Issaquah']['2050'][i] > 8400):\n",
      "        simseddata['Issaquah']['2050'][i] = 8400\n",
      "    if (simseddata['Issaquah']['PptRcp85'][i] > 7000):\n",
      "        simseddata['Issaquah']['PptRcp85'][i] = 7000\n",
      "    if (simseddata['Issaquah']['TairRcp85'][i] > 2400):\n",
      "        simseddata['Issaquah']['TairRcp85'][i] = 2400\n",
      "    if (simseddata['Issaquah']['TairRcp85'][i] > 1800):\n",
      "        simseddata['Issaquah']['TairRcp85'][i] = 1800\n",
      "    if (simseddata['Issaquah']['Combined'][i] > 10000):\n",
      "        simseddata['Issaquah']['TairRcp85'][i] = 10000\\n\","
     ],
     "language": "python",
     "metadata": {},
     "outputs": []
    },
    {
     "cell_type": "markdown",
     "metadata": {},
     "source": [
      "<font color='blue'>**Calculate the mean daily, month and annual load.**</font>"
     ]
    },
    {
     "cell_type": "code",
     "collapsed": false,
     "input": [
      "DailySedLoad = collections.defaultdict(dict)\n",
      "MonthlySedLoad = collections.defaultdict(dict)\n",
      "AnnualSedLoad = collections.defaultdict(dict)\n",
      "DailyColiformLoad = collections.defaultdict(dict)\n",
      "MonthlyColiformLoad = collections.defaultdict(dict)\n",
      "AnnualColiformLoad = collections.defaultdict(dict)\n",
      "DailyTPLoad = collections.defaultdict(dict)\n",
      "MonthlyTPLoad = collections.defaultdict(dict)\n",
      "AnnualTPLoad = collections.defaultdict(dict)\n",
      "DailyFlowRate = collections.defaultdict(dict)\n",
      "MonthlyFlowRate = collections.defaultdict(dict)\n",
      "AnnualFlowRate = collections.defaultdict(dict)\n",
      "DailyThermalLoad = collections.defaultdict(dict)\n",
      "AnnualThermalLoad = collections.defaultdict(dict)\n",
      "MonthlyThermalLoad = collections.defaultdict(dict)\n",
      "DailyTemp = collections.defaultdict(dict)\n",
      "MonthlyTemp = collections.defaultdict(dict)\n",
      "AnnualTemp = collections.defaultdict(dict)\n",
      "\n",
      "for i, n in enumerate(basin_name):\n",
      "    for j, s in enumerate(scenarios):\n",
      "        DailySedLoad[n][s] = pd.Series(simseddata[n][s]*simflowdata[n][s]/(10**6), index=simdates).resample('D', how='sum')\n",
      "        DailyColiformLoad[n][s] = pd.Series(simotherdata[n][s]*simflowdata[n][s]/(10**5), index=simdates).resample('D', how='sum')\n",
      "        DailyTPLoad[n][s] = pd.Series(simTPdata[n][s]*simflowdata[n][s]/(10**6), index=simdates).resample('D', how='sum')\n",
      "        DailyFlowRate[n][s] = pd.Series(simflowdata[n][s], index=simdates).resample('D', how='sum')/24/3600\n",
      "        DailyTemp[n][s] = pd.Series(simTEMPdata[n][s], index=junkdate[n][s]).resample('D', how='mean')"
     ],
     "language": "python",
     "metadata": {},
     "outputs": []
    },
    {
     "cell_type": "code",
     "collapsed": false,
     "input": [
      "# Truncate the data into desired time frame\n",
      "for i, n in enumerate(basin_name):\n",
      "    for j, s in enumerate(scenarios):\n",
      "        DailySedLoad[n][s] = DailySedLoad[n][s].truncate(before=startdate, after=enddate)\n",
      "        DailyColiformLoad[n][s] = DailyColiformLoad[n][s].truncate(before=startdate, after=enddate)\n",
      "        DailyTPLoad[n][s] = DailyTPLoad[n][s].truncate(before=startdate, after=enddate)\n",
      "        DailyFlowRate[n][s] = DailyFlowRate[n][s].truncate(before=startdate, after=enddate)\n",
      "        DailyTemp[n][s] = DailyTemp[n][s].truncate(before=startdate, after=enddate)"
     ],
     "language": "python",
     "metadata": {},
     "outputs": []
    },
    {
     "cell_type": "code",
     "collapsed": false,
     "input": [
      "for i, n in enumerate(basin_name):\n",
      "    for j, s in enumerate(scenarios):\n",
      "        MonthlySedLoad[n][s] = DailySedLoad[n][s].resample('M', how='sum')\n",
      "        MonthlyColiformLoad[n][s] = DailyColiformLoad[n][s].resample('M', how='sum')\n",
      "        MonthlyTPLoad[n][s] = DailyTPLoad[n][s].resample('M', how='sum')\n",
      "        MonthlyFlowRate[n][s] = DailyFlowRate[n][s].resample('M', how='mean') #mean monthly streamflow\n",
      "        MonthlyTemp[n][s] = DailyTemp[n][s].resample('M', how='mean')\n",
      "        \n",
      "for i, n in enumerate(basin_name):\n",
      "    for j, s in enumerate(scenarios):\n",
      "        AnnualSedLoad[n][s] = DailySedLoad[n][s].resample('A', how='sum')\n",
      "        AnnualColiformLoad[n][s] = DailyColiformLoad[n][s].resample('A', how='sum')\n",
      "        AnnualTPLoad[n][s] = DailyTPLoad[n][s].resample('A', how='sum')\n",
      "        AnnualFlowRate[n][s] = DailyFlowRate[n][s].resample('A', how='mean')\n",
      "        AnnualTemp[n][s] = DailyTemp[n][s].resample('A', how='mean')"
     ],
     "language": "python",
     "metadata": {},
     "outputs": []
    },
    {
     "cell_type": "markdown",
     "metadata": {},
     "source": [
      "<font color='blue'>**Calculate Annual avg. Water Temperature.**</font>"
     ]
    },
    {
     "cell_type": "code",
     "collapsed": false,
     "input": [
      "fig=plt.figure(figsize=(6,9),dpi=400)\n",
      "for i, n in enumerate(basin_name):\n",
      "    ax = plt.subplot(3, 1, i+1)\n",
      "    fig.subplots_adjust(hspace=0.3, wspace=0.1, bottom=0.2)\n",
      "    props = dict(boxstyle='round', facecolor='wheat', alpha=0.5)\n",
      "    plt.text(0.99, 0.01, str(n), color='blue', transform=ax.transAxes, verticalalignment='bottom', horizontalalignment='right')\n",
      "    for (j, s), c, t, l in zip(enumerate(scenarios), colors, strings, linestyles):\n",
      "        AnnualTemp[n][s].plot(color=c, label=str(t), linewidth=3.0, linestyle=l)\n",
      "    plt.ylabel('Temperature ($^\\circ$C)', fontsize=12.)\n",
      "    if (i == 2):\n",
      "        plt.xlabel('year', fontsize=12.)\n",
      "    grid(True)\n",
      "    if (i == 0):\n",
      "        leg=ax.legend(Fancybox=True, loc=9, ncol=1, bbox_to_anchor=(0.8, 1.))\n",
      "        leg.get_frame().set_alpha(0.5)\n",
      "outputfilepath = str(outputfilepath)+'\\\\Scenarios-Annual-Mean-Temperature.png'    \n",
      "#savefig(str(outputfilepath),dpi=500,format = 'png',transparent='True')"
     ],
     "language": "python",
     "metadata": {},
     "outputs": []
    },
    {
     "cell_type": "markdown",
     "metadata": {},
     "source": [
      "<font color='blue'>**Calculate monthly avg. thermal load.**</font>"
     ]
    },
    {
     "cell_type": "code",
     "collapsed": false,
     "input": [
      "Cp = 4180 # specific heat capacity of water (unit: J/(kg*K))\n",
      "P = 1000  # water density (kg/m^3)\n",
      "\n",
      "# mean monthly temperature in Lake Washington\n",
      "MonthlyTempLake = pd.Series([7.7, 7.26, 8.06, 10.36, 15.14, 17.18, 19.97, 21.52, 19.42, 16.07, 12.25, 9.33], index=range(1, 13))\n",
      "#print MonthlyTempLake"
     ],
     "language": "python",
     "metadata": {},
     "outputs": []
    },
    {
     "cell_type": "code",
     "collapsed": false,
     "input": [
      "print pow(2, 3)\n",
      "monthSed = collections.defaultdict(dict)\n",
      "monthColiform = collections.defaultdict(dict)\n",
      "monthTP = collections.defaultdict(dict)\n",
      "monthFlow = collections.defaultdict(dict)\n",
      "monthWAvgTemp = collections.defaultdict(dict)\n",
      "MonthThermalLoad = collections.defaultdict(dict)\n",
      "\n",
      "for i, n in enumerate(basin_name):\n",
      "    for j, s in enumerate(scenarios):\n",
      "        monthSed[n][s] = MonthlySedLoad[n][s].groupby(lambda x: x.month).mean()\n",
      "        monthColiform[n][s] = MonthlyColiformLoad[n][s].groupby(lambda x: x.month).mean()\n",
      "        monthTP[n][s] = MonthlyTPLoad[n][s].groupby(lambda x: x.month).mean()\n",
      "        monthFlow[n][s] = MonthlyFlowRate[n][s].groupby(lambda x: x.month).mean()\n",
      "        \n",
      "        #average monthly temperature\n",
      "        monthWAvgTemp[n][s] = MonthlyTemp[n][s].groupby(lambda x: x.month).mean()\n",
      "        # monthly thermal contribution to lake washington (in MW - megawatt)\n",
      "        MonthThermalLoad[n][s] = Cp*P*monthFlow[n][s]*(monthWAvgTemp[n][s]-MonthlyTempLake)/pow(10, 6)"
     ],
     "language": "python",
     "metadata": {},
     "outputs": []
    },
    {
     "cell_type": "code",
     "collapsed": false,
     "input": [
      "# Reorganize the data set to conform to the wateryear (ie. Oct-Sep)\n",
      "for i, n in enumerate(basin_name):\n",
      "    for j, s in enumerate(scenarios):\n",
      "        monthSed[n][s] = monthSed[n][s][9:].append(monthSed[n][s][:9])\n",
      "        monthColiform[n][s] = monthColiform[n][s][9:].append(monthColiform[n][s][:9])\n",
      "        monthTP[n][s] = monthTP[n][s][9:].append(monthTP[n][s][:9])\n",
      "        monthFlow[n][s] = monthFlow[n][s][9:].append(monthFlow[n][s][:9])"
     ],
     "language": "python",
     "metadata": {},
     "outputs": []
    },
    {
     "cell_type": "markdown",
     "metadata": {},
     "source": [
      "<font color='blue'>**Calculate mean monthly Temperature.**</font>"
     ]
    },
    {
     "cell_type": "code",
     "collapsed": false,
     "input": [
      "fig=plt.figure(figsize=(6,9),dpi=400)\n",
      "for i, n in enumerate(basin_name):\n",
      "    ax = plt.subplot(3, 1, i+1)\n",
      "    fig.subplots_adjust(hspace = 0.3, wspace = 0.1)\n",
      "    props = dict(boxstyle='round', facecolor='wheat', alpha=0.5)\n",
      "    ax.text(.02,.9, str(n), color='blue',fontsize=12, horizontalalignment='left', transform=ax.transAxes)\n",
      "    for (j, s), c, t, l in zip(enumerate(scenarios), colors, strings, linestyles):\n",
      "        plt.plot(range(1, 13), monthWAvgTemp[n][s].values, color=c, label=str(t), linewidth=3.0, linestyle=l)\n",
      "    if (n == 'Issaquah'):\n",
      "        plt.ylabel('Temperature ($^\\circ$C)', fontsize=12.)\n",
      "    else:\n",
      "        plt.ylabel('Temperature ($^\\circ$C)', fontsize=12.)\n",
      "    if (i == 2):\n",
      "        plt.xlabel('month', fontsize=12.)\n",
      "    plt.xlim([1,12])\n",
      "    plt.ylim([1,18])\n",
      "    ax.xaxis.set_major_locator(ticker.FixedLocator(np.arange(1,13)))\n",
      "    ax.xaxis.set_major_formatter(ticker.FixedFormatter(['Jan','Feb','Mar','Apr','May','Jun','Jul','Aug','Sep','Oct','Nov','Dec']))\n",
      "    grid(False)\n",
      "    if (i == 0):\n",
      "        leg=ax.legend(fancybox=True, loc=9, ncol=1, bbox_to_anchor=(0.83, 1.02))\n",
      "        leg.get_frame().set_alpha(0.5)\n",
      "\n",
      "outputfilepath = str(outputfilepath)+'Scenarios-Mean--Avg-WTemp.png'    \n",
      "#savefig(str(outputfilepath),dpi=500,format = 'png',transparent='True')"
     ],
     "language": "python",
     "metadata": {},
     "outputs": []
    },
    {
     "cell_type": "markdown",
     "metadata": {},
     "source": [
      "<font color='blue'>**Plot the mean monthly thermal load**</font>"
     ]
    },
    {
     "cell_type": "code",
     "collapsed": false,
     "input": [
      "fig=plt.figure(figsize=(6,9),dpi=400)\n",
      "for i, n in enumerate(basin_name):\n",
      "    ax = plt.subplot(3, 1, i+1)\n",
      "    fig.subplots_adjust(hspace = 0.3, wspace = 0.1)\n",
      "    props = dict(boxstyle='round', facecolor='wheat', alpha=0.5)\n",
      "    ax.text(.02,.02, str(n), color='blue',fontsize=12, horizontalalignment='left', transform=ax.transAxes)\n",
      "    for (j, s), c, t, l in zip(enumerate(scenarios), colors, strings, linestyles):\n",
      "        plt.plot(range(1, 13), MonthThermalLoad[n][s].values, color=c, label=str(t), linewidth=3.0, linestyle=l)\n",
      "    plt.ylabel('Load ($MW$)', fontsize=12.)\n",
      "    if (i == 2):\n",
      "        plt.xlabel('month', fontsize=12.)\n",
      "    plt.xlim([1,12])\n",
      "    if (n == 'Thornton'):\n",
      "        plt.ylim([-12,12])\n",
      "    ax.xaxis.set_major_locator(ticker.FixedLocator(np.arange(1,13)))\n",
      "    ax.xaxis.set_major_formatter(ticker.FixedFormatter(['Jan','Feb','Mar','Apr','May','Jun','Jul','Aug','Sep','Oct','Nov','Dec']))\n",
      "    grid(False)\n",
      "    if (i == 0):\n",
      "        leg=ax.legend(fancybox=True, loc=9, ncol=2, bbox_to_anchor=(0.65, 1.02))\n",
      "        leg.get_frame().set_alpha(0.5)\n",
      "\n",
      "outputfilepath = str(outputfilepath)+'Scenarios-Mean--Avg-ThermLoad.png'    \n",
      "#savefig(str(outputfilepath),dpi=500,format = 'png',transparent='True')\n",
      "\n",
      "# debug \n",
      "for j, s in enumerate(scenarios):\n",
      "    print str(s)\n",
      "    #for k in range(len(MonthlyTempLake.values)):\n",
      "        #print \"%.2f %.2f\" % (monthWAvgTemp['Mercer'][s].values[k], MonthlyTempLake.values[k])\n",
      "print"
     ],
     "language": "python",
     "metadata": {},
     "outputs": []
    },
    {
     "cell_type": "markdown",
     "metadata": {},
     "source": [
      "<font color='blue'>**Calculate monthly total SEDIMENT.**</font>"
     ]
    },
    {
     "cell_type": "code",
     "collapsed": false,
     "input": [
      "fig=plt.figure(figsize=(6,10),dpi=400)\n",
      "\n",
      "for i, n in enumerate(basin_name):\n",
      "    ax = plt.subplot(3, 1, i+1)\n",
      "    fig.subplots_adjust(hspace=0.3, wspace=0.1, bottom=0.2)\n",
      "    props = dict(boxstyle='round', facecolor='wheat', alpha=0.5)\n",
      "    ax.text(.02,.9, str(n), color='blue',fontsize=12, horizontalalignment='left', transform=ax.transAxes)\n",
      "    for (j, s), c, t, l in zip(enumerate(scenarios), colors, strings, linestyles):\n",
      "        plt.plot(range(1, 13), monthSed[n][s].values, color=c, label=str(t), linewidth=3.0, linestyle=l)\n",
      "        #unit: Mega Gram\n",
      "        plt.ylabel('load ($Mg$)', fontsize=12.)\n",
      "        if (i == 2):\n",
      "            plt.xlabel('month', fontsize=12.)\n",
      "            plt.xlim([1,12])\n",
      "            if (n == 'Issaquah'):\n",
      "                plt.ylim([0, 6000])\n",
      "            else:\n",
      "                plt.ylim([0, 50])\n",
      "        ax.xaxis.set_major_locator(ticker.FixedLocator(np.arange(1,13)))\n",
      "        ax.xaxis.set_major_formatter(ticker.FixedFormatter(['Oct','Nov','Dec','Jan','Feb','Mar','Apr','May','Jun','Jul','Aug','Sep']))\n",
      "        if (i == 0):\n",
      "            #leg = ax.legend(fancybox=True, loc=9, bbox_to_anchor=(0.83, 1.01))\n",
      "            leg = ax.legend(fancybox=True, loc=9, ncol=2, bbox_to_anchor=(0.65, 1.03))\n",
      "            leg.get_frame().set_alpha(0.5)\n",
      "\n",
      "output = str(outputfilepath) + 'Scenarios-Monthly-SedLoad.png'    \n",
      "#savefig(str(output),dpi=500,format = 'png',transparent='True')"
     ],
     "language": "python",
     "metadata": {},
     "outputs": []
    },
    {
     "cell_type": "code",
     "collapsed": false,
     "input": [
      "r = collections.defaultdict(dict)\n",
      "qq =0 \n",
      "fig=plt.figure(figsize=(24,10),dpi=400)\n",
      "for i, n in enumerate(basin_name):\n",
      "    for j, s in enumerate(scenarios):\n",
      "        qq+=1\n",
      "        r_value, p_value = stats.pearsonr(monthFlow[n][s], monthSed[n][s])\n",
      "        r[n][s] = r_value\n",
      "        ax = plt.subplot(len(basin_name), len(scenarios),  qq)\n",
      "        props = dict(boxstyle='round', facecolor='wheat', alpha=0.5)\n",
      "        ax.text(.98,.1, str(n), color='black', fontsize=12, horizontalalignment='right', transform=ax.transAxes)  \n",
      "        ax.text(.98,.02, '--'+str(s), color='black', fontsize=12, horizontalalignment='right', transform=ax.transAxes)  \n",
      "        textstr1 = '$r = %.2f$' % r[n][s]\n",
      "        ax.text(0.9, 0.9, textstr1, fontsize=14, transform=ax.transAxes, horizontalalignment='right', verticalalignment='top', bbox=props)\n",
      "        ax.scatter(monthFlow[n][s], monthSed[n][s])"
     ],
     "language": "python",
     "metadata": {},
     "outputs": []
    },
    {
     "cell_type": "markdown",
     "metadata": {},
     "source": [
      "<font color='blue'>**Calculate monthly total PHOSPHOROUS.**</font>"
     ]
    },
    {
     "cell_type": "code",
     "collapsed": false,
     "input": [
      "fig=plt.figure(figsize=(6,10),dpi=400)\n",
      "for i, n in enumerate(basin_name):\n",
      "    ax = plt.subplot(3, 1, i+1)\n",
      "    fig.subplots_adjust(hspace = 0.3, wspace = 0.1, bottom=0.2)\n",
      "    props = dict(boxstyle='round', facecolor='wheat', alpha=0.5)\n",
      "    ax.text(.02,.9, str(n), color='blue',fontsize=12, horizontalalignment='left', transform=ax.transAxes)\n",
      "    for (j, s), c, t, l in zip(enumerate(scenarios), colors, strings, linestyles):\n",
      "        plt.plot(range(1, 13), monthTP[n][s].values, color=c, label=str(t), linewidth=3.0, linestyle=l)\n",
      "        plt.ylabel('load. ($Mg$)', fontsize=12.)\n",
      "        if (i == 2):\n",
      "            plt.xlabel('month', fontsize=12.)\n",
      "            plt.xlim([1,12])\n",
      "        if (n == 'Thornton'):\n",
      "            plt.ylim([0, 0.2])\n",
      "        ax.xaxis.set_major_locator(ticker.FixedLocator(np.arange(1,13)))\n",
      "        ax.xaxis.set_major_formatter(ticker.FixedFormatter(['Oct','Nov','Dec','Jan','Feb','Mar','Apr','May','Jun','Jul','Aug','Sep']))\n",
      "        #grid(True)\n",
      "        if (i == 0):\n",
      "            leg = ax.legend(fancybox=True, loc=9, ncol=2, bbox_to_anchor=(0.65, 1.03))\n",
      "            leg.get_frame().set_alpha(0.5)\n",
      "\n",
      "output = str(outputfilepath) + 'Scenarios-Monthly-TP.png'   \n",
      "#savefig(str(output),dpi=500,format = 'png',transparent='True')\""
     ],
     "language": "python",
     "metadata": {},
     "outputs": []
    },
    {
     "cell_type": "code",
     "collapsed": false,
     "input": [
      "r = collections.defaultdict(dict)\n",
      "qq =0 \n",
      "fig=plt.figure(figsize=(24,10),dpi=400)\n",
      "for i, n in enumerate(basin_name):\n",
      "    for j, s in enumerate(scenarios):\n",
      "        qq+=1\n",
      "        r_value, p_value = stats.pearsonr(monthFlow[n][s], monthTP[n][s])\n",
      "        r[n][s] = r_value\n",
      "        ax = plt.subplot(len(basin_name), len(scenarios),  qq)\n",
      "        props = dict(boxstyle='round', facecolor='wheat', alpha=0.5)\n",
      "        ax.text(.98,.1, str(n), color='black', fontsize=12, horizontalalignment='right', transform=ax.transAxes)  \n",
      "        ax.text(.98,.02, '--'+str(s), color='black', fontsize=12, horizontalalignment='right', transform=ax.transAxes)  \n",
      "        textstr1 = '$r = %.2f$' % r[n][s]\n",
      "        ax.text(0.9, 0.9, textstr1, fontsize=14, transform=ax.transAxes, horizontalalignment='right', verticalalignment='top', bbox=props)\n",
      "        ax.scatter(monthFlow[n][s], monthTP[n][s])"
     ],
     "language": "python",
     "metadata": {},
     "outputs": []
    }
   ],
   "metadata": {}
  }
 ]
}