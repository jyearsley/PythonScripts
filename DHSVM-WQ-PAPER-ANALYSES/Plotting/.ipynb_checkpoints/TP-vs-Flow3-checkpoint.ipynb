{
 "metadata": {
  "name": "",
  "signature": "sha256:847a7015a2524dea231a98a9ef9bbf68072def6dd0b1052a1aae951e1e15779a"
 },
 "nbformat": 3,
 "nbformat_minor": 0,
 "worksheets": [
  {
   "cells": [
    {
     "cell_type": "markdown",
     "metadata": {},
     "source": [
      "###This notebook includes Python tools for exploring the relationship between streamflow & OBSERVED water quality concentrations.\n",
      "###Different from the prior 2 versions, this version looks at both antecedent flow condition & flow spikenss associated with <font color='red'> OBSERVED </font>water quality concentrations. The antecedent flow condition & flow spikenss are defined in Mike Brett's paper.\n",
      " </font>"
     ]
    },
    {
     "cell_type": "code",
     "collapsed": false,
     "input": [
      "%pylab inline"
     ],
     "language": "python",
     "metadata": {},
     "outputs": [
      {
       "output_type": "stream",
       "stream": "stdout",
       "text": [
        "Populating the interactive namespace from numpy and matplotlib\n"
       ]
      },
      {
       "output_type": "stream",
       "stream": "stderr",
       "text": [
        "WARNING: pylab import has clobbered these variables: ['norm']\n",
        "`%matplotlib` prevents importing * from pylab and numpy\n"
       ]
      }
     ],
     "prompt_number": 112
    },
    {
     "cell_type": "markdown",
     "metadata": {},
     "source": [
      "<font color='blue'>**First, import all necessary libraries.**</font>"
     ]
    },
    {
     "cell_type": "code",
     "collapsed": false,
     "input": [
      "# Import all needed libraries \n",
      "import sys, os, datetime, time\n",
      "import collections\n",
      "import numpy as np\n",
      "import pandas as pd\n",
      "import numpy.ma as ma\n",
      "import math\n",
      "import matplotlib.dates as dates\n",
      "import matplotlib.ticker as ticker\n",
      "import matplotlib.pyplot as plt\n",
      "from matplotlib.backends.backend_pdf import PdfPages\n",
      "from scipy.stats import norm\n",
      "from scipy import stats\n",
      "\n",
      "import os\n",
      "os.getcwd() \n",
      "os.chdir(\"D:\\\\Dropbox\\\\Python_Scripts\")\n",
      "os.getcwd()"
     ],
     "language": "python",
     "metadata": {},
     "outputs": [
      {
       "metadata": {},
       "output_type": "pyout",
       "prompt_number": 113,
       "text": [
        "'D:\\\\Dropbox\\\\Python_Scripts'"
       ]
      }
     ],
     "prompt_number": 113
    },
    {
     "cell_type": "markdown",
     "metadata": {},
     "source": [
      "<font color='blue'>**Edit the figure properties**</font> "
     ]
    },
    {
     "cell_type": "code",
     "collapsed": false,
     "input": [
      "import matplotlib as mpl\n",
      "mpl.rcParams['lines.linewidth'] = 2\n",
      "font = {'family' : 'sans-serif',\n",
      "        'sans-serif' : 'Verdana',\n",
      "        'weight' : 'medium',\n",
      "        'size'   : '12'}\n",
      "params1 = {\n",
      "          'axes.labelsize': 12,\n",
      "          'text.fontsize': 12,\n",
      "          'xtick.labelsize': 12,\n",
      "          'xtick.direction': 'out',\n",
      "          'ytick.labelsize': 12,\n",
      "          'legend.pad': 0.01,     # empty space around the legend box\n",
      "          'legend.fontsize': 12,\n",
      "          'legend.labelspacing':0.25,\n",
      "          'font.size': 12,\n",
      "          'font.style': 'normal',\n",
      "          'axes.style': 'normal',\n",
      "          'xtick.labelstyle': 'normal',\n",
      "          'figure.autolayout': True,\n",
      "          'figure.subplot.bottom' : 0.2\n",
      "          }\n",
      "mpl.RcParams.update(params1)\n",
      "mpl.rc('font', **font)\n",
      "plt.rc(\"xtick\", direction=\"out\")\n",
      "plt.rc(\"ytick\", direction=\"out\")\n",
      "plt.rc('legend',**{'fontsize':12})"
     ],
     "language": "python",
     "metadata": {},
     "outputs": [],
     "prompt_number": 114
    },
    {
     "cell_type": "markdown",
     "metadata": {},
     "source": [
      "**<font color='blue'>Read the input water quality files<br></font>\n",
      "<span style=\"background-color: #FFFF00\">NOTE THAT the input used here only consists of sim and obs records with matching timestamps. The script used to extract the matching records are in: C:\\Users\\Ning\\Documents\\IPython Notebooks\\Write-Out-Matching-Records.ipynb</span>**"
     ]
    },
    {
     "cell_type": "code",
     "collapsed": false,
     "input": [
      "basin_name = ['Thornton', 'Mercer', 'Issaquah']\n",
      "basin_nameL = ['thornton', 'mercer', 'issaquah']\n",
      "mainpath = {}\n",
      "simsedfilepath = {}\n",
      "simotherfilepath = {}\n",
      "simTPfilepath = {}\n",
      "simflowpath = {}\n",
      "\n",
      "# read data from input files\n",
      "FsimdateJunk1 = collections.defaultdict(list)\n",
      "FobsdateJunk1 = collections.defaultdict(list)\n",
      "FsimdateJunk2 = collections.defaultdict(list)\n",
      "FobsdateJunk2 = collections.defaultdict(list)\n",
      "Fsimdate = collections.defaultdict(list)\n",
      "Fobsdate = collections.defaultdict(list)\n",
      "\n",
      "FsimSed = collections.defaultdict(list)\n",
      "FobsSed = collections.defaultdict(list)\n",
      "FsimTP = collections.defaultdict(list)\n",
      "FobsTP = collections.defaultdict(list)\n",
      "\n",
      "# continous records\n",
      "Fsimflow = collections.defaultdict(list)\n",
      "FsimflowDate = collections.defaultdict(list)\n",
      "simflowDate = collections.defaultdict(list)\n",
      "\n",
      "outputfilepath = 'D:\\\\Box Sync\\\\WQ-PAPER\\\\Figures\\\\'    \n",
      "\n",
      "# assign the file path\n",
      "for i, n in enumerate(basin_name):\n",
      "    mainpath[n] = 'D:\\\\Dropbox\\\\Python_Scripts\\\\'+str(basin_name[i])\n",
      "    simsedfilepath[n] = str(mainpath[n])+ '\\\\sed_sim_obs.txt'\n",
      "    simTPfilepath[n] = str(mainpath[n])+'\\\\TP_sim_obs.txt'\n",
      "    simflowpath[n] = str(mainpath[n])+'\\\\Streamflow.Only'\n",
      "\n",
      "for i, n in enumerate(basin_name): \n",
      "    # date and time are stored in two separate columns, so here reading them together\n",
      "    FsimdateJunk1[n] = np.genfromtxt(simsedfilepath[n], dtype=str, skiprows=0, usecols=[0,1])\n",
      "    FobsdateJunk1[n] = np.genfromtxt(simsedfilepath[n], dtype=str, skiprows=0, usecols=[3,4])\n",
      "    # print Fobsdate\n",
      "    \n",
      "    # read simulations\n",
      "    FsimSed[n] = np.genfromtxt(simsedfilepath[n], dtype=float, skiprows=0, usecols=[2])\n",
      "    FsimTP[n] = np.genfromtxt(simTPfilepath[n], dtype=float, skiprows=0, usecols=[2])\n",
      "    \n",
      "    # read continuous sim. sediment file\n",
      "    Fsimflow[n] = np.genfromtxt(simflowpath[n], dtype=float, skiprows=2, usecols=[1])\n",
      "    simflowDate[n] = np.genfromtxt(simflowpath[n], dtype=str, skiprows=2, usecols=[0])\n",
      "    \n",
      "    # read observations\n",
      "    FobsSed[n] = np.genfromtxt(simsedfilepath[n], dtype=float, skiprows=0, usecols=[5])\n",
      "    FobsTP[n] = np.genfromtxt(simTPfilepath[n], dtype=float, skiprows=0, usecols=[5])\n",
      "\n",
      "# stitch the date and time columns into one column\n",
      "for i, n in enumerate(basin_name): \n",
      "    for j in range(len(FsimdateJunk1[n])):\n",
      "        FsimdateJunk2[n].append(str(FsimdateJunk1[n][j][0])+'-'+str(FsimdateJunk1[n][j][1])) \n",
      "        FobsdateJunk2[n].append(str(FobsdateJunk1[n][j][0])+'-'+str(FobsdateJunk1[n][j][1]))\n",
      "\n",
      "# convert the date/time string to python date/time format\n",
      "for i, n in enumerate(basin_name):\n",
      "    for j in range(len(FsimdateJunk2[n])):\n",
      "        Fsimdate[n].append(datetime.datetime.strptime(FsimdateJunk2[n][j],'%Y-%m-%d-%H:%M:%S'))\n",
      "        Fobsdate[n].append(datetime.datetime.strptime(FobsdateJunk2[n][j],'%Y-%m-%d-%H:%M:%S'))\n",
      "\n",
      "for i, n in enumerate(basin_name):\n",
      "    for j in range(len(simflowDate[n])):\n",
      "        FsimflowDate[n].append(datetime.datetime.strptime(simflowDate[n][j], '%m/%d/%Y-%H:%M:%S'))"
     ],
     "language": "python",
     "metadata": {},
     "outputs": [],
     "prompt_number": 117
    },
    {
     "cell_type": "markdown",
     "metadata": {},
     "source": [
      "<font color='blue'>Compute the dail streamflow</font>"
     ]
    },
    {
     "cell_type": "code",
     "collapsed": false,
     "input": [
      "startdate = datetime.datetime(1992,1,1)\n",
      "enddate = datetime.datetime(2008,12,31)\n",
      "\n",
      "DailyFlowRate = collections.defaultdict(list)\n",
      "for i, n in enumerate(basin_name):\n",
      "    DailyFlowRate[n] = pd.Series(Fsimflow[n], index=FsimflowDate[n]).resample('D', how='sum')/24/3600\n"
     ],
     "language": "python",
     "metadata": {},
     "outputs": [],
     "prompt_number": 118
    },
    {
     "cell_type": "markdown",
     "metadata": {},
     "source": [
      "<font color='blue'>Calculate the spikness of streamflow and antecedent flow index</font>"
     ]
    },
    {
     "cell_type": "code",
     "collapsed": false,
     "input": [
      "# spikeness = log10(flow(t)-flow(t-1))\n",
      "spikeness = collections.defaultdict(list)\n",
      "\n",
      "for i, n in enumerate(basin_name):\n",
      "    print str(n)\n",
      "    for j in range(len(DailyFlowRate[n])):\n",
      "        if (j == 0):\n",
      "            spikeness[n].append(-3)\n",
      "        else:\n",
      "            spikeness[n].append(np.log10(DailyFlowRate[n].values[j]/DailyFlowRate[n].values[j-1]))\n",
      "           \n",
      "# for i, n in enumerate(basin_name):\n",
      "    #\u3000spikeness[n]= pd.Series(spikeness[n], index=DailyFlowRate[n].index)\n",
      "    \n",
      "#for k in range(len(spikeness['Mercer'].values)):    \n",
      "    #if (spikeness['Mercer'].values[k] > -100):\n",
      "        #print spikeness['Mercer'].index[k], spikeness['Mercer'].values[k]"
     ],
     "language": "python",
     "metadata": {},
     "outputs": [
      {
       "output_type": "stream",
       "stream": "stdout",
       "text": [
        "Thornton\n",
        "Mercer"
       ]
      },
      {
       "output_type": "stream",
       "stream": "stdout",
       "text": [
        "\n",
        "Issaquah"
       ]
      },
      {
       "output_type": "stream",
       "stream": "stdout",
       "text": [
        "\n"
       ]
      }
     ],
     "prompt_number": 119
    },
    {
     "cell_type": "code",
     "collapsed": false,
     "input": [
      "# Antecedent dryness index\n",
      "Ant = collections.defaultdict(list)\n",
      "for i, n in enumerate(basin_name):\n",
      "    print str(n)\n",
      "    for j in range(len(DailyFlowRate[n].values)):\n",
      "        if (j < 5):\n",
      "            Ant[n].append(-3)\n",
      "        else:\n",
      "            temp = average(DailyFlowRate[n].values[j-5:j-1])\n",
      "            Ant[n].append(np.log10(DailyFlowRate[n].values[j]/temp))\n",
      "\n",
      "for i, n in enumerate(basin_name):\n",
      "    Ant[n]= pd.Series(Ant[n], index=DailyFlowRate[n].index)\n",
      "\n",
      "#print Ant['Mercer']['1993':'1994']\n",
      "\n",
      "#j = 11\n",
      "#print DailyFlowRate['Mercer']['1993':'1994'].values[j]\n",
      "#print average(DailyFlowRate['Mercer']['1993':'1994'].values[j-5:j-1])\n",
      "#print np.log10(average(DailyFlowRate['Mercer']['1993':'1994'].values[j-5:j-1])/ DailyFlowRate['Mercer']['1993':'1994'].values[j])\n",
      "\n",
      "#print Ant['Mercer']['1993':'1994'][j]"
     ],
     "language": "python",
     "metadata": {},
     "outputs": [
      {
       "output_type": "stream",
       "stream": "stdout",
       "text": [
        "Thornton\n",
        "Mercer"
       ]
      },
      {
       "output_type": "stream",
       "stream": "stdout",
       "text": [
        "\n",
        "Issaquah"
       ]
      },
      {
       "output_type": "stream",
       "stream": "stdout",
       "text": [
        "\n"
       ]
      }
     ],
     "prompt_number": 120
    },
    {
     "cell_type": "markdown",
     "metadata": {},
     "source": [
      "###<font color='red'>Sediment</font>"
     ]
    },
    {
     "cell_type": "markdown",
     "metadata": {},
     "source": [
      "<font color='blue'>Extract the simulate sediment results based on obs timestamp</font>"
     ]
    },
    {
     "cell_type": "code",
     "collapsed": false,
     "input": [
      "S = collections.defaultdict(list)  #spikeness\n",
      "A = collections.defaultdict(list)  #antecedent condition\n",
      "T = collections.defaultdict(list)  #times\n",
      "\n",
      "for j, n in enumerate(basin_name):\n",
      "    for i in range(len(Fobsdate[n])):\n",
      "        obs = dates.date2num(Fobsdate[n][i])\n",
      "        junk = date2num(DailyFlowRate[n].index)\n",
      "        idx = (np.abs(junk-obs)).argmin()\n",
      "        if (idx-1 > 0 and spikeness[n][idx]>-100 and Ant[n][idx]>-100):\n",
      "            T[n].append(DailyFlowRate[n].index[idx])\n",
      "            S[n].append(spikeness[n][idx])\n",
      "            A[n].append(Ant[n][idx])"
     ],
     "language": "python",
     "metadata": {},
     "outputs": [],
     "prompt_number": 121
    },
    {
     "cell_type": "markdown",
     "metadata": {},
     "source": [
      "<font color='blue'>Calculate the **Pearson correlation</sup>** for sediment conc.</font>"
     ]
    },
    {
     "cell_type": "code",
     "collapsed": false,
     "input": [
      "spikeness_sed_flow= {}\n",
      "antecedent_sed_flow = {}\n",
      "print \"Pearson0-r:\\n\"\n",
      "for i, n in enumerate(basin_name):\n",
      "    print str(n), \":\"\n",
      "    r_value, p_value = stats.pearsonr(S[n], FobsSed[n])\n",
      "    spikeness_sed_flow[n] = r_value\n",
      "    r_value, p_value = stats.pearsonr(A[n], FobsSed[n])\n",
      "    antecedent_sed_flow[n] = r_value\n",
      "    print \"Spikeness:\", \"%0.2f\" % spikeness_sed_flow[n], \"(p=\", \"%.3f\"% p_value, \")\" \n",
      "    print \"Antecedent Mositure\", \"%0.2f\" % antecedent_sed_flow[n], \"(p=\", \"%.3f\"% p_value, \")\\n\\n\" \n",
      "print\n"
     ],
     "language": "python",
     "metadata": {},
     "outputs": [
      {
       "output_type": "stream",
       "stream": "stdout",
       "text": [
        "Pearson0-r:\n",
        "\n",
        "Thornton :\n",
        "Spikeness: 0.61 (p= 0.000 )\n",
        "Antecedent Mositure 0.55 (p= 0.000 )\n",
        "\n",
        "\n",
        "Mercer :\n",
        "Spikeness: 0.58 (p= 0.000 )\n",
        "Antecedent Mositure 0.50 (p= 0.000 )\n",
        "\n",
        "\n",
        "Issaquah :\n",
        "Spikeness: 0.30 (p= 0.000 )\n",
        "Antecedent Mositure 0.53 (p= 0.000 )\n",
        "\n",
        "\n",
        "\n"
       ]
      }
     ],
     "prompt_number": 123
    },
    {
     "cell_type": "markdown",
     "metadata": {},
     "source": [
      "<font color='blue'>**Scatterplot** of obs. instantaneous sediment conc. vs. streamflow index</font>"
     ]
    },
    {
     "cell_type": "code",
     "collapsed": false,
     "input": [
      "for i, n in enumerate(basin_name):\n",
      "    print str(n), \":\"\n",
      "    print np.percentile(A[n], 25),np.percentile(A[n], 50), np.percentile(A[n], 75), np.percentile(A[n], 95)"
     ],
     "language": "python",
     "metadata": {},
     "outputs": [
      {
       "output_type": "stream",
       "stream": "stdout",
       "text": [
        "Thornton :\n",
        "-0.0412290533001 0.153388694763 0.471956584465 0.907776561722\n",
        "Mercer :\n",
        "-0.060557952574 0.172733275048 0.615100726116 1.00340411364\n",
        "Issaquah :\n",
        "-0.0186508477976 0.102433119186 0.299538649324 0.577797582074\n"
       ]
      }
     ],
     "prompt_number": 124
    },
    {
     "cell_type": "code",
     "collapsed": false,
     "input": [
      "fig=plt.figure(figsize=(13,3),dpi=400)\n",
      "fig.suptitle('TSS Conc. vs. Spikeness', fontsize=14, fontweight='bold', y =1.05)\n",
      "\n",
      "for i, n in enumerate(basin_name):\n",
      "    s[n] = [0]*len(A[n]) #symbol size\n",
      "    c[n] = ['0']*len(A[n]) #symbol color\n",
      "    \n",
      "jj = 1\n",
      "# Make the scatterplot\n",
      "for i, n in enumerate(basin_name):\n",
      "    print str(n)\n",
      "    # change the plot size based on the Ant value\n",
      "    for j in range(len(A[n])):\n",
      "        if (A[n][j] <= 0):\n",
      "            s[n][j]=5\n",
      "            c[n][j]='blue'\n",
      "        if (n=='Thornton'):\n",
      "            k = 0.8\n",
      "            if (A[n][j] <= k and A[n][j] > 0):\n",
      "                s[n][j]=15\n",
      "                c[n][j]='pink'\n",
      "            if (A[n][j] > k):\n",
      "                s[n][j]=25\n",
      "                c[n][j]='red'\n",
      "        if (n=='Mercer'):\n",
      "            k = 0.8\n",
      "            if (A[n][j] <= k and A[n][j] > 0):\n",
      "                s[n][j]=15\n",
      "                c[n][j]='pink'\n",
      "            if (A[n][j] > k):\n",
      "                s[n][j]=25\n",
      "                c[n][j]='red'\n",
      "        if (n=='Issaquah'):\n",
      "            k = 0.5\n",
      "            if (A[n][j] <= k and A[n][j] > 0):\n",
      "                s[n][j]=15\n",
      "                c[n][j]='pink'\n",
      "            if (A[n][j] > k):\n",
      "                s[n][j]=25\n",
      "                c[n][j]='red'\n",
      "        \n",
      "            \n",
      "    ax = plt.subplot(1, 3, jj)\n",
      "    if (n=='Thornton'):\n",
      "        ax.set_xlim([-0.45, 1.1])\n",
      "        ax.set_ylim([0, 300])\n",
      "    if (n=='Mercer'):\n",
      "        ax.set_xlim([-0.45, 1.1])\n",
      "        ax.set_ylim([0, 120])\n",
      "    if (n=='Issaquah'):\n",
      "        ax.set_xlim([-0.4, 0.8])\n",
      "    jj = jj + 1\n",
      "    # add spacing between subplots\n",
      "    fig.subplots_adjust(hspace = 0.3, wspace = 0.2)\n",
      "    \n",
      "    props = dict(boxstyle='round', facecolor='wheat', alpha=0.5)\n",
      "    \n",
      "    # add the catchment name to the figure\n",
      "    ax.text(.98,.02, str(n), fontsize=12, color='black', horizontalalignment='right', transform=ax.transAxes) \n",
      "    #textstr1 = '$r = %.2f$' % r_sed_flow[n]\n",
      "    #ax.text(0.95, 0.95, textstr1, fontsize=14, transform=ax.transAxes, horizontalalignment='right', verticalalignment='top', bbox=props)\n",
      "      \n",
      "    \n",
      "    if (n == 'Issaquah'):\n",
      "        ax.set_yscale('log')\n",
      "\n",
      "        \n",
      "    # ax.set_xlabel('streamflow (m$^3$/s)', fontsize=12., labelpad=5)\n",
      "    if ( i == 0):\n",
      "        ax.set_ylabel('conc. (mg/l)', fontsize=12., labelpad=5)\n",
      "        \n",
      "    # s = marker size, alpha = degree of transparency   \n",
      "    ax.scatter(S[n], FobsSed[n], s=s[n], c=c[n], alpha=0.8)    \n",
      "\n",
      "outfig1 = str(outputfilepath) + 'sediment-vs-flow.png'      \n",
      "#savefig(str(outfig1), dpi=500, format = 'png', transparent='True')"
     ],
     "language": "python",
     "metadata": {},
     "outputs": [
      {
       "output_type": "stream",
       "stream": "stdout",
       "text": [
        "Thornton\n",
        "Mercer"
       ]
      },
      {
       "output_type": "stream",
       "stream": "stdout",
       "text": [
        "\n",
        "Issaquah"
       ]
      },
      {
       "output_type": "stream",
       "stream": "stdout",
       "text": [
        "\n"
       ]
      },
      {
       "metadata": {},
       "output_type": "display_data",
       "png": "[encoded data removed]",
       "text": [
        "<matplotlib.figure.Figure at 0xcd12eb8>"
       ]
      }
     ],
     "prompt_number": 174
    },
    {
     "cell_type": "markdown",
     "metadata": {},
     "source": [
      "<font color='blue'>**Scatterplot** of obs. instantaneous TP conc. vs. instantaneous streamflow </font>"
     ]
    }
   ],
   "metadata": {}
  }
 ]
}