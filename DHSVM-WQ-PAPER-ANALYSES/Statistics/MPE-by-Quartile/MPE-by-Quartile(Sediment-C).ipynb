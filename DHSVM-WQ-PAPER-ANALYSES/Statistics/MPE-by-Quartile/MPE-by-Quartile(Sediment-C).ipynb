{
 "metadata": {
  "name": "",
  "signature": "sha256:d178935528941944dc115739c3820cde026e74cf528bd27162252a8b87f5cf44"
 },
 "nbformat": 3,
 "nbformat_minor": 0,
 "worksheets": [
  {
   "cells": [
    {
     "cell_type": "markdown",
     "metadata": {},
     "source": [
      "###This scripts caculate R<sup>2</sup> over the entire dataset, and Mean Percentage Error for each quartile of the dataset used for calibration only. The data was split into Calibration and Validation groups using the script <font color='red'>Write-Out-Matching-Records</font>"
     ]
    },
    {
     "cell_type": "code",
     "collapsed": false,
     "input": [
      "%pylab inline"
     ],
     "language": "python",
     "metadata": {},
     "outputs": [
      {
       "output_type": "stream",
       "stream": "stdout",
       "text": [
        "Populating the interactive namespace from numpy and matplotlib\n"
       ]
      },
      {
       "output_type": "stream",
       "stream": "stderr",
       "text": [
        "WARNING: pylab import has clobbered these variables: ['norm', 'gradient']\n",
        "`%matplotlib` prevents importing * from pylab and numpy\n"
       ]
      }
     ],
     "prompt_number": 25
    },
    {
     "cell_type": "markdown",
     "metadata": {},
     "source": [
      "<font color='blue'>**First, import all necessary libraries.**</font>"
     ]
    },
    {
     "cell_type": "code",
     "collapsed": false,
     "input": [
      "# Import all needed libraries \n",
      "import sys, os, datetime, time\n",
      "import collections\n",
      "import numpy as np\n",
      "import pandas as pd\n",
      "import numpy.ma as ma\n",
      "import math\n",
      "import matplotlib.dates as dates\n",
      "import matplotlib.ticker as ticker\n",
      "import matplotlib.pyplot as plt\n",
      "from matplotlib.backends.backend_pdf import PdfPages\n",
      "from scipy.stats import norm\n",
      "from scipy import stats\n",
      "\n",
      "import os\n",
      "os.getcwd() \n",
      "os.chdir(\"D:\\\\Dropbox\\\\Python_Scripts\")\n",
      "os.getcwd()"
     ],
     "language": "python",
     "metadata": {},
     "outputs": [
      {
       "metadata": {},
       "output_type": "pyout",
       "prompt_number": 26,
       "text": [
        "'D:\\\\Dropbox\\\\Python_Scripts'"
       ]
      }
     ],
     "prompt_number": 26
    },
    {
     "cell_type": "markdown",
     "metadata": {},
     "source": [
      "<font color='blue'>**Edit the figure properties**</font> "
     ]
    },
    {
     "cell_type": "code",
     "collapsed": false,
     "input": [
      "import matplotlib as mpl\n",
      "mpl.rcParams['lines.linewidth'] = 2\n",
      "font = {'family' : 'sans-serif',\n",
      "        'sans-serif' : 'Verdana',\n",
      "        'weight' : 'medium',\n",
      "        'size'   : '12'}\n",
      "params1 = {\n",
      "          'axes.labelsize': 12,\n",
      "          'text.fontsize': 12,\n",
      "          'xtick.labelsize': 12,\n",
      "          'xtick.direction': 'out',\n",
      "          'ytick.labelsize': 12,\n",
      "          'legend.pad': 0.01,     # empty space around the legend box\n",
      "          'legend.fontsize': 12,\n",
      "          'legend.labelspacing':0.25,\n",
      "          'font.size': 12,\n",
      "          'font.style': 'normal',\n",
      "          'axes.style': 'normal',\n",
      "          'xtick.labelstyle': 'normal',\n",
      "          }\n",
      "mpl.RcParams.update(params1)\n",
      "mpl.rc('font', **font)\n",
      "plt.rc(\"xtick\", direction=\"out\")\n",
      "plt.rc(\"ytick\", direction=\"out\")\n",
      "plt.rc('legend',**{'fontsize':12})"
     ],
     "language": "python",
     "metadata": {},
     "outputs": [],
     "prompt_number": 27
    },
    {
     "cell_type": "markdown",
     "metadata": {},
     "source": [
      "**<font color='blue'>Read the input water quality files<br></font>\n",
      "<span style=\"background-color: #FFFF00\">NOTE THAT the input used here only consists of sim and obs records with matching timestamps. The script used to extract the matching records are in: C:\\Users\\Ning\\Documents\\IPython Notebooks\\Write-Out-Matching-Records.ipynb</span>**"
     ]
    },
    {
     "cell_type": "code",
     "collapsed": false,
     "input": [
      "basin_name = ['Mercer', 'Thornton', 'Issaquah']\n",
      "basin_nameL = ['mercer', 'thornton', 'issaquah']\n",
      "mainpath = {}\n",
      "simsedfilepath = {}\n",
      "simotherfilepath = {}\n",
      "simTPfilepath = {}\n",
      "\n",
      "# assign the file path\n",
      "for i, n in enumerate(basin_name):\n",
      "    mainpath[n] = 'D:\\\\Dropbox\\\\Python_Scripts\\\\'+str(basin_name[i])\n",
      "    simsedfilepath[n] = str(mainpath[n])+ '\\\\sed_sim_obs_calb.txt'\n",
      "    simotherfilepath[n] = str(mainpath[n])+'\\\\coliform_sim_obs_calb.txt'\n",
      "    simTPfilepath[n] = str(mainpath[n])+'\\\\TP_sim_obs_calb.txt'\n",
      "\n",
      "# read data from input files\n",
      "FsimdateJunk1 = collections.defaultdict(list)\n",
      "FobsdateJunk1 = collections.defaultdict(list)\n",
      "FsimdateJunk2 = collections.defaultdict(list)\n",
      "FobsdateJunk2 = collections.defaultdict(list)\n",
      "Fsimdate = collections.defaultdict(list)\n",
      "Fobsdate = collections.defaultdict(list)\n",
      "\n",
      "FsimSed = collections.defaultdict(list)\n",
      "FobsSed = collections.defaultdict(list)\n",
      "FsimOther = collections.defaultdict(list)\n",
      "\n",
      "FobsOther = collections.defaultdict(list)\n",
      "FsimTP = collections.defaultdict(list)\n",
      "FobsTP = collections.defaultdict(list)\n",
      "\n",
      "for i, n in enumerate(basin_name): \n",
      "    # date and time are stored in two separate columns, so here reading them together\n",
      "    FsimdateJunk1[n] = np.genfromtxt(simsedfilepath[n], dtype=str, skiprows=0, usecols=[0,1])\n",
      "    FobsdateJunk1[n] = np.genfromtxt(simsedfilepath[n], dtype=str, skiprows=0, usecols=[3,4])\n",
      "    # print Fobsdate\n",
      "    \n",
      "    # read simulations\n",
      "    FsimSed[n] = np.genfromtxt(simsedfilepath[n], dtype=float, skiprows=0, usecols=[2])\n",
      "    FsimOther[n] = np.genfromtxt(simotherfilepath[n], dtype=float, skiprows=0, usecols=[2])\n",
      "    FsimTP[n] = np.genfromtxt(simTPfilepath[n], dtype=float, skiprows=0, usecols=[2])\n",
      "    \n",
      "    # read observations\n",
      "    FobsSed[n] = np.genfromtxt(simsedfilepath[n], dtype=float, skiprows=0, usecols=[5])\n",
      "    FobsOther[n] = np.genfromtxt(simotherfilepath[n], dtype=float, skiprows=0, usecols=[5])\n",
      "    FobsTP[n] = np.genfromtxt(simTPfilepath[n], dtype=float, skiprows=0, usecols=[5])\n",
      "    \n",
      "    # debug\n",
      "    print \"coliform: \", str(n), len(FsimOther[n]), len(FobsOther[n])\n",
      "    print \"sediment: \", str(n), len(FsimSed[n]), len(FobsSed[n])\n",
      "    print \"TP: \", str(n), len(FsimTP[n]), len(FobsTP[n])\n",
      "    print \n",
      "\n",
      "# stitch the date and time columns into one column\n",
      "for i, n in enumerate(basin_name): \n",
      "    for j in range(len(FsimdateJunk1[n])):\n",
      "        FsimdateJunk2[n].append(str(FsimdateJunk1[n][j][0])+'-'+str(FsimdateJunk1[n][j][1])) \n",
      "        FobsdateJunk2[n].append(str(FobsdateJunk1[n][j][0])+'-'+str(FobsdateJunk1[n][j][1]))\n",
      "\n",
      "# convert the date/time string to python date/time format\n",
      "for i, n in enumerate(basin_name):\n",
      "    for j in range(len(FsimdateJunk2[n])):\n",
      "        Fsimdate[n].append(datetime.datetime.strptime(FsimdateJunk2[n][j],'%Y-%m-%d-%H:%M:%S'))\n",
      "        Fobsdate[n].append(datetime.datetime.strptime(FobsdateJunk2[n][j],'%Y-%m-%d-%H:%M:%S'))\n",
      "        # debug\n",
      "        # if (i == 0 and j <=5):\n",
      "            #print Fsimdate[n][j], Fobsdate[n][j]"
     ],
     "language": "python",
     "metadata": {},
     "outputs": [
      {
       "output_type": "stream",
       "stream": "stdout",
       "text": [
        "coliform:  Mercer 40 40\n",
        "sediment:  Mercer 32 32\n",
        "TP:  Mercer 41 41\n",
        "\n",
        "coliform:  Thornton 40 40\n",
        "sediment:  Thornton 43 43\n",
        "TP:  Thornton 40 40\n",
        "\n",
        "coliform:  Issaquah 27 27\n",
        "sediment:  Issaquah 31 31\n",
        "TP:  Issaquah 31 31\n",
        "\n"
       ]
      }
     ],
     "prompt_number": 28
    },
    {
     "cell_type": "markdown",
     "metadata": {},
     "source": [
      "<font color='blue'>Calculate the **R<sup>2</sup>** and **MPE**  for sediment conc.</font>"
     ]
    },
    {
     "cell_type": "code",
     "collapsed": false,
     "input": [
      "r2_sed = {}\n",
      "print \"R2:\"\n",
      "for i, n in enumerate(basin_name):\n",
      "    gradient, intercept, r_value, p_value, std_err = stats.linregress(FsimSed[n],FobsSed[n])\n",
      "    r2_sed[n] = r_value**2\n",
      "    print \"\\t\", str(n),\":\", r2_sed[n] \n",
      "print\n",
      "\n",
      "# calculate mean percentage error (MPE)\n",
      "SedObs = {}\n",
      "MPE_Sed = {}\n",
      "print \"MPE:\"\n",
      "for i, n in enumerate(basin_name):\n",
      "    MPE_Sed[n] = sum((x-y)/x/float(len(FobsSed[n])) for y,x in zip(FsimSed[n],FobsSed[n]))\n",
      "    print \"\\t\", str(n),\":\", MPE_Sed[n] \n",
      "\n"
     ],
     "language": "python",
     "metadata": {},
     "outputs": [
      {
       "output_type": "stream",
       "stream": "stdout",
       "text": [
        "R2:\n",
        "\tMercer : 0.743635746163\n",
        "\tThornton : 0.919351092847\n",
        "\tIssaquah : 0.598774210424\n",
        "\n",
        "MPE:\n",
        "\tMercer : 0.126009568972\n",
        "\tThornton : 0.422509855096\n",
        "\tIssaquah : -0.517244204776\n"
       ]
      }
     ],
     "prompt_number": 29
    },
    {
     "cell_type": "markdown",
     "metadata": {},
     "source": [
      "<font color='blue'>Calculate the **quartile of sediment observations**.</font>"
     ]
    },
    {
     "cell_type": "code",
     "collapsed": false,
     "input": [
      "SedObs = {}\n",
      "Sed0 = {}\n",
      "Sed25 = {}\n",
      "Sed50 = {}\n",
      "Sed75 = {}\n",
      "Sed100 = {}\n",
      "for i, n in enumerate(basin_name):\n",
      "    SedObs[n] = pd.DataFrame(FobsSed[n])\n",
      "    \n",
      "    # print the quartile of sediment obs\n",
      "    Sed0[n] = SedObs[n].min()\n",
      "    Sed25[n] = SedObs[n].quantile(0.25)\n",
      "    Sed50[n] = SedObs[n].quantile(0.5)\n",
      "    Sed75[n] = SedObs[n].quantile(0.75)\n",
      "    Sed100[n] = SedObs[n].max()\n",
      "    print str(n), \"quartile\", Sed0[n].values, Sed25[n].values, Sed50[n].values, Sed75[n].values, Sed100[n].values, \"\\n\"\n",
      "    \n",
      "    # convert the panda dataframe to list\n",
      "    # print SedObs[n].values.tolist()\n",
      "    # find the index in a list by element value\n",
      "    # print SedObs[n].values.tolist().index(Sed25[n].values)\n",
      "\n",
      "# check the data type\n",
      "print  \"\\n\", type(Sed100['Mercer'])"
     ],
     "language": "python",
     "metadata": {},
     "outputs": [
      {
       "output_type": "stream",
       "stream": "stdout",
       "text": [
        "Mercer quartile [ 3.3] [ 4.375] [ 7.205] [ 15.65] [ 105.] \n",
        "\n",
        "Thornton quartile [ 6.4] [ 8.9] [ 14.3] [ 26.1] [ 294.] \n",
        "\n",
        "Issaquah quartile [ 5.8] [ 7.45] [ 9.6] [ 34.25] [ 327.] \n",
        "\n",
        "\n",
        "<class 'pandas.core.series.Series'>\n"
       ]
      }
     ],
     "prompt_number": 30
    },
    {
     "cell_type": "markdown",
     "metadata": {},
     "source": [
      "<font color='blue'>Calculate the **MPE** by **quartile of sediment observations** for sediment conc. predictions.</font>"
     ]
    },
    {
     "cell_type": "code",
     "collapsed": false,
     "input": [
      "print \"MPE by Quartile:\\n\"\n",
      "\n",
      "Fsimdate25 = collections.defaultdict(list)\n",
      "Fobsdate25 = collections.defaultdict(list)\n",
      "FsimSed25 = collections.defaultdict(list)\n",
      "FobsSed25 = collections.defaultdict(list)\n",
      "MPE_Sed25 = collections.defaultdict(list)\n",
      "\n",
      "# divide the obs and sim datasets by quartile\n",
      "print \"1st quartile:\"\n",
      "for j, n in enumerate(basin_name):\n",
      "    for i in range(len(FobsSed[n])):\n",
      "        if (FobsSed[n][i] <= Sed25[n].values):\n",
      "            idx = i\n",
      "            Fsimdate25[n].append(Fsimdate[n][idx])\n",
      "            Fobsdate25[n].append(Fobsdate[n][idx])\n",
      "            FsimSed25[n].append(FsimSed[n][idx])\n",
      "            FobsSed25[n].append(FobsSed[n][idx])\n",
      "            MPE_Sed25[n] = sum((x-y)/x/float(len(FobsSed25[n])) for y,x in zip(FsimSed25[n],FobsSed25[n]))\n",
      "    print \"\\t\", str(n),\":\", MPE_Sed25[n]\n",
      "print \"\\n\"\n",
      "\n",
      "Fsimdate50 = collections.defaultdict(list)\n",
      "Fobsdate50 = collections.defaultdict(list)\n",
      "FsimSed50 = collections.defaultdict(list)\n",
      "FobsSed50 = collections.defaultdict(list)\n",
      "MPE_Sed50 = collections.defaultdict(list)\n",
      "print \"2nd quartile:\"\n",
      "for j, n in enumerate(basin_name):\n",
      "    for i in range(len(FobsSed[n])):\n",
      "        if (FobsSed[n][i] <= Sed50[n].values and FobsSed[n][i] > Sed25[n].values):\n",
      "            idx = i\n",
      "            Fsimdate50[n].append(Fsimdate[n][idx])\n",
      "            Fobsdate50[n].append(Fobsdate[n][idx])\n",
      "            FsimSed50[n].append(FsimSed[n][idx])\n",
      "            FobsSed50[n].append(FobsSed[n][idx])\n",
      "            MPE_Sed50[n] = sum((x-y)/x/float(len(FobsSed50[n])) for y,x in zip(FsimSed50[n],FobsSed50[n]))\n",
      "    print \"\\t\", str(n),\":\", MPE_Sed50[n]\n",
      "print \"\\n\"\n",
      "\n",
      "Fsimdate75 = collections.defaultdict(list)\n",
      "Fobsdate75 = collections.defaultdict(list)\n",
      "FsimSed75 = collections.defaultdict(list)\n",
      "FobsSed75 = collections.defaultdict(list)\n",
      "MPE_Sed75 = collections.defaultdict(list)\n",
      "print \"3rd quartile:\"\n",
      "for j, n in enumerate(basin_name):\n",
      "    for i in range(len(FobsSed[n])):\n",
      "        if (FobsSed[n][i] <= Sed75[n].values and FobsSed[n][i] > Sed50[n].values):\n",
      "            idx = i\n",
      "            Fsimdate75[n].append(Fsimdate[n][idx])\n",
      "            Fobsdate75[n].append(Fobsdate[n][idx])\n",
      "            FsimSed75[n].append(FsimSed[n][idx])\n",
      "            FobsSed75[n].append(FobsSed[n][idx])\n",
      "            MPE_Sed75[n] = sum((x-y)/x/float(len(FobsSed75[n])) for y,x in zip(FsimSed75[n],FobsSed75[n]))\n",
      "    print \"\\t\", str(n),\":\", MPE_Sed75[n]\n",
      "print \"\\n\"\n",
      "\n",
      "Fsimdate100 = collections.defaultdict(list)\n",
      "Fobsdate100 = collections.defaultdict(list)\n",
      "FsimSed100 = collections.defaultdict(list)\n",
      "FobsSed100 = collections.defaultdict(list)\n",
      "MPE_Sed100 = collections.defaultdict(list)\n",
      "print \"4th quartile:\"\n",
      "for i, n in enumerate(basin_name):\n",
      "    for i in range(len(FobsSed[n])):\n",
      "        if (FobsSed[n][i] > Sed75[n].values):\n",
      "            idx = i\n",
      "            Fsimdate100[n].append(Fsimdate[n][idx])\n",
      "            Fobsdate100[n].append(Fobsdate[n][idx])\n",
      "            FsimSed100[n].append(FsimSed[n][idx])\n",
      "            FobsSed100[n].append(FobsSed[n][idx])\n",
      "            MPE_Sed100[n] = sum((x-y)/x/float(len(FobsSed100[n])) for y,x in zip(FsimSed100[n],FobsSed100[n]))\n",
      "    print \"\\t\", str(n),\":\", MPE_Sed100[n]\n",
      "print \"\\n\"\n",
      "            "
     ],
     "language": "python",
     "metadata": {},
     "outputs": [
      {
       "output_type": "stream",
       "stream": "stdout",
       "text": [
        "MPE by Quartile:\n",
        "\n",
        "1st quartile:\n",
        "\tMercer : 0.0722275143587\n",
        "\tThornton : 0.395188199695\n",
        "\tIssaquah : -0.979409369102\n",
        "\n",
        "\n",
        "2nd quartile:\n",
        "\tMercer : 0.280209890045\n",
        "\tThornton : 0.60435431576\n",
        "\tIssaquah : -0.601397645801\n",
        "\n",
        "\n",
        "3rd quartile:\n",
        "\tMercer : -0.186542405787\n",
        "\tThornton : 0.269720944041\n",
        "\tIssaquah : -0.743468008971\n",
        "\n",
        "\n",
        "4th quartile:\n",
        "\tMercer : 0.338143277272\n",
        "\tThornton : 0.406886059882\n",
        "\tIssaquah : 0.227020229245\n",
        "\n",
        "\n"
       ]
      }
     ],
     "prompt_number": 31
    },
    {
     "cell_type": "markdown",
     "metadata": {},
     "source": [
      "<font color='blue'>**Restructure the output structure. Catchment name is horizontal and quartile is vertical**</font>"
     ]
    },
    {
     "cell_type": "code",
     "collapsed": false,
     "input": [
      "for i, n in enumerate(basin_name):\n",
      "    print \"%0.2f\" % MPE_Sed25[n],\n",
      "print \n",
      "for i, n in enumerate(basin_name):\n",
      "    print \"%0.2f\" % MPE_Sed50[n],\n",
      "print \n",
      "for i, n in enumerate(basin_name):\n",
      "    print \"%0.2f\" % MPE_Sed75[n],\n",
      "print \n",
      "for i, n in enumerate(basin_name):\n",
      "    print \"%0.2f\" % MPE_Sed100[n],\n",
      "print "
     ],
     "language": "python",
     "metadata": {},
     "outputs": [
      {
       "output_type": "stream",
       "stream": "stdout",
       "text": [
        "0.07 0.40 -0.98\n",
        "0.28 0.60 -0.60\n",
        "-0.19 0.27 -0.74\n",
        "0.34 0.41 0.23\n"
       ]
      }
     ],
     "prompt_number": 32
    }
   ],
   "metadata": {}
  }
 ]
}