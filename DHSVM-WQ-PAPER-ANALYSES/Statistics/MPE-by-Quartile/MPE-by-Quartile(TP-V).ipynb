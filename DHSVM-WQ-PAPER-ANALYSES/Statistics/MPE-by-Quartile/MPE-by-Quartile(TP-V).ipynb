{
 "metadata": {
  "name": "",
  "signature": "sha256:3fd1cc2540ba1ecd3d192b3bc55bb5da9dad4a8415bdf1a7139013d55bf4af44"
 },
 "nbformat": 3,
 "nbformat_minor": 0,
 "worksheets": [
  {
   "cells": [
    {
     "cell_type": "markdown",
     "metadata": {},
     "source": [
      "###This scripts caculate R<sup>2</sup> over the entire dataset, and Mean Percentage Error for each quartile of the dataset used for validation only. The data was split into Calibration and Validation groups using the script <font color='red'>Write-Out-Matching-Records</font>"
     ]
    },
    {
     "cell_type": "code",
     "collapsed": false,
     "input": [
      "%pylab inline"
     ],
     "language": "python",
     "metadata": {},
     "outputs": [
      {
       "output_type": "stream",
       "stream": "stdout",
       "text": [
        "Populating the interactive namespace from numpy and matplotlib\n"
       ]
      }
     ],
     "prompt_number": 1
    },
    {
     "cell_type": "markdown",
     "metadata": {},
     "source": [
      "<font color='blue'>**First, import all necessary libraries.**</font>"
     ]
    },
    {
     "cell_type": "code",
     "collapsed": false,
     "input": [
      "# Import all needed libraries \n",
      "import sys, os, datetime, time\n",
      "import collections\n",
      "import numpy as np\n",
      "import pandas as pd\n",
      "import numpy.ma as ma\n",
      "import math\n",
      "import matplotlib.dates as dates\n",
      "import matplotlib.ticker as ticker\n",
      "import matplotlib.pyplot as plt\n",
      "from matplotlib.backends.backend_pdf import PdfPages\n",
      "from scipy.stats import norm\n",
      "from scipy import stats\n",
      "\n",
      "import os\n",
      "os.getcwd() \n",
      "os.chdir(\"D:\\\\Dropbox\\\\Python_Scripts\")\n",
      "os.getcwd()"
     ],
     "language": "python",
     "metadata": {},
     "outputs": [
      {
       "metadata": {},
       "output_type": "pyout",
       "prompt_number": 2,
       "text": [
        "'D:\\\\Dropbox\\\\Python_Scripts'"
       ]
      }
     ],
     "prompt_number": 2
    },
    {
     "cell_type": "markdown",
     "metadata": {},
     "source": [
      "<font color='blue'>**Edit the figure properties**</font> "
     ]
    },
    {
     "cell_type": "code",
     "collapsed": false,
     "input": [
      "import matplotlib as mpl\n",
      "mpl.rcParams['lines.linewidth'] = 2\n",
      "font = {'family' : 'sans-serif',\n",
      "        'sans-serif' : 'Verdana',\n",
      "        'weight' : 'medium',\n",
      "        'size'   : '12'}\n",
      "params1 = {\n",
      "          'axes.labelsize': 12,\n",
      "          'text.fontsize': 12,\n",
      "          'xtick.labelsize': 12,\n",
      "          'xtick.direction': 'out',\n",
      "          'ytick.labelsize': 12,\n",
      "          'legend.pad': 0.01,     # empty space around the legend box\n",
      "          'legend.fontsize': 12,\n",
      "          'legend.labelspacing':0.25,\n",
      "          'font.size': 12,\n",
      "          'font.style': 'normal',\n",
      "          'axes.style': 'normal',\n",
      "          'xtick.labelstyle': 'normal',\n",
      "          }\n",
      "mpl.RcParams.update(params1)\n",
      "mpl.rc('font', **font)\n",
      "plt.rc(\"xtick\", direction=\"out\")\n",
      "plt.rc(\"ytick\", direction=\"out\")\n",
      "plt.rc('legend',**{'fontsize':12})"
     ],
     "language": "python",
     "metadata": {},
     "outputs": [],
     "prompt_number": 3
    },
    {
     "cell_type": "markdown",
     "metadata": {},
     "source": [
      "**<font color='blue'>Read the input water quality files<br></font>\n",
      "<span style=\"background-color: #FFFF00\">NOTE THAT the input used here only consists of sim and obs records with matching timestamps. The script used to extract the matching records are in: C:\\Users\\Ning\\Documents\\IPython Notebooks\\Write-Out-Matching-Records.ipynb</span>**"
     ]
    },
    {
     "cell_type": "code",
     "collapsed": false,
     "input": [
      "basin_name = ['Mercer', 'Thornton', 'Issaquah']\n",
      "basin_nameL = ['mercer', 'thornton', 'issaquah']\n",
      "mainpath = {}\n",
      "simsedfilepath = {}\n",
      "simotherfilepath = {}\n",
      "simTPfilepath = {}\n",
      "\n",
      "# assign the file path\n",
      "for i, n in enumerate(basin_name):\n",
      "    mainpath[n] = 'D:\\\\Dropbox\\\\Python_Scripts\\\\'+str(basin_name[i])\n",
      "    simsedfilepath[n] = str(mainpath[n])+ '\\\\sed_sim_obs_vald.txt'\n",
      "    simotherfilepath[n] = str(mainpath[n])+'\\\\coliform_sim_obs_vald.txt'\n",
      "    simTPfilepath[n] = str(mainpath[n])+'\\\\TP_sim_obs_vald.txt'\n",
      "\n",
      "# read data from input files\n",
      "FsimdateJunk1 = collections.defaultdict(list)\n",
      "FobsdateJunk1 = collections.defaultdict(list)\n",
      "FsimdateJunk2 = collections.defaultdict(list)\n",
      "FobsdateJunk2 = collections.defaultdict(list)\n",
      "Fsimdate = collections.defaultdict(list)\n",
      "Fobsdate = collections.defaultdict(list)\n",
      "\n",
      "FsimSed = collections.defaultdict(list)\n",
      "FobsSed = collections.defaultdict(list)\n",
      "FsimOther = collections.defaultdict(list)\n",
      "\n",
      "FobsOther = collections.defaultdict(list)\n",
      "FsimTP = collections.defaultdict(list)\n",
      "FobsTP = collections.defaultdict(list)\n",
      "\n",
      "for i, n in enumerate(basin_name): \n",
      "    # date and time are stored in two separate columns, so here reading them together\n",
      "    FsimdateJunk1[n] = np.genfromtxt(simsedfilepath[n], dtype=str, skiprows=0, usecols=[0,1])\n",
      "    FobsdateJunk1[n] = np.genfromtxt(simsedfilepath[n], dtype=str, skiprows=0, usecols=[3,4])\n",
      "    # print Fobsdate\n",
      "    \n",
      "    # read simulations\n",
      "    FsimSed[n] = np.genfromtxt(simsedfilepath[n], dtype=float, skiprows=0, usecols=[2])\n",
      "    FsimOther[n] = np.genfromtxt(simotherfilepath[n], dtype=float, skiprows=0, usecols=[2])\n",
      "    FsimTP[n] = np.genfromtxt(simTPfilepath[n], dtype=float, skiprows=0, usecols=[2])\n",
      "    \n",
      "    # read observations\n",
      "    FobsSed[n] = np.genfromtxt(simsedfilepath[n], dtype=float, skiprows=0, usecols=[5])\n",
      "    FobsOther[n] = np.genfromtxt(simotherfilepath[n], dtype=float, skiprows=0, usecols=[5])\n",
      "    FobsTP[n] = np.genfromtxt(simTPfilepath[n], dtype=float, skiprows=0, usecols=[5])\n",
      "    \n",
      "    # debug\n",
      "    print \"coliform: \", str(n), len(FsimOther[n]), len(FobsOther[n])\n",
      "    print \"sediment: \", str(n), len(FsimSed[n]), len(FobsSed[n])\n",
      "    print \"TP: \", str(n), len(FsimTP[n]), len(FobsTP[n])\n",
      "    print \n",
      "\n",
      "# stitch the date and time columns into one column\n",
      "for i, n in enumerate(basin_name): \n",
      "    for j in range(len(FsimdateJunk1[n])):\n",
      "        FsimdateJunk2[n].append(str(FsimdateJunk1[n][j][0])+'-'+str(FsimdateJunk1[n][j][1])) \n",
      "        FobsdateJunk2[n].append(str(FobsdateJunk1[n][j][0])+'-'+str(FobsdateJunk1[n][j][1]))\n",
      "\n",
      "# convert the date/time string to python date/time format\n",
      "for i, n in enumerate(basin_name):\n",
      "    for j in range(len(FsimdateJunk2[n])):\n",
      "        Fsimdate[n].append(datetime.datetime.strptime(FsimdateJunk2[n][j],'%Y-%m-%d-%H:%M:%S'))\n",
      "        Fobsdate[n].append(datetime.datetime.strptime(FobsdateJunk2[n][j],'%Y-%m-%d-%H:%M:%S'))\n",
      "        # debug\n",
      "        # if (i == 0 and j <=5):\n",
      "            #print Fsimdate[n][j], Fobsdate[n][j]"
     ],
     "language": "python",
     "metadata": {},
     "outputs": [
      {
       "output_type": "stream",
       "stream": "stdout",
       "text": [
        "coliform:  Mercer 59 59\n",
        "sediment:  Mercer 66 66\n",
        "TP:  Mercer 52 52\n",
        "\n",
        "coliform:  Thornton 59 59\n",
        "sediment:  Thornton 56 56\n",
        "TP:  Thornton 54 54\n",
        "\n",
        "coliform:  Issaquah 55 55\n",
        "sediment:  Issaquah 52 52\n",
        "TP:  Issaquah 46 46\n",
        "\n"
       ]
      }
     ],
     "prompt_number": 4
    },
    {
     "cell_type": "markdown",
     "metadata": {},
     "source": [
      "<font color='blue'>Calculate the **R<sup>2</sup>** and **MPE**  for TP conc.</font>"
     ]
    },
    {
     "cell_type": "code",
     "collapsed": false,
     "input": [
      "r2_TP = {}\n",
      "print \"R2:\"\n",
      "for i, n in enumerate(basin_name):\n",
      "    gradient, intercept, r_value, p_value, std_err = stats.linregress(FsimTP[n],FobsTP[n])\n",
      "    r2_TP[n] = r_value**2\n",
      "    print \"\\t\", str(n),\":\", r2_TP[n] \n",
      "print\n",
      "\n",
      "# calculate mean percentage error (MPE)\n",
      "TPObs = {}\n",
      "MPE_TP = {}\n",
      "print \"MPE:\"\n",
      "for i, n in enumerate(basin_name):\n",
      "    MPE_TP[n] = sum((x-y)/x/float(len(FobsTP[n])) for y,x in zip(FsimTP[n],FobsTP[n]))\n",
      "    print \"\\t\", str(n),\":\", MPE_TP[n] \n",
      "\n"
     ],
     "language": "python",
     "metadata": {},
     "outputs": [
      {
       "output_type": "stream",
       "stream": "stdout",
       "text": [
        "R2:\n",
        "\tMercer : 0.27749101318\n",
        "\tThornton : 0.472212599488\n",
        "\tIssaquah : 0.829879539849\n",
        "\n",
        "MPE:\n",
        "\tMercer : 0.18321533692\n",
        "\tThornton : 0.344032489463\n",
        "\tIssaquah : 0.238771659559\n"
       ]
      }
     ],
     "prompt_number": 5
    },
    {
     "cell_type": "markdown",
     "metadata": {},
     "source": [
      "<font color='blue'>Calculate the **quartile of TP observations**.</font>"
     ]
    },
    {
     "cell_type": "code",
     "collapsed": false,
     "input": [
      "TPObs = {}\n",
      "TP0 = {}\n",
      "TP25 = {}\n",
      "TP50 = {}\n",
      "TP75 = {}\n",
      "TP100 = {}\n",
      "for i, n in enumerate(basin_name):\n",
      "    TPObs[n] = pd.DataFrame(FobsTP[n])\n",
      "    \n",
      "    # print the quartile of TP obs\n",
      "    TP0[n] = TPObs[n].min()\n",
      "    TP25[n] = TPObs[n].quantile(0.25)\n",
      "    TP50[n] = TPObs[n].quantile(0.5)\n",
      "    TP75[n] = TPObs[n].quantile(0.75)\n",
      "    TP100[n] = TPObs[n].max()\n",
      "    print str(n), \"quartile\", TP0[n].values, TP25[n].values, TP50[n].values, TP75[n].values, TP100[n].values, \"\\n\"\n",
      "    \n",
      "    # convert the panda dataframe to list\n",
      "    # print TPObs[n].values.tolist()\n",
      "    # find the index in a list by element value\n",
      "    # print TPObs[n].values.tolist().index(TP25[n].values)\n",
      "\n",
      "# check the data type\n",
      "print  \"\\n\", type(TP100['Mercer'])"
     ],
     "language": "python",
     "metadata": {},
     "outputs": [
      {
       "output_type": "stream",
       "stream": "stdout",
       "text": [
        "Mercer quartile [ 0.08] [ 0.09] [ 0.09] [ 0.12] [ 0.22] \n",
        "\n",
        "Thornton quartile [ 0.07] [ 0.08] [ 0.09] [ 0.1475] [ 0.34] \n",
        "\n",
        "Issaquah quartile [ 0.04] [ 0.0425] [ 0.055] [ 0.1175] [ 1.24] \n",
        "\n",
        "\n",
        "<class 'pandas.core.series.Series'>\n"
       ]
      }
     ],
     "prompt_number": 6
    },
    {
     "cell_type": "markdown",
     "metadata": {},
     "source": [
      "<font color='blue'>Calculate the **MPE** by **quartile of TP observations** for TP conc. predictions.</font>"
     ]
    },
    {
     "cell_type": "code",
     "collapsed": false,
     "input": [
      "print \"MPE by Quartile:\\n\"\n",
      "\n",
      "FsimTP25 = collections.defaultdict(list)\n",
      "FobsTP25 = collections.defaultdict(list)\n",
      "MPE_TP25 = collections.defaultdict(list)\n",
      "\n",
      "# divide the obs and sim datasets by quartile\n",
      "print \"1st quartile:\"\n",
      "for i, n in enumerate(basin_name):\n",
      "    for i in range(len(FobsTP[n])):\n",
      "        if (FobsTP[n][i] <= TP25[n].values):\n",
      "            idx = i\n",
      "            FsimTP25[n].append(FsimTP[n][idx])\n",
      "            FobsTP25[n].append(FobsTP[n][idx])\n",
      "            MPE_TP25[n] = sum((x-y)/x/float(len(FobsTP25[n])) for y,x in zip(FsimTP25[n],FobsTP25[n]))\n",
      "    print \"\\t\", str(n),\":\", MPE_TP25[n]\n",
      "print \"\\n\"\n",
      "\n",
      "FsimTP50 = collections.defaultdict(list)\n",
      "FobsTP50 = collections.defaultdict(list)\n",
      "MPE_TP50 = collections.defaultdict(list)\n",
      "print \"2nd quartile:\"\n",
      "for i, n in enumerate(basin_name):\n",
      "    for i in range(len(FobsTP[n])):\n",
      "        if (FobsTP[n][i] <= TP50[n].values and FobsTP[n][i] > TP25[n].values):\n",
      "            idx = i\n",
      "            FsimTP50[n].append(FsimTP[n][idx])\n",
      "            FobsTP50[n].append(FobsTP[n][idx])\n",
      "            MPE_TP50[n] = sum((x-y)/x/float(len(FobsTP50[n])) for y,x in zip(FsimTP50[n],FobsTP50[n]))\n",
      "    print \"\\t\", str(n),\":\", MPE_TP50[n]\n",
      "print \"\\n\"\n",
      "\n",
      "FsimTP75 = collections.defaultdict(list)\n",
      "FobsTP75 = collections.defaultdict(list)\n",
      "MPE_TP75 = collections.defaultdict(list)\n",
      "print \"3rd quartile:\"\n",
      "for i, n in enumerate(basin_name):\n",
      "    for i in range(len(FobsTP[n])):\n",
      "        if (FobsTP[n][i] <= TP75[n].values and FobsTP[n][i] > TP50[n].values):\n",
      "            idx = i\n",
      "            FsimTP75[n].append(FsimTP[n][idx])\n",
      "            FobsTP75[n].append(FobsTP[n][idx])\n",
      "            MPE_TP75[n] = sum((x-y)/x/float(len(FobsTP75[n])) for y,x in zip(FsimTP75[n],FobsTP75[n]))\n",
      "    print \"\\t\", str(n),\":\", MPE_TP75[n]\n",
      "print \"\\n\"\n",
      "\n",
      "FsimTP100 = collections.defaultdict(list)\n",
      "FobsTP100 = collections.defaultdict(list)\n",
      "MPE_TP100 = collections.defaultdict(list)\n",
      "print \"4th quartile:\"\n",
      "for i, n in enumerate(basin_name):\n",
      "    for i in range(len(FobsTP[n])):\n",
      "        if (FobsTP[n][i] > TP75[n].values):\n",
      "            idx = i\n",
      "            FsimTP100[n].append(FsimTP[n][idx])\n",
      "            FobsTP100[n].append(FobsTP[n][idx])\n",
      "            MPE_TP100[n] = sum((x-y)/x/float(len(FobsTP100[n])) for y,x in zip(FsimTP100[n],FobsTP100[n]))\n",
      "    print \"\\t\", str(n),\":\", MPE_TP100[n]\n",
      "print \"\\n\"\n",
      "            "
     ],
     "language": "python",
     "metadata": {},
     "outputs": [
      {
       "output_type": "stream",
       "stream": "stdout",
       "text": [
        "MPE by Quartile:\n",
        "\n",
        "1st quartile:\n",
        "\tMercer : 0.195072119342\n",
        "\tThornton : 0.549150510204\n",
        "\tIssaquah : 0.19555625\n",
        "\n",
        "\n",
        "2nd quartile:\n",
        "\tMercer : []\n",
        "\tThornton : 0.296441269841\n",
        "\tIssaquah : 0.257649090909\n",
        "\n",
        "\n",
        "3rd quartile:\n",
        "\tMercer : 0.288923989899\n",
        "\tThornton : 0.141009541708\n",
        "\tIssaquah : 0.30802369146\n",
        "\n",
        "\n",
        "4th quartile:\n",
        "\tMercer : -0.00736095508658\n",
        "\tThornton : 0.234170737667\n",
        "\tIssaquah : 0.201201727803\n",
        "\n",
        "\n"
       ]
      }
     ],
     "prompt_number": 7
    },
    {
     "cell_type": "code",
     "collapsed": false,
     "input": [
      "for i, n in enumerate(basin_name):\n",
      "    print \"%0.2f\" % MPE_TP25[n],\n",
      "print \n",
      "for i, n in enumerate(basin_name):\n",
      "    print \"%0.2f\" % MPE_TP50[n],\n",
      "print \n",
      "for i, n in enumerate(basin_name):\n",
      "    print \"%0.2f\" % MPE_TP75[n],\n",
      "print \n",
      "for i, n in enumerate(basin_name):\n",
      "    print \"%0.2f\" % MPE_TP100[n],\n",
      "print \n"
     ],
     "language": "python",
     "metadata": {},
     "outputs": [
      {
       "output_type": "stream",
       "stream": "stdout",
       "text": [
        "0.20 0.55 0.20\n"
       ]
      },
      {
       "ename": "TypeError",
       "evalue": "float argument required, not list",
       "output_type": "pyerr",
       "traceback": [
        "\u001b[1;31m---------------------------------------------------------------------------\u001b[0m\n\u001b[1;31mTypeError\u001b[0m                                 Traceback (most recent call last)",
        "\u001b[1;32m<ipython-input-8-58fd3963e812>\u001b[0m in \u001b[0;36m<module>\u001b[1;34m()\u001b[0m\n\u001b[0;32m      3\u001b[0m \u001b[1;32mprint\u001b[0m\u001b[1;33m\u001b[0m\u001b[0m\n\u001b[0;32m      4\u001b[0m \u001b[1;32mfor\u001b[0m \u001b[0mi\u001b[0m\u001b[1;33m,\u001b[0m \u001b[0mn\u001b[0m \u001b[1;32min\u001b[0m \u001b[0menumerate\u001b[0m\u001b[1;33m(\u001b[0m\u001b[0mbasin_name\u001b[0m\u001b[1;33m)\u001b[0m\u001b[1;33m:\u001b[0m\u001b[1;33m\u001b[0m\u001b[0m\n\u001b[1;32m----> 5\u001b[1;33m     \u001b[1;32mprint\u001b[0m \u001b[1;34m\"%0.2f\"\u001b[0m \u001b[1;33m%\u001b[0m \u001b[0mMPE_TP50\u001b[0m\u001b[1;33m[\u001b[0m\u001b[0mn\u001b[0m\u001b[1;33m]\u001b[0m\u001b[1;33m,\u001b[0m\u001b[1;33m\u001b[0m\u001b[0m\n\u001b[0m\u001b[0;32m      6\u001b[0m \u001b[1;32mprint\u001b[0m\u001b[1;33m\u001b[0m\u001b[0m\n\u001b[0;32m      7\u001b[0m \u001b[1;32mfor\u001b[0m \u001b[0mi\u001b[0m\u001b[1;33m,\u001b[0m \u001b[0mn\u001b[0m \u001b[1;32min\u001b[0m \u001b[0menumerate\u001b[0m\u001b[1;33m(\u001b[0m\u001b[0mbasin_name\u001b[0m\u001b[1;33m)\u001b[0m\u001b[1;33m:\u001b[0m\u001b[1;33m\u001b[0m\u001b[0m\n",
        "\u001b[1;31mTypeError\u001b[0m: float argument required, not list"
       ]
      }
     ],
     "prompt_number": 8
    },
    {
     "cell_type": "code",
     "collapsed": false,
     "input": [],
     "language": "python",
     "metadata": {},
     "outputs": []
    }
   ],
   "metadata": {}
  }
 ]
}