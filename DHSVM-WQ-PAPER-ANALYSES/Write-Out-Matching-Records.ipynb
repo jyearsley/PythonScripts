{
 "metadata": {
  "name": "",
  "signature": "sha256:c26ef90e33ac38ec188837a16a8e629cbd07d01e10d186317c0726ca777299d9"
 },
 "nbformat": 3,
 "nbformat_minor": 0,
 "worksheets": [
  {
   "cells": [
    {
     "cell_type": "markdown",
     "metadata": {},
     "source": [
      "###<font color='blue'>This python script is used to export the (discrete) observations and (continuous) simulations of water quality with matching timestamps to files. I choose to read these records from external files for follow-up analyses because Python takes considerable time to extract simulations based on observation timestamps. </font>"
     ]
    },
    {
     "cell_type": "code",
     "collapsed": false,
     "input": [
      "%pylab inline"
     ],
     "language": "python",
     "metadata": {},
     "outputs": [
      {
       "output_type": "stream",
       "stream": "stdout",
       "text": [
        "Populating the interactive namespace from numpy and matplotlib\n"
       ]
      },
      {
       "output_type": "stream",
       "stream": "stderr",
       "text": [
        "WARNING: pylab import has clobbered these variables: ['norm']\n",
        "`%matplotlib` prevents importing * from pylab and numpy\n"
       ]
      }
     ],
     "prompt_number": 12
    },
    {
     "cell_type": "markdown",
     "metadata": {},
     "source": [
      "<font color='blue'>**First, import all necessary libraries.**</font>"
     ]
    },
    {
     "cell_type": "code",
     "collapsed": false,
     "input": [
      "# Import all needed libraries \n",
      "import sys, os, datetime, time\n",
      "import collections\n",
      "import numpy as np\n",
      "import pandas as pd\n",
      "import numpy.ma as ma\n",
      "import math\n",
      "import matplotlib.dates as dates\n",
      "import matplotlib.ticker as ticker\n",
      "import matplotlib.pyplot as plt\n",
      "from matplotlib.backends.backend_pdf import PdfPages\n",
      "from scipy.stats import norm\n",
      "from scipy import stats\n",
      "\n",
      "import os\n",
      "os.getcwd() \n",
      "os.chdir(\"D:\\\\Dropbox\\\\Python_Scripts\")\n",
      "os.getcwd()"
     ],
     "language": "python",
     "metadata": {},
     "outputs": [
      {
       "metadata": {},
       "output_type": "pyout",
       "prompt_number": 13,
       "text": [
        "'D:\\\\Dropbox\\\\Python_Scripts'"
       ]
      }
     ],
     "prompt_number": 13
    },
    {
     "cell_type": "markdown",
     "metadata": {},
     "source": [
      "<font color='blue'>**Edit the figure properties**</font> "
     ]
    },
    {
     "cell_type": "code",
     "collapsed": false,
     "input": [
      "import matplotlib as mpl\n",
      "mpl.rcParams['lines.linewidth'] = 2\n",
      "font = {'family' : 'sans-serif',\n",
      "        'sans-serif' : 'Verdana',\n",
      "        'weight' : 'medium',\n",
      "        'size'   : '12'}\n",
      "params1 = {\n",
      "          'axes.labelsize': 12,\n",
      "          'text.fontsize': 12,\n",
      "          'xtick.labelsize': 12,\n",
      "          'xtick.direction': 'out',\n",
      "          'ytick.labelsize': 12,\n",
      "          'legend.pad': 0.01,     # empty space around the legend box\n",
      "          'legend.fontsize': 12,\n",
      "          'legend.labelspacing':0.25,\n",
      "          'font.size': 12,\n",
      "          'font.style': 'normal',\n",
      "          'axes.style': 'normal',\n",
      "          'xtick.labelstyle': 'normal',\n",
      "          }\n",
      "mpl.RcParams.update(params1)\n",
      "mpl.rc('font', **font)\n",
      "plt.rc(\"xtick\", direction=\"out\")\n",
      "plt.rc(\"ytick\", direction=\"out\")\n",
      "plt.rc('legend',**{'fontsize':12})"
     ],
     "language": "python",
     "metadata": {},
     "outputs": [],
     "prompt_number": 14
    },
    {
     "cell_type": "markdown",
     "metadata": {},
     "source": [
      "**<font color='blue'>Read the input water quality files (change the path if needed)<br></font>\n",
      "<span style=\"background-color: #FFFF00\"><span style=\"color:#f00\">Attention?</span></span>**"
     ]
    },
    {
     "cell_type": "code",
     "collapsed": false,
     "input": [
      "basin_name = ['Mercer', 'Thornton', 'Issaquah']\n",
      "basin_nameL = ['mercer', 'thornton', 'issaquah']\n",
      "mainpath = {}\n",
      "simflowpath = {}\n",
      "obsflowpath = {}\n",
      "simsedfilepath = {}\n",
      "simotherfilepath = {}\n",
      "simOrgPfilepath = {}\n",
      "simSolPfilepath = {}\n",
      "obsfilepath = {}\n",
      "precipfilepath = {}\n",
      "\n",
      "for i, n in enumerate(basin_name):\n",
      "    mainpath[n] = 'D:\\\\Box Sync\\\\Python_Scripts\\\\'+str(basin_name[i])\n",
      "    simflowpath[n] = str(mainpath[n]) + '\\\\Streamflow.Only' # path to the continuous streamflow sim. file\n",
      "    if ( n == 'Mercer'):\n",
      "        obsflowpath[n] = str(mainpath[n])+'\\\\streamflow.12120000.cms.txt'\n",
      "    if ( n == 'Thornton'):\n",
      "        obsflowpath[n] = str(mainpath[n])+'\\\\streamflow.12128000.cms.txt'\n",
      "    if ( n == 'Issaquah'):\n",
      "        obsflowpath[n] = str(mainpath[n])+'\\\\streamflow.12121600.cms.txt'\n",
      "        \n",
      "    simsedfilepath[n] = str(mainpath[n])+'\\\\Sed.Flow.Only'\n",
      "    simotherfilepath[n] = str(mainpath[n])+'\\\\Other.Conc.Only'\n",
      "    simOrgPfilepath[n] = str(mainpath[n])+'\\\\OrgP.Conc.Only'\n",
      "    simSolPfilepath[n] = str(mainpath[n])+'\\\\solP.Conc.Only'\n",
      "    obsfilepath[n] = str(mainpath[n])+'\\\\'+str(basin_nameL[i])+'-time-stamped.txt'\n",
      "    precipfilepath[n] = str(mainpath[n])+'\\\\Mass.Balance'"
     ],
     "language": "python",
     "metadata": {},
     "outputs": [],
     "prompt_number": 4
    },
    {
     "cell_type": "markdown",
     "metadata": {},
     "source": [
      "<font color='blue'>**Read the input water quality files (change the path if needed)**</font><br>"
     ]
    },
    {
     "cell_type": "code",
     "collapsed": false,
     "input": [
      "tempsimdates = {}\n",
      "tempobsdates = {}\n",
      "tempobsflowdates = {}\n",
      "simflow = {}\n",
      "obsflow = {}\n",
      "simseddata = {}\n",
      "simotherdata = {}\n",
      "simOrgnPdata = {}\n",
      "simSolPdata = {}\n",
      "simTPdata = {}\n",
      "obsotherdata = {}\n",
      "obsseddata = {}\n",
      "obsTPdata = {}\n",
      "precipdata = {}\n",
      "\n",
      "for i, n in enumerate(basin_name):\n",
      "    tempsimdates[n] = np.genfromtxt(simsedfilepath[n], dtype=str, skiprows=2, usecols=0)\n",
      "    tempobsdates[n] = np.genfromtxt(obsfilepath[n], dtype=str, skiprows=1, usecols=0)\n",
      "    tempobsflowdates[n] = np.genfromtxt(obsflowpath[n], dtype=str, usecols=0)\n",
      "    \n",
      "    # simulations\n",
      "    simflow[n] = np.genfromtxt(simflowpath[n], dtype=float, skiprows=2, usecols=[1])\n",
      "    obsflow[n] = np.genfromtxt(obsflowpath[n], dtype=float, usecols=[1])\n",
      "    simseddata[n] = np.genfromtxt(simsedfilepath[n], skiprows=2, usecols=[2])\n",
      "    simotherdata[n] = np.genfromtxt(simotherfilepath[n], skiprows=2, usecols=[1])\n",
      "    simOrgnPdata[n] = np.genfromtxt(simOrgPfilepath[n], skiprows=2, usecols=[1])\n",
      "    simSolPdata[n] = np.genfromtxt(simSolPfilepath[n], skiprows=2, usecols=[1])\n",
      "    simTPdata[n] = simOrgnPdata[n] + simSolPdata[n]\n",
      "    \n",
      "    # observations\n",
      "    obsotherdata[n] = np.genfromtxt(obsfilepath[n], dtype=float, skiprows=1, usecols=[1])\n",
      "    \n",
      "    # add initial concentration \n",
      "    if (n == 'Mercer'):\n",
      "        simseddata[n] = simseddata[n] + 2\n",
      "        simotherdata[n] = simotherdata[n]/0.01444 + 300\n",
      "    if (n == 'Thornton'):\n",
      "        simseddata[n] = simseddata[n] + 3.4\n",
      "        simotherdata[n] = simotherdata[n]/0.01444 + 500\n",
      "    if (n == 'Issaquah'):\n",
      "        simseddata[n] = simseddata[n] + 5\n",
      "        simotherdata[n] = simotherdata[n] + 300\n",
      "        \n",
      "    # the Mercer water quality obs files are formatted slightly different\n",
      "    if (n == 'Mercer'):\n",
      "        obsseddata[n] = np.genfromtxt(obsfilepath[n], dtype=float, skiprows=1, usecols=[3])\n",
      "        obsTPdata[n] = np.genfromtxt(obsfilepath[n], dtype=float, skiprows=1, usecols=[2])\n",
      "    else:\n",
      "        obsseddata[n] = np.genfromtxt(obsfilepath[n], dtype=float, skiprows=1, usecols=[2])\n",
      "        obsTPdata[n] = np.genfromtxt(obsfilepath[n], dtype=float, skiprows=1, usecols=[6])\n",
      "        \n",
      "    # Read obs. precipitation data\n",
      "    precipdata[n] = np.genfromtxt(precipfilepath[n], dtype=float, skiprows=24, usecols=[9])"
     ],
     "language": "python",
     "metadata": {},
     "outputs": [],
     "prompt_number": 6
    },
    {
     "cell_type": "markdown",
     "metadata": {},
     "source": [
      "<font color='blue'>**Third, find out the dates when both sims and obs (discontinous) are available.**</font>"
     ]
    },
    {
     "cell_type": "code",
     "collapsed": false,
     "input": [
      "#######dates###########\n",
      "simdates = collections.defaultdict(list)\n",
      "Fsimdate = collections.defaultdict(list)\n",
      "Fobsdate = collections.defaultdict(list)\n",
      "########sediment#######\n",
      "FsimFlow = collections.defaultdict(list)\n",
      "FsimSed = collections.defaultdict(list)\n",
      "FsimSedPre = collections.defaultdict(list)\n",
      "FsimSedPost = collections.defaultdict(list)\n",
      "FobsSed = collections.defaultdict(list)\n",
      "########coliform#######\n",
      "FsimOther = collections.defaultdict(list)\n",
      "FsimOtherPre = collections.defaultdict(list)\n",
      "FsimOtherPost = collections.defaultdict(list)\n",
      "FobsOther = collections.defaultdict(list)\n",
      "######phosphorous######\n",
      "FsimTP = collections.defaultdict(list)\n",
      "FsimTPPre = collections.defaultdict(list)\n",
      "FsimTPPost = collections.defaultdict(list)\n",
      "FobsTP = collections.defaultdict(list)\n",
      "#######################\n",
      "\n",
      "# construct the sim. date obj.\n",
      "for i, n in enumerate(basin_name):\n",
      "    for j in range(len(tempsimdates[n])):\n",
      "        simdates[n].append(datetime.datetime.strptime(tempsimdates[n][j],'%m/%d/%Y-%H:%M:%S'))\n",
      "\n",
      "# construct the obs. water quality date obj.\n",
      "obsdates = collections.defaultdict(list)\n",
      "for i, n in enumerate(basin_name):\n",
      "    for j in range(len(tempobsdates[n])):\n",
      "        obsdates[n].append(datetime.datetime.strptime(tempobsdates[n][j],'%m/%d/%Y-%H:%M:%S'))\n",
      "        \n",
      "# construct the obs. stream flow date obj.\n",
      "obsflowdates = collections.defaultdict(list)\n",
      "for i, n in enumerate(basin_name):\n",
      "    for j in range(len(tempobsflowdates[n])):\n",
      "        obsflowdates[n].append(datetime.datetime.strptime(tempobsflowdates[n][j],'%Y-%m-%d'))\n",
      "\n",
      "\n",
      "for j, n in enumerate(basin_name):\n",
      "    for i in range(len(obsdates[n])):\n",
      "        obs = dates.date2num(obsdates[n][i])\n",
      "        junk = date2num(simdates[n])\n",
      "        idx = (np.abs(junk-obs)).argmin()\n",
      "        if (idx-1 > 0 and (idx+1)< len(simdates[n])):\n",
      "            Fsimdate[n].append(simdates[n][idx])\n",
      "            Fobsdate[n].append(obsdates[n][i])\n",
      "            \n",
      "            FsimFlow[n].append(simflow[n][idx])\n",
      "            #\n",
      "            FsimSed[n].append(simseddata[n][idx])\n",
      "            FsimSedPre[n].append(simseddata[n][idx-1])\n",
      "            FsimSedPost[n].append(simseddata[n][idx+1])\n",
      "            FobsSed[n].append(obsseddata[n][i])\n",
      "            #\n",
      "            FobsOther[n].append(obsotherdata[n][i])\n",
      "            FsimOther[n].append(simotherdata[n][idx])\n",
      "            FsimOtherPre[n].append(simotherdata[n][idx-1])\n",
      "            FsimOtherPost[n].append(simotherdata[n][idx+1])\n",
      "            #\n",
      "            FobsTP[n].append(obsTPdata[n][i])\n",
      "            FsimTP[n].append(simTPdata[n][idx])\n",
      "            FsimTPPre[n].append(simTPdata[n][idx-1])\n",
      "            FsimTPPost[n].append(simTPdata[n][idx+1])\n",
      "\n",
      "# unit conversion (divide by 1000)\n",
      "for j, n in enumerate(basin_name):\n",
      "    for i in range(len(FsimOther[n])):\n",
      "        FsimFlow[n][i] = FsimFlow[n][i]/3/3600 # convert from m^3 to m^3 per second\n",
      "        FsimOther[n][i]= FsimOther[n][i]/1000\n",
      "        FobsOther[n][i] = FobsOther[n][i]/1000\n",
      "        FsimOtherPost[n][i] = FsimOtherPost[n][i]/1000 \n",
      "        FsimOtherPre[n][i] = FsimOtherPre[n][i]/1000 "
     ],
     "language": "python",
     "metadata": {},
     "outputs": [],
     "prompt_number": 7
    },
    {
     "cell_type": "markdown",
     "metadata": {},
     "source": [
      "<font color='blue'>Calculate the **quartile of TSS, TP and FC observations**.</font>"
     ]
    },
    {
     "cell_type": "code",
     "collapsed": false,
     "input": [
      "SedObs = {}\n",
      "Sed25 = {}\n",
      "ColObs = {}\n",
      "Col25 = {}\n",
      "TPObs = {}\n",
      "TP25 = {}\n",
      "\n",
      "# set the quantile \n",
      "zz = 0.5\n",
      "for i, n in enumerate(basin_name):\n",
      "    SedObs[n] = pd.DataFrame(FobsSed[n])\n",
      "    Sed25[n] = SedObs[n].quantile(zz)\n",
      "    ColObs[n] = pd.DataFrame(FobsOther[n])\n",
      "    Col25[n] = ColObs[n].quantile(zz)\n",
      "    TPObs[n] = pd.DataFrame(FobsTP[n])\n",
      "    TP25[n] = TPObs[n].quantile(zz)\n",
      "    print str(n), zz*100, \"% quartile\", Sed25[n].values, Col25[n].values, TP25[n].values, \"\\n\""
     ],
     "language": "python",
     "metadata": {},
     "outputs": [
      {
       "output_type": "stream",
       "stream": "stdout",
       "text": [
        "Mercer 50.0 % quartile [ 3.2] [ 0.19] [ 0.07] \n",
        "\n",
        "Thornton 50.0 % quartile [ 6.05] [ 0.62] [ 0.06] \n",
        "\n",
        "Issaquah 50.0 % quartile [ 5.8] [ 0.15] [ 0.03] \n",
        "\n"
       ]
      }
     ],
     "prompt_number": 9
    },
    {
     "cell_type": "markdown",
     "metadata": {},
     "source": [
      "<font color='blue'>**Find the date (01/2002 is used here) to split the dataset into 2 groups: calibration and validation**</font>"
     ]
    },
    {
     "cell_type": "code",
     "collapsed": false,
     "input": [
      "idx = collections.defaultdict(list)\n",
      "for i, n in enumerate(basin_name):\n",
      "    for j in range(len(Fsimdate[n])):\n",
      "        if (Fsimdate[n][j].year==2002 and Fsimdate[n][j].month==1):\n",
      "            print str(n), Fsimdate[n][j], j\n",
      "            idx[n].append(j)\n",
      "# debug\n",
      "print\n",
      "for i, n in enumerate(basin_name):\n",
      "    print \"slicing index -\", str(n), idx[n]"
     ],
     "language": "python",
     "metadata": {},
     "outputs": [
      {
       "output_type": "stream",
       "stream": "stdout",
       "text": [
        "Mercer 2002-01-14 09:00:00 110\n",
        "Thornton 2002-01-14 09:00:00 109\n",
        "Issaquah 2002-01-15 09:00:00 105\n",
        "\n",
        "slicing index - Mercer [110]\n",
        "slicing index - Thornton [109]\n",
        "slicing index - Issaquah [105]\n"
       ]
      }
     ],
     "prompt_number": 53
    },
    {
     "cell_type": "markdown",
     "metadata": {},
     "source": [
      "<font color='blue'>**Save the <font color='red'>TSS, FC and TP</font> sim & obs with matching timestamp for each basin**</font>"
     ]
    },
    {
     "cell_type": "code",
     "collapsed": false,
     "input": [
      "outsedfilepath = {}\n",
      "outsedfile = {}\n",
      "\n",
      "# The whole dataset\n",
      "for i, n in enumerate(basin_name):\n",
      "    outsedfilepath[i] = str(mainpath[n])+'\\\\sed_sim_obs_full_set.txt'\n",
      "    outsedfile[i] = open(outsedfilepath[i], 'w')\n",
      "    for j in range(len(FsimSed[n])):\n",
      "        outsedfile[i].write(\"%s %f %s %f %f\\n\" % (str(Fsimdate[n][j]), FsimSed[n][j], str(Fobsdate[n][j]), FobsSed[n][j], FsimFlow[n][j]))\n",
      "    outsedfile[i].close()\n",
      "    \n",
      "outFCfilepath = {}\n",
      "outFCfile = {}\n",
      "for i, n in enumerate(basin_name):\n",
      "    outFCfilepath[i] = str(mainpath[n])+'\\\\coliform_sim_obs_full_set.txt'\n",
      "    outFCfile[i] = open(outFCfilepath[i], 'w')\n",
      "    for j in range(len(FsimOther[n])):\n",
      "        # print Fsimdate[n][j], FsimOther[n][j], Fobsdate[n][j], FobsOther[n][j]\n",
      "        outFCfile[i].write(\"%s %f %s %f %f\\n\" % (str(Fsimdate[n][j]), FsimOther[n][j], Fobsdate[n][j], FobsOther[n][j], FsimFlow[n][j]))\n",
      "    outFCfile[i].close()    \n",
      "    \n",
      "outTPfilepath = {}\n",
      "outTPfile = {}\n",
      "for i, n in enumerate(basin_name):\n",
      "    outTPfilepath[i] = str(mainpath[n])+'\\\\TP_sim_obs_full_set.txt'\n",
      "    outTPfile[i] = open(outTPfilepath[i], 'w')\n",
      "    for j in range(len(FsimTP[n])):\n",
      "        outTPfile[i].write(\"%s %f %s %f %f\\n\" % (str(Fsimdate[n][j]), FsimTP[n][j], Fobsdate[n][j], FobsTP[n][j], FsimFlow[n][j]))\n",
      "    outTPfile[i].close()    "
     ],
     "language": "python",
     "metadata": {},
     "outputs": [],
     "prompt_number": 54
    },
    {
     "cell_type": "markdown",
     "metadata": {},
     "source": [
      "##*<span style=\"background-color:yellow\">Note that from now on, the lower-end values (or background conc.) are removed</style>*."
     ]
    },
    {
     "cell_type": "markdown",
     "metadata": {},
     "source": [
      "<font color='blue'>**Split the <font color='red'>TSS, FC and TP</font> sim & obs with matching timestamp produced from preceding script into calibration and validation groups.**</font>"
     ]
    },
    {
     "cell_type": "code",
     "collapsed": false,
     "input": [
      "outsedfilepath = {}\n",
      "outsedfile = {}\n",
      "# The dataset for calibration\n",
      "for i, n in enumerate(basin_name):\n",
      "    outsedfilepath[i] = str(mainpath[n])+'\\\\sed_sim_obs_calb.txt'\n",
      "    outsedfile[i] = open(outsedfilepath[i], 'w')\n",
      "    for j in range(idx[n][0], len(FsimSed[n])):\n",
      "        if (FobsSed[n][j] > Sed25[n].values):\n",
      "            outsedfile[i].write(\"%s %f %s %f\\n\" % (str(Fsimdate[n][j]), FsimSed[n][j], str(Fobsdate[n][j]), FobsSed[n][j]))\n",
      "    outsedfile[i].close()\n",
      "\n",
      "# The dataset for validation\n",
      "for i, n in enumerate(basin_name):\n",
      "    outsedfilepath[i] = str(mainpath[n])+'\\\\sed_sim_obs_vald.txt'\n",
      "    outsedfile[i] = open(outsedfilepath[i], 'w')\n",
      "    for j in range(0, idx[n][0]-1):\n",
      "        if (FobsSed[n][j] > Sed25[n].values):\n",
      "            outsedfile[i].write(\"%s %f %s %f\\n\" % (str(Fsimdate[n][j]), FsimSed[n][j], str(Fobsdate[n][j]), FobsSed[n][j]))\n",
      "    outsedfile[i].close()"
     ],
     "language": "python",
     "metadata": {},
     "outputs": [],
     "prompt_number": 55
    },
    {
     "cell_type": "markdown",
     "metadata": {},
     "source": [
      "<font color='blue'>**Save the <font color='red'>fecal coliform</font> sim & obs with matching timestamp for each basin**</font>"
     ]
    },
    {
     "cell_type": "code",
     "collapsed": false,
     "input": [
      "outFCfilepath = {}\n",
      "outFCfile = {}\n",
      "    \n",
      "# The dataset for calibration\n",
      "for i, n in enumerate(basin_name):\n",
      "    outsedfilepath[i] = str(mainpath[n])+'\\\\coliform_sim_obs_calb.txt'\n",
      "    outsedfile[i] = open(outsedfilepath[i], 'w')\n",
      "    for j in range(idx[n][0], len(FsimOther[n])):\n",
      "        if (FobsOther[n][j] > Col25[n].values):\n",
      "            outsedfile[i].write(\"%s %f %s %f\\n\" % (str(Fsimdate[n][j]), FsimOther[n][j], Fobsdate[n][j], FobsOther[n][j]))\n",
      "    outsedfile[i].close()\n",
      "\n",
      "# The dataset for validation\n",
      "for i, n in enumerate(basin_name):\n",
      "    outsedfilepath[i] = str(mainpath[n])+'\\\\coliform_sim_obs_vald.txt'\n",
      "    outsedfile[i] = open(outsedfilepath[i], 'w')\n",
      "    for j in range(0, idx[n][0]-1):\n",
      "        if (FobsOther[n][j] > Col25[n].values):\n",
      "            outsedfile[i].write(\"%s %f %s %f\\n\" % (str(Fsimdate[n][j]), FsimOther[n][j], Fobsdate[n][j], FobsOther[n][j]))\n",
      "    outsedfile[i].close()"
     ],
     "language": "python",
     "metadata": {},
     "outputs": [],
     "prompt_number": 56
    },
    {
     "cell_type": "markdown",
     "metadata": {},
     "source": [
      "<font color='blue'>**Save the <font color='red'>TP</font> sim & obs with matching timestamp for each basin**</font>"
     ]
    },
    {
     "cell_type": "code",
     "collapsed": false,
     "input": [
      "outTPfilepath = {}\n",
      "outTPfile = {}\n",
      "\n",
      "# The dataset for calibration\n",
      "for i, n in enumerate(basin_name):\n",
      "    outsedfilepath[i] = str(mainpath[n])+'\\\\TP_sim_obs_calb.txt'\n",
      "    outsedfile[i] = open(outsedfilepath[i], 'w')\n",
      "    for j in range(idx[n][0], len(FsimOther[n])):\n",
      "        if (FobsTP[n][j] > TP25[n].values):\n",
      "            outsedfile[i].write(\"%s %f %s %f\\n\" % (str(Fsimdate[n][j]), FsimTP[n][j], Fobsdate[n][j], FobsTP[n][j]))\n",
      "    outsedfile[i].close()\n",
      "\n",
      "# The dataset for validation\n",
      "for i, n in enumerate(basin_name):\n",
      "    outsedfilepath[i] = str(mainpath[n])+'\\\\TP_sim_obs_vald.txt'\n",
      "    outsedfile[i] = open(outsedfilepath[i], 'w')\n",
      "    for j in range(0, idx[n][0]-1):\n",
      "        if (FobsTP[n][j] > TP25[n].values):\n",
      "            outsedfile[i].write(\"%s %f %s %f\\n\" % (str(Fsimdate[n][j]), FsimTP[n][j], Fobsdate[n][j], FobsTP[n][j]))\n",
      "    outsedfile[i].close()"
     ],
     "language": "python",
     "metadata": {},
     "outputs": [],
     "prompt_number": 57
    },
    {
     "cell_type": "markdown",
     "metadata": {},
     "source": [
      "<font color='blue'>Remove values smaller than the **1st quartile** computed above in a new file.</font>"
     ]
    },
    {
     "cell_type": "code",
     "collapsed": false,
     "input": [
      "outsedfilepath = {}\n",
      "outsedfile = {}\n",
      "\n",
      "# Sediment\n",
      "for i, n in enumerate(basin_name):\n",
      "    outsedfilepath[i] = str(mainpath[n])+'\\\\sed_sim_obs.txt'\n",
      "    outsedfile[i] = open(outsedfilepath[i], 'w')\n",
      "    for j in range(len(FsimSed[n])):\n",
      "        if (FobsSed[n][j] > Sed25[n].values):\n",
      "            outsedfile[i].write(\"%s %f %s %f\\n\" % (str(Fsimdate[n][j]), FsimSed[n][j], str(Fobsdate[n][j]), FobsSed[n][j]))         \n",
      "    outsedfile[i].close()\n",
      "\n",
      "# Fecal Coliform\n",
      "outFCfilepath = {}\n",
      "outFCfile = {}\n",
      "for i, n in enumerate(basin_name):\n",
      "    outFCfilepath[i] = str(mainpath[n])+'\\\\coliform_sim_obs.txt'\n",
      "    outFCfile[i] = open(outFCfilepath[i], 'w')\n",
      "    for j in range(len(FsimOther[n])):\n",
      "        if (FobsOther[n][j] > Col25[n].values):\n",
      "            outFCfile[i].write(\"%s %f %s %f\\n\" % (str(Fsimdate[n][j]), FsimOther[n][j], Fobsdate[n][j], FobsOther[n][j]))\n",
      "    outFCfile[i].close()\n",
      "    \n",
      "outTPfilepath = {}\n",
      "outTPfile = {}\n",
      "for i, n in enumerate(basin_name):\n",
      "    outTPfilepath[i] = str(mainpath[n])+'\\\\TP_sim_obs.txt'\n",
      "    outTPfile[i] = open(outTPfilepath[i], 'w')\n",
      "    for j in range(len(FsimTP[n])):\n",
      "        if (FobsTP[n][j] > TP25[n].values):\n",
      "            outTPfile[i].write(\"%s %f %s %f\\n\" % (str(Fsimdate[n][j]), FsimTP[n][j], Fobsdate[n][j], FobsTP[n][j]))\n",
      "    outTPfile[i].close()"
     ],
     "language": "python",
     "metadata": {},
     "outputs": [],
     "prompt_number": 58
    },
    {
     "cell_type": "markdown",
     "metadata": {},
     "source": [
      "<font color='blue'>Output conc. 3-hour prior **without background condition**.</font>"
     ]
    },
    {
     "cell_type": "code",
     "collapsed": false,
     "input": [
      "outsedfilepath = {}\n",
      "outsedfile = {}\n",
      "\n",
      "# Sediment\n",
      "for i, n in enumerate(basin_name):\n",
      "    outsedfilepath[i] = str(mainpath[n])+'\\\\sed_sim_obs_3hours_prior.txt'\n",
      "    outsedfile[i] = open(outsedfilepath[i], 'w')\n",
      "    for j in range(len(FsimSed[n])):\n",
      "        if (FobsSed[n][j] > Sed25[n].values):\n",
      "            outsedfile[i].write(\"%s %f %s %f\\n\" % (str(Fsimdate[n][j]), FsimSedPre[n][j], str(Fobsdate[n][j]), FobsSed[n][j]))   \n",
      "    outsedfile[i].close()\n",
      "\n",
      "# Fecal Coliform\n",
      "outFCfilepath = {}\n",
      "outFCfile = {}\n",
      "for i, n in enumerate(basin_name):\n",
      "    outFCfilepath[i] = str(mainpath[n])+'\\\\coliform_sim_obs_3hours_prior.txt'\n",
      "    outFCfile[i] = open(outFCfilepath[i], 'w')\n",
      "    for j in range(len(FsimOther[n])):\n",
      "        if (FobsOther[n][j] > Col25[n].values):\n",
      "            outFCfile[i].write(\"%s %f %s %f\\n\" % (str(Fsimdate[n][j]), FsimOtherPre[n][j], Fobsdate[n][j], FobsOther[n][j]))\n",
      "    outFCfile[i].close()\n",
      "    \n"
     ],
     "language": "python",
     "metadata": {},
     "outputs": [],
     "prompt_number": 59
    },
    {
     "cell_type": "code",
     "collapsed": false,
     "input": [
      "outTPfilepath = {}\n",
      "outTPfile = {}\n",
      "for i, n in enumerate(basin_name):\n",
      "    outTPfilepath[i] = str(mainpath[n])+'\\\\TP_sim_obs_3hours_prior.txt'\n",
      "    outTPfile[i] = open(outTPfilepath[i], 'w')\n",
      "    for j in range(len(FsimTP[n])):\n",
      "        if (FobsTP[n][j] > TP25[n].values):\n",
      "            outTPfile[i].write(\"%s %f %s %f\\n\" % (str(Fsimdate[n][j]), FsimTPPre[n][j], Fobsdate[n][j], FobsTP[n][j]))\n",
      "    outTPfile[i].close()"
     ],
     "language": "python",
     "metadata": {},
     "outputs": [],
     "prompt_number": 11
    },
    {
     "cell_type": "markdown",
     "metadata": {},
     "source": [
      "<font color='blue'>Output conc. 3-hour posterior **without background condition**.</font>"
     ]
    },
    {
     "cell_type": "code",
     "collapsed": false,
     "input": [
      "outsedfilepath = {}\n",
      "outsedfile = {}\n",
      "\n",
      "# Sediment\n",
      "for i, n in enumerate(basin_name):\n",
      "    outsedfilepath[i] = str(mainpath[n])+'\\\\sed_sim_obs_3hours_posterior.txt'\n",
      "    outsedfile[i] = open(outsedfilepath[i], 'w')\n",
      "    for j in range(len(FsimSed[n])):\n",
      "        if (FobsSed[n][j] > Sed25[n].values):\n",
      "            outsedfile[i].write(\"%s %f %s %f\\n\" % (str(Fsimdate[n][j]), FsimSedPost[n][j], str(Fobsdate[n][j]), FobsSed[n][j]))   \n",
      "    outsedfile[i].close()\n",
      "\n",
      "# Fecal Coliform\n",
      "outFCfilepath = {}\n",
      "outFCfile = {}\n",
      "for i, n in enumerate(basin_name):\n",
      "    outFCfilepath[i] = str(mainpath[n])+'\\\\coliform_sim_obs_3hours_posterior.txt'\n",
      "    outFCfile[i] = open(outFCfilepath[i], 'w')\n",
      "    for j in range(len(FsimOther[n])):\n",
      "        if (FobsOther[n][j] > Col25[n].values):\n",
      "            outFCfile[i].write(\"%s %f %s %f\\n\" % (str(Fsimdate[n][j]), FsimOtherPost[n][j], Fobsdate[n][j], FobsOther[n][j]))\n",
      "    outFCfile[i].close()\n",
      "    "
     ],
     "language": "python",
     "metadata": {},
     "outputs": [],
     "prompt_number": 60
    },
    {
     "cell_type": "code",
     "collapsed": false,
     "input": [
      "outTPfilepath = {}\n",
      "outTPfile = {}\n",
      "for i, n in enumerate(basin_name):\n",
      "    outTPfilepath[i] = str(mainpath[n])+'\\\\TP_sim_obs_3hours_posterior.txt'\n",
      "    outTPfile[i] = open(outTPfilepath[i], 'w')\n",
      "    for j in range(len(FsimTP[n])):\n",
      "        if (FobsTP[n][j] > TP25[n].values):\n",
      "            outTPfile[i].write(\"%s %f %s %f\\n\" % (str(Fsimdate[n][j]), FsimTPPost[n][j], Fobsdate[n][j], FobsTP[n][j]))\n",
      "    outTPfile[i].close()"
     ],
     "language": "python",
     "metadata": {},
     "outputs": [],
     "prompt_number": 10
    },
    {
     "cell_type": "code",
     "collapsed": false,
     "input": [],
     "language": "python",
     "metadata": {},
     "outputs": []
    }
   ],
   "metadata": {}
  }
 ]
}