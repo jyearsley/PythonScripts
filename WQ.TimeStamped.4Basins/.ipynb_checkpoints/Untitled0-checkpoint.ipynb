{
 "metadata": {
  "name": "",
  "signature": "sha256:50257791b07d7edca02c5884a9514b7c1653cd205a138192c124f476ad381432"
 },
 "nbformat": 3,
 "nbformat_minor": 0,
 "worksheets": []
}