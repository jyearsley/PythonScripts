{
 "metadata": {
  "name": "",
  "signature": "sha256:db58b99b5f00caf082a73ab810d96b05865797d53ac621483a718656d5c2dea8"
 },
 "nbformat": 3,
 "nbformat_minor": 0,
 "worksheets": [
  {
   "cells": [
    {
     "cell_type": "code",
     "collapsed": false,
     "input": [
      "!dir"
     ],
     "language": "python",
     "metadata": {},
     "outputs": [
      {
       "output_type": "stream",
       "stream": "stdout",
       "text": [
        " Volume in drive C has no label.\n",
        " Volume Serial Number is 886E-20FD\n",
        "\n",
        " Directory of C:\\Users\\Ning\\Documents\\IPython Notebooks\n",
        "\n",
        "09/22/2014  09:37 AM    <DIR>          .\n",
        "09/22/2014  09:37 AM    <DIR>          ..\n",
        "09/22/2014  09:38 AM    <DIR>          .ipynb_checkpoints\n",
        "09/18/2014  01:15 PM    <DIR>          CONN_Streamflow\n",
        "08/21/2014  01:03 AM    <DIR>          Examples\n",
        "08/25/2014  10:31 AM    <DIR>          ParamAnalysis4Basins\n",
        "09/22/2014  01:49 PM            13,493 practice.ipynb\n",
        "08/19/2014  11:16 AM    <DIR>          PugetSoundMajorBasins\n",
        "09/22/2014  09:12 AM    <DIR>          Python_BootCamp\n",
        "08/17/2014  04:48 PM    <DIR>          StreamFlow_PS\n",
        "08/14/2014  03:31 PM    <DIR>          WQ.Daily.4Basins\n",
        "08/17/2014  11:08 PM    <DIR>          WQ.TimeStamped.4Basins\n",
        "               1 File(s)         13,493 bytes\n",
        "              11 Dir(s)  45,012,099,072 bytes free\n"
       ]
      }
     ],
     "prompt_number": 1
    },
    {
     "cell_type": "code",
     "collapsed": false,
     "input": [
      "! dir d:"
     ],
     "language": "python",
     "metadata": {},
     "outputs": [
      {
       "output_type": "stream",
       "stream": "stdout",
       "text": [
        " Volume in drive D is New Volume\n",
        " Volume Serial Number is 6AE8-F0AE\n",
        "\n",
        " Directory of D:\\\n",
        "\n",
        "04/17/2014  04:53 PM    <DIR>          CopyDHSVM3.1.2\n",
        "04/23/2013  05:18 PM           304,205 D-SEM.tar.gz\n",
        "07/28/2014  04:22 PM    <DIR>          DHSVM\n",
        "05/01/2013  12:41 AM    <DIR>          DHSVM3.1.1_PROGRAMS\n",
        "06/09/2014  06:04 PM    <DIR>          dhsvm3.2old\n",
        "03/18/2013  12:25 PM        21,993,043 dhsvm_autocal.tar.gz\n",
        "12/30/2013  05:15 PM    <DIR>          dhsvm_rbm\n",
        "06/04/2014  03:55 PM    <DIR>          dhsvm_wq\n",
        "10/09/2013  09:40 AM    <DIR>          DMDownLoad\n",
        "09/23/2014  09:02 AM    <DIR>          Dropbox\n",
        "09/16/2014  10:29 AM    <DIR>          FourLowLandBasins\n",
        "09/19/2014  03:32 PM         4,754,467 G14L10367.pdf\n",
        "05/05/2014  12:14 PM    <DIR>          heat_flux_exploration\n",
        "01/14/2014  06:08 PM    <DIR>          junk3.1.1\n",
        "07/02/2014  01:01 AM    <DIR>          LCCM2007\n",
        "06/17/2014  12:13 AM    <DIR>          MOVIES\n",
        "09/22/2014  03:16 AM    <DIR>          My Box Files\n",
        "04/30/2013  11:50 PM    <DIR>          PhDWorks\n",
        "09/17/2012  12:07 PM            17,920 Postdoc_Research.doc\n",
        "01/15/2014  04:55 PM           248,625 RBM_Schematic.jpg\n",
        "09/17/2012  12:07 PM            26,112 ResearchInterests.doc\n",
        "10/24/2013  01:31 PM    <DIR>          ShortPrograms\n",
        "05/01/2013  12:41 AM    <DIR>          SWMMSOURCE\n",
        "08/20/2014  05:49 PM    <DIR>          Tools\n",
        "08/21/2014  04:51 PM    <DIR>          trash\n",
        "01/02/2014  04:00 PM    <DIR>          tutorial_3.1.1\n",
        "               6 File(s)     27,344,372 bytes\n",
        "              20 Dir(s)  67,264,958,464 bytes free\n"
       ]
      }
     ],
     "prompt_number": 2
    },
    {
     "cell_type": "code",
     "collapsed": false,
     "input": [
      "!dir My Box Files"
     ],
     "language": "python",
     "metadata": {},
     "outputs": [
      {
       "output_type": "stream",
       "stream": "stdout",
       "text": [
        " Volume in drive C has no label.\n",
        " Volume Serial Number is 886E-20FD\n",
        "\n",
        " Directory of C:\\Users\\Ning\\Documents\\IPython Notebooks\n",
        "\n",
        "\n",
        " Directory of C:\\Users\\Ning\\Documents\\IPython Notebooks\n",
        "\n",
        "\n",
        " Directory of C:\\Users\\Ning\\Documents\\IPython Notebooks\n",
        "\n"
       ]
      },
      {
       "output_type": "stream",
       "stream": "stderr",
       "text": [
        "File Not Found\n"
       ]
      }
     ],
     "prompt_number": 3
    },
    {
     "cell_type": "code",
     "collapsed": false,
     "input": [
      "%%bash"
     ],
     "language": "python",
     "metadata": {},
     "outputs": [
      {
       "output_type": "stream",
       "stream": "stderr",
       "text": [
        "UsageError: %%bash is a cell magic, but the cell body is empty."
       ]
      }
     ],
     "prompt_number": 4
    },
    {
     "cell_type": "code",
     "collapsed": false,
     "input": [
      "%%bash\n",
      "git init test"
     ],
     "language": "python",
     "metadata": {},
     "outputs": [
      {
       "output_type": "stream",
       "stream": "stdout",
       "text": [
        "Couldn't find program: u'bash'\n"
       ]
      }
     ],
     "prompt_number": 5
    },
    {
     "cell_type": "code",
     "collapsed": false,
     "input": [],
     "language": "python",
     "metadata": {},
     "outputs": []
    }
   ],
   "metadata": {}
  }
 ]
}