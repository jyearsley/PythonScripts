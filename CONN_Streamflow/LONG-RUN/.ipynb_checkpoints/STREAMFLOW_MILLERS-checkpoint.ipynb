{
 "metadata": {
  "name": "",
  "signature": "sha256:c517030ab1a13fc8561ba944e181705b8ada85faadd8fb373395851375f30f1c"
 },
 "nbformat": 3,
 "nbformat_minor": 0,
 "worksheets": [
  {
   "cells": [
    {
     "cell_type": "code",
     "collapsed": false,
     "input": [
      "# Import all needed libraries \n",
      "import sys, os, datetime, time\n",
      "import numpy as np\n",
      "import pandas as pd\n",
      "import numpy.ma as ma\n",
      "import math\n",
      "import matplotlib.dates as dates\n",
      "import matplotlib.ticker as ticker\n",
      "import matplotlib.pyplot as plt\n",
      "from matplotlib.backends.backend_pdf import PdfPages\n",
      "from scipy.stats import norm\n",
      "from scipy import stats\n",
      "\n",
      "%pylab inline"
     ],
     "language": "python",
     "metadata": {},
     "outputs": [
      {
       "output_type": "stream",
       "stream": "stdout",
       "text": [
        "Populating the interactive namespace from numpy and matplotlib\n"
       ]
      },
      {
       "output_type": "stream",
       "stream": "stderr",
       "text": [
        "WARNING: pylab import has clobbered these variables: ['norm']\n",
        "`%matplotlib` prevents importing * from pylab and numpy\n"
       ]
      }
     ],
     "prompt_number": 10
    },
    {
     "cell_type": "markdown",
     "metadata": {},
     "source": [
      "Read the input **streamflow** files (change the path if needed)<br>\n",
      "<span style=\"background-color: #FFFF00\">**<span style=\"color:#f00\">Attention</span>**: the start and end dates in obs. file **MUST** be the same as sim.</span>"
     ]
    },
    {
     "cell_type": "code",
     "collapsed": false,
     "input": [
      "# Enter file path for sim. and obs. flow files\n",
      "simflowpath = 'D:\\\\Dropbox\\\\Python_Scripts\\\\\\Conn_Streamflow\\\\millers\\\\1915-2010\\\\daily_flow.txt'\n",
      "obsflowpath = 'D:\\\\Dropbox\\\\Python_Scripts\\\\Conn_Streamflow\\\\millers\\\\1915-2010\\\\streamflow.01166500.cms.txt'\n",
      "# Enter file path for observed precipitation files\n",
      "precipfilepath = 'D:\\\\Dropbox\\\\Python_Scripts\\\\Conn_Streamflow\\\\millers\\\\1915-2010\\\\daily_precip.txt'\n",
      "\n",
      "# Read flow sim and obs dates &  data\n",
      "simflowdata = np.genfromtxt(simflowpath, usecols=[1])\n",
      "obsflowdata = np.genfromtxt(obsflowpath, usecols=[1])\n",
      "tempsimflowdate = np.genfromtxt(simflowpath, dtype = str, skiprows = 0, usecols = 0)\n",
      "tempobsflowdate = np.genfromtxt(obsflowpath, dtype = str, skiprows = 0, usecols = 0)\n",
      "# Read obs. precipitation data\n",
      "precipdata = np.genfromtxt(precipfilepath, dtype = float, skiprows = 0, usecols = [1])\n",
      "\n",
      "simflowdate = []\n",
      "# construct the sim. date obj.\n",
      "for i in range(len(tempsimflowdate)):\n",
      "    simflowdate.append(datetime.datetime.strptime(tempsimflowdate[i],'%m.%d.%Y'))\n"
     ],
     "language": "python",
     "metadata": {},
     "outputs": [],
     "prompt_number": 11
    },
    {
     "cell_type": "markdown",
     "metadata": {},
     "source": [
      "Compute <b><span style=\"color:#f00\">R<sup>2</sup></span></b> and <b><span style=\"color:#f00\">Nash</span></b> between sim. and obs. flow"
     ]
    },
    {
     "cell_type": "code",
     "collapsed": false,
     "input": [
      "# average of sim\n",
      "sim_mean= sum(simflowdata)/float(len(simflowdata))\n",
      "# average of obs\n",
      "obs_mean= sum(obsflowdata)/float(len(obsflowdata))\n",
      "# total sum of squares \n",
      "ss_tot = sum((x-obs_mean)**2 for x in obsflowdata) \n",
      "# sum of squares of residuals\n",
      "ss_err = sum((y-x)**2 for y,x in zip(simflowdata, obsflowdata))\n",
      "\n",
      "nash_flow = 1 - (ss_err/ss_tot)\n",
      "print \"nash_flow= \", nash_flow"
     ],
     "language": "python",
     "metadata": {},
     "outputs": [
      {
       "output_type": "stream",
       "stream": "stdout",
       "text": [
        "nash_flow=  0.18674633868\n"
       ]
      }
     ],
     "prompt_number": 12
    },
    {
     "cell_type": "markdown",
     "metadata": {},
     "source": [
      "Plot <b><span style=\"color:#f00\">COMPARISONS</span></b> between sim. and obs. flow"
     ]
    },
    {
     "cell_type": "code",
     "collapsed": false,
     "input": [
      "##############################################################################################\n",
      "#################################Plot the Discrete Time Series################################\n",
      "##############################################################################################\n",
      "ssim = pd.Series(simflowdata, index=simflowdate)\n",
      "sobs = pd.Series(obsflowdata, index=simflowdate)\n",
      "PCP = pd.Series(precipdata, index=simflowdate)\n",
      "\n",
      "fig=plt.figure(figsize=(12,5),dpi=400)\n",
      "ax = plt.subplot()\n",
      "fig.text(0.7, 0.8, r'$Nash=%.2f$' % nash_flow, fontsize=15)\n",
      "title('daily streamflow @ 01162500', fontsize=14., y=1.02, fontweight='bold')\n",
      "plt.ylabel('flow. ($m^{3}\\,s^{-1}$)', fontsize=12.)\n",
      "plt.xlabel('year', fontsize=12.)\n",
      "\n",
      "#\n",
      "ax.plot(simflowdate, simflowdata, 'r', label='sim')\n",
      "ax.plot(simflowdate, obsflowdata, 'b', label='obs')\n",
      "grid(True)\n",
      "ax.legend(loc='best')\n",
      "\n",
      "#savefig('D:\\\\Dropbox\\\\Python_Scripts\\\\Conn_Streamflow\\\\black_ottau\\\\1915-2010\\\\flow.png',dpi=500,format = 'png',transparent='True')"
     ],
     "language": "python",
     "metadata": {},
     "outputs": [
      {
       "ename": "ValueError",
       "evalue": "Wrong number of items passed 27392, indices imply 35887",
       "output_type": "pyerr",
       "traceback": [
        "\u001b[1;31m---------------------------------------------------------------------------\u001b[0m\n\u001b[1;31mValueError\u001b[0m                                Traceback (most recent call last)",
        "\u001b[1;32m<ipython-input-13-88ea03350150>\u001b[0m in \u001b[0;36m<module>\u001b[1;34m()\u001b[0m\n\u001b[0;32m      3\u001b[0m \u001b[1;31m##############################################################################################\u001b[0m\u001b[1;33m\u001b[0m\u001b[1;33m\u001b[0m\u001b[0m\n\u001b[0;32m      4\u001b[0m \u001b[0mssim\u001b[0m \u001b[1;33m=\u001b[0m \u001b[0mpd\u001b[0m\u001b[1;33m.\u001b[0m\u001b[0mSeries\u001b[0m\u001b[1;33m(\u001b[0m\u001b[0msimflowdata\u001b[0m\u001b[1;33m,\u001b[0m \u001b[0mindex\u001b[0m\u001b[1;33m=\u001b[0m\u001b[0msimflowdate\u001b[0m\u001b[1;33m)\u001b[0m\u001b[1;33m\u001b[0m\u001b[0m\n\u001b[1;32m----> 5\u001b[1;33m \u001b[0msobs\u001b[0m \u001b[1;33m=\u001b[0m \u001b[0mpd\u001b[0m\u001b[1;33m.\u001b[0m\u001b[0mSeries\u001b[0m\u001b[1;33m(\u001b[0m\u001b[0mobsflowdata\u001b[0m\u001b[1;33m,\u001b[0m \u001b[0mindex\u001b[0m\u001b[1;33m=\u001b[0m\u001b[0msimflowdate\u001b[0m\u001b[1;33m)\u001b[0m\u001b[1;33m\u001b[0m\u001b[0m\n\u001b[0m\u001b[0;32m      6\u001b[0m \u001b[0mPCP\u001b[0m \u001b[1;33m=\u001b[0m \u001b[0mpd\u001b[0m\u001b[1;33m.\u001b[0m\u001b[0mSeries\u001b[0m\u001b[1;33m(\u001b[0m\u001b[0mprecipdata\u001b[0m\u001b[1;33m,\u001b[0m \u001b[0mindex\u001b[0m\u001b[1;33m=\u001b[0m\u001b[0msimflowdate\u001b[0m\u001b[1;33m)\u001b[0m\u001b[1;33m\u001b[0m\u001b[0m\n\u001b[0;32m      7\u001b[0m \u001b[1;33m\u001b[0m\u001b[0m\n",
        "\u001b[1;32mD:\\Tools\\Anaconda\\lib\\site-packages\\pandas\\core\\series.pyc\u001b[0m in \u001b[0;36m__init__\u001b[1;34m(self, data, index, dtype, name, copy, fastpath)\u001b[0m\n\u001b[0;32m    220\u001b[0m                                        raise_cast_failure=True)\n\u001b[0;32m    221\u001b[0m \u001b[1;33m\u001b[0m\u001b[0m\n\u001b[1;32m--> 222\u001b[1;33m                 \u001b[0mdata\u001b[0m \u001b[1;33m=\u001b[0m \u001b[0mSingleBlockManager\u001b[0m\u001b[1;33m(\u001b[0m\u001b[0mdata\u001b[0m\u001b[1;33m,\u001b[0m \u001b[0mindex\u001b[0m\u001b[1;33m,\u001b[0m \u001b[0mfastpath\u001b[0m\u001b[1;33m=\u001b[0m\u001b[0mTrue\u001b[0m\u001b[1;33m)\u001b[0m\u001b[1;33m\u001b[0m\u001b[0m\n\u001b[0m\u001b[0;32m    223\u001b[0m \u001b[1;33m\u001b[0m\u001b[0m\n\u001b[0;32m    224\u001b[0m         \u001b[0mgeneric\u001b[0m\u001b[1;33m.\u001b[0m\u001b[0mNDFrame\u001b[0m\u001b[1;33m.\u001b[0m\u001b[0m__init__\u001b[0m\u001b[1;33m(\u001b[0m\u001b[0mself\u001b[0m\u001b[1;33m,\u001b[0m \u001b[0mdata\u001b[0m\u001b[1;33m,\u001b[0m \u001b[0mfastpath\u001b[0m\u001b[1;33m=\u001b[0m\u001b[0mTrue\u001b[0m\u001b[1;33m)\u001b[0m\u001b[1;33m\u001b[0m\u001b[0m\n",
        "\u001b[1;32mD:\\Tools\\Anaconda\\lib\\site-packages\\pandas\\core\\internals.pyc\u001b[0m in \u001b[0;36m__init__\u001b[1;34m(self, block, axis, do_integrity_check, fastpath)\u001b[0m\n\u001b[0;32m   3590\u001b[0m                 \u001b[0mblock\u001b[0m \u001b[1;33m=\u001b[0m \u001b[0mblock\u001b[0m\u001b[1;33m[\u001b[0m\u001b[1;36m0\u001b[0m\u001b[1;33m]\u001b[0m\u001b[1;33m\u001b[0m\u001b[0m\n\u001b[0;32m   3591\u001b[0m             \u001b[1;32mif\u001b[0m \u001b[1;32mnot\u001b[0m \u001b[0misinstance\u001b[0m\u001b[1;33m(\u001b[0m\u001b[0mblock\u001b[0m\u001b[1;33m,\u001b[0m \u001b[0mBlock\u001b[0m\u001b[1;33m)\u001b[0m\u001b[1;33m:\u001b[0m\u001b[1;33m\u001b[0m\u001b[0m\n\u001b[1;32m-> 3592\u001b[1;33m                 \u001b[0mblock\u001b[0m \u001b[1;33m=\u001b[0m \u001b[0mmake_block\u001b[0m\u001b[1;33m(\u001b[0m\u001b[0mblock\u001b[0m\u001b[1;33m,\u001b[0m \u001b[0maxis\u001b[0m\u001b[1;33m,\u001b[0m \u001b[0maxis\u001b[0m\u001b[1;33m,\u001b[0m \u001b[0mndim\u001b[0m\u001b[1;33m=\u001b[0m\u001b[1;36m1\u001b[0m\u001b[1;33m,\u001b[0m \u001b[0mfastpath\u001b[0m\u001b[1;33m=\u001b[0m\u001b[0mTrue\u001b[0m\u001b[1;33m)\u001b[0m\u001b[1;33m\u001b[0m\u001b[0m\n\u001b[0m\u001b[0;32m   3593\u001b[0m \u001b[1;33m\u001b[0m\u001b[0m\n\u001b[0;32m   3594\u001b[0m         \u001b[1;32melse\u001b[0m\u001b[1;33m:\u001b[0m\u001b[1;33m\u001b[0m\u001b[0m\n",
        "\u001b[1;32mD:\\Tools\\Anaconda\\lib\\site-packages\\pandas\\core\\internals.pyc\u001b[0m in \u001b[0;36mmake_block\u001b[1;34m(values, items, ref_items, klass, ndim, dtype, fastpath, placement)\u001b[0m\n\u001b[0;32m   1990\u001b[0m \u001b[1;33m\u001b[0m\u001b[0m\n\u001b[0;32m   1991\u001b[0m     return klass(values, items, ref_items, ndim=ndim, fastpath=fastpath,\n\u001b[1;32m-> 1992\u001b[1;33m                  placement=placement)\n\u001b[0m\u001b[0;32m   1993\u001b[0m \u001b[1;33m\u001b[0m\u001b[0m\n\u001b[0;32m   1994\u001b[0m \u001b[1;33m\u001b[0m\u001b[0m\n",
        "\u001b[1;32mD:\\Tools\\Anaconda\\lib\\site-packages\\pandas\\core\\internals.pyc\u001b[0m in \u001b[0;36m__init__\u001b[1;34m(self, values, items, ref_items, ndim, fastpath, placement)\u001b[0m\n\u001b[0;32m     62\u001b[0m         \u001b[1;32mif\u001b[0m \u001b[0mlen\u001b[0m\u001b[1;33m(\u001b[0m\u001b[0mitems\u001b[0m\u001b[1;33m)\u001b[0m \u001b[1;33m!=\u001b[0m \u001b[0mlen\u001b[0m\u001b[1;33m(\u001b[0m\u001b[0mvalues\u001b[0m\u001b[1;33m)\u001b[0m\u001b[1;33m:\u001b[0m\u001b[1;33m\u001b[0m\u001b[0m\n\u001b[0;32m     63\u001b[0m             raise ValueError('Wrong number of items passed %d, indices imply '\n\u001b[1;32m---> 64\u001b[1;33m                              '%d' % (len(items), len(values)))\n\u001b[0m\u001b[0;32m     65\u001b[0m \u001b[1;33m\u001b[0m\u001b[0m\n\u001b[0;32m     66\u001b[0m         \u001b[0mself\u001b[0m\u001b[1;33m.\u001b[0m\u001b[0mset_ref_locs\u001b[0m\u001b[1;33m(\u001b[0m\u001b[0mplacement\u001b[0m\u001b[1;33m)\u001b[0m\u001b[1;33m\u001b[0m\u001b[0m\n",
        "\u001b[1;31mValueError\u001b[0m: Wrong number of items passed 27392, indices imply 35887"
       ]
      }
     ],
     "prompt_number": 13
    },
    {
     "cell_type": "markdown",
     "metadata": {},
     "source": [
      "Plot <b><span style=\"color:#f00\">CDF</span></b> between sim. and obs. flow"
     ]
    },
    {
     "cell_type": "code",
     "collapsed": false,
     "input": [
      "from scipy.stats import norm\n",
      "\n",
      "ssim = pd.Series(simflowdata, index=simflowdate)\n",
      "sobs = pd.Series(obsflowdata, index=simflowdate)\n",
      "\n",
      "fig=plt.figure(figsize=(7,5),dpi=400)\n",
      "ax = plt.subplot()\n",
      "n = len(ssim)\n",
      "\n",
      "# log-normal probability plot\n",
      "d = np.linspace(1, n, num=n)/(n+1)\n",
      "y = norm.ppf(d, 0, 1)\n",
      "\n",
      "# create the axis ticks\n",
      "p  = [0.001, 0.01, 0.05, 0.2, 0.5, 0.75, 0.90, 0.98, 0.999];\n",
      "# relate var \"p\" with \"y\"\n",
      "tick  = norm.ppf(p,0,1);\n",
      "label = ['0.001','0.01','0.05','0.2','0.5','0.75','0.90','0.98','0.999'];\n",
      "# recast the p to (0,1)\n",
      "\n",
      "# sort the data in an ascending order\n",
      "ssim.sort()\n",
      "sobs.sort()\n",
      "ax.plot(y,ssim, 'r+', label='sim')\n",
      "ax.plot(y,sobs,'b*', label='obs')\n",
      "\n",
      "# use numpoints option so the markeres don't appear twice in one legend\n",
      "ax.legend(loc=(0.05,0.8),numpoints = 1)\n",
      "plt.ylabel('flow. ($m^{3}\\,s^{-1}$)', fontsize=12.)\n",
      "plt.xlabel('cumulative prob.', fontsize=12.)\n",
      "ax = gca()\n",
      "ax.xaxis.set_major_locator(ticker.FixedLocator(tick))\n",
      "ax.xaxis.set_major_formatter(ticker.FixedFormatter(label))\n",
      "grid(True)\n",
      "savefig('D:\\\\Dropbox\\\\Python_Scripts\\\\Conn_Streamflow\\\\millers\\\\1915-2010\\\\flowcdf.png',dpi=500,format = 'png',transparent='True')"
     ],
     "language": "python",
     "metadata": {},
     "outputs": []
    },
    {
     "cell_type": "markdown",
     "metadata": {},
     "source": [
      "Plot <b><span style=\"color:#f00\">Cumulative Water</span></b> between sim. and obs. flow"
     ]
    },
    {
     "cell_type": "code",
     "collapsed": false,
     "input": [
      "ssim = pd.Series(simflowdata, index=simflowdate)\n",
      "sobs = pd.Series(obsflowdata, index=simflowdate)\n",
      "\n",
      "# A simple function to define the water year of a date\n",
      "def wateryear(inyear):\n",
      "    if inyear.month >= 10:\n",
      "        return inyear.year+1\n",
      "    else:\n",
      "        return inyear.year\n",
      "\n",
      "# Group data in obs and sim based by its wateryear\n",
      "obsyear = sobs.groupby(lambda x: wateryear(x))\n",
      "simyear = ssim.groupby(lambda x: wateryear(x))\n",
      "\n",
      "# For each wateryear, calculate the cumulative sum and then append to a big data package\n",
      "for i, (year,group) in enumerate(obsyear):\n",
      "    if i == 0:\n",
      "        obsyearcum = group.cumsum()\n",
      "    else:\n",
      "        obsyearcum = obsyearcum.append(group.cumsum())\n",
      "for i, (year,group) in enumerate(simyear):\n",
      "    if i == 0:\n",
      "        simyearcum = group.cumsum()\n",
      "    else:\n",
      "        simyearcum = simyearcum.append(group.cumsum())\n",
      "    \n",
      "# Plot\n",
      "figure(figsize=(16,5))\n",
      "title('Annual Cumulative Flow', fontsize = 20., y=1.02)\n",
      "ax = plt.subplot()\n",
      "# Plot simulated flow of the desired date range\n",
      "simyearcum.plot(label = 'Sim', color = 'r')\n",
      "# Plot observed flow of the desired date range\n",
      "obsyearcum.plot(label = 'Obs', color = 'b')\n",
      "# Titles, axes labels and ticks, units, grid\n",
      "title('Annual Cumulative Flow', fontsize=12.0)\n",
      "ylabel(r'$Stream flow (m^3/s)$', fontsize = 15.0)\n",
      "#pylab.ylim([0,200000])\n",
      "grid(True)\n",
      "tight_layout()\n",
      "legend(loc='best')\n",
      "#savefig('D:\\\\Dropbox\\\\Python_Scripts\\\\Conn_Streamflow\\\\black_ottau\\\\1915-2010\\\\wbal.png',dpi=500,format ='png',transparent='True')"
     ],
     "language": "python",
     "metadata": {},
     "outputs": []
    },
    {
     "cell_type": "markdown",
     "metadata": {},
     "source": [
      "Compute **MONTHLY** Mean"
     ]
    },
    {
     "cell_type": "code",
     "collapsed": false,
     "input": [
      "ssim = pd.Series(simflowdata, index=simflowdate)\n",
      "sobs = pd.Series(obsflowdata, index=simflowdate)\n",
      "\n",
      "# Group data in obs and sim by month, then calculate average\n",
      "obsmonth = sobs.groupby(lambda x: x.month).mean()\n",
      "simmonth = ssim.groupby(lambda x: x.month).mean()\n",
      "\n",
      "# average of sim\n",
      "sim_mean= sum(simmonth)/float(len(simmonth))\n",
      "# average of obs\n",
      "obs_mean= sum(obsmonth)/float(len(obsmonth))\n",
      "# total sum of squares \n",
      "ss_tot = sum((x-obs_mean)**2 for x in obsmonth) \n",
      "# sum of squares of residuals\n",
      "ss_err = sum((y-x)**2 for y,x in zip(simmonth, obsmonth))\n",
      "\n",
      "nash_flow = 1 - (ss_err/ss_tot)\n",
      "print \"nash_flow= \", nash_flow"
     ],
     "language": "python",
     "metadata": {},
     "outputs": []
    },
    {
     "cell_type": "code",
     "collapsed": false,
     "input": [
      "ssim = pd.Series(simflowdata, index=simflowdate)\n",
      "sobs = pd.Series(obsflowdata, index=simflowdate)\n",
      "\n",
      "# Group data in obs and sim by month, then calculate average\n",
      "obsmonth = sobs.groupby(lambda x: x.month).mean()\n",
      "simmonth = ssim.groupby(lambda x: x.month).mean()\n",
      "\n",
      "# Reorganize the data set to conform to the wateryear (ie. Oct-Sep)\n",
      "obsmonth = obsmonth[9:].append(obsmonth[:9])\n",
      "simmonth = simmonth[9:].append(simmonth[:9])\n",
      "\n",
      "print obsmonth\n",
      "print simmonth\n",
      "\n",
      "fig=plt.figure(figsize=(7,5),dpi=400)\n",
      "plt.plot(range(1, 13), simmonth.values, 'r', label='Sim')\n",
      "plt.plot(range(1, 13), obsmonth.values, 'b', label='Obs')\n",
      "fig.text(0.7, 0.5, r'$Nash=%.2f$' % nash_flow, fontsize=15)\n",
      "#title('monthly streamflow from 1929-2011 @ 01144000', fontsize=14., y=1.02, fontweight='bold')\n",
      "plt.ylabel('flow. ($m^{3}\\,s^{-1}$)', fontsize=12.)\n",
      "plt.xlabel('month', fontsize=12.)\n",
      "xlim([1,12])\n",
      "# Get a handler for the current axes and set the tick locations \n",
      "ax = gca()\n",
      "ax.xaxis.set_major_locator(ticker.FixedLocator(np.arange(1,13)))\n",
      "ax.xaxis.set_major_formatter(ticker.FixedFormatter(['Oct','Nov','Dec','Jan','Feb','Mar','Apr','May','Jun','Jul','Aug','Sep']))\n",
      "grid(True)\n",
      "ax.legend(loc='best')\n",
      "\n",
      "savefig('D:\\\\Dropbox\\\\Python_Scripts\\\\Conn_Streamflow\\\\millers\\\\1915-2010\\\\monthly_flow1.png',dpi=500,format = 'png',transparent='True')"
     ],
     "language": "python",
     "metadata": {},
     "outputs": []
    },
    {
     "cell_type": "code",
     "collapsed": false,
     "input": [
      "import matplotlib.dates as mdates\n",
      "\n",
      "ssim = pd.Series(simflowdata, index=simflowdate)\n",
      "sobs = pd.Series(obsflowdata, index=simflowdate)\n",
      "\n",
      "# average of sim\n",
      "sim_mean= sum(simmonth)/float(len(simmonth))\n",
      "# average of obs\n",
      "obs_mean= sum(obsmonth)/float(len(obsmonth))\n",
      "# total sum of squares \n",
      "ss_tot = sum((x-obs_mean)**2 for x in obsmonth) \n",
      "# sum of squares of residuals\n",
      "ss_err = sum((y-x)**2 for y,x in zip(simmonth, obsmonth))\n",
      "\n",
      "nash_flow = 1 - (ss_err/ss_tot)\n",
      "print \"nash_flow= \", nash_flow\n",
      "\n",
      "\n",
      "dates = pd.date_range('1936-9', '2011-9', freq='M')\n",
      "\n",
      "# Group data in obs and sim based by its wateryear\n",
      "obsmonth = sobs.groupby([lambda x: x.year, lambda x: x.month]).mean()\n",
      "simmonth = ssim.groupby([lambda x: x.year, lambda x: x.month]).mean()\n",
      "\n",
      "print obsmonth\n",
      "\n",
      "fig=plt.figure(figsize=(12,5),dpi=400)\n",
      "plt.plot(dates, simmonth, 'r', label='Sim')\n",
      "plt.plot(dates, obsmonth, 'b', label='Obs')\n",
      "fig.text(0.7, 0.8, r'$Nash=%.2f$' % nash_flow, fontsize=15)\n",
      "#title('monthly streamflow from 1940-2011 @ 01152500', fontsize=14., y=1.02, fontweight='bold')\n",
      "plt.ylabel('flow. ($m^{3}\\,s^{-1}$)', fontsize=12.)\n",
      "#plt.xlabel('date', fontsize=12.)\n",
      "ax = gca()\n",
      "dateFmt = mdates.DateFormatter('%b\\n%Y')\n",
      "ax.xaxis.set_major_formatter(dateFmt)\n",
      "\n",
      "ax.legend(loc='best')\n",
      "grid(True)\n",
      "\n",
      "\n",
      "savefig('D:\\\\Dropbox\\\\Python_Scripts\\\\Conn_Streamflow\\\\millers\\\\1915-2010\\\\monthly_flow.png',dpi=500,format = 'png',transparent='True')    \n",
      "    \n"
     ],
     "language": "python",
     "metadata": {},
     "outputs": []
    },
    {
     "cell_type": "code",
     "collapsed": false,
     "input": [],
     "language": "python",
     "metadata": {},
     "outputs": []
    }
   ],
   "metadata": {}
  }
 ]
}