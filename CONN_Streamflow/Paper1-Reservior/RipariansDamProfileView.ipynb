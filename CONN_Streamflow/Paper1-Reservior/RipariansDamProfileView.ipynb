{
 "metadata": {
  "name": "",
  "signature": "sha256:72f8b3673434656fd53917793f3e129877d12b8d488730c0f467948aa1be4bdb"
 },
 "nbformat": 3,
 "nbformat_minor": 0,
 "worksheets": [
  {
   "cells": [
    {
     "cell_type": "markdown",
     "metadata": {},
     "source": [
      "###This notebook includes Python scripts for plotting the longitudinal profile of the riparian vegetation and reservoirs. "
     ]
    },
    {
     "cell_type": "code",
     "collapsed": false,
     "input": [
      "%pylab inline"
     ],
     "language": "python",
     "metadata": {},
     "outputs": [
      {
       "output_type": "stream",
       "stream": "stdout",
       "text": [
        "Populating the interactive namespace from numpy and matplotlib\n"
       ]
      },
      {
       "output_type": "stream",
       "stream": "stderr",
       "text": [
        "WARNING: pylab import has clobbered these variables: ['norm', 'f', 'diff', 'flag']\n",
        "`%matplotlib` prevents importing * from pylab and numpy\n"
       ]
      }
     ],
     "prompt_number": 13
    },
    {
     "cell_type": "code",
     "collapsed": false,
     "input": [
      "# Import all needed libraries \n",
      "import sys, os, datetime, time\n",
      "import collections\n",
      "import numpy as np\n",
      "import pandas as pd\n",
      "import numpy.ma as ma\n",
      "import math\n",
      "import matplotlib.dates as dates\n",
      "import matplotlib.ticker as ticker\n",
      "import matplotlib.pyplot as plt\n",
      "from matplotlib.backends.backend_pdf import PdfPages\n",
      "from scipy.stats import norm\n",
      "from scipy import stats\n",
      "\n",
      "import os\n",
      "os.getcwd() \n",
      "os.chdir(\"D:\\\\Dropbox\\\\Python_Scripts\")\n",
      "os.getcwd()"
     ],
     "language": "python",
     "metadata": {},
     "outputs": [
      {
       "metadata": {},
       "output_type": "pyout",
       "prompt_number": 14,
       "text": [
        "'D:\\\\Dropbox\\\\Python_Scripts'"
       ]
      }
     ],
     "prompt_number": 14
    },
    {
     "cell_type": "code",
     "collapsed": false,
     "input": [
      "import matplotlib as mpl\n",
      "mpl.rcParams['lines.linewidth'] = 2\n",
      "font = {'family' : 'sans-serif',\n",
      "        'sans-serif' : 'Verdana',\n",
      "        'weight' : 'medium',\n",
      "        'size'   : '12'}\n",
      "params1 = {\n",
      "          'axes.labelsize': 12,\n",
      "          'text.fontsize': 12,\n",
      "          'xtick.labelsize': 12,\n",
      "          'xtick.direction': 'out',\n",
      "          'ytick.labelsize': 12,\n",
      "          'legend.pad': 0.01,     # empty space around the legend box\n",
      "          'legend.fontsize': 12,\n",
      "          'legend.labelspacing':0.25,\n",
      "          'font.size': 12,\n",
      "          'font.style': 'normal',\n",
      "          'axes.style': 'normal',\n",
      "          'xtick.labelstyle': 'normal',\n",
      "          }\n",
      "mpl.RcParams.update(params1)\n",
      "mpl.rc('font', **font)\n",
      "plt.rc(\"xtick\", direction=\"out\")\n",
      "plt.rc(\"ytick\", direction=\"out\")\n",
      "plt.rc('legend',**{'fontsize':12})"
     ],
     "language": "python",
     "metadata": {},
     "outputs": [],
     "prompt_number": 15
    },
    {
     "cell_type": "markdown",
     "metadata": {},
     "source": [
      "<font color='blue'>Read the input files</font>"
     ]
    },
    {
     "cell_type": "code",
     "collapsed": false,
     "input": [
      "mainpath = \"D:\\\\Box Sync\\\\ConnecticutPaper1\\\\RBMnetwork\\\\\"\n",
      "\n",
      "OttNetworkFile = str(mainpath)  + \"Ottau.net\"\n",
      "WhiteNetworkFile = str(mainpath)  + \"White.net\"\n",
      "\n",
      "OttRiverMiles1 = np.genfromtxt(OttNetworkFile, dtype=float, skiprows=1, usecols=[5])\n",
      "OttRiverMiles2 = np.genfromtxt(OttNetworkFile, dtype=float, skiprows=1, usecols=[7])\n",
      "WhiteRiverMiles1 = np.genfromtxt(WhiteNetworkFile, dtype=float, skiprows=1, usecols=[5])\n",
      "WhiteRiverMiles2 = np.genfromtxt(WhiteNetworkFile, dtype=float, skiprows=1, usecols=[7])\n",
      "\n",
      "#convert unit from feet to km\n",
      "OttRiverMiles1 = OttRiverMiles1 * 0.3048 / 1000;\n",
      "WhiteRiverMiles1 = WhiteRiverMiles1 *  0.3048 / 1000;\n",
      "OttRiverMiles2 = OttRiverMiles2 * 0.3048 / 1000;\n",
      "WhiteRiverMiles2 = WhiteRiverMiles2 *  0.3048 / 1000;\n",
      "\n",
      "#read dhsvm seg ID \n",
      "OttID1 = np.genfromtxt(OttNetworkFile, dtype=int, skiprows=1, usecols=3)\n",
      "WhiteID1 = np.genfromtxt(WhiteNetworkFile, dtype=int, skiprows=1, usecols=3)"
     ],
     "language": "python",
     "metadata": {},
     "outputs": [],
     "prompt_number": 16
    },
    {
     "cell_type": "code",
     "collapsed": false,
     "input": [
      "OttRVegFile = str(mainpath) + \"Ottau.rveg.baseline.network\"\n",
      "WhiteRVegFile = str(mainpath) + \"White.rveg.baseline.network\"\n",
      "\n",
      "OttID2 = np.genfromtxt(OttRVegFile, dtype=int, skiprows=0, usecols=[0])\n",
      "OttRvegParam = np.genfromtxt(OttRVegFile, dtype=float, skiprows=0, usecols=range(1,17))\n",
      "WhiteID2 = np.genfromtxt(WhiteRVegFile, dtype=int, skiprows=0, usecols=[0])\n",
      "WhiteRvegParam = np.genfromtxt(WhiteRVegFile, dtype=float, skiprows=0, usecols=range(1,17))\n",
      "OttWidth = np.genfromtxt(OttRVegFile, dtype=float, skiprows=0, usecols=[17])\n"
     ],
     "language": "python",
     "metadata": {},
     "outputs": [],
     "prompt_number": 42
    },
    {
     "cell_type": "markdown",
     "metadata": {},
     "source": [
      "<font color='blue'>Find matching IDs in two files and merge into one file </font>"
     ]
    },
    {
     "cell_type": "code",
     "collapsed": false,
     "input": [
      "Rveg = []\n",
      "flag = []\n",
      "Width = []\n",
      "\n",
      "for i in range(len(OttID1)):\n",
      "    diff= OttID2 - OttID1[i] # the diff between IDs\n",
      "    idx = np.where(diff==0)[0]\n",
      "    Rveg.extend(OttRvegParam[idx])\n",
      "    Width.append(OttWidth[idx][0])\n",
      "print Width\n",
      "\n",
      "# assign the flag. 1=Y, 0=N Riparian\n",
      "for i in range(len(OttID1)):\n",
      "    if (Rveg[i][0] == 0):\n",
      "        flag.append(0)\n",
      "    else:\n",
      "        flag.append(1)\n",
      "flag = np.array(flag)\n",
      "print flag\n",
      "\n",
      "f = open(str(mainpath)+\"Ottau.MainStem.Rveg\", 'w')\n",
      "for i in range(len(OttID1)):\n",
      "    f.write(\"%d %f %f %d %f \" % (OttID1[i], OttRiverMiles1[i], OttRiverMiles2[i], flag[i], Width[i]))\n",
      "    f.writelines(\"%f \" % x for x in Rveg[i])\n",
      "    f.write(\"\\n\")\n",
      "f.close()\n",
      "    "
     ],
     "language": "python",
     "metadata": {},
     "outputs": [
      {
       "output_type": "stream",
       "stream": "stdout",
       "text": [
        "[10.0, 27.0, 30.0, 45.0, 40.0, 50.0, 60.0, 88.0, 83.0, 96.0, 103.0, 114.0, 95.0, 116.0, 160.0, 145.0, 305.0]\n",
        "[1 1 1 1 1 1 1 1 1 1 1 0 1 1 1 0 1]\n"
       ]
      }
     ],
     "prompt_number": 43
    },
    {
     "cell_type": "markdown",
     "metadata": {},
     "source": [
      "<font color='blue'>Plot the presence (flag=1) and absence (flag=0) of riparian vegetation & reservoir along the main stem.</font>"
     ]
    },
    {
     "cell_type": "code",
     "collapsed": false,
     "input": [
      "OttRVegFile = str(mainpath) + \"Ottau.Reservoir\"\n",
      "ReservoirFlag = np.genfromtxt(OttRVegFile, dtype=int, skiprows=0, usecols=3)"
     ],
     "language": "python",
     "metadata": {},
     "outputs": [],
     "prompt_number": 44
    },
    {
     "cell_type": "code",
     "collapsed": false,
     "input": [
      "fig=plt.figure(figsize=(13,6),dpi=400)\n",
      "# set the figure background color\n",
      "ax = plt.subplot(3, 1, 1)  #axisbg='green')\n",
      "fig.subplots_adjust(hspace=0.3, wspace=0.4, bottom=0.2)\n",
      "props = dict(boxstyle='round', facecolor='wheat', alpha=0.5)  \n",
      "ax.text(.87,.86, 'Ottauquechee', fontsize=12, horizontalalignment='left', transform=ax.transAxes)    \n",
      "#ax.set_xlabel('Upstream(km)', fontsize=12., labelpad=5)\n",
      "\n",
      "ax.fill_between(OttRiverMiles1,0,1,where=flag>0,facecolor='g')\n",
      "#ax.fill_between(OttRiverMiles1,0,1, where=flag<1,facecolor='white')  \n",
      "ax.set_xlim([min(OttRiverMiles1), max(OttRiverMiles1)])\n",
      "\n",
      "# hide the y ticks\n",
      "ax.set_yticks([])\n",
      "\n",
      "ax = plt.subplot(3, 1, 2)\n",
      "fig.subplots_adjust(hspace=0.3, wspace=0.4, bottom=0.2)\n",
      "props = dict(boxstyle='round', facecolor='wheat', alpha=0.5)  \n",
      "ax.text(.87,.86, 'Ottauquechee', fontsize=12, horizontalalignment='left', transform=ax.transAxes)    \n",
      "ax.set_xlabel('Upstream(km)', fontsize=12., labelpad=5)\n",
      "\n",
      "#ax.fill_between(junk2,0,1,where=flag>0,facecolor='r', alpha=0.5)\n",
      "ax.fill_between(OttRiverMiles1,0,1, where=ReservoirFlag>0,facecolor='grey') \n",
      "ax.set_xlim([min(OttRiverMiles1), max(OttRiverMiles1)])\n",
      "\n",
      "\n",
      "# hide the y ticks\n",
      "ax.set_yticks([])\n",
      "print OttRiverMiles1, OttRiverMiles2,flag\n",
      "\n",
      "ax = plt.subplot(3, 1, 3)\n",
      "fig.subplots_adjust(hspace=0.3, wspace=0.4, bottom=0.2)\n",
      "props = dict(boxstyle='round', facecolor='wheat', alpha=0.5)  \n",
      "ax.text(.87,.86, 'Ottauquechee', fontsize=12, horizontalalignment='left', transform=ax.transAxes)    \n",
      "ax.set_xlabel('Upstream(km)', fontsize=12., labelpad=5)\n",
      "ax.set_ylabel('Width(m)', fontsize=12., labelpad=5)\n",
      "\n",
      "#ax.fill_between(junk2,0,1,where=flag>0,facecolor='r', alpha=0.5)\n",
      "ax.plot(OttRiverMiles1, Width)\n",
      "ax.set_ylim([0, 350])\n",
      "ax.set_xlim([min(OttRiverMiles1), max(OttRiverMiles1)])\n",
      "\n",
      "outfig = str(mainpath)+'OttRVegReservoir.png'    \n",
      "plt.savefig(str(outfig),dpi=500,format = 'png')"
     ],
     "language": "python",
     "metadata": {},
     "outputs": [
      {
       "output_type": "stream",
       "stream": "stdout",
       "text": [
        "[ 58.07975674  54.99634233  48.47804559  47.45379384  38.63846821\n",
        "  37.55208542  34.54146183  33.09295164  29.19741501  28.68528914\n",
        "  24.36549285  22.44125204  18.18358802  17.15933627  13.47592916\n",
        "   5.08486227   0.        ] [ 59.65252962  58.07975674  54.99634233  48.47804559  47.45379384\n",
        "  38.63846821  37.55208542  34.54146183  33.09295164  29.19741501\n",
        "  28.68528914  24.36549285  22.44125204  18.18358802  17.15933627\n",
        "  13.47592916   5.08486227] [1 1 1 1 1 1 1 1 1 1 1 0 1 1 1 0 1]\n"
       ]
      },
      {
       "metadata": {},
       "output_type": "display_data",
       "png": "[encoded data removed]",
       "text": [
        "<matplotlib.figure.Figure at 0xcd04630>"
       ]
      }
     ],
     "prompt_number": 47
    },
    {
     "cell_type": "markdown",
     "metadata": {},
     "source": [
      "<font color='blue'>Find matching IDs in two files and merge into one file </font>"
     ]
    },
    {
     "cell_type": "code",
     "collapsed": false,
     "input": [
      "Rveg = []\n",
      "flag = []\n",
      "print len(WhiteID1), len(WhiteID2)\n",
      "for i in range(len(WhiteID1)):\n",
      "    diff= WhiteID2 - WhiteID1[i] # the diff between IDs\n",
      "    idx = np.where(diff==0)[0]\n",
      "    Rveg.extend(WhiteRvegParam[idx])\n",
      "\n",
      "# assign the flag. 1=Y, 0=N Riparian\n",
      "for i in range(len(WhiteID1)):\n",
      "    if (Rveg[i][0] == 0):\n",
      "        flag.append(0)\n",
      "    else:\n",
      "        flag.append(1)\n",
      "flag = np.array(flag)\n",
      "\n",
      "f = open(str(mainpath)+\"White.MainStem.Rveg\", 'w')\n",
      "for i in range(len(WhiteID1)):\n",
      "    f.write(\"%d %f %f %d \" % (WhiteID1[i], WhiteRiverMiles1[i], WhiteRiverMiles2[i], flag[i]))\n",
      "    f.writelines(\"%f \" % x for x in Rveg[i])\n",
      "    f.write(\"\\n\")\n",
      "f.close()\n",
      "    "
     ],
     "language": "python",
     "metadata": {},
     "outputs": [
      {
       "output_type": "stream",
       "stream": "stdout",
       "text": [
        "54 399\n"
       ]
      }
     ],
     "prompt_number": 21
    },
    {
     "cell_type": "code",
     "collapsed": false,
     "input": [
      "fig=plt.figure(figsize=(13,3),dpi=400)\n",
      "# set the figure background color\n",
      "ax = plt.subplot(axisbg='green')\n",
      "fig.subplots_adjust(hspace=0.3, wspace=0.4, bottom=0.2)\n",
      "props = dict(boxstyle='round', facecolor='wheat', alpha=0.5)  \n",
      "ax.text(.95,.9, 'White', fontsize=12, horizontalalignment='left', transform=ax.transAxes)    \n",
      "ax.set_xlabel('Upstream(km)', fontsize=12., labelpad=5)\n",
      "\n",
      "#ax.fill_between(junk2,0,1,where=flag>0,facecolor='r', alpha=0.5)\n",
      "ax.fill_between(WhiteRiverMiles1,0,1, where=flag<1,facecolor='white')    \n",
      "ax.set_xlim([min(WhiteRiverMiles1), max(WhiteRiverMiles1)])\n",
      "\n",
      "\n",
      "# hide the y ticks\n",
      "ax.set_yticks([])\n",
      "\n",
      "outfig = 'D:\\\\Box Sync\\\\ConnecticutPaper\\\\Paper1\\\\Fig\\\\'+'DailyFlow.png'    \n",
      "#plt.savefig(str(outfig),dpi=500,format = 'png',transparent='True')\n",
      "\n",
      "print WhiteRiverMiles1, \"\\n\", flag\n",
      "\n",
      "outfig = str(mainpath)+'WhiteRVeg.png'    \n",
      "plt.savefig(str(outfig),dpi=500,format = 'png')"
     ],
     "language": "python",
     "metadata": {},
     "outputs": [
      {
       "output_type": "stream",
       "stream": "stdout",
       "text": [
        "[ 88.87567523  87.76355665  86.01505012  85.65292242  84.84080019\n",
        "  83.54228819  82.58016778  81.91804373  78.54529274  77.883169\n",
        "  76.79678621  74.56188928  72.17699418  71.45273909  69.91636177\n",
        "  69.10423954  67.80572753  64.33444964  62.76167676  59.19187227\n",
        "  57.91909574  56.85844874  53.29930402  52.27505227  48.95377286\n",
        "  44.75823987  43.54759439  43.39759621  42.16121525  40.83696745\n",
        "  36.76569685  35.74144541  34.65506262  31.00805106  30.43379384\n",
        "  28.77315414  27.41251078  24.96548433  24.51548981  23.04124383\n",
        "  22.61698509  21.80486287  21.01847643  19.39423228  15.71082486\n",
        "  13.81232015  13.1501961   12.63807023  10.82743235   9.10466129\n",
        "   6.5955038    4.03487504   3.37275099   0.        ] \n",
        "[0 0 0 0 1 1 1 1 1 1 1 1 1 1 1 1 1 1 1 1 1 1 1 1 1 1 1 1 1 1 1 1 1 1 1 1 1\n",
        " 1 1 1 1 1 1 1 1 1 1 1 1 1 1 1 1 1]\n"
       ]
      },
      {
       "metadata": {},
       "output_type": "display_data",
       "png": "[encoded data removed]",
       "text": [
        "<matplotlib.figure.Figure at 0xd09a978>"
       ]
      }
     ],
     "prompt_number": 22
    },
    {
     "cell_type": "code",
     "collapsed": false,
     "input": [],
     "language": "python",
     "metadata": {},
     "outputs": [],
     "prompt_number": 22
    }
   ],
   "metadata": {}
  }
 ]
}