{
 "metadata": {
  "name": "",
  "signature": "sha256:b0f0b3d2bd40e0f421cb86a8765f198fd2d02540ca2ee4c4327e3b4e13db7581"
 },
 "nbformat": 3,
 "nbformat_minor": 0,
 "worksheets": [
  {
   "cells": [
    {
     "cell_type": "markdown",
     "metadata": {},
     "source": [
      "###This notebook includes Python scripts for locating and storing the data from desired segments based on th river network file."
     ]
    },
    {
     "cell_type": "code",
     "collapsed": false,
     "input": [
      "%pylab inline"
     ],
     "language": "python",
     "metadata": {},
     "outputs": [
      {
       "output_type": "stream",
       "stream": "stdout",
       "text": [
        "Populating the interactive namespace from numpy and matplotlib\n"
       ]
      },
      {
       "output_type": "stream",
       "stream": "stderr",
       "text": [
        "WARNING: pylab import has clobbered these variables: ['norm', 'f', 'var']\n",
        "`%matplotlib` prevents importing * from pylab and numpy\n"
       ]
      }
     ],
     "prompt_number": 209
    },
    {
     "cell_type": "code",
     "collapsed": false,
     "input": [
      "# Import all needed libraries \n",
      "import sys, os, datetime, time\n",
      "import collections\n",
      "import numpy as np\n",
      "import pandas as pd\n",
      "import numpy.ma as ma\n",
      "import math\n",
      "import matplotlib.dates as dates\n",
      "import matplotlib.ticker as ticker\n",
      "import matplotlib.pyplot as plt\n",
      "from matplotlib.backends.backend_pdf import PdfPages\n",
      "from scipy.stats import norm\n",
      "from scipy import stats\n",
      "\n",
      "import os\n",
      "os.getcwd() \n",
      "os.chdir(\"D:\\\\Dropbox\\\\Python_Scripts\")\n",
      "os.getcwd()"
     ],
     "language": "python",
     "metadata": {},
     "outputs": [
      {
       "metadata": {},
       "output_type": "pyout",
       "prompt_number": 210,
       "text": [
        "'D:\\\\Dropbox\\\\Python_Scripts'"
       ]
      }
     ],
     "prompt_number": 210
    },
    {
     "cell_type": "code",
     "collapsed": false,
     "input": [
      "import matplotlib as mpl\n",
      "mpl.rcParams['lines.linewidth'] = 2\n",
      "font = {'family' : 'sans-serif',\n",
      "        'sans-serif' : 'Verdana',\n",
      "        'weight' : 'medium',\n",
      "        'size'   : '12'}\n",
      "params1 = {\n",
      "          'axes.labelsize': 12,\n",
      "          'text.fontsize': 12,\n",
      "          'xtick.labelsize': 12,\n",
      "          'xtick.direction': 'out',\n",
      "          'ytick.labelsize': 12,\n",
      "          'legend.pad': 0.01,     # empty space around the legend box\n",
      "          'legend.fontsize': 12,\n",
      "          'legend.labelspacing':0.25,\n",
      "          'font.size': 12,\n",
      "          'font.style': 'normal',\n",
      "          'axes.style': 'normal',\n",
      "          'xtick.labelstyle': 'normal',\n",
      "          }\n",
      "mpl.RcParams.update(params1)\n",
      "mpl.rc('font', **font)\n",
      "plt.rc(\"xtick\", direction=\"out\")\n",
      "plt.rc(\"ytick\", direction=\"out\")\n",
      "plt.rc('legend',**{'fontsize':12})"
     ],
     "language": "python",
     "metadata": {},
     "outputs": [],
     "prompt_number": 211
    },
    {
     "cell_type": "code",
     "collapsed": false,
     "input": [
      "BasinName = \"Black_Ottau\""
     ],
     "language": "python",
     "metadata": {},
     "outputs": [],
     "prompt_number": 212
    },
    {
     "cell_type": "markdown",
     "metadata": {},
     "source": [
      "<font color='blue'>Read the input files</font>"
     ]
    },
    {
     "cell_type": "code",
     "collapsed": false,
     "input": [
      "mainpath = \"D:\\\\Box Sync\\\\Connecticut_Basin\\\\TheRiver\\\\River_Network\\\\\"\n",
      "\n",
      "# segmap has the projection from RBM sequence to DHSVM sequence\n",
      "MainStemFile = str(mainpath)  + \"Conn.Main.Stem2\"\n",
      "# trib files indicate the tributaries to each main stem\n",
      "TributaryFile = str(mainpath)  + \"Conn.Main.Trib2\"\n",
      "# source file to extract data from\n",
      "InputFile = str(mainpath) + \"Outflow.Only\"\n",
      "\n",
      "Basin = np.genfromtxt(MainStemFile, dtype=str, skiprows=1, usecols=[0])\n",
      "DHSVMSeq = np.genfromtxt(MainStemFile, dtype=int, skiprows=1, usecols=[2])\n",
      "NewSeq = np.genfromtxt(MainStemFile, dtype=int, skiprows=1, usecols=[3])"
     ],
     "language": "python",
     "metadata": {},
     "outputs": [],
     "prompt_number": 213
    },
    {
     "cell_type": "markdown",
     "metadata": {},
     "source": [
      "<font color='blue'>Find the location (in column number) of main stem segments in the file</font>"
     ]
    },
    {
     "cell_type": "code",
     "collapsed": false,
     "input": [
      "idx = [] #stores the indices of desired segments\n",
      "seg = [] #stores the main stem segment ID in the string format\n",
      "\n",
      "# convert integer to string\n",
      "for i in range(len(DHSVMSeq)):\n",
      "    seg.append(str(DHSVMSeq[i])) \n",
      "\n",
      "f1 = open(InputFile)\n",
      "# skip the header\n",
      "lines = f1.readlines()[1:]\n",
      "\n",
      "# add the 'Date' header to the first line so the segment ID and corresponding values match in column number.\n",
      "lines[0] = 'Date' + lines[0]\n",
      "\n",
      "# locate the column number of desired segment ID in the first line of the file\n",
      "for j in range(len(DHSVMSeq)):\n",
      "    if (Basin[j]==str(BasinName)):\n",
      "        idx.append(lines[0].split().index(seg[j]))\n",
      "\n",
      "# insert the 1st column which stores the timestamp\n",
      "idx.insert(0, 0)\n",
      "\n",
      "print \"idx:\\n\", idx"
     ],
     "language": "python",
     "metadata": {},
     "outputs": [
      {
       "output_type": "stream",
       "stream": "stdout",
       "text": [
        "idx:\n",
        "[0, 371, 369, 367, 360, 353, 346, 334, 327, 326, 324, 298, 292, 270, 267, 239, 238, 231, 205, 181, 179, 166, 164, 141, 121, 90, 85, 65]\n"
       ]
      }
     ],
     "prompt_number": 214
    },
    {
     "cell_type": "markdown",
     "metadata": {},
     "source": [
      "<font color='blue'>Store the new ID assigned to the main stem segments in the file.</font>"
     ]
    },
    {
     "cell_type": "code",
     "collapsed": false,
     "input": [
      "print idx[1:]\n",
      "print range(12)"
     ],
     "language": "python",
     "metadata": {},
     "outputs": [
      {
       "output_type": "stream",
       "stream": "stdout",
       "text": [
        "[371, 369, 367, 360, 353, 346, 334, 327, 326, 324, 298, 292, 270, 267, 239, 238, 231, 205, 181, 179, 166, 164, 141, 121, 90, 85, 65]\n",
        "[0, 1, 2, 3, 4, 5, 6, 7, 8, 9, 10, 11]\n"
       ]
      }
     ],
     "prompt_number": 215
    },
    {
     "cell_type": "code",
     "collapsed": false,
     "input": [
      "id = [] #store the new ID\n",
      "for i in range(len(NewSeq)):\n",
      "    for j in range(len(idx)):\n",
      "        if (Basin[i]==str(BasinName) and DHSVMSeq[i] == idx[j]):\n",
      "            id.append(NewSeq[i])\n",
      "print \"id:\\n\", id"
     ],
     "language": "python",
     "metadata": {},
     "outputs": [
      {
       "output_type": "stream",
       "stream": "stdout",
       "text": [
        "id:\n",
        "[112, 113, 114, 115, 116, 117, 118, 119, 120, 121, 122, 123, 124, 125, 126, 127, 128, 129, 130, 131, 132, 133, 134, 135, 136, 137, 138]\n"
       ]
      }
     ],
     "prompt_number": 216
    },
    {
     "cell_type": "code",
     "collapsed": false,
     "input": [
      "var = collections.defaultdict(list)\n",
      "for j in range(len(idx)):\n",
      "    for k, line in enumerate(lines[1:]):  \n",
      "        var[j].append(line.split()[idx[j]])"
     ],
     "language": "python",
     "metadata": {},
     "outputs": [],
     "prompt_number": 217
    },
    {
     "cell_type": "code",
     "collapsed": false,
     "input": [
      "f=open(str(mainpath)+\"junk.txt\", 'w')\n",
      "\n",
      "f.write(\"Date \")\n",
      "for i in range(len(id)):\n",
      "    f.write(\"%d \" % id[i])\n",
      "f.write(\"\\n\")\n",
      "for i in range(len(lines[1:])):\n",
      "    for j in range(len(idx)):\n",
      "        f.write(var[j][i])\n",
      "        f.write(\" \")\n",
      "    f.write(\"\\n\")\n",
      "f.close()\n",
      "f1.close()"
     ],
     "language": "python",
     "metadata": {},
     "outputs": [],
     "prompt_number": 218
    },
    {
     "cell_type": "markdown",
     "metadata": {},
     "source": [
      "<font color='blue'>Make files for tributaries.</font>"
     ]
    },
    {
     "cell_type": "code",
     "collapsed": false,
     "input": [
      "TribBasin = np.genfromtxt(TributaryFile, dtype=str, skiprows=1, usecols=[0])\n",
      "TribDHSVMSeq = np.genfromtxt(TributaryFile, dtype=int, skiprows=1, usecols=[4])\n",
      "StemDHSVMSeq = np.genfromtxt(TributaryFile, dtype=int, skiprows=1, usecols=[2])\n",
      "TribNewSeq = np.genfromtxt(TributaryFile, dtype=int, skiprows=1, usecols=[6])"
     ],
     "language": "python",
     "metadata": {},
     "outputs": [],
     "prompt_number": 204
    },
    {
     "cell_type": "markdown",
     "metadata": {},
     "source": [
      "<font color='blue'>Find the location (in column number) of tributary segments in the file</font>"
     ]
    },
    {
     "cell_type": "code",
     "collapsed": false,
     "input": [
      "idx = [] #stores the indices of desired segments\n",
      "seg = [] #stores the main stem segment ID in the string format\n",
      "\n",
      "# convert integer to string\n",
      "for i in range(len(TribDHSVMSeq)):\n",
      "    seg.append(str(TribDHSVMSeq[i])) \n",
      "    \n",
      "f1 = open(InputFile)\n",
      "# skip the header\n",
      "lines = f1.readlines()[1:]\n",
      "\n",
      "# add the 'Date' header to the first line so the segment ID and corresponding values match in column number.\n",
      "lines[0] = 'Date' + lines[0]\n",
      "\n",
      "# locate the column number of desired segment ID in the first line of the file\n",
      "for j in range(len(TribDHSVMSeq)):\n",
      "    if (TribBasin[j]==str(BasinName)):\n",
      "        idx.append(lines[0].split().index(seg[j]))\n",
      "        \n",
      "# insert the 1st column which stores the timestamp\n",
      "idx.insert(0, 0)\n",
      "\n",
      "print \"idx:\\n\", idx"
     ],
     "language": "python",
     "metadata": {},
     "outputs": [
      {
       "output_type": "stream",
       "stream": "stdout",
       "text": [
        "idx:\n",
        "[0, 370, 368, 362, 352, 347, 333, 328, 325, 329, 311, 293, 275, 268, 241, 247, 232, 206, 193, 185, 172, 163, 142, 122, 100, 86, 70, 57, 58]\n"
       ]
      }
     ],
     "prompt_number": 205
    },
    {
     "cell_type": "markdown",
     "metadata": {},
     "source": [
      "<font color='blue'>Store the new ID assigned to the tributary segments in the file.</font>"
     ]
    },
    {
     "cell_type": "code",
     "collapsed": false,
     "input": [
      "id = [] #store the new ID\n",
      "for i in range(len(TribNewSeq)):\n",
      "    for j in range(len(idx)):\n",
      "        if (TribBasin[i]==str(BasinName) and TribDHSVMSeq[i]==idx[j]):\n",
      "            id.append(TribNewSeq[i])\n",
      "print \"id:\\n\", id"
     ],
     "language": "python",
     "metadata": {},
     "outputs": [
      {
       "output_type": "stream",
       "stream": "stdout",
       "text": [
        "id:\n",
        "[364, 365, 366, 367, 368, 369, 370, 371, 372, 373, 374, 375, 376, 377, 378, 379, 380, 381, 382, 383, 384, 385, 386, 387, 388, 389, 390, 391]\n"
       ]
      }
     ],
     "prompt_number": 206
    },
    {
     "cell_type": "code",
     "collapsed": false,
     "input": [
      "var = collections.defaultdict(list)\n",
      "for j in range(len(idx)):\n",
      "    for k, line in enumerate(lines[1:]):  \n",
      "        var[j].append(line.split()[idx[j]])"
     ],
     "language": "python",
     "metadata": {},
     "outputs": [],
     "prompt_number": 207
    },
    {
     "cell_type": "code",
     "collapsed": false,
     "input": [
      "f=open(str(mainpath)+\"junk2.txt\", 'w')\n",
      "\n",
      "f.write(\"Date \")\n",
      "for i in range(len(id)):\n",
      "    f.write(\"%d \" % id[i])\n",
      "f.write(\"\\n\")\n",
      "for i in range(len(lines[1:])):\n",
      "    for j in range(len(idx)):\n",
      "        f.write(var[j][i])\n",
      "        f.write(\" \")\n",
      "    f.write(\"\\n\")\n",
      "f.close()\n",
      "f1.close()"
     ],
     "language": "python",
     "metadata": {},
     "outputs": [],
     "prompt_number": 208
    }
   ],
   "metadata": {}
  }
 ]
}