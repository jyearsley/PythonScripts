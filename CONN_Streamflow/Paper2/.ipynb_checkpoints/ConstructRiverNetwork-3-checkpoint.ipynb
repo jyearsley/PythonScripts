{
 "metadata": {
  "name": "",
  "signature": "sha256:20637a72430b06a4bf1fd07338e88b4923d28bd8ffa1c5490d8f67760c34e3c7"
 },
 "nbformat": 3,
 "nbformat_minor": 0,
 "worksheets": [
  {
   "cells": [
    {
     "cell_type": "markdown",
     "metadata": {},
     "source": [
      "###This notebook includes Python scripts for locating and storing the data from desired segments based on th river network file."
     ]
    },
    {
     "cell_type": "code",
     "collapsed": false,
     "input": [
      "%pylab inline"
     ],
     "language": "python",
     "metadata": {},
     "outputs": [
      {
       "output_type": "stream",
       "stream": "stdout",
       "text": [
        "Populating the interactive namespace from numpy and matplotlib\n"
       ]
      },
      {
       "output_type": "stream",
       "stream": "stderr",
       "text": [
        "WARNING: pylab import has clobbered these variables: ['norm']\n",
        "`%matplotlib` prevents importing * from pylab and numpy\n"
       ]
      }
     ],
     "prompt_number": 20
    },
    {
     "cell_type": "code",
     "collapsed": false,
     "input": [
      "# Import all needed libraries \n",
      "import sys, os, datetime, time\n",
      "import collections\n",
      "import numpy as np\n",
      "import pandas as pd\n",
      "import numpy.ma as ma\n",
      "import math\n",
      "import matplotlib.dates as dates\n",
      "import matplotlib.ticker as ticker\n",
      "import matplotlib.pyplot as plt\n",
      "from matplotlib.backends.backend_pdf import PdfPages\n",
      "from scipy.stats import norm\n",
      "from scipy import stats\n",
      "\n",
      "import os\n",
      "os.getcwd() \n",
      "os.chdir(\"D:\\\\Dropbox\\\\Python_Scripts\")\n",
      "os.getcwd()"
     ],
     "language": "python",
     "metadata": {},
     "outputs": [
      {
       "metadata": {},
       "output_type": "pyout",
       "prompt_number": 21,
       "text": [
        "'D:\\\\Dropbox\\\\Python_Scripts'"
       ]
      }
     ],
     "prompt_number": 21
    },
    {
     "cell_type": "code",
     "collapsed": false,
     "input": [
      "import matplotlib as mpl\n",
      "mpl.rcParams['lines.linewidth'] = 2\n",
      "font = {'family' : 'sans-serif',\n",
      "        'sans-serif' : 'Verdana',\n",
      "        'weight' : 'medium',\n",
      "        'size'   : '12'}\n",
      "params1 = {\n",
      "          'axes.labelsize': 12,\n",
      "          'text.fontsize': 12,\n",
      "          'xtick.labelsize': 12,\n",
      "          'xtick.direction': 'out',\n",
      "          'ytick.labelsize': 12,\n",
      "          'legend.pad': 0.01,     # empty space around the legend box\n",
      "          'legend.fontsize': 12,\n",
      "          'legend.labelspacing':0.25,\n",
      "          'font.size': 12,\n",
      "          'font.style': 'normal',\n",
      "          'axes.style': 'normal',\n",
      "          'xtick.labelstyle': 'normal',\n",
      "          }\n",
      "mpl.RcParams.update(params1)\n",
      "mpl.rc('font', **font)\n",
      "plt.rc(\"xtick\", direction=\"out\")\n",
      "plt.rc(\"ytick\", direction=\"out\")\n",
      "plt.rc('legend',**{'fontsize':12})"
     ],
     "language": "python",
     "metadata": {},
     "outputs": [],
     "prompt_number": 22
    },
    {
     "cell_type": "code",
     "collapsed": false,
     "input": [
      "BasinName = \"Upper_Conn\""
     ],
     "language": "python",
     "metadata": {},
     "outputs": [],
     "prompt_number": 23
    },
    {
     "cell_type": "markdown",
     "metadata": {},
     "source": [
      "<font color='blue'>Read the input files</font>"
     ]
    },
    {
     "cell_type": "code",
     "collapsed": false,
     "input": [
      "mainpath = \"D:\\\\Box Sync\\\\Connecticut_Basin\\\\TheRiver\\\\River_Network\\\\\"\n",
      "\n",
      "# segmap has the projection from RBM sequence to DHSVM sequence\n",
      "MainStemFile = str(mainpath)  + \"Conn.Main.Stem2\"\n",
      "# trib files indicate the tributaries to each main stem\n",
      "TributaryFile = str(mainpath)  + \"Conn.Main.Trib2\"\n",
      "# source file to extract data from\n",
      "InputFile = str(mainpath) + \"UPPER_CONN_ATP.Only\"\n",
      "\n",
      "Basin = np.genfromtxt(MainStemFile, dtype=str, skiprows=1, usecols=[0])\n",
      "DHSVMSeq = np.genfromtxt(MainStemFile, dtype=int, skiprows=1, usecols=[2])\n",
      "NewSeq = np.genfromtxt(MainStemFile, dtype=int, skiprows=1, usecols=[3])"
     ],
     "language": "python",
     "metadata": {},
     "outputs": [],
     "prompt_number": 24
    },
    {
     "cell_type": "markdown",
     "metadata": {},
     "source": [
      "<font color='blue'>Find the location (in column number) of main stem segments in the file</font>"
     ]
    },
    {
     "cell_type": "code",
     "collapsed": false,
     "input": [
      "idx = [] #stores the indices of desired segments\n",
      "seg = [] #stores the main stem segment ID in the string format\n",
      "\n",
      "# convert integer to string\n",
      "for i in range(len(DHSVMSeq)):\n",
      "    seg.append(str(DHSVMSeq[i])) \n",
      "\n",
      "f1 = open(InputFile)\n",
      "# skip the first line -- header\n",
      "lines = f1.readlines()[1:]\n",
      "\n",
      "# add the 'Date' header to the first line so the segment ID and corresponding values match in column number.\n",
      "lines[0] = 'Date' + lines[0]\n",
      "\n",
      "# locate the column number of desired segment ID in the first line of the file\n",
      "for j in range(len(DHSVMSeq)):\n",
      "    if (Basin[j]==str(BasinName)):\n",
      "        print seg[j], \" --> \", lines[0].split().index(seg[j])\n",
      "        idx.append(lines[0].split().index(seg[j]))\n",
      "\n",
      "# insert the 1st column which stores the timestamp\n",
      "idx.insert(0, 0)"
     ],
     "language": "python",
     "metadata": {},
     "outputs": [
      {
       "output_type": "stream",
       "stream": "stdout",
       "text": [
        "361  -->  357\n",
        "355  -->  353\n",
        "347  -->  345\n",
        "345  -->  343\n",
        "340  -->  338\n",
        "333  -->  333\n",
        "326  -->  326\n",
        "320  -->  320\n",
        "305  -->  305\n",
        "301  -->  301\n",
        "300  -->  300\n",
        "278  -->  278\n",
        "259  -->  259\n",
        "248  -->  248\n",
        "240  -->  240\n",
        "229  -->  229\n",
        "224  -->  224\n",
        "218  -->  218\n",
        "210  -->  210\n",
        "198  -->  198\n",
        "183  -->  183\n",
        "180  -->  180\n",
        "167  -->  167\n",
        "162  -->  162\n",
        "148  -->  148\n",
        "141  -->  141\n",
        "124  -->  124\n",
        "117  -->  117\n",
        "115  -->  115\n",
        "111  -->  111\n",
        "107  -->  107\n",
        "98  -->  98\n",
        "94  -->  94\n",
        "85  -->  85\n",
        "84  -->  84\n",
        "72  -->  72\n",
        "67  -->  67\n",
        "66  -->  66\n",
        "61  -->  61\n",
        "58  -->  58\n",
        "49  -->  49\n",
        "43  -->  43\n",
        "42  -->  42\n",
        "37  -->  37\n",
        "35  -->  35\n",
        "32  -->  32\n",
        "28  -->  28\n",
        "24  -->  24\n",
        "17  -->  17\n",
        "9  -->  9\n"
       ]
      }
     ],
     "prompt_number": 25
    },
    {
     "cell_type": "markdown",
     "metadata": {},
     "source": [
      "<font color='blue'>Store the new ID assigned to the main stem segments in the file.</font>"
     ]
    },
    {
     "cell_type": "code",
     "collapsed": false,
     "input": [
      "print range(len(idx))\n",
      "print\n",
      "print \"lenth of idx\", len(idx), \"\\n\"\n",
      "print \"idx:\\n\", idx, \"\\n\"\n",
      "print \"last item in idx is: \", idx[27]"
     ],
     "language": "python",
     "metadata": {},
     "outputs": [
      {
       "output_type": "stream",
       "stream": "stdout",
       "text": [
        "[0, 1, 2, 3, 4, 5, 6, 7, 8, 9, 10, 11, 12, 13, 14, 15, 16, 17, 18, 19, 20, 21, 22, 23, 24, 25, 26, 27, 28, 29, 30, 31, 32, 33, 34, 35, 36, 37, 38, 39, 40, 41, 42, 43, 44, 45, 46, 47, 48, 49, 50]\n",
        "\n",
        "lenth of idx 51 \n",
        "\n",
        "idx:\n",
        "[0, 357, 353, 345, 343, 338, 333, 326, 320, 305, 301, 300, 278, 259, 248, 240, 229, 224, 218, 210, 198, 183, 180, 167, 162, 148, 141, 124, 117, 115, 111, 107, 98, 94, 85, 84, 72, 67, 66, 61, 58, 49, 43, 42, 37, 35, 32, 28, 24, 17, 9] \n",
        "\n",
        "last item in idx is:  124\n"
       ]
      }
     ],
     "prompt_number": 26
    },
    {
     "cell_type": "code",
     "collapsed": false,
     "input": [
      "id = [] #store the new ID\n",
      "for i in range(len(NewSeq)):\n",
      "    if (Basin[i]==str(BasinName)):\n",
      "        id.append(NewSeq[i])\n",
      "print len(id)"
     ],
     "language": "python",
     "metadata": {},
     "outputs": [
      {
       "output_type": "stream",
       "stream": "stdout",
       "text": [
        "50\n"
       ]
      }
     ],
     "prompt_number": 34
    },
    {
     "cell_type": "code",
     "collapsed": false,
     "input": [
      "var = collections.defaultdict(list)\n",
      "for j in range(len(idx)):\n",
      "    for k, line in enumerate(lines[1:]):  \n",
      "        var[j].append(line.split()[idx[j]])"
     ],
     "language": "python",
     "metadata": {},
     "outputs": [
      {
       "output_type": "stream",
       "stream": "stdout",
       "text": [
        "357\n",
        "-4.38\n"
       ]
      }
     ],
     "prompt_number": 35
    },
    {
     "cell_type": "code",
     "collapsed": false,
     "input": [
      "f=open(str(mainpath)+\"junk.txt\", 'w')\n",
      "\n",
      "f.write(\"Date \")\n",
      "for i in range(len(id)):\n",
      "    f.write(\"%d \" % id[i])\n",
      "f.write(\"\\n\")\n",
      "for i in range(len(lines[1:])):\n",
      "    for j in range(len(idx)):\n",
      "        f.write(var[j][i])\n",
      "        f.write(\" \")\n",
      "    f.write(\"\\n\")\n",
      "f.close()\n",
      "f1.close()"
     ],
     "language": "python",
     "metadata": {},
     "outputs": [],
     "prompt_number": 36
    },
    {
     "cell_type": "markdown",
     "metadata": {},
     "source": [
      "<font color='blue'>Make files for tributaries.</font>"
     ]
    },
    {
     "cell_type": "code",
     "collapsed": false,
     "input": [
      "TribBasin = np.genfromtxt(TributaryFile, dtype=str, skiprows=1, usecols=[0])\n",
      "TribDHSVMSeq = np.genfromtxt(TributaryFile, dtype=int, skiprows=1, usecols=[4])\n",
      "StemDHSVMSeq = np.genfromtxt(TributaryFile, dtype=int, skiprows=1, usecols=[2])\n",
      "TribNewSeq = np.genfromtxt(TributaryFile, dtype=int, skiprows=1, usecols=[6])"
     ],
     "language": "python",
     "metadata": {},
     "outputs": [],
     "prompt_number": 38
    },
    {
     "cell_type": "markdown",
     "metadata": {},
     "source": [
      "<font color='blue'>Find the location (in column number) of tributary segments in the file</font>"
     ]
    },
    {
     "cell_type": "code",
     "collapsed": false,
     "input": [
      "idx = [] #stores the indices of desired segments\n",
      "seg = [] #stores the main stem segment ID in the string format\n",
      "\n",
      "# convert integer to string\n",
      "for i in range(len(TribDHSVMSeq)):\n",
      "    seg.append(str(TribDHSVMSeq[i])) \n",
      "    \n",
      "f1 = open(InputFile)\n",
      "# skip the header\n",
      "lines = f1.readlines()[1:]\n",
      "\n",
      "# add the 'Date' header to the first line so the segment ID and corresponding values match in column number.\n",
      "lines[0] = 'Date' + lines[0]\n",
      "\n",
      "# locate the column number of desired segment ID in the first line of the file\n",
      "for j in range(len(TribDHSVMSeq)):\n",
      "    if (TribBasin[j]==str(BasinName)):\n",
      "        idx.append(lines[0].split().index(seg[j]))\n",
      "        \n",
      "# insert the 1st column which stores the timestamp\n",
      "idx.insert(0, 0)\n",
      "\n",
      "print \"idx:\\n\", idx"
     ],
     "language": "python",
     "metadata": {},
     "outputs": [
      {
       "output_type": "stream",
       "stream": "stdout",
       "text": [
        "idx:\n",
        "[0, 354, 347, 346, 342, 339, 332, 327, 319, 307, 306, 311, 299, 277, 258, 251, 239, 245, 223, 220, 211, 199, 184, 182, 171, 168, 163, 149, 144, 130, 132, 116, 112, 106, 104, 95, 81, 86, 73, 65, 77, 62, 57, 50, 44, 41, 38, 36, 31, 27, 23, 18, 10, 6]\n"
       ]
      }
     ],
     "prompt_number": 39
    },
    {
     "cell_type": "markdown",
     "metadata": {},
     "source": [
      "<font color='blue'>Store the new ID assigned to the tributary segments in the file.</font>"
     ]
    },
    {
     "cell_type": "code",
     "collapsed": false,
     "input": [
      "id = [] #store the new ID\n",
      "for i in range(len(TribNewSeq)):\n",
      "    if (TribBasin[i]==str(BasinName)):\n",
      "        id.append(TribNewSeq[i])\n",
      "print \"id:\\n\", id"
     ],
     "language": "python",
     "metadata": {},
     "outputs": [
      {
       "output_type": "stream",
       "stream": "stdout",
       "text": [
        "id:\n",
        "[249, 250, 251, 252, 253, 254, 255, 256, 257, 258, 259, 260, 261, 262, 263, 264, 265, 266, 267, 268, 269, 270, 271, 272, 273, 274, 275, 276, 277, 278, 279, 280, 281, 282, 283, 284, 285, 286, 287, 288, 289, 290, 291, 292, 293, 294, 295, 296, 297, 298, 299, 300, 301]\n"
       ]
      }
     ],
     "prompt_number": 40
    },
    {
     "cell_type": "code",
     "collapsed": false,
     "input": [
      "var = collections.defaultdict(list)\n",
      "for j in range(len(idx)):\n",
      "    for k, line in enumerate(lines[1:]):  \n",
      "        var[j].append(line.split()[idx[j]])"
     ],
     "language": "python",
     "metadata": {},
     "outputs": [],
     "prompt_number": 41
    },
    {
     "cell_type": "code",
     "collapsed": false,
     "input": [
      "f=open(str(mainpath)+\"junk2.txt\", 'w')\n",
      "\n",
      "f.write(\"Date \")\n",
      "for i in range(len(id)):\n",
      "    f.write(\"%d \" % id[i])\n",
      "f.write(\"\\n\")\n",
      "for i in range(len(lines[1:])):\n",
      "    for j in range(len(idx)):\n",
      "        f.write(var[j][i])\n",
      "        f.write(\" \")\n",
      "    f.write(\"\\n\")\n",
      "f.close()\n",
      "f1.close()"
     ],
     "language": "python",
     "metadata": {},
     "outputs": [],
     "prompt_number": 42
    }
   ],
   "metadata": {}
  }
 ]
}