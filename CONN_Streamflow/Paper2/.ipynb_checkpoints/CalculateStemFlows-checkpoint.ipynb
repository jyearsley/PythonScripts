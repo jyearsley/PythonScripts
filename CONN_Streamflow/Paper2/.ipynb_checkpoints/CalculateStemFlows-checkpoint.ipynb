{
 "metadata": {
  "name": "",
  "signature": "sha256:01c4280b962ae46142a80fd4d2c8b3e09410163189a7029b365fe850f9b0b296"
 },
 "nbformat": 3,
 "nbformat_minor": 0,
 "worksheets": [
  {
   "cells": [
    {
     "cell_type": "markdown",
     "metadata": {},
     "source": [
      "###This notebook includes Python scripts for accumulating the values column wise for the main stem streamflows."
     ]
    },
    {
     "cell_type": "code",
     "collapsed": false,
     "input": [
      "%pylab inline"
     ],
     "language": "python",
     "metadata": {},
     "outputs": [
      {
       "output_type": "stream",
       "stream": "stdout",
       "text": [
        "Populating the interactive namespace from numpy and matplotlib\n"
       ]
      },
      {
       "output_type": "stream",
       "stream": "stderr",
       "text": [
        "WARNING: pylab import has clobbered these variables: ['mat', 'f']\n",
        "`%matplotlib` prevents importing * from pylab and numpy\n"
       ]
      }
     ],
     "prompt_number": 2
    },
    {
     "cell_type": "code",
     "collapsed": false,
     "input": [
      "# Import all needed libraries \n",
      "import sys, os, datetime, time\n",
      "import collections\n",
      "import numpy as np\n",
      "import pandas as pd\n",
      "import numpy.ma as ma\n",
      "import math\n",
      "import matplotlib.dates as dates\n",
      "import matplotlib.ticker as ticker\n",
      "import matplotlib.pyplot as plt\n",
      "from matplotlib.backends.backend_pdf import PdfPages\n",
      "from scipy.stats import norm\n",
      "from scipy import stats\n",
      "\n",
      "import os\n",
      "os.getcwd() \n",
      "os.chdir(\"D:\\\\Dropbox\\\\Python_Scripts\")\n",
      "os.getcwd()"
     ],
     "language": "python",
     "metadata": {},
     "outputs": [
      {
       "metadata": {},
       "output_type": "pyout",
       "prompt_number": 3,
       "text": [
        "'D:\\\\Dropbox\\\\Python_Scripts'"
       ]
      }
     ],
     "prompt_number": 3
    },
    {
     "cell_type": "code",
     "collapsed": false,
     "input": [
      "import matplotlib as mpl\n",
      "mpl.rcParams['lines.linewidth'] = 2\n",
      "font = {'family' : 'sans-serif',\n",
      "        'sans-serif' : 'Verdana',\n",
      "        'weight' : 'medium',\n",
      "        'size'   : '12'}\n",
      "params1 = {\n",
      "          'axes.labelsize': 12,\n",
      "          'text.fontsize': 12,\n",
      "          'xtick.labelsize': 12,\n",
      "          'xtick.direction': 'out',\n",
      "          'ytick.labelsize': 12,\n",
      "          'legend.pad': 0.01,     # empty space around the legend box\n",
      "          'legend.fontsize': 12,\n",
      "          'legend.labelspacing':0.25,\n",
      "          'font.size': 12,\n",
      "          'font.style': 'normal',\n",
      "          'axes.style': 'normal',\n",
      "          'xtick.labelstyle': 'normal',\n",
      "          }\n",
      "mpl.RcParams.update(params1)\n",
      "mpl.rc('font', **font)\n",
      "plt.rc(\"xtick\", direction=\"out\")\n",
      "plt.rc(\"ytick\", direction=\"out\")\n",
      "plt.rc('legend',**{'fontsize':12})"
     ],
     "language": "python",
     "metadata": {},
     "outputs": [],
     "prompt_number": 4
    },
    {
     "cell_type": "markdown",
     "metadata": {},
     "source": [
      "<font color='blue'>Read the input files into matrix</font>"
     ]
    },
    {
     "cell_type": "code",
     "collapsed": false,
     "input": [
      "mainpath = \"D:\\\\Box Sync\\\\Connecticut_Basin\\\\TheRiver\\\\River_Network\\\\\"\n",
      "mat = []\n",
      "# read the file into a matrix of strings\n",
      "f = open(str(mainpath)+\"main.stem.Inflow.Only\", 'r')\n",
      "for line in f.readlines():\n",
      "    mat.append(line.split())"
     ],
     "language": "python",
     "metadata": {},
     "outputs": [],
     "prompt_number": 90
    },
    {
     "cell_type": "code",
     "collapsed": false,
     "input": [
      "# convert multi-dimensional list to numpy array\n",
      "a = np.array(mat)\n",
      "# slice the first row then first column of the array\n",
      "b = a[1:, 1:] "
     ],
     "language": "python",
     "metadata": {},
     "outputs": [],
     "prompt_number": 91
    },
    {
     "cell_type": "code",
     "collapsed": false,
     "input": [
      "print a[1:, 0]"
     ],
     "language": "python",
     "metadata": {},
     "outputs": [
      {
       "output_type": "stream",
       "stream": "stdout",
       "text": [
        "['01.01.2005-00:00:00' '01.01.2005-03:00:00' '01.01.2005-06:00:00' ...,\n",
        " '01.31.2007-15:00:00' '01.31.2007-18:00:00' '01.31.2007-21:00:00']\n"
       ]
      }
     ],
     "prompt_number": 92
    },
    {
     "cell_type": "code",
     "collapsed": false,
     "input": [
      "# convert date from string to float\n",
      "c = b.astype(np.float)\n",
      "print c"
     ],
     "language": "python",
     "metadata": {},
     "outputs": [
      {
       "output_type": "stream",
       "stream": "stdout",
       "text": [
        "[[  0.0248   0.0666   0.0748 ...,  12.3315  12.8205  12.9185]\n",
        " [  0.0206   0.0607   0.069  ...,  12.1504  12.7544  12.8556]\n",
        " [  0.0253   0.0674   0.0756 ...,  12.0046  12.6676  12.7731]\n",
        " ..., \n",
        " [  0.0921   0.1489   0.1615 ...,  11.2058  11.6929  11.7809]\n",
        " [  0.0837   0.1368   0.1494 ...,  11.1421  11.6263  11.7166]\n",
        " [  0.0842   0.1362   0.1487 ...,  11.0898  11.5684  11.6566]]\n"
       ]
      }
     ],
     "prompt_number": 93
    },
    {
     "cell_type": "markdown",
     "metadata": {},
     "source": [
      "<font color=blue>Accumulate flows from the biggest ID to smallest ID.</font>"
     ]
    },
    {
     "cell_type": "code",
     "collapsed": false,
     "input": [
      "print len(c[0])\n",
      "print c[:,0][0:3]"
     ],
     "language": "python",
     "metadata": {},
     "outputs": [
      {
       "output_type": "stream",
       "stream": "stdout",
       "text": [
        "110\n",
        "[ 0.0248  0.0206  0.0253]\n"
       ]
      }
     ],
     "prompt_number": 94
    },
    {
     "cell_type": "code",
     "collapsed": false,
     "input": [
      "y = np.zeros((len(c[:,0]), len(c[0,:])))\n",
      "\n",
      "for row in range(len(c[:,0])):\n",
      "    for col in range(len(c[0,:])):\n",
      "        if (col == 0):\n",
      "            y[row][col] = c[row][col]\n",
      "        else:\n",
      "            y[row][col] = c[row][col] + y[row][col-1]\n",
      "print y"
     ],
     "language": "python",
     "metadata": {},
     "outputs": [
      {
       "output_type": "stream",
       "stream": "stdout",
       "text": [
        "[[  2.48000000e-02   9.14000000e-02   1.66200000e-01 ...,   6.04706400e+02\n",
        "    6.17526900e+02   6.30445400e+02]\n",
        " [  2.06000000e-02   8.13000000e-02   1.50300000e-01 ...,   5.99443100e+02\n",
        "    6.12197500e+02   6.25053100e+02]\n",
        " [  2.53000000e-02   9.27000000e-02   1.68300000e-01 ...,   5.89095200e+02\n",
        "    6.01762800e+02   6.14535900e+02]\n",
        " ..., \n",
        " [  9.21000000e-02   2.41000000e-01   4.02500000e-01 ...,   6.38280100e+02\n",
        "    6.49973000e+02   6.61753900e+02]\n",
        " [  8.37000000e-02   2.20500000e-01   3.69900000e-01 ...,   6.29919600e+02\n",
        "    6.41545900e+02   6.53262500e+02]\n",
        " [  8.42000000e-02   2.20400000e-01   3.69100000e-01 ...,   6.27380500e+02\n",
        "    6.38948900e+02   6.50605500e+02]]\n"
       ]
      }
     ],
     "prompt_number": 95
    },
    {
     "cell_type": "code",
     "collapsed": false,
     "input": [
      "y = y.astype(np.str)"
     ],
     "language": "python",
     "metadata": {},
     "outputs": [],
     "prompt_number": 96
    },
    {
     "cell_type": "code",
     "collapsed": false,
     "input": [
      "# add the time stamp to the first column\n",
      "y= np.insert(y, 0, a[1:, 0], axis=1)\n",
      "\n",
      "print len(y[0])\n",
      "print len(a[0])\n",
      "\n",
      "# add the seg ID to the first row\n",
      "y= np.insert(y, 0, a[0], axis=0)\n",
      "\n"
     ],
     "language": "python",
     "metadata": {},
     "outputs": [
      {
       "output_type": "stream",
       "stream": "stdout",
       "text": [
        "111\n",
        "111\n"
       ]
      }
     ],
     "prompt_number": 97
    },
    {
     "cell_type": "code",
     "collapsed": false,
     "input": [
      "f=open(str(mainpath)+\"junk4.txt\", 'w')\n",
      "np.savetxt(str(mainpath)+\"junk4.txt\", y, delimiter=\" \", fmt=\"%s\") \n",
      "f.close()"
     ],
     "language": "python",
     "metadata": {},
     "outputs": [],
     "prompt_number": 98
    }
   ],
   "metadata": {}
  }
 ]
}