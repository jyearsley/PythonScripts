{
 "metadata": {
  "name": "",
  "signature": "sha256:83f7139821851d5289d6a82c50f1a232a6ae3af807c0f0a6943ee1b7ec929dd5"
 },
 "nbformat": 3,
 "nbformat_minor": 0,
 "worksheets": [
  {
   "cells": [
    {
     "cell_type": "markdown",
     "metadata": {},
     "source": [
      "###This notebook includes Python scripts for transposing matrices."
     ]
    },
    {
     "cell_type": "code",
     "collapsed": false,
     "input": [
      "%pylab inline"
     ],
     "language": "python",
     "metadata": {},
     "outputs": [
      {
       "output_type": "stream",
       "stream": "stdout",
       "text": [
        "Populating the interactive namespace from numpy and matplotlib\n"
       ]
      }
     ],
     "prompt_number": 1
    },
    {
     "cell_type": "code",
     "collapsed": false,
     "input": [
      "# Import all needed libraries \n",
      "import sys, os, datetime, time\n",
      "import collections\n",
      "import numpy as np\n",
      "import pandas as pd\n",
      "import numpy.ma as ma\n",
      "import math\n",
      "import matplotlib.dates as dates\n",
      "import matplotlib.ticker as ticker\n",
      "import matplotlib.pyplot as plt\n",
      "from matplotlib.backends.backend_pdf import PdfPages\n",
      "from scipy.stats import norm\n",
      "from scipy import stats\n",
      "\n",
      "import os\n",
      "os.getcwd() \n",
      "os.chdir(\"D:\\\\Dropbox\\\\Python_Scripts\")\n",
      "os.getcwd()"
     ],
     "language": "python",
     "metadata": {},
     "outputs": [
      {
       "metadata": {},
       "output_type": "pyout",
       "prompt_number": 2,
       "text": [
        "'D:\\\\Dropbox\\\\Python_Scripts'"
       ]
      }
     ],
     "prompt_number": 2
    },
    {
     "cell_type": "code",
     "collapsed": false,
     "input": [
      "import matplotlib as mpl\n",
      "mpl.rcParams['lines.linewidth'] = 2\n",
      "font = {'family' : 'sans-serif',\n",
      "        'sans-serif' : 'Verdana',\n",
      "        'weight' : 'medium',\n",
      "        'size'   : '12'}\n",
      "params1 = {\n",
      "          'axes.labelsize': 12,\n",
      "          'text.fontsize': 12,\n",
      "          'xtick.labelsize': 12,\n",
      "          'xtick.direction': 'out',\n",
      "          'ytick.labelsize': 12,\n",
      "          'legend.pad': 0.01,     # empty space around the legend box\n",
      "          'legend.fontsize': 12,\n",
      "          'legend.labelspacing':0.25,\n",
      "          'font.size': 12,\n",
      "          'font.style': 'normal',\n",
      "          'axes.style': 'normal',\n",
      "          'xtick.labelstyle': 'normal',\n",
      "          }\n",
      "mpl.RcParams.update(params1)\n",
      "mpl.rc('font', **font)\n",
      "plt.rc(\"xtick\", direction=\"out\")\n",
      "plt.rc(\"ytick\", direction=\"out\")\n",
      "plt.rc('legend',**{'fontsize':12})"
     ],
     "language": "python",
     "metadata": {},
     "outputs": [],
     "prompt_number": 3
    },
    {
     "cell_type": "markdown",
     "metadata": {},
     "source": [
      "<font color='blue'>Read the input files into matrix</font>"
     ]
    },
    {
     "cell_type": "code",
     "collapsed": false,
     "input": [
      "mainpath = \"D:\\\\Box Sync\\\\Connecticut_Basin\\\\TheRiver\\\\River_Network\\\\\"\n",
      "mat = []\n",
      "# segmap has the projection from RBM sequence to DHSVM sequence\n",
      "f = open(str(mainpath)+\"main.stem.ATP.Only\", 'r')\n",
      "for line in f.readlines():\n",
      "    mat.append(line.split())"
     ],
     "language": "python",
     "metadata": {},
     "outputs": [],
     "prompt_number": 4
    },
    {
     "cell_type": "markdown",
     "metadata": {},
     "source": [
      "<font color=blue>Sort the matrix by the first row</font>"
     ]
    },
    {
     "cell_type": "code",
     "collapsed": false,
     "input": [
      "a = np.array(mat)\n",
      "\n",
      "# print a[0, :] # first row\n",
      "c =  a[0, ::-1] # inverse the row\n",
      "print c\n",
      "\n",
      "b = a[:, a[0, :].argsort()[::-1]]\n",
      "\n",
      "\n",
      "print b"
     ],
     "language": "python",
     "metadata": {},
     "outputs": [
      {
       "output_type": "stream",
       "stream": "stdout",
       "text": [
        "['198' '197' '196' '195' '194' '193' '192' '191' '190' '189' '188' '187'\n",
        " '186' '185' '184' '183' '182' '181' '180' '179' '178' '177' '176' '175'\n",
        " '174' '173' '172' '171' '170' '169' '168' '167' '166' '165' '164' '163'\n",
        " '162' '161' '160' '159' '158' '157' '156' '155' '154' '153' '152' '151'\n",
        " '150' '149' '148' '147' '146' '145' '144' '143' '142' '141' '140' '139'\n",
        " '248' '247' '246' '245' '244' '243' '242' '241' '240' '239' '238' '237'\n",
        " '236' '235' '234' '233' '232' '231' '230' '229' '228' '227' '226' '225'\n",
        " '224' '223' '222' '221' '220' '219' '218' '217' '216' '215' '214' '213'\n",
        " '212' '211' '210' '209' '208' '207' '206' '205' '204' '203' '202' '201'\n",
        " '200' '199' 'Date']\n",
        "[['Date' '248' '247' ..., '141' '140' '139']\n",
        " ['01.01.2005-00:00:00' '-13.90' '-13.81' ..., '-0.34' '-0.12' '-0.44']\n",
        " ['01.01.2005-03:00:00' '-17.90' '-17.81' ..., '-1.81' '-1.59' '-1.23']\n",
        " ..., \n",
        " ['01.31.2006-15:00:00' '-3.71' '-3.61' ..., '1.40' '1.62' '0.56']\n",
        " ['01.31.2006-18:00:00' '-4.38' '-4.29' ..., '0.85' '1.06' '0.05']\n",
        " ['01.31.2006-21:00:00' '-5.23' '-5.14' ..., '0.14' '0.36' '-0.58']]\n"
       ]
      }
     ],
     "prompt_number": 48
    },
    {
     "cell_type": "code",
     "collapsed": false,
     "input": [
      "f=open(str(mainpath)+\"junk3.txt\", 'w')\n",
      "np.savetxt(str(mainpath)+\"junk3.txt\", b, delimiter=\" \", fmt=\"%s\") \n",
      "f.close()"
     ],
     "language": "python",
     "metadata": {},
     "outputs": [],
     "prompt_number": 53
    }
   ],
   "metadata": {}
  }
 ]
}