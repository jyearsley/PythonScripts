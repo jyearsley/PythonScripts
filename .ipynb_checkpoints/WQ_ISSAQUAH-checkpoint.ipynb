{
 "metadata": {
  "name": "",
  "signature": "sha256:e35884d75d05289ee5500849ea88c41ea9c5d3028196084a986ca35f7b884620"
 },
 "nbformat": 3,
 "nbformat_minor": 0,
 "worksheets": [
  {
   "cells": [
    {
     "cell_type": "markdown",
     "metadata": {},
     "source": [
      "###This notebook includes Python tools for analyzing DHSVM outputs.\n",
      "Time series data are analyzed with **numpy** and **pandas** tools and plotted with **matplotlib**. Spatial maps are analyzed and plotted using **netCDF4** and **Basemap** utilities. In general, the scripts that needs to be changed (eg. file path, locations, time range, and variables to plot, etc) are on top of the coding block if there's any. However, differences in the input data may require changing the code, such as which columns to read as the dates, how many rows to skip as the header, etc. Currently all input file paths are absolute paths so you should be able to run the code as it is and plot from my output files. All plots are saved into a pdf page (specify the file name in the second code block). Note that you'll have to run the last code block to close the pdf file you opened in order to view the file correctly. "
     ]
    },
    {
     "cell_type": "code",
     "collapsed": false,
     "input": [
      "%pylab inline"
     ],
     "language": "python",
     "metadata": {},
     "outputs": [
      {
       "output_type": "stream",
       "stream": "stdout",
       "text": [
        "Populating the interactive namespace from numpy and matplotlib\n"
       ]
      },
      {
       "output_type": "stream",
       "stream": "stderr",
       "text": [
        "WARNING: pylab import has clobbered these variables: ['norm']\n",
        "`%matplotlib` prevents importing * from pylab and numpy\n"
       ]
      }
     ],
     "prompt_number": 118
    },
    {
     "cell_type": "markdown",
     "metadata": {},
     "source": [
      "**First**, import all necessary libraries."
     ]
    },
    {
     "cell_type": "code",
     "collapsed": false,
     "input": [
      "# Import all needed libraries \n",
      "import sys, os, datetime, time\n",
      "import numpy as np\n",
      "import pandas as pd\n",
      "import numpy.ma as ma\n",
      "import math\n",
      "import matplotlib.dates as dates\n",
      "import matplotlib.ticker as ticker\n",
      "import matplotlib.pyplot as plt\n",
      "from matplotlib.backends.backend_pdf import PdfPages\n",
      "from scipy.stats import norm\n",
      "from scipy import stats\n",
      "\n",
      "import os\n",
      "os.getcwd() \n",
      "os.chdir(\"D:\\\\Dropbox\\\\Python_Scripts\")\n",
      "os.getcwd()"
     ],
     "language": "python",
     "metadata": {},
     "outputs": [
      {
       "metadata": {},
       "output_type": "pyout",
       "prompt_number": 119,
       "text": [
        "'D:\\\\Dropbox\\\\Python_Scripts'"
       ]
      }
     ],
     "prompt_number": 119
    },
    {
     "cell_type": "markdown",
     "metadata": {},
     "source": [
      "Read the input **streamflow** files (change the path if needed)<br>\n",
      "<span style=\"background-color: #FFFF00\">**<span style=\"color:#f00\">Attention</span>**: the last date in obs. file **MUST NOT** exceed the last date of sim.</span>"
     ]
    },
    {
     "cell_type": "code",
     "collapsed": false,
     "input": [
      "# Enter time range you'd like to plot, date format should be year, month, date \n",
      "startflowdate = datetime.datetime(2002,1,1)\n",
      "endflowdate = datetime.datetime(2008,12,31)\n",
      "\n",
      "print startflowdate.date()\n",
      "\n",
      "# Enter file path for sim. and obs. flow files\n",
      "simflowpath = 'D:\\\\Dropbox\\\\Python_Scripts\\\\Issaquah\\\\daily_flow.txt'\n",
      "obsflowpath = 'D:\\\\Dropbox\\\\Python_Scripts\\\\Issaquah\\\\streamflow.12121600.cms.1999_2009.txt'\n",
      "\n",
      "# Read flow sim and obs dates &  data\n",
      "simflowdata = np.genfromtxt(simflowpath, usecols=[1])\n",
      "obsflowdata = np.genfromtxt(obsflowpath, usecols=[1])\n",
      "tempsimflowdate = np.genfromtxt(simflowpath, dtype = str, skiprows = 0, usecols = 0)\n",
      "tempobsflowdate = np.genfromtxt(obsflowpath, dtype = str, skiprows = 0, usecols = 0)\n",
      "\n"
     ],
     "language": "python",
     "metadata": {},
     "outputs": [
      {
       "output_type": "stream",
       "stream": "stdout",
       "text": [
        "2002-01-01\n"
       ]
      }
     ],
     "prompt_number": 120
    },
    {
     "cell_type": "markdown",
     "metadata": {},
     "source": [
      "**Sort** and **match** the obs. and sim. flow files based on dates.<br>"
     ]
    },
    {
     "cell_type": "code",
     "collapsed": false,
     "input": [
      "# Convert the string format dates into a datetime object\n",
      "simflowdate = []\n",
      "for i in range(len(tempsimflowdate)):\n",
      "    simflowdate.append(datetime.datetime.strptime(tempsimflowdate[i],'%m/%d/%Y'))\n",
      "# sort the dates in an acending order\n",
      "simflowdate.sort()\n",
      "\n",
      "# Convert the string format dates into a datetime object\n",
      "obsflowdate = []\n",
      "for i in range(len(tempobsflowdate)):\n",
      "    obsflowdate.append(datetime.datetime.strptime(tempobsflowdate[i],'%Y-%m-%d'))\n",
      "# sort the dates in an acending order\n",
      "obsflowdate.sort()\n",
      "\n",
      "# extract the matching dates from both arrays and mark them by mask\n",
      "# searchsorted(t1,t2) finds index in t1 for every value in t2:    \n",
      "idx_flow = np.searchsorted(simflowdate, obsflowdate, side='right')-1\n",
      "j2 = [i for i in idx_flow if i > 0]\n",
      "\n",
      "# mask the array as true if \n",
      "mask_flow = idx_flow >=0\n",
      "\n",
      "# compare the obs. and sim. time series\n",
      "df = pd.DataFrame({\"simflowdate\":tempsimflowdate[idx_flow][mask_flow], \"simflow\":simflowdata[idx_flow][mask_flow], \\\n",
      "                   \"obsflow\":obsflowdata[mask_flow], \"obsflowdate\":tempobsflowdate[mask_flow]})\n",
      "\n",
      "#print df\n",
      "#print df.values"
     ],
     "language": "python",
     "metadata": {},
     "outputs": [],
     "prompt_number": 121
    },
    {
     "cell_type": "markdown",
     "metadata": {},
     "source": [
      "Read the input **water quality**files (change the path if needed)<br>\n",
      "<span style=\"background-color: #FFFF00\">**<span style=\"color:#f00\">Attention</span>**: the last date in obs. file **MUST NOT** exceed the last date of sim.</span>"
     ]
    },
    {
     "cell_type": "code",
     "collapsed": false,
     "input": [
      "# Initialize a pdf file for saving all the figures\n",
      "# pdfpages = PdfPages('test_figure.pdf')\n",
      "\n",
      "# Enter file path for swater quality simulation files\n",
      "simsedfilepath = 'D:\\\\Dropbox\\\\Python_Scripts\\\\Issaquah\\\\daily_sed_conc.txt'\n",
      "simotherfilepath = 'D:\\\\Dropbox\\\\Python_Scripts\\\\Issaquah\\\\daily_other_conc.txt'\n",
      "\n",
      "# Enter file path for observed water quality variable files\n",
      "obsfilepath = 'D:\\\\Dropbox\\\\Python_Scripts\\\\Issaquah\\\\issaquah0631-rain.txt'\n",
      "\n",
      "# Enter file path for observed precipitation files\n",
      "precipfilepath = 'D:\\\\Dropbox\\\\Python_Scripts\\\\Issaquah\\\\daily_precip.txt'\n",
      "\n",
      "# Read dates of sims (continuous)\n",
      "tempsimdates = np.genfromtxt(simsedfilepath, dtype = str, skiprows = 0, usecols = 0)\n",
      "\n",
      "# Read dates of obs (discrete). Use the 2nd column\n",
      "tempobsdates = np.genfromtxt(obsfilepath, dtype = str, skiprows = 1, usecols = 0)\n",
      "\n",
      "# Read sediment sims (use the 2nd col)\n",
      "simseddata = np.genfromtxt(simsedfilepath, usecols = [1])\n",
      "print len(simseddata)\n",
      "#print simseddata\n",
      "# Read sediment obs.\n",
      "# Skip the first line, and use the 5th column for sed\n",
      "obsseddata = np.genfromtxt(obsfilepath, dtype = float, skiprows = 1, usecols = [2])\n",
      "\n",
      "# Read other data\n",
      "simotherdata = np.genfromtxt(simotherfilepath, usecols = [1])\n",
      "print len(simotherdata)\n",
      "#print simotherdata\n",
      "obsotherdata = np.genfromtxt(obsfilepath, dtype = float, skiprows = 1, usecols = [1])\n",
      "obsotherdata = obsotherdata * 0.01444;\n",
      "\n",
      "# Read obs. precipitation data\n",
      "precipdata = np.genfromtxt(precipfilepath, dtype = float, skiprows = 0, usecols = [1])\n",
      "print len(precipdata)"
     ],
     "language": "python",
     "metadata": {},
     "outputs": [
      {
       "output_type": "stream",
       "stream": "stdout",
       "text": [
        "4018\n",
        "4018\n",
        "4018\n"
       ]
      }
     ],
     "prompt_number": 122
    },
    {
     "cell_type": "markdown",
     "metadata": {},
     "source": [
      "**Third**, find out the dates when both sims and obs (discontinous) are available.\n",
      "\n",
      "<span style=\"background-color: #FFFF00\">**Particular attention** needs to be paid on **<span style=\"color:#f00\">np.searchsorted()</span>**. Output all matching columns to make sure its the right match. Right now, the option **side='right'** must be used in the case of **daily time step (mm/dd/yy)** to avoid the 1-day mismatch. Later when working with **3-hourly set**, this may not hold.</span>"
     ]
    },
    {
     "cell_type": "code",
     "collapsed": false,
     "input": [
      "# Convert the string format dates into a datetime object\n",
      "simdates = []\n",
      "for i in range(len(tempsimdates)):\n",
      "    simdates.append(datetime.datetime.strptime(tempsimdates[i],'%m/%d/%Y'))\n",
      "# sort the dates in an acending order\n",
      "simdates.sort()\n",
      "\n",
      "# Convert the string format dates into a datetime object\n",
      "obsdates = []\n",
      "for i in range(len(tempobsdates)):\n",
      "    obsdates.append(datetime.datetime.strptime(tempobsdates[i],'%m/%d/%Y'))\n",
      "# sort the dates in an acending order\n",
      "obsdates.sort()\n",
      "\n",
      "# extract the matching dates from both arrays and mark them by mask\n",
      "# searchsorted(t1,t2) finds index in t1 for every value in t2:\n",
      "idx = np.searchsorted(simdates, obsdates, side='right')-1\n",
      "\n",
      "# mask the array as true if \n",
      "mask = idx >=0\n",
      "\n",
      "# compare the obs. and sim. time series\n",
      "df = pd.DataFrame({\"simdate\":tempsimdates[idx][mask], \"simsed\":simseddata[idx][mask], \\\n",
      "                   \"obssed\":obsseddata[mask]})\n",
      "\n",
      "#myfile = open(\"D:\\\\Dropbox\\\\Python_Scripts\\\\testit1.txt\", 'w')\n",
      "#print >> myfile, simotherdata[idx][mask]\n",
      "#print >> myfile, obsotherdata[mask] \n",
      "#myfile.close()\n",
      "\n",
      "#print df\n",
      "#print(df.values)\n",
      "#print(len(simotherdata[idx][mask]))"
     ],
     "language": "python",
     "metadata": {},
     "outputs": [
      {
       "ename": "ValueError",
       "evalue": "unconverted data remains: 98",
       "output_type": "pyerr",
       "traceback": [
        "\u001b[1;31m---------------------------------------------------------------------------\u001b[0m\n\u001b[1;31mValueError\u001b[0m                                Traceback (most recent call last)",
        "\u001b[1;32m<ipython-input-123-fc8f51d0df3a>\u001b[0m in \u001b[0;36m<module>\u001b[1;34m()\u001b[0m\n\u001b[0;32m      9\u001b[0m \u001b[0mobsdates\u001b[0m \u001b[1;33m=\u001b[0m \u001b[1;33m[\u001b[0m\u001b[1;33m]\u001b[0m\u001b[1;33m\u001b[0m\u001b[0m\n\u001b[0;32m     10\u001b[0m \u001b[1;32mfor\u001b[0m \u001b[0mi\u001b[0m \u001b[1;32min\u001b[0m \u001b[0mrange\u001b[0m\u001b[1;33m(\u001b[0m\u001b[0mlen\u001b[0m\u001b[1;33m(\u001b[0m\u001b[0mtempobsdates\u001b[0m\u001b[1;33m)\u001b[0m\u001b[1;33m)\u001b[0m\u001b[1;33m:\u001b[0m\u001b[1;33m\u001b[0m\u001b[0m\n\u001b[1;32m---> 11\u001b[1;33m     \u001b[0mobsdates\u001b[0m\u001b[1;33m.\u001b[0m\u001b[0mappend\u001b[0m\u001b[1;33m(\u001b[0m\u001b[0mdatetime\u001b[0m\u001b[1;33m.\u001b[0m\u001b[0mdatetime\u001b[0m\u001b[1;33m.\u001b[0m\u001b[0mstrptime\u001b[0m\u001b[1;33m(\u001b[0m\u001b[0mtempobsdates\u001b[0m\u001b[1;33m[\u001b[0m\u001b[0mi\u001b[0m\u001b[1;33m]\u001b[0m\u001b[1;33m,\u001b[0m\u001b[1;34m'%m/%d/%y'\u001b[0m\u001b[1;33m)\u001b[0m\u001b[1;33m)\u001b[0m\u001b[1;33m\u001b[0m\u001b[0m\n\u001b[0m\u001b[0;32m     12\u001b[0m \u001b[1;31m# sort the dates in an acending order\u001b[0m\u001b[1;33m\u001b[0m\u001b[1;33m\u001b[0m\u001b[0m\n\u001b[0;32m     13\u001b[0m \u001b[0mobsdates\u001b[0m\u001b[1;33m.\u001b[0m\u001b[0msort\u001b[0m\u001b[1;33m(\u001b[0m\u001b[1;33m)\u001b[0m\u001b[1;33m\u001b[0m\u001b[0m\n",
        "\u001b[1;32mD:\\Tools\\Anaconda\\lib\\_strptime.pyc\u001b[0m in \u001b[0;36m_strptime\u001b[1;34m(data_string, format)\u001b[0m\n\u001b[0;32m    326\u001b[0m     \u001b[1;32mif\u001b[0m \u001b[0mlen\u001b[0m\u001b[1;33m(\u001b[0m\u001b[0mdata_string\u001b[0m\u001b[1;33m)\u001b[0m \u001b[1;33m!=\u001b[0m \u001b[0mfound\u001b[0m\u001b[1;33m.\u001b[0m\u001b[0mend\u001b[0m\u001b[1;33m(\u001b[0m\u001b[1;33m)\u001b[0m\u001b[1;33m:\u001b[0m\u001b[1;33m\u001b[0m\u001b[0m\n\u001b[0;32m    327\u001b[0m         raise ValueError(\"unconverted data remains: %s\" %\n\u001b[1;32m--> 328\u001b[1;33m                           data_string[found.end():])\n\u001b[0m\u001b[0;32m    329\u001b[0m \u001b[1;33m\u001b[0m\u001b[0m\n\u001b[0;32m    330\u001b[0m     \u001b[0myear\u001b[0m \u001b[1;33m=\u001b[0m \u001b[0mNone\u001b[0m\u001b[1;33m\u001b[0m\u001b[0m\n",
        "\u001b[1;31mValueError\u001b[0m: unconverted data remains: 98"
       ]
      }
     ],
     "prompt_number": 123
    },
    {
     "cell_type": "markdown",
     "metadata": {},
     "source": [
      "Compute <b><span style=\"color:#f00\">R<sup>2</sup></span></b> and <b><span style=\"color:#f00\">Nash</span></b> between sim. and obs. flow"
     ]
    },
    {
     "cell_type": "code",
     "collapsed": false,
     "input": [
      "# average of sim\n",
      "sim_mean= sum(simflowdata[idx_flow][mask_flow])/float(len(simflowdata[idx_flow][mask_flow]))\n",
      "# average of obs\n",
      "obs_mean= sum(obsflowdata[mask_flow])/float(len(obsflowdata[mask_flow]))\n",
      "# total sum of squares \n",
      "ss_tot = sum((x-obs_mean)**2 for x in obsflowdata[mask_flow]) \n",
      "# sum of squares of residuals\n",
      "ss_err = sum((y-x)**2 for y,x in zip(simflowdata[idx_flow][mask_flow],obsflowdata[mask_flow]))\n",
      "\n",
      "nash_flow = 1 - (ss_err/ss_tot)\n",
      "print \"nash_flow= \", nash_flow\n",
      "\n",
      "gradient, intercept, r_value, p_value, std_err = stats.linregress(simflowdata[idx_flow][mask_flow],obsflowdata[mask_flow])\n",
      "print \"R-squared = \", r_value**2\n",
      "if gradient <= 1:\n",
      "  adj_r2 = gradient * (r_value**2)\n",
      "  print \"adj_r2 =\", adj_r2\n",
      "if gradient > 1:\n",
      "  adj_r2 = gradient**(-1) * (r_value**2)\n",
      "  print \"adj_r2 =\", adj_r2"
     ],
     "language": "python",
     "metadata": {},
     "outputs": []
    },
    {
     "cell_type": "markdown",
     "metadata": {},
     "source": [
      "Compute <b><span style=\"color:#f00\">R<sup>2</sup></span></b> between sim. and obs. sediment"
     ]
    },
    {
     "cell_type": "code",
     "collapsed": false,
     "input": [
      "# average of sim\n",
      "sim_mean= sum(simseddata[idx][mask])/float(len(simseddata[idx][mask]))\n",
      "obs_mean= sum(obsseddata[mask])/float(len(obsseddata[mask]))\n",
      "\n",
      "# total sum of squares \n",
      "ss_tot = sum((x-obs_mean)**2 for x in obsseddata[mask]) \n",
      "\n",
      "# sum of squares of residuals\n",
      "ss_err = sum((y-x)**2 for y,x in zip(simseddata[idx][mask],obsseddata[mask]))\n",
      "nash_sed = 1 - (ss_err/ss_tot)\n",
      "print \"nash_sed= \", nash_sed\n",
      "\n",
      "gradient, intercept, r_value, p_value, std_err = stats.linregress(simseddata[idx][mask],obsseddata[mask])\n",
      "r2_sed = r_value**2\n",
      "print \"R-squared = \", r2_sed\n",
      "if gradient <= 1:\n",
      "  adj_r2 = gradient * (r_value**2)\n",
      "  print \"adj_r2 =\", adj_r2\n",
      "if gradient > 1:\n",
      "  adj_r2 = gradient**(-1) * (r_value**2)\n",
      "  print \"adj_r2 =\", adj_r2"
     ],
     "language": "python",
     "metadata": {},
     "outputs": []
    },
    {
     "cell_type": "markdown",
     "metadata": {},
     "source": [
      "Compute <b><span style=\"color:#f00\">R<sup>2</sup></span></b> between sim. and obs. coliform"
     ]
    },
    {
     "cell_type": "code",
     "collapsed": false,
     "input": [
      "# average of sim\n",
      "sim_mean= sum(simotherdata[idx][mask])/float(len(simotherdata[idx][mask]))\n",
      "obs_mean= sum(obsotherdata[mask])/float(len(obsotherdata[mask]))\n",
      "\n",
      "# total sum of squares \n",
      "ss_tot = sum((x-obs_mean)**2 for x in obsotherdata[mask]) \n",
      "# sum of squares of residuals\n",
      "ss_err = sum((y-x)**2 for y,x in zip(simotherdata[idx][mask],obsotherdata[mask]))\n",
      "\n",
      "\n",
      "nash_col = 1 - (ss_err/ss_tot)\n",
      "print \"nash_col= \", nash_col\n",
      "\n",
      "gradient, intercept, r_value, p_value, std_err = stats.linregress(simotherdata[idx][mask],obsotherdata[mask])\n",
      "r2_col = r_value**2\n",
      "print \"R-squared = \", r2_col\n",
      "if gradient <= 1:\n",
      "  adj_r2 = gradient * (r_value**2)\n",
      "  print \"adj_r2 =\", adj_r2\n",
      "if gradient > 1:\n",
      "  adj_r2 = gradient**(-1) * (r_value**2)\n",
      "  print \"adj_r2 =\", adj_r2\n",
      "\n",
      "#df = pd.DataFrame({\"simdate\":tempsimdates[idx][mask], \"sim\":simotherdata[idx][mask], \"obs\":obsotherdata[mask], \"obsdate\":tempobsdates[mask]})\n",
      "#print (df.values)"
     ],
     "language": "python",
     "metadata": {},
     "outputs": []
    },
    {
     "cell_type": "markdown",
     "metadata": {},
     "source": [
      "Plot the time series of **sim. vs. obs daily streamflows **in cms. "
     ]
    },
    {
     "cell_type": "code",
     "collapsed": false,
     "input": [
      "##############################################################################################\n",
      "#################################Plot the Discrete Time Series################################\n",
      "##############################################################################################\n",
      "# reconstruct the date objects with matching dates only \n",
      "fdate=[]\n",
      "for i in idx_flow:\n",
      "  if i >=0 :\n",
      "    fdate.append(datetime.datetime.strptime(tempsimflowdate[i],'%m/%d/%Y'))\n",
      "ssim = pd.Series(simflowdata[idx_flow][mask_flow], index=fdate)\n",
      "sobs = pd.Series(obsflowdata[mask_flow], index=fdate)\n",
      "\n",
      "fig=plt.figure(figsize=(17,5),dpi=400)\n",
      "ax = plt.subplot()\n",
      "fig.text(0.7, 0.8, r'$Nash=%.2f$' % nash_flow, fontsize=15)\n",
      "title('daily streamflow', fontsize=14., y=1.02, fontweight='bold')\n",
      "plt.ylabel('flow. ($m^{3}\\,s^{-1}$)', fontsize=12.)\n",
      "plt.xlabel('year', fontsize=12.)\n",
      "\n",
      "# s=square, -=dash, g^=triangle\n",
      "ssim['2002':'2009'].plot(label='Sim', color='red', linewidth=2.0)\n",
      "sobs['2002':'2009'].plot(label='Obs',color ='blue')\n",
      "\n",
      "grid(True)\n",
      "#tight_layout()\n",
      "ax.legend(loc='best')\n",
      "savefig('D:\\\\Dropbox\\\\Python_Scripts\\\\Thornton\\\\sed.png',dpi=500,format = 'png',transparent='True')\n",
      "\n",
      "##############################################################################################\n",
      "#########################################Plot the CDF#########################################\n",
      "##############################################################################################\n",
      "fig=plt.figure(figsize=(7,5),dpi=400)\n",
      "ax = plt.subplot()\n",
      "n = len(ssim)\n",
      "\n",
      "# log-normal probability plot\n",
      "d = np.linspace(1, n, num=n)/(n+1)\n",
      "y  = norm.ppf(d,0,1);\n",
      "\n",
      "# create the axis ticks\n",
      "p  = [0.001, 0.01, 0.05, 0.2, 0.5, 0.75, 0.90, 0.98, 0.999];\n",
      "# relate var \"p\" with \"y\"\n",
      "tick  = norm.ppf(p,0,1);\n",
      "label = ['0.001','0.01','0.05','0.2','0.5','0.75','0.90','0.98','0.999'];\n",
      "# recast the p to (0,1)\n",
      "\n",
      "# sort the data in an ascending order\n",
      "ssim.sort()\n",
      "sobs.sort()\n",
      "ax.plot(y,ssim, 'r+', label='sim')\n",
      "ax.plot(y,sobs,'b*', label='obs')\n",
      "\n",
      "# use numpoints option so the markeres don't appear twice in one legend\n",
      "ax.legend(loc=(0.05,0.8),numpoints = 1)\n",
      "plt.ylabel('flow. ($m^{3}\\,s^{-1}$)', fontsize=12.)\n",
      "plt.xlabel('cumulative prob.', fontsize=12.)\n",
      "ax = gca()\n",
      "ax.xaxis.set_major_locator(ticker.FixedLocator(tick))\n",
      "ax.xaxis.set_major_formatter(ticker.FixedFormatter(label))\n",
      "grid(True)\n",
      "# save the figure to the folder\n",
      "savefig('D:\\\\Dropbox\\\\Python_Scripts\\\\Mercer\\\\sed_cdf.png',dpi=500,format = 'png',transparent='True')"
     ],
     "language": "python",
     "metadata": {},
     "outputs": []
    },
    {
     "cell_type": "markdown",
     "metadata": {},
     "source": [
      "Plot the time series of **simuted sediment concentrations**. "
     ]
    },
    {
     "cell_type": "code",
     "collapsed": false,
     "input": [
      "# contruct the time series\n",
      "SIM = pd.Series(simseddata[:], index=simdates)\n",
      "PCP = pd.Series(precipdata[:], index=simdates)\n",
      "\n",
      "# Enter time range you'd like to plot, date format should be year, month, date \n",
      "startdate = datetime.datetime(2003,1,1)\n",
      "enddate = datetime.datetime(2005,10,1)\n",
      "\n",
      "# Truncate the data into desired time frame\n",
      "# SIM = SIM.truncate(before=startdate, after=enddate)\n",
      "# PCP = PCP.truncate(before=startdate, after=enddate)\n",
      "\n",
      "# plot the primary sediment y-axis\n",
      "fig = plt.figure(figsize=(12,4), dpi=400)\n",
      "title('3-hourly sediment conc.', fontsize=14., y=1.02, fontweight='bold')\n",
      "ax = fig.add_subplot(111)\n",
      "pylab.xlim([startdate, enddate])\n",
      "pylab.ylim([0,300])\n",
      "#ax.set_xlabel(\"Year\", fontsize=12.)\n",
      "ax.set_ylabel(r\"conc. ($mg\\,l^{-1}$)\", fontsize=12.)\n",
      "lns1=ax.plot(simdates, SIM, 'r', label='sim')\n",
      "# plot the secondary ppt y-axis\n",
      "ax2 = ax.twinx()\n",
      "ax2= plt.gca()\n",
      "ax2.set_ylabel(r\"rain. ($m$)\", fontsize=12.)\n",
      "lns2=ax2.plot(simdates, PCP, 'g', label='precip')\n",
      "pylab.xlim([startdate, enddate])\n",
      "pylab.ylim([0,0.5])\n",
      "ax2.invert_yaxis()\n",
      "ax2.grid(True)\n",
      "#add legend\n",
      "lns = lns1+lns2\n",
      "labs = [l.get_label() for l in lns]\n",
      "ax.legend(lns, labs, loc=(0.05,0.7))\n",
      "plt.show()\n"
     ],
     "language": "python",
     "metadata": {},
     "outputs": []
    },
    {
     "cell_type": "markdown",
     "metadata": {},
     "source": [
      "Plot the **(monthly) observed sediment conc**."
     ]
    },
    {
     "cell_type": "code",
     "collapsed": false,
     "input": [
      "OBS = pd.Series(obsseddata[:], index=obsdates)\n",
      "\n",
      "# Enter time range you'd like to plot, date format should be year, month, date \n",
      "startdate = datetime.datetime(1999,10,1)\n",
      "enddate = datetime.datetime(2006,12,31)\n",
      "\n",
      "# plot the primary obs sediment y-axis\n",
      "fig = plt.figure(figsize=(17,4), dpi=400)\n",
      "title('monthly obs. sediment conc.', fontsize=14., y=1.02, fontweight='bold')\n",
      "ax = fig.add_subplot(111)\n",
      "pylab.ylim([0,400])\n",
      "pylab.xlim([startdate, enddate])\n",
      "ax.set_xlabel(\"Year\", fontsize=12.)\n",
      "ax.set_ylabel(r\"conc. ($mg\\,l^{-1}$)\", fontsize=12.)\n",
      "lns1 = ax.plot(obsdates, OBS, 'blue', label='sim')\n",
      "# plot the secondary ppt y-axis\n",
      "ax2 = ax.twinx()\n",
      "ax2= plt.gca()\n",
      "ax2.grid(True)\n",
      "ax2.set_ylabel(r\"rain. ($m$)\", fontsize=12.)\n",
      "# width = 5\n",
      "#lns2 = ax2.bar(obsdates, PCP[idx][mask], 2)\n",
      "lns2 = ax2.bar(simdates, PCP, 2)\n",
      "#,'g', label='precip')\n",
      "pylab.ylim([0,0.1])\n",
      "pylab.xlim([startdate, enddate])\n",
      "ax2.invert_yaxis()\n",
      "\n",
      "#add legend\n",
      "ax.legend( (lns1[0], lns2[0]), ('Obs', 'precip'),loc=(0.05, 0.7))\n",
      "plt.show()"
     ],
     "language": "python",
     "metadata": {},
     "outputs": []
    },
    {
     "cell_type": "markdown",
     "metadata": {},
     "source": [
      "Plot the time series of **simulated coliform concentrations**."
     ]
    },
    {
     "cell_type": "code",
     "collapsed": false,
     "input": [
      "# contruct the time series\n",
      "SIM = pd.Series(simotherdata[:], index=simdates)\n",
      "PCP = pd.Series(precipdata[:], index=simdates)\n",
      "\n",
      "# Enter time range you'd like to plot, date format should be year, month, date \n",
      "startdate = datetime.datetime(2005,1,1)\n",
      "enddate = datetime.datetime(2006,12,31)\n",
      "\n",
      "# plot the primary sediment y-axis\n",
      "fig = plt.figure(figsize=(12,4), dpi=400)\n",
      "title('3-hourly coliform conc.', fontsize=14., y=1.02, fontweight='bold')\n",
      "ax = fig.add_subplot(111)\n",
      "pylab.xlim([startdate, enddate])\n",
      "pylab.ylim([0,120])\n",
      "#ax.set_xlabel(\"Year\", fontsize=12.)\n",
      "ax.set_ylabel(r\"conc. ($mg\\,l^{-1}$)\", fontsize=12.)\n",
      "lns1=ax.plot(simdates, SIM, 'r', label='sim')\n",
      "# plot the secondary ppt y-axis\n",
      "ax2 = ax.twinx()\n",
      "ax2= plt.gca()\n",
      "ax2.set_ylabel(r\"rain. ($m$)\", fontsize=12.)\n",
      "lns2=ax2.plot(simdates, PCP, 'g', label='precip')\n",
      "pylab.xlim([startdate, enddate])\n",
      "pylab.ylim([0,0.2])\n",
      "ax2.invert_yaxis()\n",
      "ax2.grid(True)\n",
      "#add legend\n",
      "lns = lns1+lns2\n",
      "labs = [l.get_label() for l in lns]\n",
      "ax.legend(lns, labs, loc=(0.1,0.7))\n",
      "plt.show()"
     ],
     "language": "python",
     "metadata": {},
     "outputs": []
    },
    {
     "cell_type": "markdown",
     "metadata": {},
     "source": [
      "Plot the **(monthly) observed coliform conc**."
     ]
    },
    {
     "cell_type": "code",
     "collapsed": false,
     "input": [
      "OBS = pd.Series(obsotherdata[:], index=obsdates)\n",
      "\n",
      "# plot the primary obs sediment y-axis\n",
      "fig = plt.figure(figsize=(17,4), dpi=400)\n",
      "title('monthly obs. coliform conc.', fontsize=14., y=1.02, fontweight='bold')\n",
      "ax = fig.add_subplot(111)\n",
      "#pylab.ylim([0,100])\n",
      "ax.set_xlabel(\"Year\", fontsize=12.)\n",
      "ax.set_ylabel(r\"conc. ($mg\\,l^{-1}$)\", fontsize=12.)\n",
      "lns1 = ax.plot(obsdates, OBS, 'b-o', markersize=2.5, label='sim')\n",
      "# plot the secondary ppt y-axis\n",
      "ax2 = ax.twinx()\n",
      "ax2= plt.gca()\n",
      "ax2.grid(True)\n",
      "ax2.set_ylabel(r\"rain. ($m$)\", fontsize=12.)\n",
      "# width = 5\n",
      "lns2 = ax2.bar(simdates, PCP, 2)\n",
      "#,'g', label='precip')\n",
      "pylab.ylim([0,0.5])\n",
      "ax2.invert_yaxis()\n",
      "\n",
      "#add legend\n",
      "ax.legend((lns1[0], lns2[0]), ('Obs', 'precip'),loc=(0.05, 0.7))\n",
      "plt.show()"
     ],
     "language": "python",
     "metadata": {},
     "outputs": []
    },
    {
     "cell_type": "markdown",
     "metadata": {},
     "source": [
      "Plot the **Sim** vs. **obs** monthly **sediment conc**"
     ]
    },
    {
     "cell_type": "code",
     "collapsed": false,
     "input": [
      "##############################################################################################\n",
      "#################################Plot the Discrete Time Series################################\n",
      "##############################################################################################\n",
      "# reconstruct the date objects with matching dates only \n",
      "sdate=[]\n",
      "for i in idx:\n",
      "  if i >= 0:\n",
      "    sdate.append(datetime.datetime.strptime(tempsimdates[i],'%m/%d/%Y'))\n",
      "ssim = pd.Series(simseddata[idx][mask], index=sdate)\n",
      "sobs = pd.Series(obsseddata[mask], index=sdate)\n",
      "\n",
      "fig=plt.figure(figsize=(17,5),dpi=400)\n",
      "ax = plt.subplot()\n",
      "fig.text(0.7, 0.8, r'$R^2=%.2f$' % r2_sed, fontsize=15)\n",
      "title('sediment concentration', fontsize=14., y=1.02, fontweight='bold')\n",
      "plt.ylabel('conc. (mg/l)', fontsize=12.)\n",
      "plt.xlabel('year', fontsize=12.)\n",
      "\n",
      "# s=square, -=dash, g^=triangle\n",
      "ssim['1998':'2008'].plot(label='Sim', color='red', linewidth=2.0)\n",
      "sobs['1998':'2008'].plot(label='Obs',color ='blue',style='-o',markersize=5)\n",
      "\n",
      "grid(True)\n",
      "#tight_layout()\n",
      "ax.legend(loc='best')\n",
      "savefig('D:\\\\Dropbox\\\\Python_Scripts\\\\Issaquah\\\\sed.png',dpi=500,format = 'png',transparent='True')\n",
      "\n",
      "##############################################################################################\n",
      "#########################################Plot the CDF#########################################\n",
      "##############################################################################################\n",
      "fig=plt.figure(figsize=(7,5),dpi=400)\n",
      "ax = plt.subplot()\n",
      "n = len(ssim)\n",
      "\n",
      "# log-normal probability plot\n",
      "d = np.linspace(1, n, num=n)/(n+1)\n",
      "y  = norm.ppf(d,0,1);\n",
      "\n",
      "# create the axis ticks\n",
      "p  = [0.001, 0.01, 0.05, 0.2, 0.5, 0.75, 0.90, 0.98, 0.999];\n",
      "# relate var \"p\" with \"y\"\n",
      "tick  = norm.ppf(p,0,1);\n",
      "label = ['0.001','0.01','0.05','0.2','0.5','0.75','0.90','0.98','0.999'];\n",
      "# recast the p to (0,1)\n",
      "\n",
      "# sort the data in an ascending order\n",
      "ssim.sort()\n",
      "sobs.sort()\n",
      "ax.plot(y,ssim, 'r+', label='sim')\n",
      "ax.plot(y,sobs,'b*', label='obs')\n",
      "\n",
      "# use numpoints option so the markeres don't appear twice in one legend\n",
      "ax.legend(loc=(0.05,0.8),numpoints = 1)\n",
      "plt.ylabel('conc. (mg/l)', fontsize=12.)\n",
      "plt.xlabel('cumulative prob.', fontsize=12.)\n",
      "ax = gca()\n",
      "ax.xaxis.set_major_locator(ticker.FixedLocator(tick))\n",
      "ax.xaxis.set_major_formatter(ticker.FixedFormatter(label))\n",
      "grid(True)\n",
      "# save the figure to the folder\n",
      "savefig('D:\\\\Dropbox\\\\Python_Scripts\\\\Issaquah\\\\sed_cdf.png',dpi=500,format = 'png',transparent='True')"
     ],
     "language": "python",
     "metadata": {},
     "outputs": []
    },
    {
     "cell_type": "markdown",
     "metadata": {},
     "source": [
      "Plot the **Sim** vs. **obs** monthly **coliform conc**"
     ]
    },
    {
     "cell_type": "code",
     "collapsed": false,
     "input": [
      "##############################################################################################\n",
      "#################################Plot the Discrete Time Series################################\n",
      "##############################################################################################\n",
      "# reconstruct the date objects with matching dates only \n",
      "sdate=[]\n",
      "for i in idx:\n",
      "  if i >= 0:\n",
      "    sdate.append(datetime.datetime.strptime(tempsimdates[i],'%m/%d/%Y'))\n",
      "ssim = pd.Series(simotherdata[idx][mask], index=sdate)\n",
      "sobs = pd.Series(obsotherdata[mask], index=sdate)\n",
      "\n",
      "fig=plt.figure(figsize=(17,5),dpi=400)\n",
      "ax = plt.subplot()\n",
      "fig.text(0.7, 0.8, r'$R^2=%.2f$' % r2_col, fontsize=15)\n",
      "title('coliform concentration', fontsize=14., y=1.02, fontweight='bold')\n",
      "plt.ylabel('conc. (mg/l)', fontsize=12.)\n",
      "plt.xlabel('year', fontsize=12.)\n",
      "\n",
      "# s=square, -=dash, g^=triangle\n",
      "ssim['1999':'2009'].plot(label='Sim', color='red', linewidth=2.0)\n",
      "sobs['1999':'2009'].plot(label='Obs',color ='blue',style='-o',markersize=5)\n",
      "\n",
      "grid(True)\n",
      "#tight_layout()\n",
      "ax.legend(loc='best')\n",
      "savefig('D:\\\\Dropbox\\\\Python_Scripts\\\\Issaquah\\\\coliform.png',dpi=500,format = 'png',transparent='True')\n",
      "\n",
      "##############################################################################################\n",
      "##############################################################################################\n",
      "#########################################Plot the CDF#########################################\n",
      "##############################################################################################\n",
      "fig=plt.figure(figsize=(7,5),dpi=400)\n",
      "ax = plt.subplot()\n",
      "n = len(ssim)\n",
      "\n",
      "# log-normal probability plot\n",
      "d = np.linspace(1, n, num=n)/(n+1)\n",
      "y  = norm.ppf(d,0,1);\n",
      "\n",
      "# create the axis ticks\n",
      "p  = [0.001, 0.01, 0.05, 0.2, 0.5, 0.75, 0.90, 0.98, 0.999];\n",
      "# relate var \"p\" with \"y\"\n",
      "tick  = norm.ppf(p,0,1);\n",
      "label = ['0.001','0.01','0.05','0.2','0.5','0.75','0.90','0.98','0.999'];\n",
      "# recast the p to (0,1)\n",
      "\n",
      "# sort the data in an ascending order\n",
      "ssim.sort()\n",
      "sobs.sort()\n",
      "ax.plot(y,ssim, 'r+', label='sim')\n",
      "ax.plot(y,sobs,'b*', label='obs')\n",
      "\n",
      "# use numpoints option so the markeres don't appear twice in one legend\n",
      "ax.legend(loc=(0.05,0.8),numpoints = 1)\n",
      "plt.ylabel('conc. (mg/l)', fontsize=12.)\n",
      "plt.xlabel('cumulative prob.', fontsize=12.)\n",
      "ax = gca()\n",
      "ax.xaxis.set_major_locator(ticker.FixedLocator(tick))\n",
      "ax.xaxis.set_major_formatter(ticker.FixedFormatter(label))\n",
      "grid(True)\n",
      "# save the figure to the folder\n",
      "savefig('D:\\\\Dropbox\\\\Python_Scripts\\\\Issaquah\\\\coliform_cdf.png',dpi=500,format = 'png',transparent='True')\n"
     ],
     "language": "python",
     "metadata": {},
     "outputs": []
    },
    {
     "cell_type": "code",
     "collapsed": false,
     "input": [],
     "language": "python",
     "metadata": {},
     "outputs": []
    },
    {
     "cell_type": "code",
     "collapsed": false,
     "input": [],
     "language": "python",
     "metadata": {},
     "outputs": []
    },
    {
     "cell_type": "code",
     "collapsed": false,
     "input": [],
     "language": "python",
     "metadata": {},
     "outputs": []
    }
   ],
   "metadata": {}
  }
 ]
}