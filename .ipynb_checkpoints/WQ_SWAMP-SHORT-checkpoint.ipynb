{
 "metadata": {
  "name": "",
  "signature": "sha256:43b7441f12e6a87c6280eec5da7e3a5a31c4f29b45509eae7494275306f9eb01"
 },
 "nbformat": 3,
 "nbformat_minor": 0,
 "worksheets": [
  {
   "cells": [
    {
     "cell_type": "markdown",
     "metadata": {},
     "source": [
      "###This notebook includes Python tools for analyzing DHSVM outputs.\n",
      "Time series data are analyzed with **numpy** and **pandas** tools and plotted with **matplotlib**. Spatial maps are analyzed and plotted using **netCDF4** and **Basemap** utilities. In general, the scripts that needs to be changed (eg. file path, locations, time range, and variables to plot, etc) are on top of the coding block if there's any. However, differences in the input data may require changing the code, such as which columns to read as the dates, how many rows to skip as the header, etc. Currently all input file paths are absolute paths so you should be able to run the code as it is and plot from my output files. All plots are saved into a pdf page (specify the file name in the second code block). Note that you'll have to run the last code block to close the pdf file you opened in order to view the file correctly. "
     ]
    },
    {
     "cell_type": "code",
     "collapsed": false,
     "input": [
      "%pylab inline"
     ],
     "language": "python",
     "metadata": {},
     "outputs": [
      {
       "output_type": "stream",
       "stream": "stdout",
       "text": [
        "Populating the interactive namespace from numpy and matplotlib\n"
       ]
      },
      {
       "output_type": "stream",
       "stream": "stderr",
       "text": [
        "WARNING: pylab import has clobbered these variables: ['norm', 'gradient']\n",
        "`%matplotlib` prevents importing * from pylab and numpy\n"
       ]
      }
     ],
     "prompt_number": 63
    },
    {
     "cell_type": "markdown",
     "metadata": {},
     "source": [
      "**First**, import all necessary libraries."
     ]
    },
    {
     "cell_type": "code",
     "collapsed": false,
     "input": [
      "# Import all needed libraries \n",
      "import sys, os, datetime, time\n",
      "import numpy as np\n",
      "import pandas as pd\n",
      "import numpy.ma as ma\n",
      "import math\n",
      "import matplotlib.dates as dates\n",
      "import matplotlib.ticker as ticker\n",
      "import matplotlib.pyplot as plt\n",
      "from matplotlib.backends.backend_pdf import PdfPages\n",
      "from scipy.stats import norm\n",
      "from scipy import stats\n",
      "\n",
      "import os\n",
      "os.getcwd() \n",
      "os.chdir(\"D:\\\\Dropbox\\\\Python_Scripts\")\n",
      "os.getcwd()"
     ],
     "language": "python",
     "metadata": {},
     "outputs": [
      {
       "metadata": {},
       "output_type": "pyout",
       "prompt_number": 64,
       "text": [
        "'D:\\\\Dropbox\\\\Python_Scripts'"
       ]
      }
     ],
     "prompt_number": 64
    },
    {
     "cell_type": "markdown",
     "metadata": {},
     "source": [
      "Read the input **streamflow** files (change the path if needed)<br>\n",
      "<span style=\"background-color: #FFFF00\">**<span style=\"color:#f00\">Attention</span>**: the last date in obs. file **MUST NOT** exceed the last date of sim.</span>"
     ]
    },
    {
     "cell_type": "code",
     "collapsed": false,
     "input": [
      "# Enter file path for sim. and obs. flow files\n",
      "simflowpath = 'D:\\\\Dropbox\\\\Python_Scripts\\\\Swamp\\\\daily_flow.txt'\n",
      "obsflowpath = 'D:\\\\Dropbox\\\\Python_Scripts\\\\Swamp\\\\streamflow.12127100.cms.1979_1990.txt'\n",
      "\n",
      "# Read flow sim and obs dates &  data\n",
      "simflowdata = np.genfromtxt(simflowpath, usecols=[1])\n",
      "obsflowdata = np.genfromtxt(obsflowpath, usecols=[1])\n",
      "tempsimflowdate = np.genfromtxt(simflowpath, dtype = str, skiprows = 0, usecols = 0)\n",
      "tempobsflowdate = np.genfromtxt(obsflowpath, dtype = str, skiprows = 0, usecols = 0)\n",
      "\n"
     ],
     "language": "python",
     "metadata": {},
     "outputs": [],
     "prompt_number": 65
    },
    {
     "cell_type": "markdown",
     "metadata": {},
     "source": [
      "**Sort** and **match** the obs. and sim. flow files based on dates.<br>"
     ]
    },
    {
     "cell_type": "code",
     "collapsed": false,
     "input": [
      "# Convert the string format dates into a datetime object\n",
      "simflowdate = []\n",
      "for i in range(len(tempsimflowdate)):\n",
      "    simflowdate.append(datetime.datetime.strptime(tempsimflowdate[i],'%m/%d/%Y'))\n",
      "# sort the dates in an acending order\n",
      "simflowdate.sort()\n",
      "\n",
      "# Convert the string format dates into a datetime object\n",
      "obsflowdate = []\n",
      "for i in range(len(tempobsflowdate)):\n",
      "    obsflowdate.append(datetime.datetime.strptime(tempobsflowdate[i],'%Y-%m-%d'))\n",
      "# sort the dates in an acending order\n",
      "obsflowdate.sort()\n",
      "\n",
      "# extract the matching dates from both arrays and mark them by mask\n",
      "# searchsorted(t1,t2) finds index in t1 for every value in t2:    \n",
      "idx_flow = np.searchsorted(simflowdate, obsflowdate, side='right')-1\n",
      "j2 = [i for i in idx_flow if i > 0]\n",
      "\n",
      "# mask the array as true if \n",
      "mask_flow = idx_flow >=0\n",
      "\n",
      "# compare the obs. and sim. time series\n",
      "df = pd.DataFrame({\"simflowdate\":tempsimflowdate[idx_flow][mask_flow], \"simflow\":simflowdata[idx_flow][mask_flow], \\\n",
      "                   \"obsflow\":obsflowdata[mask_flow], \"obsflowdate\":tempobsflowdate[mask_flow]})\n",
      "\n",
      "#print df\n",
      "#print df.values"
     ],
     "language": "python",
     "metadata": {},
     "outputs": [],
     "prompt_number": 66
    },
    {
     "cell_type": "markdown",
     "metadata": {},
     "source": [
      "Read the input **water quality**files (change the path if needed)<br>\n",
      "<span style=\"background-color: #FFFF00\">**<span style=\"color:#f00\">Attention</span>**: the last date in obs. file **MUST NOT** exceed the last date of sim.</span>"
     ]
    },
    {
     "cell_type": "code",
     "collapsed": false,
     "input": [
      "# Initialize a pdf file for saving all the figures\n",
      "# pdfpages = PdfPages('test_figure.pdf')\n",
      "\n",
      "# Enter file path for swater quality simulation files\n",
      "simsedfilepath = 'D:\\\\Dropbox\\\\Python_Scripts\\\\Swamp\\\\Sed.Flow.Only'\n",
      "simotherfilepath = 'D:\\\\Dropbox\\\\Python_Scripts\\\\Swamp\\\\Other.Conc.Only'\n",
      "\n",
      "# Enter file path for observed water quality variable files\n",
      "obsfilepath = 'D:\\\\Dropbox\\\\Python_Scripts\\\\Swamp\\\\swamp-time-stamped.txt'\n",
      "\n",
      "# Enter file path for observed precipitation files\n",
      "precipfilepath = 'D:\\\\Dropbox\\\\Python_Scripts\\\\Swamp\\\\Mass.Balance'\n",
      "\n",
      "# Read dates of sims (continuous)\n",
      "tempsimdates = np.genfromtxt(simsedfilepath, dtype=str, skiprows=2, usecols=0)\n",
      "\n",
      "# Read dates of obs (discrete). Use the 2nd column\n",
      "tempobsdates = np.genfromtxt(obsfilepath, dtype=str, skiprows=1, usecols=0)\n",
      "\n",
      "# Read sediment sims (use the 2nd col)\n",
      "simseddata = np.genfromtxt(simsedfilepath, skiprows=2, usecols=[2])\n",
      "simseddata = simseddata + 1.2\n",
      "# Read sediment obs.\n",
      "# Skip the first line, and use the 5th column for sed\n",
      "obsseddata = np.genfromtxt(obsfilepath, dtype=float, skiprows=1, usecols=[2])\n",
      "\n",
      "# Read other data\n",
      "simotherdata = np.genfromtxt(simotherfilepath, skiprows=2, usecols=[1])\n",
      "print len(simotherdata)\n",
      "#print simotherdata\n",
      "obsotherdata = np.genfromtxt(obsfilepath, dtype=float, skiprows=1, usecols=[1])\n",
      "obsotherdata = obsotherdata * 0.01444;\n",
      "\n",
      "# Read obs. precipitation data\n",
      "precipdata = np.genfromtxt(precipfilepath, dtype=float, skiprows=24, usecols=[9])\n",
      "print len(precipdata)"
     ],
     "language": "python",
     "metadata": {},
     "outputs": [
      {
       "output_type": "stream",
       "stream": "stdout",
       "text": [
        "35799\n",
        "35799"
       ]
      },
      {
       "output_type": "stream",
       "stream": "stdout",
       "text": [
        "\n"
       ]
      }
     ],
     "prompt_number": 67
    },
    {
     "cell_type": "markdown",
     "metadata": {},
     "source": [
      "**Third**, find out the dates when both sims and obs (discontinous) are available.\n",
      "\n",
      "<span style=\"background-color: #FFFF00\">**Particular attention** needs to be paid on **<span style=\"color:#f00\">np.searchsorted()</span>**. Output all matching columns to make sure its the right match. Right now, the option **side='right'** must be used in the case of **daily time step (mm/dd/yy)** to avoid the 1-day mismatch. Later when working with **3-hourly set**, this may not hold.</span>"
     ]
    },
    {
     "cell_type": "code",
     "collapsed": false,
     "input": [
      "simdates = []\n",
      "Fsimdate = []\n",
      "Fobsdate = []\n",
      "FsimSed = []\n",
      "FobsSed = []\n",
      "FsimOther = []\n",
      "FobsOther = []\n",
      "\n",
      "# construct the sim. date obj.\n",
      "for i in range(len(tempsimdates)):\n",
      "    simdates.append(datetime.datetime.strptime(tempsimdates[i],'%m/%d/%Y-%H:%M:%S'))\n",
      "simdates.sort()\n",
      "# construct the obs. date obj.\n",
      "obsdates = []\n",
      "for i in range(len(tempobsdates)):\n",
      "    obsdates.append(datetime.datetime.strptime(tempobsdates[i],'%m/%d/%Y-%H:%M:%S'))\n",
      "obsdates.sort()\n",
      "\n",
      "for i in range(len(obsdates)):\n",
      "    obs = date2num(obsdates[i])\n",
      "    junk = date2num(simdates)\n",
      "    #value = obsdates[i]\n",
      "    idx = (np.abs(junk-obs)).argmin()\n",
      "    if (idx > 0):\n",
      "      Fsimdate.append(simdates[idx])\n",
      "      Fobsdate.append(obsdates[i])\n",
      "      FsimSed.append(simseddata[idx])\n",
      "      FobsSed.append(obsseddata[i])\n",
      "      FobsOther.append(obsotherdata[i])\n",
      "      FsimOther.append(simotherdata[idx])\n",
      "\n",
      "\n",
      "for i in range(len(FsimSed)):\n",
      "    print Fsimdate[i], FsimSed[i], Fobsdate[i], FobsSed[i]\n",
      "    #print Fsimdate[i], FsimOther[i], Fobsdate[i], FobsOther[i]\n",
      "    "
     ],
     "language": "python",
     "metadata": {},
     "outputs": [
      {
       "output_type": "stream",
       "stream": "stdout",
       "text": [
        "1999-01-19 09:00:00 6.866692 1999-01-19 10:08:00 5.5\n",
        "1999-02-08 12:00:00 2.014318 1999-02-08 11:25:00 8.8\n",
        "1999-02-24 12:00:00 4.619324 1999-02-24 11:28:00 10.4\n",
        "1999-03-08 12:00:00 2.000198 1999-03-08 11:20:00 4.9\n",
        "1999-03-08 12:00:00 2.000198 1999-03-08 11:25:00 5.0\n",
        "1999-04-12 12:00:00 2.000174 1999-04-12 10:33:00 1.5\n",
        "1999-05-10 12:00:00 2.000043 1999-05-10 12:25:00 0.8\n",
        "1999-06-14 12:00:00 2.0 1999-06-14 10:50:00 2.0\n",
        "1999-06-24 15:00:00 9.89555 1999-06-24 14:10:00 12.5\n",
        "1999-07-12 09:00:00 2.0 1999-07-12 10:25:00 1.8\n",
        "1999-08-09 12:00:00 2.000748 1999-08-09 10:42:00 1.0\n",
        "1999-08-09 12:00:00 2.000748 1999-08-09 10:50:00 1.3\n",
        "1999-09-13 12:00:00 2.0 1999-09-13 10:45:00 1.6\n",
        "1999-10-11 12:00:00 2.000631 1999-10-11 10:58:00 2.4\n",
        "1999-11-08 12:00:00 2.000741 1999-11-08 11:00:00 12.2\n",
        "1999-11-08 12:00:00 2.000741 1999-11-08 11:13:00 12.6\n",
        "1999-11-09 12:00:00 9.685874 1999-11-09 10:43:00 37.2\n",
        "1999-12-06 12:00:00 2.476278 1999-12-06 12:00:00 15.3\n",
        "1999-12-06 12:00:00 2.476278 1999-12-06 12:10:00 23.7\n",
        "1999-12-13 12:00:00 2.102114 1999-12-13 10:45:00 6.0\n",
        "2000-01-10 12:00:00 5.369738 2000-01-10 10:55:00 5.0\n",
        "2000-02-01 09:00:00 5.625337 2000-02-01 10:29:00 27.1\n",
        "2000-02-14 12:00:00 126.178047 2000-02-14 10:41:00 3.9\n",
        "2000-02-29 12:00:00 2.621843 2000-02-29 11:22:00 10.7\n",
        "2000-02-29 12:00:00 2.621843 2000-02-29 11:25:00 10.4\n",
        "2000-03-13 09:00:00 2.000465 2000-03-13 09:47:00 2.8\n",
        "2000-04-10 12:00:00 2.0 2000-04-10 10:38:00 1.6\n",
        "2000-04-10 12:00:00 2.0 2000-04-10 10:40:00 1.5\n",
        "2000-05-08 12:00:00 2.000407 2000-05-08 12:09:00 3.6\n",
        "2000-06-12 09:00:00 25.208765 2000-06-12 10:05:00 47.8\n",
        "2000-06-12 09:00:00 25.208765 2000-06-12 10:07:00 57.7\n",
        "2000-07-10 12:00:00 2.0 2000-07-10 10:43:00 2.0\n",
        "2000-07-31 12:00:00 2.0 2000-07-31 11:06:00 3.7\n",
        "2000-09-11 12:00:00 2.001047 2000-09-11 11:30:00 2.1\n",
        "2000-10-09 09:00:00 2.000952 2000-10-09 10:20:00 9.9\n",
        "2000-10-09 09:00:00 2.000952 2000-10-09 10:25:00 8.9\n",
        "2000-11-08 12:00:00 6.259422 2000-11-08 10:31:00 36.2\n",
        "2000-11-13 09:00:00 2.0 2000-11-13 10:29:00 9.3\n",
        "2000-12-11 12:00:00 2.0 2000-12-11 12:15:00 11.1\n",
        "2001-01-08 12:00:00 2.000201 2001-01-08 10:40:00 6.4\n",
        "2001-02-12 12:00:00 2.0 2001-02-12 10:44:00 2.4\n",
        "2001-03-05 12:00:00 2.0 2001-03-05 11:20:00 2.0\n",
        "2001-04-09 09:00:00 2.000176 2001-04-09 10:18:00 1.2\n",
        "2001-04-30 12:00:00 2.000693 2001-04-30 11:25:00 7.3\n",
        "2001-05-14 09:00:00 2.000826 2001-05-14 09:46:00 4.0\n",
        "2001-06-11 12:00:00 9.188052 2001-06-11 10:32:00 41.6\n",
        "2001-07-09 09:00:00 2.0 2001-07-09 10:16:00 1.21\n",
        "2001-08-13 09:00:00 2.0 2001-08-13 10:09:00 1.2\n",
        "2001-09-10 09:00:00 2.0 2001-09-10 10:20:00 1.3\n",
        "2001-10-08 09:00:00 2.000945 2001-10-08 10:28:00 5.7\n",
        "2001-12-10 12:00:00 2.05069 2001-12-10 10:53:00 8.6\n",
        "2002-01-14 12:00:00 2.0 2002-01-14 10:45:00 6.7\n",
        "2002-02-11 12:00:00 23.071051 2002-02-11 11:22:00 3.9\n",
        "2002-03-11 12:00:00 4.213725 2002-03-11 10:50:00 22.4\n",
        "2002-04-10 12:00:00 2.03172 2002-04-10 10:37:00 5.5\n",
        "2002-05-15 12:00:00 2.0 2002-05-15 10:45:00 3.06\n",
        "2002-06-11 12:00:00 2.0 2002-06-11 11:15:00 3.5\n",
        "2002-07-10 12:00:00 2.0 2002-07-10 11:10:00 4.8\n",
        "2002-08-13 09:00:00 2.0 2002-08-13 10:28:00 2.6\n",
        "2002-09-11 09:00:00 2.0 2002-09-11 09:59:00 1.4\n",
        "2002-10-16 12:00:00 2.0 2002-10-16 11:15:00 6.3\n",
        "2002-11-12 12:00:00 4.30306 2002-11-12 10:53:00 9.09\n",
        "2002-12-09 12:00:00 2.000371 2002-12-09 10:40:00 3.06\n",
        "2003-01-15 09:00:00 2.000016 2003-01-15 09:56:00 4.6\n",
        "2003-01-27 12:00:00 2.00017 2003-01-27 10:35:00 4.31\n",
        "2003-02-12 09:00:00 2.0 2003-02-12 09:49:00 5.1\n",
        "2003-03-10 12:00:00 2.000004 2003-03-10 10:35:00 5.7\n",
        "2003-04-16 09:00:00 2.000053 2003-04-16 10:21:00 2.0\n",
        "2003-05-14 12:00:00 2.000215 2003-05-14 10:43:00 3.8\n",
        "2003-06-10 12:00:00 2.00002 2003-06-10 11:10:00 5.94\n",
        "2003-07-16 12:00:00 2.0 2003-07-16 11:08:00 3.5\n",
        "2003-07-16 12:00:00 2.0 2003-07-16 11:10:00 2.34\n",
        "2003-08-13 09:00:00 2.0 2003-08-13 10:15:00 2.07\n",
        "2003-09-11 12:00:00 2.001202 2003-09-11 11:21:00 1.9\n",
        "2003-10-15 09:00:00 2.000944 2003-10-15 10:03:00 1.4\n",
        "2003-11-13 12:00:00 2.0 2003-11-13 11:20:00 1.6\n",
        "2003-11-13 12:00:00 2.0 2003-11-13 11:23:00 2.1\n",
        "2003-12-08 12:00:00 2.000164 2003-12-08 10:42:00 5.9\n",
        "2004-01-13 09:00:00 2.000122 2004-01-13 10:15:00 1.8\n",
        "2004-01-13 09:00:00 2.000122 2004-01-13 10:18:00 1.3\n",
        "2004-02-09 09:00:00 2.0 2004-02-09 10:23:00 2.0\n",
        "2004-03-08 09:00:00 2.000009 2004-03-08 10:07:00 1.6\n",
        "2004-04-12 09:00:00 2.0 2004-04-12 10:11:00 2.6\n",
        "2004-05-10 09:00:00 2.000516 2004-05-10 09:55:00 2.42\n",
        "2004-05-26 00:00:00 2.001696 2004-05-26 01:30:00 13.0\n",
        "2004-06-14 12:00:00 2.000825 2004-06-14 10:34:00 1.4\n",
        "2004-07-12 09:00:00 2.0 2004-07-12 10:26:00 2.1\n",
        "2004-08-09 12:00:00 2.0 2004-08-09 11:16:00 1.8\n",
        "2004-09-13 12:00:00 2.001015 2004-09-13 10:37:00 4.6\n",
        "2004-10-11 09:00:00 2.0 2004-10-11 09:25:00 2.2\n",
        "2004-11-08 12:00:00 2.00003 2004-11-08 11:10:00 2.6\n",
        "2004-12-06 12:00:00 2.000346 2004-12-06 11:40:00 3.1\n",
        "2005-01-18 09:00:00 2.382752 2005-01-18 10:05:00 5.1\n",
        "2005-02-14 12:00:00 2.000085 2005-02-14 10:58:00 1.81\n",
        "2005-03-14 12:00:00 2.0 2005-03-14 11:25:00 3.07\n",
        "2005-04-11 12:00:00 2.092386 2005-04-11 11:21:00 6.1\n",
        "2005-05-09 12:00:00 2.000747 2005-05-09 11:35:00 5.29\n",
        "2005-06-13 12:00:00 2.000291 2005-06-13 10:32:00 4.4\n",
        "2005-07-11 12:00:00 2.000118 2005-07-11 10:45:00 2.0\n",
        "2005-08-08 09:00:00 2.0 2005-08-08 10:01:00 2.7\n",
        "2005-09-12 09:00:00 2.0 2005-09-12 10:09:00 1.2\n",
        "2005-10-10 12:00:00 2.000562 2005-10-10 11:30:00 1.67\n",
        "2005-10-31 09:00:00 19.850281 2005-10-31 10:13:00 34.7\n",
        "2005-11-14 12:00:00 2.000318 2005-11-14 11:10:00 2.8\n",
        "2005-12-12 09:00:00 2.000119 2005-12-12 10:29:00 3.9\n",
        "2006-01-09 09:00:00 2.012105 2006-01-09 10:15:00 5.5\n",
        "2006-02-13 09:00:00 2.000401 2006-02-13 10:27:00 8.3\n",
        "2006-03-13 09:00:00 2.00002 2006-03-13 10:09:00 2.9\n",
        "2006-05-08 09:00:00 2.000702 2006-05-08 09:57:00 3.4\n",
        "2006-06-12 09:00:00 2.000631 2006-06-12 10:26:00 1.7\n",
        "2006-07-10 09:00:00 2.0 2006-07-10 09:57:00 2.3\n",
        "2006-09-11 09:00:00 2.0 2006-09-11 10:25:00 2.1\n",
        "2006-09-18 12:00:00 2.0011 2006-09-18 10:50:00 6.5\n",
        "2006-09-18 12:00:00 2.0011 2006-09-18 10:53:00 6.1\n",
        "2006-10-09 12:00:00 2.00067 2006-10-09 10:53:00 2.0\n",
        "2006-12-11 12:00:00 3.7418 2006-12-11 10:37:00 27.4\n",
        "2007-01-08 12:00:00 2.000003 2007-01-08 10:50:00 8.8\n",
        "2007-02-05 12:00:00 2.000061 2007-02-05 10:45:00 3.5\n",
        "2007-03-05 12:00:00 2.0 2007-03-05 10:48:00 6.1\n",
        "2007-05-07 12:00:00 2.0 2007-05-07 11:32:00 6.9\n",
        "2007-05-21 12:00:00 2.000757 2007-05-21 11:27:00 25.4\n",
        "2007-05-21 12:00:00 2.000757 2007-05-21 11:30:00 25.5\n",
        "2007-06-04 09:00:00 2.000494 2007-06-04 09:23:00 7.04\n",
        "2007-07-02 12:00:00 2.0 2007-07-02 10:40:00 2.9\n",
        "2007-08-06 12:00:00 2.0 2007-08-06 11:17:00 4.2\n",
        "2007-09-04 12:00:00 2.001341 2007-09-04 11:00:00 4.1\n",
        "2007-10-08 12:00:00 2.0 2007-10-08 11:43:00 4.0\n",
        "2007-11-05 12:00:00 2.0 2007-11-05 11:18:00 2.8\n",
        "2007-12-11 12:00:00 2.0 2007-12-11 10:45:00 12.9\n",
        "2008-01-07 12:00:00 2.0 2008-01-07 11:18:00 15.4\n",
        "2008-02-05 12:00:00 2.000392 2008-02-05 11:30:00 5.0\n",
        "2008-03-03 09:00:00 2.000484 2008-03-03 10:23:00 4.73\n",
        "2008-04-07 12:00:00 2.028298 2008-04-07 11:25:00 3.9\n",
        "2008-06-02 12:00:00 2.000463 2008-06-02 11:33:00 3.9\n",
        "2008-06-03 12:00:00 9.950966 2008-06-03 11:02:00 79.7\n",
        "2008-07-07 12:00:00 2.0 2008-07-07 11:22:00 9.7\n",
        "2008-07-07 12:00:00 2.0 2008-07-07 11:27:00 10.2\n",
        "2008-08-04 09:00:00 2.0 2008-08-04 09:42:00 6.9\n",
        "2008-08-20 12:00:00 2.001114 2008-08-20 11:25:00 15.0\n",
        "2008-09-02 09:00:00 2.0 2008-09-02 10:07:00 3.1\n",
        "2008-10-06 12:00:00 2.000629 2008-10-06 10:34:00 5.1\n",
        "2008-11-03 12:00:00 2.000761 2008-11-03 11:37:00 8.3\n",
        "2008-11-03 12:00:00 2.000761 2008-11-03 11:41:00 8.0\n",
        "2008-12-01 12:00:00 2.0 2008-12-01 10:41:00 3.4\n"
       ]
      }
     ],
     "prompt_number": 68
    },
    {
     "cell_type": "markdown",
     "metadata": {},
     "source": [
      "Compute <b><span style=\"color:#f00\">R<sup>2</sup></span></b> and <b><span style=\"color:#f00\">Nash</span></b> between sim. and obs. flow"
     ]
    },
    {
     "cell_type": "code",
     "collapsed": false,
     "input": [
      "# average of sim\n",
      "sim_mean= sum(simflowdata[idx_flow][mask_flow])/float(len(simflowdata[idx_flow][mask_flow]))\n",
      "# average of obs\n",
      "obs_mean= sum(obsflowdata[mask_flow])/float(len(obsflowdata[mask_flow]))\n",
      "# total sum of squares \n",
      "ss_tot = sum((x-obs_mean)**2 for x in obsflowdata[mask_flow]) \n",
      "# sum of squares of residuals\n",
      "ss_err = sum((y-x)**2 for y,x in zip(simflowdata[idx_flow][mask_flow],obsflowdata[mask_flow]))\n",
      "\n",
      "nash_flow = 1 - (ss_err/ss_tot)\n",
      "print \"nash_flow= \", nash_flow\n",
      "\n",
      "gradient, intercept, r_value, p_value, std_err = stats.linregress(simflowdata[idx_flow][mask_flow],obsflowdata[mask_flow])\n",
      "print \"R-squared = \", r_value**2\n",
      "if gradient <= 1:\n",
      "  adj_r2 = gradient * (r_value**2)\n",
      "  print \"adj_r2 =\", adj_r2\n",
      "if gradient > 1:\n",
      "  adj_r2 = gradient**(-1) * (r_value**2)\n",
      "  print \"adj_r2 =\", adj_r2"
     ],
     "language": "python",
     "metadata": {},
     "outputs": [
      {
       "ename": "ZeroDivisionError",
       "evalue": "integer division or modulo by zero",
       "output_type": "pyerr",
       "traceback": [
        "\u001b[1;31m---------------------------------------------------------------------------\u001b[0m\n\u001b[1;31mZeroDivisionError\u001b[0m                         Traceback (most recent call last)",
        "\u001b[1;32m<ipython-input-69-36e7c79173cd>\u001b[0m in \u001b[0;36m<module>\u001b[1;34m()\u001b[0m\n\u001b[0;32m      8\u001b[0m \u001b[0mss_err\u001b[0m \u001b[1;33m=\u001b[0m \u001b[0msum\u001b[0m\u001b[1;33m(\u001b[0m\u001b[1;33m(\u001b[0m\u001b[0my\u001b[0m\u001b[1;33m-\u001b[0m\u001b[0mx\u001b[0m\u001b[1;33m)\u001b[0m\u001b[1;33m**\u001b[0m\u001b[1;36m2\u001b[0m \u001b[1;32mfor\u001b[0m \u001b[0my\u001b[0m\u001b[1;33m,\u001b[0m\u001b[0mx\u001b[0m \u001b[1;32min\u001b[0m \u001b[0mzip\u001b[0m\u001b[1;33m(\u001b[0m\u001b[0msimflowdata\u001b[0m\u001b[1;33m[\u001b[0m\u001b[0midx_flow\u001b[0m\u001b[1;33m]\u001b[0m\u001b[1;33m[\u001b[0m\u001b[0mmask_flow\u001b[0m\u001b[1;33m]\u001b[0m\u001b[1;33m,\u001b[0m\u001b[0mobsflowdata\u001b[0m\u001b[1;33m[\u001b[0m\u001b[0mmask_flow\u001b[0m\u001b[1;33m]\u001b[0m\u001b[1;33m)\u001b[0m\u001b[1;33m)\u001b[0m\u001b[1;33m\u001b[0m\u001b[0m\n\u001b[0;32m      9\u001b[0m \u001b[1;33m\u001b[0m\u001b[0m\n\u001b[1;32m---> 10\u001b[1;33m \u001b[0mnash_flow\u001b[0m \u001b[1;33m=\u001b[0m \u001b[1;36m1\u001b[0m \u001b[1;33m-\u001b[0m \u001b[1;33m(\u001b[0m\u001b[0mss_err\u001b[0m\u001b[1;33m/\u001b[0m\u001b[0mss_tot\u001b[0m\u001b[1;33m)\u001b[0m\u001b[1;33m\u001b[0m\u001b[0m\n\u001b[0m\u001b[0;32m     11\u001b[0m \u001b[1;32mprint\u001b[0m \u001b[1;34m\"nash_flow= \"\u001b[0m\u001b[1;33m,\u001b[0m \u001b[0mnash_flow\u001b[0m\u001b[1;33m\u001b[0m\u001b[0m\n\u001b[0;32m     12\u001b[0m \u001b[1;33m\u001b[0m\u001b[0m\n",
        "\u001b[1;31mZeroDivisionError\u001b[0m: integer division or modulo by zero"
       ]
      }
     ],
     "prompt_number": 69
    },
    {
     "cell_type": "markdown",
     "metadata": {},
     "source": [
      "Compute <b><span style=\"color:#f00\">R<sup>2</sup></span></b> between sim. and obs. sediment"
     ]
    },
    {
     "cell_type": "code",
     "collapsed": false,
     "input": [
      "# average of sim\n",
      "sim_mean= sum(FsimSed)/float(len(FsimSed))\n",
      "\n",
      "print \"sim_mean = \", sim_mean\n",
      "obs_mean= sum(FobsSed)/float(len(FobsSed))\n",
      "\n",
      "# total sum of squares \n",
      "ss_tot = sum((x-obs_mean)**2 for x in FobsSed) \n",
      "\n",
      "# sum of squares of residuals\n",
      "ss_err = sum((y-x)**2 for y,x in zip(FsimSed,FobsSed))\n",
      "nash_sed = 1 - (ss_err/ss_tot)\n",
      "print \"nash_sed = \", nash_sed\n",
      "\n",
      "gradient, intercept, r_value, p_value, std_err = stats.linregress(FsimSed,FobsSed)\n",
      "r2_sed = r_value**2\n",
      "print \"Sediment R-squared = \", r2_sed\n",
      "if gradient <= 1:\n",
      "  adj_r2_sed = gradient * (r_value**2)\n",
      "  print \"adj_r2_sed =\", adj_r2_sed\n",
      "if gradient > 1:\n",
      "  adj_r2_sed = gradient**(-1) * (r_value**2)\n",
      "  print \"adj_r2_sed =\", adj_r2_sed"
     ],
     "language": "python",
     "metadata": {},
     "outputs": [
      {
       "output_type": "stream",
       "stream": "stdout",
       "text": [
        "sim_mean =  3.86236584028\n",
        "nash_sed =  -0.720478393714\n",
        "Sediment R-squared =  0.0380674822737\n",
        "adj_r2_sed = 0.0074860151474\n"
       ]
      }
     ],
     "prompt_number": 70
    },
    {
     "cell_type": "markdown",
     "metadata": {},
     "source": [
      "Compute <b><span style=\"color:#f00\">R<sup>2</sup></span></b> between sim. and obs. coliform"
     ]
    },
    {
     "cell_type": "code",
     "collapsed": false,
     "input": [
      "# average of sim\n",
      "sim_mean= sum(FsimOther)/float(len(FsimOther))\n",
      "obs_mean= sum(FobsOther)/float(len(FobsOther))\n",
      "\n",
      "# total sum of squares \n",
      "ss_tot = sum((x-obs_mean)**2 for x in FobsOther) \n",
      "# sum of squares of residuals\n",
      "ss_err = sum((y-x)**2 for y,x in zip(FsimOther,FobsOther))\n",
      "\n",
      "\n",
      "nash_col = 1 - (ss_err/ss_tot)\n",
      "print \"nash_col= \", nash_col\n",
      "\n",
      "gradient, intercept, r_value, p_value, std_err = stats.linregress(FsimOther,FobsOther)\n",
      "r2_col = r_value**2\n",
      "print \"R-squared = \", r2_col\n",
      "if gradient <= 1:\n",
      "  adj_r2_col = gradient * (r_value**2)\n",
      "  print \"adj_r2_col =\", adj_r2_col\n",
      "if gradient > 1:\n",
      "  adj_r2_col = gradient**(-1) * (r_value**2)\n",
      "  print \"adj_r2_col =\", adj_r2_col\n"
     ],
     "language": "python",
     "metadata": {},
     "outputs": [
      {
       "output_type": "stream",
       "stream": "stdout",
       "text": [
        "nash_col=  -17523039.8775\n",
        "R-squared =  0.00342996915687\n",
        "adj_r2_col = -4.8431532032e-08\n"
       ]
      }
     ],
     "prompt_number": 71
    },
    {
     "cell_type": "markdown",
     "metadata": {},
     "source": [
      "Plot the time series of **sim. vs. obs daily streamflows **in cms. "
     ]
    },
    {
     "cell_type": "code",
     "collapsed": false,
     "input": [
      "##############################################################################################\n",
      "#################################Plot the Discrete Time Series################################\n",
      "##############################################################################################\n",
      "# reconstruct the date objects with matching dates only \n",
      "fdate=[]\n",
      "for i in idx_flow:\n",
      "  if i >=0 :\n",
      "    fdate.append(datetime.datetime.strptime(tempsimflowdate[i],'%m/%d/%Y'))\n",
      "ssim = pd.Series(simflowdata[idx_flow][mask_flow], index=fdate)\n",
      "sobs = pd.Series(obsflowdata[mask_flow], index=fdate)\n",
      "\n",
      "fig=plt.figure(figsize=(17,5),dpi=400)\n",
      "ax = plt.subplot()\n",
      "fig.text(0.7, 0.8, r'$Nash=%.2f$' % nash_flow, fontsize=15)\n",
      "title('daily streamflow', fontsize=14., y=1.02, fontweight='bold')\n",
      "plt.ylabel('flow. ($m^{3}\\,s^{-1}$)', fontsize=12.)\n",
      "plt.xlabel('year', fontsize=12.)\n",
      "\n",
      "# s=square, -=dash, g^=triangle\n",
      "ssim['2002':'2009'].plot(label='Sim', color='red', linewidth=2.0)\n",
      "sobs['2002':'2009'].plot(label='Obs',color ='blue')\n",
      "\n",
      "grid(True)\n",
      "#tight_layout()\n",
      "ax.legend(loc='best')\n",
      "savefig('D:\\\\Dropbox\\\\Python_Scripts\\\\Thornton\\\\sed.png',dpi=500,format = 'png',transparent='True')\n",
      "\n",
      "##############################################################################################\n",
      "#########################################Plot the CDF#########################################\n",
      "##############################################################################################\n",
      "fig=plt.figure(figsize=(7,5),dpi=400)\n",
      "ax = plt.subplot()\n",
      "n = len(ssim)\n",
      "\n",
      "# log-normal probability plot\n",
      "d = np.linspace(1, n, num=n)/(n+1)\n",
      "y  = norm.ppf(d,0,1);\n",
      "\n",
      "# create the axis ticks\n",
      "p  = [0.001, 0.01, 0.05, 0.2, 0.5, 0.75, 0.90, 0.98, 0.999];\n",
      "# relate var \"p\" with \"y\"\n",
      "tick  = norm.ppf(p,0,1);\n",
      "label = ['0.001','0.01','0.05','0.2','0.5','0.75','0.90','0.98','0.999'];\n",
      "# recast the p to (0,1)\n",
      "\n",
      "# sort the data in an ascending order\n",
      "ssim.sort()\n",
      "sobs.sort()\n",
      "ax.plot(y,ssim, 'r+', label='sim')\n",
      "ax.plot(y,sobs,'b*', label='obs')\n",
      "\n",
      "# use numpoints option so the markeres don't appear twice in one legend\n",
      "ax.legend(loc=(0.05,0.8),numpoints = 1)\n",
      "plt.ylabel('flow. ($m^{3}\\,s^{-1}$)', fontsize=12.)\n",
      "plt.xlabel('cumulative prob.', fontsize=12.)\n",
      "ax = gca()\n",
      "ax.xaxis.set_major_locator(ticker.FixedLocator(tick))\n",
      "ax.xaxis.set_major_formatter(ticker.FixedFormatter(label))\n",
      "grid(True)\n",
      "# save the figure to the folder\n",
      "savefig('D:\\\\Dropbox\\\\Python_Scripts\\\\Mercer\\\\sed_cdf.png',dpi=500,format = 'png',transparent='True')"
     ],
     "language": "python",
     "metadata": {},
     "outputs": [
      {
       "ename": "NameError",
       "evalue": "name 'nash_flow' is not defined",
       "output_type": "pyerr",
       "traceback": [
        "\u001b[1;31m---------------------------------------------------------------------------\u001b[0m\n\u001b[1;31mNameError\u001b[0m                                 Traceback (most recent call last)",
        "\u001b[1;32m<ipython-input-72-984413cf51cb>\u001b[0m in \u001b[0;36m<module>\u001b[1;34m()\u001b[0m\n\u001b[0;32m     12\u001b[0m \u001b[0mfig\u001b[0m\u001b[1;33m=\u001b[0m\u001b[0mplt\u001b[0m\u001b[1;33m.\u001b[0m\u001b[0mfigure\u001b[0m\u001b[1;33m(\u001b[0m\u001b[0mfigsize\u001b[0m\u001b[1;33m=\u001b[0m\u001b[1;33m(\u001b[0m\u001b[1;36m17\u001b[0m\u001b[1;33m,\u001b[0m\u001b[1;36m5\u001b[0m\u001b[1;33m)\u001b[0m\u001b[1;33m,\u001b[0m\u001b[0mdpi\u001b[0m\u001b[1;33m=\u001b[0m\u001b[1;36m400\u001b[0m\u001b[1;33m)\u001b[0m\u001b[1;33m\u001b[0m\u001b[0m\n\u001b[0;32m     13\u001b[0m \u001b[0max\u001b[0m \u001b[1;33m=\u001b[0m \u001b[0mplt\u001b[0m\u001b[1;33m.\u001b[0m\u001b[0msubplot\u001b[0m\u001b[1;33m(\u001b[0m\u001b[1;33m)\u001b[0m\u001b[1;33m\u001b[0m\u001b[0m\n\u001b[1;32m---> 14\u001b[1;33m \u001b[0mfig\u001b[0m\u001b[1;33m.\u001b[0m\u001b[0mtext\u001b[0m\u001b[1;33m(\u001b[0m\u001b[1;36m0.7\u001b[0m\u001b[1;33m,\u001b[0m \u001b[1;36m0.8\u001b[0m\u001b[1;33m,\u001b[0m \u001b[1;34mr'$Nash=%.2f$'\u001b[0m \u001b[1;33m%\u001b[0m \u001b[0mnash_flow\u001b[0m\u001b[1;33m,\u001b[0m \u001b[0mfontsize\u001b[0m\u001b[1;33m=\u001b[0m\u001b[1;36m15\u001b[0m\u001b[1;33m)\u001b[0m\u001b[1;33m\u001b[0m\u001b[0m\n\u001b[0m\u001b[0;32m     15\u001b[0m \u001b[0mtitle\u001b[0m\u001b[1;33m(\u001b[0m\u001b[1;34m'daily streamflow'\u001b[0m\u001b[1;33m,\u001b[0m \u001b[0mfontsize\u001b[0m\u001b[1;33m=\u001b[0m\u001b[1;36m14.\u001b[0m\u001b[1;33m,\u001b[0m \u001b[0my\u001b[0m\u001b[1;33m=\u001b[0m\u001b[1;36m1.02\u001b[0m\u001b[1;33m,\u001b[0m \u001b[0mfontweight\u001b[0m\u001b[1;33m=\u001b[0m\u001b[1;34m'bold'\u001b[0m\u001b[1;33m)\u001b[0m\u001b[1;33m\u001b[0m\u001b[0m\n\u001b[0;32m     16\u001b[0m \u001b[0mplt\u001b[0m\u001b[1;33m.\u001b[0m\u001b[0mylabel\u001b[0m\u001b[1;33m(\u001b[0m\u001b[1;34m'flow. ($m^{3}\\,s^{-1}$)'\u001b[0m\u001b[1;33m,\u001b[0m \u001b[0mfontsize\u001b[0m\u001b[1;33m=\u001b[0m\u001b[1;36m12.\u001b[0m\u001b[1;33m)\u001b[0m\u001b[1;33m\u001b[0m\u001b[0m\n",
        "\u001b[1;31mNameError\u001b[0m: name 'nash_flow' is not defined"
       ]
      },
      {
       "metadata": {},
       "output_type": "display_data",
       "png": "[encoded data removed]",
       "text": [
        "<matplotlib.figure.Figure at 0x4508fd0>"
       ]
      }
     ],
     "prompt_number": 72
    },
    {
     "cell_type": "markdown",
     "metadata": {},
     "source": [
      "Plot the time series of **simuted sediment concentrations**. "
     ]
    },
    {
     "cell_type": "markdown",
     "metadata": {},
     "source": [
      "Plot the **Sim** vs. **obs** monthly **sediment conc**"
     ]
    },
    {
     "cell_type": "code",
     "collapsed": false,
     "input": [
      "##############################################################################################\n",
      "#################################Plot the Discrete Time Series################################\n",
      "##############################################################################################\n",
      "# reconstruct the date objects with matching dates only \n",
      "\n",
      "ssim = pd.Series(FsimSed, index=Fsimdate)\n",
      "sobs = pd.Series(FobsSed, index=Fobsdate)\n",
      "\n",
      "fig=plt.figure(figsize=(17,5),dpi=400)\n",
      "ax = plt.subplot()\n",
      "fig.text(0.7, 0.8, r'$R^2=%.2f$' % r2_sed, fontsize=15)\n",
      "title('sediment concentration', fontsize=14., y=1.02, fontweight='bold')\n",
      "plt.ylabel('conc. (mg/l)', fontsize=12.)\n",
      "plt.xlabel('year', fontsize=12.)\n",
      "\n",
      "# s=square, -=dash, g^=triangle\n",
      "ssim['1999':'2008'].plot(label='Sim', color='red',style='-o',markersize=5, linewidth=2.0)\n",
      "sobs['1999':'2008'].plot(label='Obs',color ='blue',style='-o',markersize=5)\n",
      "\n",
      "grid(True)\n",
      "#tight_layout()\n",
      "ax.legend(loc='best')\n",
      "savefig('D:\\\\Dropbox\\\\Python_Scripts\\\\Thornton\\\\sed.png',dpi=500,format = 'png',transparent='True')\n",
      "\n",
      "##############################################################################################\n",
      "#########################################Plot the CDF#########################################\n",
      "##############################################################################################\n",
      "fig=plt.figure(figsize=(7,5),dpi=400)\n",
      "ax = plt.subplot()\n",
      "n = len(ssim)\n",
      "\n",
      "# log-normal probability plot\n",
      "d = np.linspace(1, n, num=n)/(n+1)\n",
      "y  = norm.ppf(d,0,1);\n",
      "\n",
      "# create the axis ticks\n",
      "p  = [0.001, 0.01, 0.05, 0.2, 0.5, 0.75, 0.90, 0.98, 0.999];\n",
      "# relate var \"p\" with \"y\"\n",
      "tick  = norm.ppf(p,0,1);\n",
      "label = ['0.001','0.01','0.05','0.2','0.5','0.75','0.90','0.98','0.999'];\n",
      "# recast the p to (0,1)\n",
      "\n",
      "# sort the data in an ascending order\n",
      "ssim.sort()\n",
      "sobs.sort()\n",
      "ax.plot(y,ssim, 'r+', label='sim')\n",
      "ax.plot(y,sobs,'b*', label='obs')\n",
      "\n",
      "# use numpoints option so the markeres don't appear twice in one legend\n",
      "ax.legend(loc=(0.05,0.8),numpoints = 1)\n",
      "plt.ylabel('conc. (mg/l)', fontsize=12.)\n",
      "plt.xlabel('cumulative prob.', fontsize=12.)\n",
      "ax = gca()\n",
      "ax.xaxis.set_major_locator(ticker.FixedLocator(tick))\n",
      "ax.xaxis.set_major_formatter(ticker.FixedFormatter(label))\n",
      "grid(True)\n",
      "# save the figure to the folder\n",
      "savefig('D:\\\\Dropbox\\\\Python_Scripts\\\\Thornton\\\\sed_cdf1.png',dpi=500,format = 'png',transparent='True')\n"
     ],
     "language": "python",
     "metadata": {},
     "outputs": [
      {
       "metadata": {},
       "output_type": "display_data",
       "png": "[encoded data removed]",
       "text": [
        "<matplotlib.figure.Figure at 0x162ffda0>"
       ]
      },
      {
       "metadata": {},
       "output_type": "display_data",
       "png": "[encoded data removed]",
       "text": [
        "<matplotlib.figure.Figure at 0xcb26e48>"
       ]
      }
     ],
     "prompt_number": 73
    },
    {
     "cell_type": "code",
     "collapsed": false,
     "input": [
      "##############################################################################################\n",
      "#########################################Plot the CDF#########################################\n",
      "##############################################################################################\n",
      "fig=plt.figure(figsize=(7,5),dpi=400)\n",
      "ax = plt.subplot()\n",
      "n = len(sobs)\n",
      "\n",
      "# log-normal probability plot\n",
      "d = np.linspace(1, n, num=n)/(n+1)\n",
      "y  = norm.ppf(d,0,1);\n",
      "\n",
      "# create the axis ticks\n",
      "p  = [0.001, 0.01, 0.05, 0.2, 0.5, 0.75, 0.90, 0.98, 0.999];\n",
      "# relate var \"p\" with \"y\"\n",
      "tick  = norm.ppf(p,0,1);\n",
      "label = ['0.001','0.01','0.05','0.2','0.5','0.75','0.90','0.98','0.999'];\n",
      "# recast the p to (0,1)\n",
      "\n",
      "sobs.sort()\n",
      "ax.plot(y,sobs,'b*', label='obs')\n",
      "\n",
      "n = len(simseddata)\n",
      "d = np.linspace(1, n, num=n)/(n+1)\n",
      "y  = norm.ppf(d,0,1);\n",
      "simseddata.sort()\n",
      "ax.plot(y,simseddata, 'r+', label='sim')\n",
      "\n",
      "\n",
      "# use numpoints option so the markeres don't appear twice in one legend\n",
      "ax.legend(loc=(0.05,0.8),numpoints = 1)\n",
      "plt.ylabel('conc. (mg/l)', fontsize=12.)\n",
      "plt.xlabel('cumulative prob.', fontsize=12.)\n",
      "ax = gca()\n",
      "ax.xaxis.set_major_locator(ticker.FixedLocator(tick))\n",
      "ax.xaxis.set_major_formatter(ticker.FixedFormatter(label))\n",
      "grid(True)\n",
      "# save the figure to the folder\n",
      "savefig('D:\\\\Dropbox\\\\Python_Scripts\\\\Thornton\\\\sed_cdf2.png',dpi=500,format = 'png',transparent='True')"
     ],
     "language": "python",
     "metadata": {},
     "outputs": [
      {
       "metadata": {},
       "output_type": "display_data",
       "png": "[encoded data removed]",
       "text": [
        "<matplotlib.figure.Figure at 0x162d0588>"
       ]
      }
     ],
     "prompt_number": 74
    },
    {
     "cell_type": "markdown",
     "metadata": {},
     "source": [
      "Plot the **Sim** vs. **obs** monthly **coliform conc**"
     ]
    },
    {
     "cell_type": "code",
     "collapsed": false,
     "input": [
      "##############################################################################################\n",
      "#################################Plot the Discrete Time Series################################\n",
      "##############################################################################################\n",
      "\n",
      "ssim = pd.Series(FsimOther, index=Fsimdate)\n",
      "sobs = pd.Series(FobsOther, index=Fobsdate)\n",
      "\n",
      "fig=plt.figure(figsize=(17,5),dpi=400)\n",
      "ax = plt.subplot()\n",
      "fig.text(0.7, 0.8, r'$R^2=%.2f$' % r2_col, fontsize=15)\n",
      "title('coliform concentration', fontsize=14., y=1.02, fontweight='bold')\n",
      "plt.ylabel('conc. (mg/l)', fontsize=12.)\n",
      "plt.xlabel('year', fontsize=12.)\n",
      "\n",
      "# s=square, -=dash, g^=triangle\n",
      "ssim['1999':'2008'].plot(label='Sim', color='red', linewidth=2.0)\n",
      "sobs['1999':'2008'].plot(label='Obs',color ='blue',style='-o',markersize=5)\n",
      "\n",
      "grid(True)\n",
      "#tight_layout()\n",
      "ax.legend(loc='best')\n",
      "savefig('D:\\\\Dropbox\\\\Python_Scripts\\\\Thornton\\\\coliform.png',dpi=500,format = 'png',transparent='True')\n",
      "\n",
      "##############################################################################################\n",
      "##############################################################################################\n",
      "#########################################Plot the CDF#########################################\n",
      "##############################################################################################\n",
      "fig=plt.figure(figsize=(7,5),dpi=400)\n",
      "ax = plt.subplot()\n",
      "n = len(ssim)\n",
      "\n",
      "# log-normal probability plot\n",
      "d = np.linspace(1, n, num=n)/(n+1)\n",
      "y  = norm.ppf(d,0,1);\n",
      "\n",
      "# create the axis ticks\n",
      "p  = [0.001, 0.01, 0.05, 0.2, 0.5, 0.75, 0.90, 0.98, 0.999];\n",
      "# relate var \"p\" with \"y\"\n",
      "tick  = norm.ppf(p,0,1);\n",
      "label = ['0.001','0.01','0.05','0.2','0.5','0.75','0.90','0.98','0.999'];\n",
      "# recast the p to (0,1)\n",
      "\n",
      "# sort the data in an ascending order\n",
      "ssim.sort()\n",
      "sobs.sort()\n",
      "ax.plot(y,ssim, 'r+', label='sim')\n",
      "ax.plot(y,sobs,'b*', label='obs')\n",
      "\n",
      "# use numpoints option so the markeres don't appear twice in one legend\n",
      "ax.legend(loc=(0.05,0.8),numpoints = 1)\n",
      "plt.ylabel('conc. (mg/l)', fontsize=12.)\n",
      "plt.xlabel('cumulative prob.', fontsize=12.)\n",
      "ax = gca()\n",
      "ax.xaxis.set_major_locator(ticker.FixedLocator(tick))\n",
      "ax.xaxis.set_major_formatter(ticker.FixedFormatter(label))\n",
      "grid(True)\n",
      "# save the figure to the folder\n",
      "savefig('D:\\\\Dropbox\\\\Python_Scripts\\\\Thornton\\\\coliform_cdf1.png',dpi=500,format = 'png',transparent='True')\n"
     ],
     "language": "python",
     "metadata": {},
     "outputs": [
      {
       "metadata": {},
       "output_type": "display_data",
       "png": "[encoded data removed]",
       "text": [
        "<matplotlib.figure.Figure at 0xcb19630>"
       ]
      },
      {
       "metadata": {},
       "output_type": "display_data",
       "png": "[encoded data removed]",
       "text": [
        "<matplotlib.figure.Figure at 0xcc93dd8>"
       ]
      }
     ],
     "prompt_number": 75
    },
    {
     "cell_type": "code",
     "collapsed": false,
     "input": [
      "##############################################################################################\n",
      "#########################################Plot the CDF#########################################\n",
      "##############################################################################################\n",
      "fig=plt.figure(figsize=(7,5),dpi=400)\n",
      "ax = plt.subplot()\n",
      "n = len(sobs)\n",
      "\n",
      "# log-normal probability plot\n",
      "d = np.linspace(1, n, num=n)/(n+1)\n",
      "y  = norm.ppf(d,0,1);\n",
      "\n",
      "# create the axis ticks\n",
      "p  = [0.001, 0.01, 0.05, 0.2, 0.5, 0.75, 0.90, 0.98, 0.999];\n",
      "# relate var \"p\" with \"y\"\n",
      "tick  = norm.ppf(p,0,1);\n",
      "label = ['0.001','0.01','0.05','0.2','0.5','0.75','0.90','0.98','0.999'];\n",
      "# recast the p to (0,1)\n",
      "\n",
      "sobs.sort()\n",
      "ax.plot(y,sobs,'b*', label='obs')\n",
      "\n",
      "n = len(simotherdata)\n",
      "d = np.linspace(1, n, num=n)/(n+1)\n",
      "y  = norm.ppf(d,0,1);\n",
      "simotherdata.sort()\n",
      "ax.plot(y,simotherdata, 'r+', label='sim')\n",
      "\n",
      "\n",
      "# use numpoints option so the markeres don't appear twice in one legend\n",
      "ax.legend(loc=(0.05,0.8),numpoints = 1)\n",
      "plt.ylabel('conc. (mg/l)', fontsize=12.)\n",
      "plt.xlabel('cumulative prob.', fontsize=12.)\n",
      "ax = gca()\n",
      "ax.xaxis.set_major_locator(ticker.FixedLocator(tick))\n",
      "ax.xaxis.set_major_formatter(ticker.FixedFormatter(label))\n",
      "grid(True)\n",
      "# save the figure to the folder\n",
      "savefig('D:\\\\Dropbox\\\\Python_Scripts\\\\Thornton\\\\sed_cdf2.png',dpi=500,format = 'png',transparent='True')"
     ],
     "language": "python",
     "metadata": {},
     "outputs": []
    },
    {
     "cell_type": "code",
     "collapsed": false,
     "input": [],
     "language": "python",
     "metadata": {},
     "outputs": []
    }
   ],
   "metadata": {}
  }
 ]
}