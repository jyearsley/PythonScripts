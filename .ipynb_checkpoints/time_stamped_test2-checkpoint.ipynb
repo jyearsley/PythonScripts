{
 "metadata": {
  "name": "",
  "signature": "sha256:307d940cf17c1eaafeba6dd31b919a8468f53fe28ab65a79c7ba5ba35842d2bf"
 },
 "nbformat": 3,
 "nbformat_minor": 0,
 "worksheets": [
  {
   "cells": [
    {
     "cell_type": "markdown",
     "metadata": {},
     "source": [
      "###This notebook includes Python tools for analyzing DHSVM outputs.\n",
      "Time series data are analyzed with **numpy** and **pandas** tools and plotted with **matplotlib**. Spatial maps are analyzed and plotted using **netCDF4** and **Basemap** utilities. In general, the scripts that needs to be changed (eg. file path, locations, time range, and variables to plot, etc) are on top of the coding block if there's any. However, differences in the input data may require changing the code, such as which columns to read as the dates, how many rows to skip as the header, etc. Currently all input file paths are absolute paths so you should be able to run the code as it is and plot from my output files. All plots are saved into a pdf page (specify the file name in the second code block). Note that you'll have to run the last code block to close the pdf file you opened in order to view the file correctly. "
     ]
    },
    {
     "cell_type": "code",
     "collapsed": false,
     "input": [
      "%pylab inline"
     ],
     "language": "python",
     "metadata": {},
     "outputs": [
      {
       "output_type": "stream",
       "stream": "stdout",
       "text": [
        "Populating the interactive namespace from numpy and matplotlib\n"
       ]
      }
     ],
     "prompt_number": 1
    },
    {
     "cell_type": "markdown",
     "metadata": {},
     "source": [
      "**First**, import all necessary libraries."
     ]
    },
    {
     "cell_type": "code",
     "collapsed": false,
     "input": [
      "# Import all needed libraries \n",
      "import sys, os, datetime, time\n",
      "import numpy as np\n",
      "import pandas as pd\n",
      "import numpy.ma as ma\n",
      "import math\n",
      "import matplotlib.dates as dates\n",
      "import matplotlib.ticker as ticker\n",
      "import matplotlib.pyplot as plt\n",
      "from matplotlib.backends.backend_pdf import PdfPages\n",
      "from scipy.stats import norm\n",
      "from scipy import stats\n",
      "\n",
      "import os\n",
      "os.getcwd() \n",
      "os.chdir(\"D:\\\\Dropbox\\\\Python_Scripts\")\n",
      "os.getcwd()"
     ],
     "language": "python",
     "metadata": {},
     "outputs": [
      {
       "metadata": {},
       "output_type": "pyout",
       "prompt_number": 2,
       "text": [
        "'D:\\\\Dropbox\\\\Python_Scripts'"
       ]
      }
     ],
     "prompt_number": 2
    },
    {
     "cell_type": "code",
     "collapsed": false,
     "input": [
      "# Enter file path for swater quality simulation files\n",
      "simsedfilepath = 'D:\\\\Dropbox\\\\Python_Scripts\\\\Mercer\\\\Sed.Flow.Only'\n",
      "simotherfilepath = 'D:\\\\Dropbox\\\\Python_Scripts\\\\Mercer\\\\Other.Conc.Only'\n",
      "\n",
      "# Enter file path for observed water quality variable files\n",
      "obsfilepath = 'D:\\\\Dropbox\\\\Python_Scripts\\\\Mercer\\\\thornton-time-stamped-final.txt'\n",
      "\n",
      "\n",
      "# Read dates of sims (continuous)\n",
      "tempsimdates = np.genfromtxt(simsedfilepath, dtype = str, skiprows = 2, usecols = 0)\n",
      "\n",
      "# Read dates of obs (discrete). Use the 2nd column\n",
      "tempobsdates = np.genfromtxt(obsfilepath, dtype = str, skiprows = 1, usecols = 0)\n",
      "\n",
      "# Read sediment sims (use the 2nd col)\n",
      "simseddata = np.genfromtxt(simsedfilepath, skiprows = 2, usecols = [2])\n",
      "print len(simseddata)\n",
      "#print simseddata\n",
      "# Read sediment obs.\n",
      "# Skip the first line, and use the 5th column for sed\n",
      "obsseddata = np.genfromtxt(obsfilepath, dtype = float, skiprows = 1, usecols = [2])\n",
      "\n",
      "# Read other data\n",
      "simotherdata = np.genfromtxt(simotherfilepath, skiprows = 2, usecols = [1])\n",
      "print len(simotherdata)\n",
      "#print simotherdata\n",
      "obsotherdata = np.genfromtxt(obsfilepath, dtype = float, skiprows = 1, usecols = [1])\n"
     ],
     "language": "python",
     "metadata": {},
     "outputs": [
      {
       "output_type": "stream",
       "stream": "stdout",
       "text": [
        "20448\n",
        "20448"
       ]
      },
      {
       "output_type": "stream",
       "stream": "stdout",
       "text": [
        "\n"
       ]
      }
     ],
     "prompt_number": 3
    },
    {
     "cell_type": "markdown",
     "metadata": {},
     "source": [
      "**Third**, find out the dates when both sims and obs (discontinous) are available.\n",
      "\n",
      "<span style=\"background-color: #FFFF00\">**Particular attention** needs to be paid on **<span style=\"color:#f00\">np.searchsorted()</span>**. Output all matching columns to make sure its the right match. Right now, the option **side='right'** must be used in the case of **daily time step (mm/dd/yy)** to avoid the 1-day mismatch. Later when working with **3-hourly set**, this may not hold.</span>"
     ]
    },
    {
     "cell_type": "code",
     "collapsed": false,
     "input": [
      "simdates = []\n",
      "Fsim = []\n",
      "Fobs = []\n",
      "\n",
      "# construct the sim. date obj.\n",
      "for i in range(len(tempsimdates)):\n",
      "    simdates.append(datetime.datetime.strptime(tempsimdates[i],'%m/%d/%Y-%H:%M:%S'))\n",
      "simdates.sort()\n",
      "# construct the obs. date obj.\n",
      "obsdates = []\n",
      "for i in range(len(tempobsdates)):\n",
      "    obsdates.append(datetime.datetime.strptime(tempobsdates[i],'%m/%d/%y-%H:%M:%S'))\n",
      "obsdates.sort()\n",
      "\n",
      "for i in range(len(obsdates)):\n",
      "    obs = date2num(obsdates[i])\n",
      "    junk = date2num(simdates)\n",
      "    #value = obsdates[i]\n",
      "    idx = (np.abs(junk-obs)).argmin()\n",
      "    if (idx > 0):\n",
      "      Fsim.append = simdates[idx]\n",
      "      Fobs.append = obsdates[i]\n",
      "\n",
      "print Fsim, Fobs\n"
     ],
     "language": "python",
     "metadata": {},
     "outputs": [
      {
       "ename": "IndexError",
       "evalue": "list assignment index out of range",
       "output_type": "pyerr",
       "traceback": [
        "\u001b[1;31m---------------------------------------------------------------------------\u001b[0m\n\u001b[1;31mIndexError\u001b[0m                                Traceback (most recent call last)",
        "\u001b[1;32m<ipython-input-18-3e13328816e9>\u001b[0m in \u001b[0;36m<module>\u001b[1;34m()\u001b[0m\n\u001b[0;32m     20\u001b[0m     \u001b[1;32mif\u001b[0m \u001b[1;33m(\u001b[0m\u001b[0midx\u001b[0m \u001b[1;33m>\u001b[0m \u001b[1;36m0\u001b[0m\u001b[1;33m)\u001b[0m\u001b[1;33m:\u001b[0m\u001b[1;33m\u001b[0m\u001b[0m\n\u001b[0;32m     21\u001b[0m       \u001b[0mj\u001b[0m \u001b[1;33m=\u001b[0m \u001b[1;36m0\u001b[0m\u001b[1;33m\u001b[0m\u001b[0m\n\u001b[1;32m---> 22\u001b[1;33m       \u001b[0mFsim\u001b[0m\u001b[1;33m[\u001b[0m\u001b[0mj\u001b[0m\u001b[1;33m]\u001b[0m \u001b[1;33m=\u001b[0m \u001b[0msimdates\u001b[0m\u001b[1;33m[\u001b[0m\u001b[0midx\u001b[0m\u001b[1;33m]\u001b[0m\u001b[1;33m\u001b[0m\u001b[0m\n\u001b[0m\u001b[0;32m     23\u001b[0m       \u001b[0mFobs\u001b[0m\u001b[1;33m[\u001b[0m\u001b[0mj\u001b[0m\u001b[1;33m]\u001b[0m \u001b[1;33m=\u001b[0m \u001b[0mobsdates\u001b[0m\u001b[1;33m[\u001b[0m\u001b[0mi\u001b[0m\u001b[1;33m]\u001b[0m\u001b[1;33m\u001b[0m\u001b[0m\n\u001b[0;32m     24\u001b[0m       \u001b[0mj\u001b[0m \u001b[1;33m+=\u001b[0m \u001b[1;36m1\u001b[0m\u001b[1;33m\u001b[0m\u001b[0m\n",
        "\u001b[1;31mIndexError\u001b[0m: list assignment index out of range"
       ]
      }
     ],
     "prompt_number": 18
    },
    {
     "cell_type": "code",
     "collapsed": false,
     "input": [],
     "language": "python",
     "metadata": {},
     "outputs": []
    },
    {
     "cell_type": "code",
     "collapsed": false,
     "input": [],
     "language": "python",
     "metadata": {},
     "outputs": []
    }
   ],
   "metadata": {}
  }
 ]
}