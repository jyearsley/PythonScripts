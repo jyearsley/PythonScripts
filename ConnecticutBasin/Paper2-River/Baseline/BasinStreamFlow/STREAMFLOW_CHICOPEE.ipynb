{
 "metadata": {
  "name": "",
  "signature": "sha256:0aeb0b83358079807c54b96620ca9b4192a5669226e943dc90a21e0da5a11912"
 },
 "nbformat": 3,
 "nbformat_minor": 0,
 "worksheets": [
  {
   "cells": [
    {
     "cell_type": "code",
     "collapsed": false,
     "input": [
      "# Import all needed libraries \n",
      "import sys, os, datetime, time\n",
      "import numpy as np\n",
      "import pandas as pd\n",
      "import numpy.ma as ma\n",
      "import math\n",
      "import matplotlib.dates as dates\n",
      "import matplotlib.ticker as ticker\n",
      "import matplotlib.pyplot as plt\n",
      "from matplotlib.backends.backend_pdf import PdfPages\n",
      "from scipy.stats import norm\n",
      "from scipy import stats\n",
      "\n",
      "%pylab inline"
     ],
     "language": "python",
     "metadata": {},
     "outputs": [
      {
       "output_type": "stream",
       "stream": "stdout",
       "text": [
        "Populating the interactive namespace from numpy and matplotlib\n"
       ]
      },
      {
       "output_type": "stream",
       "stream": "stderr",
       "text": [
        "WARNING: pylab import has clobbered these variables: ['norm']\n",
        "`%matplotlib` prevents importing * from pylab and numpy\n"
       ]
      }
     ],
     "prompt_number": 1
    },
    {
     "cell_type": "markdown",
     "metadata": {},
     "source": [
      "Read the input **streamflow** files (change the path if needed)<br>\n",
      "<span style=\"background-color: #FFFF00\">**<span style=\"color:#f00\">Attention</span>**: the last date in obs. file **MUST NOT** exceed the last date of sim.</span>"
     ]
    },
    {
     "cell_type": "code",
     "collapsed": false,
     "input": [
      "import matplotlib as mpl\n",
      "mpl.rcParams['lines.linewidth'] = 2\n",
      "font = {'family' : 'sans-serif',\n",
      "        'sans-serif' : 'Verdana',\n",
      "        'weight' : 'medium',\n",
      "        'size'   : '12'}\n",
      "params1 = {\n",
      "          'axes.labelsize': 12,\n",
      "          'text.fontsize': 12,\n",
      "          'xtick.labelsize': 12,\n",
      "          'xtick.direction': 'out',\n",
      "          'ytick.labelsize': 12,\n",
      "          'legend.pad': 0.01,     # empty space around the legend box\n",
      "          'legend.fontsize': 12,\n",
      "          'legend.labelspacing':0.25,\n",
      "          'font.size': 12,\n",
      "          'font.style': 'normal',\n",
      "          'axes.style': 'normal',\n",
      "          'xtick.labelstyle': 'normal',\n",
      "          }\n",
      "mpl.RcParams.update(params1)\n",
      "mpl.rc('font', **font)\n",
      "plt.rc(\"xtick\", direction=\"out\")\n",
      "plt.rc(\"ytick\", direction=\"out\")\n",
      "plt.rc('legend',**{'fontsize':12})"
     ],
     "language": "python",
     "metadata": {},
     "outputs": [],
     "prompt_number": 2
    },
    {
     "cell_type": "code",
     "collapsed": false,
     "input": [
      "# Enter file path for sim. and obs. flow files\n",
      "simflowpath = 'D:\\\\Dropbox\\\\Python_Scripts\\\\\\Conn_Streamflow\\\\chicopee\\\\daily_flow.txt'\n",
      "obsflowpath = 'D:\\\\Dropbox\\\\Python_Scripts\\\\Conn_Streamflow\\\\chicopee\\\\streamflow.01177000.cms.txt'\n",
      "# Enter file path for observed precipitation files\n",
      "precipfilepath = 'D:\\\\Dropbox\\\\Python_Scripts\\\\Conn_Streamflow\\\\chicopee\\\\daily_precip.txt'\n",
      "\n",
      "# Read flow sim and obs dates &  data\n",
      "simflowdata = np.genfromtxt(simflowpath, usecols=[1])\n",
      "obsflowdata = np.genfromtxt(obsflowpath, usecols=[1])\n",
      "tempsimflowdate = np.genfromtxt(simflowpath, dtype = str, skiprows = 0, usecols = 0)\n",
      "tempobsflowdate = np.genfromtxt(obsflowpath, dtype = str, skiprows = 0, usecols = 0)\n",
      "# Read obs. precipitation data\n",
      "precipdata = np.genfromtxt(precipfilepath, dtype = float, skiprows = 0, usecols = [1])\n"
     ],
     "language": "python",
     "metadata": {},
     "outputs": [],
     "prompt_number": 3
    },
    {
     "cell_type": "markdown",
     "metadata": {},
     "source": [
      "**Sort** and **match** the obs. and sim. flow files based on dates.<br>"
     ]
    },
    {
     "cell_type": "code",
     "collapsed": false,
     "input": [
      "simflowdate = []\n",
      "Fsimflowdate = []\n",
      "Fobsflowdate = []\n",
      "Fsimflow = []\n",
      "Fobsflow = []\n",
      "Fprecip = []\n",
      "\n",
      "# construct the sim. date obj.\n",
      "for i in range(len(tempsimflowdate)):\n",
      "    simflowdate.append(datetime.datetime.strptime(tempsimflowdate[i],'%m.%d.%Y'))\n",
      "#simflowdate.sort()\n",
      "# construct the obs. date obj.\n",
      "obsflowdate = []\n",
      "for i in range(len(tempobsflowdate)):\n",
      "    obsflowdate.append(datetime.datetime.strptime(tempobsflowdate[i],'%Y-%m-%d'))\n",
      "#obsflowdate.sort()\n",
      "\n",
      "for i in range(len(obsflowdate)):\n",
      "    obs = dates.date2num(obsflowdate[i])\n",
      "    junk = date2num(simflowdate)\n",
      "    idx = (np.abs(junk-obs)).argmin()\n",
      "    if (idx > 0 and idx < len(simflowdate)-1 and idx<len(obsflowdate)-1):\n",
      "      Fsimflowdate.append(simflowdate[idx])\n",
      "      Fobsflowdate.append(obsflowdate[i])\n",
      "      Fsimflow.append(simflowdata[idx])\n",
      "      Fobsflow.append(obsflowdata[i])\n",
      "      Fprecip.append(precipdata[idx])\n",
      "        \n",
      "#for i in range(len(Fsimflow)):\n",
      "    #print Fsimflowdate[i], Fsimflow[i], Fobsflowdate[i], Fobsflow[i], Fprecip[i]"
     ],
     "language": "python",
     "metadata": {},
     "outputs": [],
     "prompt_number": 4
    },
    {
     "cell_type": "markdown",
     "metadata": {},
     "source": [
      "Compute <b><span style=\"color:#f00\">R<sup>2</sup></span></b> and <b><span style=\"color:#f00\">Nash</span></b> between sim. and obs. flow"
     ]
    },
    {
     "cell_type": "code",
     "collapsed": false,
     "input": [
      "# average of sim\n",
      "sim_mean= sum(Fsimflow)/float(len(Fsimflow))\n",
      "# average of obs\n",
      "obs_mean= sum(Fobsflow)/float(len(Fobsflow))\n",
      "# total sum of squares \n",
      "ss_tot = sum((x-obs_mean)**2 for x in Fobsflow) \n",
      "# sum of squares of residuals\n",
      "ss_err = sum((y-x)**2 for y,x in zip(Fsimflow, Fobsflow))\n",
      "\n",
      "nash_flow = 1 - (ss_err/ss_tot)\n",
      "print \"nash_flow= \", nash_flow\n",
      "\n",
      "gradient, intercept, r_value, p_value, std_err = stats.linregress(Fsimflow,Fobsflow)\n",
      "print \"R-squared = \", r_value**2\n",
      "if gradient <= 1:\n",
      "  adj_r2 = gradient * (r_value**2)\n",
      "  print \"adj_r2 =\", adj_r2\n",
      "if gradient > 1:\n",
      "  adj_r2 = gradient**(-1) * (r_value**2)\n",
      "  print \"adj_r2 =\", adj_r2"
     ],
     "language": "python",
     "metadata": {},
     "outputs": [
      {
       "output_type": "stream",
       "stream": "stdout",
       "text": [
        "nash_flow=  0.806755047757\n",
        "R-squared =  0.807736505825\n",
        "adj_r2 = 0.780754869431\n"
       ]
      }
     ],
     "prompt_number": 5
    },
    {
     "cell_type": "markdown",
     "metadata": {},
     "source": [
      "Plot <b><span style=\"color:#f00\">COMPARISONS</span></b> between sim. and obs. flow"
     ]
    },
    {
     "cell_type": "code",
     "collapsed": false,
     "input": [
      "ssim = pd.Series(Fsimflow, index=Fsimflowdate)\n",
      "sobs = pd.Series(Fobsflow, index=Fsimflowdate)\n",
      "PCP = pd.Series(Fprecip, index=Fsimflowdate)\n",
      "\n",
      "startdate = datetime.datetime(1996,10,1)\n",
      "enddate = datetime.datetime(2001,10,1)\n",
      "\n",
      "fig=plt.figure(figsize=(12,3),dpi=400)\n",
      "ax = plt.subplot()\n",
      "#fig.text(0.7, 0.8, r'$Nash=%.2f$' % nash_flow, fontsize=15)\n",
      "title('Daily streamflow @ 01177000', fontsize=14., y=1.02, fontweight='bold')\n",
      "plt.ylabel('Flow. ($m^{3}\\,s^{-1}$)', fontsize=12.)\n",
      "#plt.xlabel('year', fontsize=12.)\n",
      "plt.ylim([0, 230])\n",
      "#\n",
      "\n",
      "lns1=ax.plot(Fsimflowdate, Fsimflow, 'blue', linewidth=2, label='sim')\n",
      "lns2=ax.plot(Fobsflowdate, Fobsflow, 'grey', linewidth=2, label='obs')\n",
      "# plot the secondary ppt y-axis\n",
      "ax2 = ax.twinx()\n",
      "ax2= plt.gca()\n",
      "lns3 = ax2.bar(Fsimflowdate, PCP, 2)\n",
      "ax2.grid(True)\n",
      "ax2.set_ylabel(r\"Rain. ($m$)\", fontsize=12.)\n",
      "pylab.ylim([0,0.5])\n",
      "ax2.invert_yaxis()\n",
      "\n",
      "pylab.xlim([startdate, enddate])\n",
      "grid(True)\n",
      "ax.legend((lns1[0],lns2[0],lns3[0]), ('Obs', 'sim', 'precip'),loc=(0.75, 0.7))\n",
      "ax.legend(loc='best')\n",
      "\n",
      "\n",
      "savefig('D:\\\\Dropbox\\\\Python_Scripts\\\\Conn_Streamflow\\\\chicopee\\\\flow.png',dpi=500,format = 'png',transparent='True')"
     ],
     "language": "python",
     "metadata": {},
     "outputs": [
      {
       "metadata": {},
       "output_type": "display_data",
       "png": "[encoded data removed]",
       "text": [
        "<matplotlib.figure.Figure at 0xca64dd8>"
       ]
      }
     ],
     "prompt_number": 8
    },
    {
     "cell_type": "markdown",
     "metadata": {},
     "source": [
      "Plot <b><span style=\"color:#f00\">CDF</span></b> between sim. and obs. flow"
     ]
    },
    {
     "cell_type": "code",
     "collapsed": false,
     "input": [
      "from scipy.stats import norm\n",
      "\n",
      "ssim = pd.Series(Fsimflow, index=Fsimflowdate)\n",
      "sobs = pd.Series(Fobsflow, index=Fobsflowdate)\n",
      "\n",
      "fig=plt.figure(figsize=(7,5),dpi=400)\n",
      "ax = plt.subplot()\n",
      "n = len(ssim)\n",
      "\n",
      "# log-normal probability plot\n",
      "d = np.linspace(1, n, num=n)/(n+1)\n",
      "y = norm.ppf(d, 0, 1)\n",
      "\n",
      "# create the axis ticks\n",
      "p  = [0.001, 0.01, 0.05, 0.2, 0.5, 0.75, 0.90, 0.98, 0.999];\n",
      "# relate var \"p\" with \"y\"\n",
      "tick  = norm.ppf(p,0,1);\n",
      "label = ['0.001','0.01','0.05','0.2','0.5','0.75','0.90','0.98','0.999'];\n",
      "# recast the p to (0,1)\n",
      "\n",
      "print len(sobs)\n",
      "print len(ssim)\n",
      "\n",
      "# sort the data in an ascending order\n",
      "ssim.sort()\n",
      "sobs.sort()\n",
      "ax.plot(y,ssim, 'r+', label='sim')\n",
      "ax.plot(y,sobs,'b*', label='obs')\n",
      "\n",
      "# use numpoints option so the markeres don't appear twice in one legend\n",
      "ax.legend(loc=(0.05,0.8),numpoints = 1)\n",
      "plt.ylabel('flow. ($m^{3}\\,s^{-1}$)', fontsize=12.)\n",
      "plt.xlabel('cumulative prob.', fontsize=12.)\n",
      "ax = gca()\n",
      "ax.xaxis.set_major_locator(ticker.FixedLocator(tick))\n",
      "ax.xaxis.set_major_formatter(ticker.FixedFormatter(label))\n",
      "grid(True)\n",
      "#savefig('D:\\\\Dropbox\\\\Python_Scripts\\\\Conn_Streamflow\\\\chicopee\\\\flowcdf.png',dpi=500,format = 'png',transparent='True')"
     ],
     "language": "python",
     "metadata": {},
     "outputs": []
    },
    {
     "cell_type": "markdown",
     "metadata": {},
     "source": [
      "Plot <b><span style=\"color:#f00\">Cumulative Water</span></b> between sim. and obs. flow"
     ]
    },
    {
     "cell_type": "code",
     "collapsed": false,
     "input": [
      "\n",
      "ssim = pd.Series(Fsimflow, index=Fsimflowdate)\n",
      "sobs = pd.Series(Fobsflow, index=Fobsflowdate)\n",
      "\n",
      "# A simple function to define the water year of a date\n",
      "def wateryear(inyear):\n",
      "    if inyear.month >= 10:\n",
      "        return inyear.year+1\n",
      "    else:\n",
      "        return inyear.year\n",
      "\n",
      "# Group data in obs and sim based by its wateryear\n",
      "obsyear = sobs.groupby(lambda x: wateryear(x))\n",
      "simyear = ssim.groupby(lambda x: wateryear(x))\n",
      "\n",
      "# For each wateryear, calculate the cumulative sum and then append to a big data package\n",
      "for i, (year,group) in enumerate(obsyear):\n",
      "    if i == 0:\n",
      "        obsyearcum = group.cumsum()\n",
      "    else:\n",
      "        obsyearcum = obsyearcum.append(group.cumsum())\n",
      "for i, (year,group) in enumerate(simyear):\n",
      "    if i == 0:\n",
      "        simyearcum = group.cumsum()\n",
      "    else:\n",
      "        simyearcum = simyearcum.append(group.cumsum())\n",
      "    \n",
      "# Plot\n",
      "figure(figsize=(7,5))\n",
      "title('Annual Cumulative Flow', fontsize = 20., y=1.02)\n",
      "ax = plt.subplot()\n",
      "# Plot simulated flow of the desired date range\n",
      "simyearcum.plot(label = 'Sim', color = 'r')\n",
      "# Plot observed flow of the desired date range\n",
      "obsyearcum.plot(label = 'Obs', color = 'b')\n",
      "# Titles, axes labels and ticks, units, grid\n",
      "title('Annual Cumulative Flow', fontsize=12.0)\n",
      "ylabel(r'$Stream flow (m^3/s)$', fontsize = 15.0)\n",
      "#pylab.ylim([0,200000])\n",
      "grid(True)\n",
      "tight_layout()\n",
      "legend(loc='best')\n",
      "savefig('D:\\\\Dropbox\\\\Python_Scripts\\\\Conn_Streamflow\\\\chicopee\\\\wbal.png',dpi=500,format = 'png',transparent='True')"
     ],
     "language": "python",
     "metadata": {},
     "outputs": []
    },
    {
     "cell_type": "code",
     "collapsed": false,
     "input": [],
     "language": "python",
     "metadata": {},
     "outputs": []
    }
   ],
   "metadata": {}
  }
 ]
}