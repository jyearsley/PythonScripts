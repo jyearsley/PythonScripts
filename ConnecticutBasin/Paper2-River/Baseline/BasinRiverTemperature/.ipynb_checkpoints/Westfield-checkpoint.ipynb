{
 "metadata": {
  "name": "",
  "signature": "sha256:f2f8d09eb4e281720fab4f473058d30e5591c65836e3a20ad80bc474195fc8ea"
 },
 "nbformat": 3,
 "nbformat_minor": 0,
 "worksheets": [
  {
   "cells": [
    {
     "cell_type": "markdown",
     "metadata": {},
     "source": [
      "###This notebook includes Python scripts for plotting the baseline sim. vs obs. TEMPERATURE in Black_Ottauquechee with all station data available."
     ]
    },
    {
     "cell_type": "code",
     "collapsed": false,
     "input": [
      "%pylab inline"
     ],
     "language": "python",
     "metadata": {},
     "outputs": [
      {
       "output_type": "stream",
       "stream": "stdout",
       "text": [
        "Populating the interactive namespace from numpy and matplotlib\n"
       ]
      },
      {
       "output_type": "stream",
       "stream": "stderr",
       "text": [
        "WARNING: pylab import has clobbered these variables: ['norm', 'gradient']\n",
        "`%matplotlib` prevents importing * from pylab and numpy\n"
       ]
      }
     ],
     "prompt_number": 22
    },
    {
     "cell_type": "code",
     "collapsed": false,
     "input": [
      "# Import all needed libraries \n",
      "import sys, os, datetime, time\n",
      "import collections\n",
      "import numpy as np\n",
      "import pandas as pd\n",
      "import numpy.ma as ma\n",
      "import math\n",
      "import matplotlib.dates as dates\n",
      "import matplotlib.ticker as ticker\n",
      "import matplotlib.pyplot as plt\n",
      "from matplotlib.backends.backend_pdf import PdfPages\n",
      "from scipy.stats import norm\n",
      "from scipy import stats\n",
      "\n",
      "import os\n",
      "os.getcwd() \n",
      "os.chdir(\"D:\\\\Dropbox\\\\Python_Scripts\")\n",
      "os.getcwd()"
     ],
     "language": "python",
     "metadata": {},
     "outputs": [
      {
       "metadata": {},
       "output_type": "pyout",
       "prompt_number": 23,
       "text": [
        "'D:\\\\Dropbox\\\\Python_Scripts'"
       ]
      }
     ],
     "prompt_number": 23
    },
    {
     "cell_type": "code",
     "collapsed": false,
     "input": [
      "import matplotlib as mpl\n",
      "mpl.rcParams['lines.linewidth'] = 2\n",
      "font = {'family' : 'sans-serif',\n",
      "        'sans-serif' : 'Verdana',\n",
      "        'weight' : 'medium',\n",
      "        'size'   : '12'}\n",
      "params1 = {\n",
      "          'axes.labelsize': 12,\n",
      "          'text.fontsize': 12,\n",
      "          'xtick.labelsize': 12,\n",
      "          'xtick.direction': 'out',\n",
      "          'ytick.labelsize': 12,\n",
      "          'legend.pad': 0.01,     # empty space around the legend box\n",
      "          'legend.fontsize': 12,\n",
      "          'legend.labelspacing':0.25,\n",
      "          'font.size': 12,\n",
      "          'font.style': 'normal',\n",
      "          'axes.style': 'normal',\n",
      "          'xtick.labelstyle': 'normal',\n",
      "          }\n",
      "mpl.RcParams.update(params1)\n",
      "mpl.rc('font', **font)\n",
      "plt.rc(\"xtick\", direction=\"out\")\n",
      "plt.rc(\"ytick\", direction=\"out\")\n",
      "plt.rc('legend',**{'fontsize':12})"
     ],
     "language": "python",
     "metadata": {},
     "outputs": [],
     "prompt_number": 24
    },
    {
     "cell_type": "markdown",
     "metadata": {},
     "source": [
      "<font color='blue'>Read the sim and obs temperature files</font>"
     ]
    },
    {
     "cell_type": "code",
     "collapsed": false,
     "input": [
      "basin_name = \"Westfield\"\n",
      "gage_id = ['MAKear55']\n",
      "rbm_id = ['111']\n",
      "mainpath = \"D:\\\\Box Sync\\\\ConnecticutPaper2\\\\BasinRiverTemperature\\\\\"+str(basin_name)+\"\\\\\"\n",
      "\n",
      "simtmppath = {}\n",
      "obstmppath = {}\n",
      "sim_tmp = collections.defaultdict(list)\n",
      "obs_tmp = collections.defaultdict(list)\n",
      "sim_tmp_date = collections.defaultdict(list)\n",
      "obs_tmp_date = collections.defaultdict(list)\n",
      "\n",
      "# Enter file path for sim. and obs. flow files\n",
      "for i, n in enumerate(rbm_id):\n",
      "    simtmppath[n] = str(mainpath)+\"sim\\\\baseline\\\\\"+\"seg\"+str(n)+\".temp.txt\"\n",
      "for i, n in enumerate(gage_id):\n",
      "    obstmppath[n] = str(mainpath)+\"obs\\\\\"+str(n)+\".txt\"\n",
      "    \n",
      "\n",
      "# Read flow sim and obs dates &  data\n",
      "for i, n in enumerate(gage_id):\n",
      "    obs_tmp_date[i] = np.genfromtxt(obstmppath[n], dtype=str, skiprows=0, usecols=[0])\n",
      "    obs_tmp[i] = np.genfromtxt(obstmppath[n], dtype=float, skiprows=0, usecols=[1])\n",
      "for i, n in enumerate(rbm_id):\n",
      "    sim_tmp[i] = np.genfromtxt(simtmppath[n], dtype=float, skiprows=0, usecols=[1])\n",
      "    sim_tmp_date[i] = np.genfromtxt(simtmppath[n], dtype=str, skiprows=0, usecols=[0])\n",
      "   "
     ],
     "language": "python",
     "metadata": {},
     "outputs": [],
     "prompt_number": 25
    },
    {
     "cell_type": "markdown",
     "metadata": {},
     "source": [
      "<font color='blue'>Average the hourly or 3-hourly simulated temperature date into daily values.</font>"
     ]
    },
    {
     "cell_type": "code",
     "collapsed": false,
     "input": [
      "simdate = collections.defaultdict(list)\n",
      "obsdate = collections.defaultdict(list)\n",
      "DailyPrecip = {}\n",
      "DailySim = {}\n",
      "DailyObs = {}\n",
      "MonthlySim = {}\n",
      "MonthlyObs = {}\n",
      "\n",
      "for i, n in enumerate(gage_id):\n",
      "    for j in range(len(obs_tmp_date[i])):\n",
      "        obsdate[i].append(datetime.datetime.strptime(obs_tmp_date[i][j],'%m/%d/%Y-%H:%M:%S'))\n",
      "for i, n in enumerate(rbm_id):\n",
      "    for j in range(len(sim_tmp_date[i])):\n",
      "        simdate[i].append(datetime.datetime.strptime(sim_tmp_date[i][j],'%m/%d/%Y-%H:%M'))\n",
      "\n",
      "# daily mean flow    \n",
      "for i,n in enumerate(rbm_id):\n",
      "    DailySim[i] = pd.Series(sim_tmp[i], index=simdate[i]).resample('D', how='mean')\n",
      "for i,n in enumerate(gage_id):\n",
      "    DailyObs[i] = pd.Series(obs_tmp[i], index=obsdate[i]).resample('D', how='mean')"
     ],
     "language": "python",
     "metadata": {},
     "outputs": [],
     "prompt_number": 26
    },
    {
     "cell_type": "markdown",
     "metadata": {},
     "source": [
      "<font color='blue'> **Truncate** the obs. and sim. flow files based on dates.</font>"
     ]
    },
    {
     "cell_type": "code",
     "collapsed": false,
     "input": [
      "startdate1 = datetime.datetime(2005,7,21) \n",
      "enddate1 = datetime.datetime(2005,10,7)\n",
      "\n",
      "startdate2 = datetime.datetime(2005,7,21) \n",
      "enddate2 = datetime.datetime(2006,9,30)\n",
      "\n",
      "# Truncate the data into desired time frame\n",
      "for i, n in enumerate(gage_id):\n",
      "    if (n==\"MAFull55\"):\n",
      "        DailySim[i] = DailySim[i].truncate(before=startdate1, after=enddate1)\n",
      "        DailyObs[i] = DailyObs[i].truncate(before=startdate1, after=enddate1)\n",
      "    else:\n",
      "        DailySim[i] = DailySim[i].truncate(before=startdate2, after=enddate2)\n",
      "        DailyObs[i] = DailyObs[i].truncate(before=startdate2, after=enddate2)"
     ],
     "language": "python",
     "metadata": {},
     "outputs": [],
     "prompt_number": 27
    },
    {
     "cell_type": "code",
     "collapsed": false,
     "input": [
      "# monthly mean flow for each year\n",
      "for i,n in enumerate(rbm_id):\n",
      "    MonthlySim[i] = DailySim[i].resample('M', how='mean')\n",
      "    MonthlyObs[i] = DailyObs[i].resample('M', how='mean')\n",
      "    \n",
      "# average monthly streamflow over the period\n",
      "for i,n in enumerate(rbm_id):\n",
      "    MonthlySim[i] = MonthlySim[i].groupby(lambda x: x.month).mean()\n",
      "for i,n in enumerate(gage_id):\n",
      "    MonthlyObs[i] = MonthlyObs[i].groupby(lambda x: x.month).mean()"
     ],
     "language": "python",
     "metadata": {},
     "outputs": [],
     "prompt_number": 28
    },
    {
     "cell_type": "markdown",
     "metadata": {},
     "source": [
      "<font color='blue'>Compute **Nash** between daily sim. and obs.</font>"
     ]
    },
    {
     "cell_type": "code",
     "collapsed": false,
     "input": [
      "print \"Daily Nash:\"\n",
      "nash = {}\n",
      "for i, n in enumerate(rbm_id):\n",
      "    sim_mean= sum(DailySim[i])/float(len(DailySim[i]))\n",
      "    obs_mean= sum(DailyObs[i])/float(len(DailyObs[i]))\n",
      "    ss_tot = sum((x-obs_mean)**2 for x in DailyObs[i]) \n",
      "    ss_err = sum((y-x)**2 for y,x in zip(DailySim[i], DailyObs[i]))\n",
      "    nash[i] = 1 - (ss_err/ss_tot)\n",
      "    print \"[%s] = %.2f\" % (str(gage_id[i]), nash[i])"
     ],
     "language": "python",
     "metadata": {},
     "outputs": [
      {
       "output_type": "stream",
       "stream": "stdout",
       "text": [
        "Daily Nash:\n",
        "[MAKear55] = 0.88\n"
       ]
      }
     ],
     "prompt_number": 29
    },
    {
     "cell_type": "markdown",
     "metadata": {},
     "source": [
      "<font color='blue'>Compute **R2** between daily sim. and obs. </font>"
     ]
    },
    {
     "cell_type": "code",
     "collapsed": false,
     "input": [
      "print \"Daily R2:\"\n",
      "R2 = {}\n",
      "for i, n in enumerate(rbm_id):\n",
      "    print str(n), len(DailySim[i]), len(DailyObs[i])\n",
      "    gradient, intercept, r_value, p_value, std_err = stats.linregress(DailySim[i],DailyObs[i])\n",
      "    R2[i] = r_value ** 2\n",
      "    print \"[%s] = %.2f\" % (str(gage_id[i]), R2[i])"
     ],
     "language": "python",
     "metadata": {},
     "outputs": [
      {
       "output_type": "stream",
       "stream": "stdout",
       "text": [
        "Daily R2:\n",
        "111 437 437\n",
        "[MAKear55] = 0.92\n"
       ]
      }
     ],
     "prompt_number": 31
    },
    {
     "cell_type": "markdown",
     "metadata": {},
     "source": [
      "<font color='blue'>Compute **bias** between daily sim. and obs. </font>"
     ]
    },
    {
     "cell_type": "code",
     "collapsed": false,
     "input": [
      "print \"Daily Bias:\"\n",
      "Bias = {}\n",
      "for i, n in enumerate(rbm_id):\n",
      "    tot_num = len(DailySim[i])\n",
      "    Bias[i] = sum((y-x) for y,x in zip(DailySim[i], DailyObs[i]))/tot_num\n",
      "    print \"[%s] = %.2f\" % (str(gage_id[i]), Bias[i])"
     ],
     "language": "python",
     "metadata": {},
     "outputs": [
      {
       "output_type": "stream",
       "stream": "stdout",
       "text": [
        "Daily Bias:\n",
        "[MAKear55] = 0.71\n"
       ]
      }
     ],
     "prompt_number": 32
    },
    {
     "cell_type": "markdown",
     "metadata": {},
     "source": [
      "<font color='blue'>Compute **RMSE** between daily sim. and obs. </font>"
     ]
    },
    {
     "cell_type": "code",
     "collapsed": false,
     "input": [
      "print \"Daily RMSE:\"\n",
      "RMSE = {}\n",
      "for i, n in enumerate(rbm_id):\n",
      "    tot_num = len(DailySim[i])\n",
      "    RMSE[i] = (sum((y-x)**2 for y,x in zip(DailySim[i], DailyObs[i]))/tot_num) ** 0.5\n",
      "    print \"[%s] = %.2f\" % (str(gage_id[i]), RMSE[i])"
     ],
     "language": "python",
     "metadata": {},
     "outputs": [
      {
       "output_type": "stream",
       "stream": "stdout",
       "text": [
        "Daily RMSE:\n",
        "[MAKear55] = 2.12\n"
       ]
      }
     ],
     "prompt_number": 33
    },
    {
     "cell_type": "markdown",
     "metadata": {},
     "source": [
      "<font color='blue'>Plot sim. and obs. daily temperature</font>"
     ]
    },
    {
     "cell_type": "code",
     "collapsed": false,
     "input": [
      "fig=plt.figure(figsize=(12,3),dpi=400)\n",
      "jj = 1\n",
      "for i, n in enumerate(gage_id):\n",
      "    ax = plt.subplot(1, 2, jj)\n",
      "    jj = jj + 1\n",
      "    fig.subplots_adjust(hspace = 0.3, wspace = 0.15)\n",
      "    props = dict(boxstyle='round', facecolor='wheat', alpha=0.5)\n",
      "    ax.text(.02,.9, str(gage_id[i]), fontsize=14, color='purple', horizontalalignment='left', transform=ax.transAxes)\n",
      "    \n",
      "    textstr = 'Bias=%.1f$^\\circ$C\\nRMSE=%.1f$^\\circ$C\\nNash=%.2f   R$^{2}$=%.2f' % (Bias[i], RMSE[i], nash[i], R2[i])\n",
      "    ax.text(.02,.04, textstr, fontsize=12, horizontalalignment='left', transform=ax.transAxes, bbox=props)\n",
      "    \n",
      "    DailyObs[i].plot(label='Obs', color='grey', linewidth=2, style='-', alpha=0.8)\n",
      "    DailySim[i].plot(label='Sim', color='blue', linewidth=2, style='-', alpha=0.8)\n",
      "    ax.grid(True)  \n",
      "    \n",
      "    if (i == 0):\n",
      "        leg=ax.legend(loc='best', numpoints = 1)\n",
      "        leg.get_frame().set_alpha(0.5)\n",
      "    plt.ylabel('Temp. ($^{o}C$)', fontsize=12., labelpad=5)\n",
      "    \n",
      "    plt.ylim([0, 28])\n",
      "    \n",
      "    \n",
      "outfig = str(mainpath)+'figs\\\\baseline_daily_tmp.png'    \n",
      "#plt.savefig(str(outfig),dpi=300,format = 'png',transparent='True')"
     ],
     "language": "python",
     "metadata": {},
     "outputs": [
      {
       "metadata": {},
       "output_type": "display_data",
       "png": "[encoded data removed]",
       "text": [
        "<matplotlib.figure.Figure at 0xcc4a4a8>"
       ]
      }
     ],
     "prompt_number": 34
    },
    {
     "cell_type": "markdown",
     "metadata": {},
     "source": [
      "<font color='blue'>Plot monthly sim. and obs. temperature</font>"
     ]
    },
    {
     "cell_type": "code",
     "collapsed": false,
     "input": [
      "print range(6,11)\n",
      "print MonthlyObs[i]"
     ],
     "language": "python",
     "metadata": {},
     "outputs": [
      {
       "output_type": "stream",
       "stream": "stdout",
       "text": [
        "[6, 7, 8, 9, 10]\n",
        "1      1.327917\n",
        "2      0.636042\n",
        "3      1.015578\n",
        "4      5.787944\n",
        "5      9.156505\n",
        "6     12.840167\n",
        "7     16.468139\n",
        "8     16.075759\n",
        "9     13.220878\n",
        "10     9.727258\n",
        "11     4.968639\n",
        "12     1.117298\n",
        "dtype: float64\n"
       ]
      }
     ],
     "prompt_number": 35
    },
    {
     "cell_type": "code",
     "collapsed": false,
     "input": [
      "fig=plt.figure(figsize=(12,3),dpi=400)\n",
      "for i, n in enumerate(gage_id):\n",
      "    ax = plt.subplot(1, 2, i+1)\n",
      "    fig.subplots_adjust(hspace=0.3, wspace=0.15)\n",
      "    props = dict(boxstyle='round', facecolor='wheat', alpha=0.5)\n",
      "    ax.text(.02,.9, 'seg-'+str(rbm_id[i]), fontsize=14, color='purple', horizontalalignment='left', transform=ax.transAxes)\n",
      "    plt.plot(range(1, 13), MonthlyObs[i].values, color='grey', label='obs', linewidth=2.0, linestyle='-')\n",
      "    plt.plot(range(1, 13), MonthlySim[i].values, color='blue', label='sim', linewidth=2.0, linestyle='-')\n",
      "    \n",
      "    if (i==0 or i==2 or i==4 or i==6):\n",
      "        plt.ylabel('Temp. ($^{o}C$)', fontsize=12.)\n",
      "    \n",
      "    #plt.xlabel('month', fontsize=12.)\n",
      "    plt.xlim([1,12])\n",
      "    ax.xaxis.set_major_locator(ticker.FixedLocator(np.arange(1,13)))\n",
      "    ax.xaxis.set_major_formatter(ticker.FixedFormatter(['Jan','Feb','Mar','Apr','May','Jun','Jul','Aug','Sep','Oct','Nov','Dec']))    \n",
      "    grid(False)\n",
      "    if (i == 0):\n",
      "        ax.legend(loc='best')\n",
      "\n",
      "outfig = str(mainpath)+'figs\\\\baseline_monthly_tmp.png'    \n",
      "#plt.savefig(str(outfig),dpi=500,format = 'png',transparent='True')"
     ],
     "language": "python",
     "metadata": {},
     "outputs": [
      {
       "metadata": {},
       "output_type": "display_data",
       "png": "[encoded data removed]",
       "text": [
        "<matplotlib.figure.Figure at 0xcc31358>"
       ]
      }
     ],
     "prompt_number": 36
    },
    {
     "cell_type": "markdown",
     "metadata": {},
     "source": [
      "<font color='blue'>Compute **Nash** between sim. and obs. **monthly** flow </font>"
     ]
    },
    {
     "cell_type": "code",
     "collapsed": false,
     "input": [
      "print \"Monthly Nash:\"\n",
      "nash_month = {}\n",
      "for i, n in enumerate(gage_id):\n",
      "    sim_mean= sum(MonthlySim[i])/float(len(MonthlySim[i]))\n",
      "    obs_mean= sum(MonthlyObs[i])/float(len(MonthlyObs[i]))\n",
      "    ss_tot = sum((x-obs_mean)**2 for x in MonthlyObs[i]) \n",
      "    ss_err = sum((y-x)**2 for y,x in zip(MonthlySim[i], MonthlyObs[i]))\n",
      "    nash_month[i] = 1 - (ss_err/ss_tot)\n",
      "    print \"[%s] = %.2f\" % (str(gage_id[i]), nash_month[i])"
     ],
     "language": "python",
     "metadata": {},
     "outputs": [
      {
       "output_type": "stream",
       "stream": "stdout",
       "text": [
        "Monthly Nash:\n",
        "[MAKear55] = 0.92\n"
       ]
      }
     ],
     "prompt_number": 37
    }
   ],
   "metadata": {}
  }
 ]
}