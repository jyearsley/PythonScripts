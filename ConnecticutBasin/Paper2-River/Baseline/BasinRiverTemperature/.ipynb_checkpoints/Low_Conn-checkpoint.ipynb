{
 "metadata": {
  "name": "",
  "signature": "sha256:616dbfa0578df017a203075be8dd220ad1b1c571ed6057b902448bdd5f2fe797"
 },
 "nbformat": 3,
 "nbformat_minor": 0,
 "worksheets": [
  {
   "cells": [
    {
     "cell_type": "markdown",
     "metadata": {},
     "source": [
      "###This notebook includes Python scripts for plotting the baseline sim. vs obs. TEMPERATURE in Black_Ottauquechee with all station data available."
     ]
    },
    {
     "cell_type": "code",
     "collapsed": false,
     "input": [
      "%pylab inline"
     ],
     "language": "python",
     "metadata": {},
     "outputs": [
      {
       "output_type": "stream",
       "stream": "stdout",
       "text": [
        "Populating the interactive namespace from numpy and matplotlib\n"
       ]
      },
      {
       "output_type": "stream",
       "stream": "stderr",
       "text": [
        "WARNING: pylab import has clobbered these variables: ['norm', 'gradient']\n",
        "`%matplotlib` prevents importing * from pylab and numpy\n"
       ]
      }
     ],
     "prompt_number": 436
    },
    {
     "cell_type": "code",
     "collapsed": false,
     "input": [
      "# Import all needed libraries \n",
      "import sys, os, datetime, time\n",
      "import collections\n",
      "import numpy as np\n",
      "import pandas as pd\n",
      "import numpy.ma as ma\n",
      "import math\n",
      "import matplotlib.dates as dates\n",
      "import matplotlib.ticker as ticker\n",
      "import matplotlib.pyplot as plt\n",
      "from matplotlib.backends.backend_pdf import PdfPages\n",
      "from scipy.stats import norm\n",
      "from scipy import stats\n",
      "\n",
      "import os\n",
      "os.getcwd() \n",
      "os.chdir(\"D:\\\\Dropbox\\\\Python_Scripts\")\n",
      "os.getcwd()"
     ],
     "language": "python",
     "metadata": {},
     "outputs": [
      {
       "metadata": {},
       "output_type": "pyout",
       "prompt_number": 437,
       "text": [
        "'D:\\\\Dropbox\\\\Python_Scripts'"
       ]
      }
     ],
     "prompt_number": 437
    },
    {
     "cell_type": "code",
     "collapsed": false,
     "input": [
      "import matplotlib as mpl\n",
      "mpl.rcParams['lines.linewidth'] = 2\n",
      "font = {'family' : 'sans-serif',\n",
      "        'sans-serif' : 'Verdana',\n",
      "        'weight' : 'medium',\n",
      "        'size'   : '12'}\n",
      "params1 = {\n",
      "          'axes.labelsize': 12,\n",
      "          'text.fontsize': 12,\n",
      "          'xtick.labelsize': 12,\n",
      "          'xtick.direction': 'out',\n",
      "          'ytick.labelsize': 12,\n",
      "          'legend.pad': 0.01,     # empty space around the legend box\n",
      "          'legend.fontsize': 12,\n",
      "          'legend.labelspacing':0.25,\n",
      "          'font.size': 12,\n",
      "          'font.style': 'normal',\n",
      "          'axes.style': 'normal',\n",
      "          'xtick.labelstyle': 'normal',\n",
      "          }\n",
      "mpl.RcParams.update(params1)\n",
      "mpl.rc('font', **font)\n",
      "plt.rc(\"xtick\", direction=\"out\")\n",
      "plt.rc(\"ytick\", direction=\"out\")\n",
      "plt.rc('legend',**{'fontsize':12})"
     ],
     "language": "python",
     "metadata": {},
     "outputs": [],
     "prompt_number": 438
    },
    {
     "cell_type": "markdown",
     "metadata": {},
     "source": [
      "<font color='blue'>Read the sim and obs temperature files</font>"
     ]
    },
    {
     "cell_type": "code",
     "collapsed": false,
     "input": [
      "basin_name = \"Low_Conn\"\n",
      "gage_id = ['LConn16567','LConn16271']\n",
      "rbm_id = ['166','250']\n",
      "mainpath = \"D:\\\\Box Sync\\\\ConnecticutPaper2\\\\BasinRiverTemperature\\\\\"+str(basin_name)+\"\\\\\"\n",
      "\n",
      "simtmppath = {}\n",
      "obstmppath = {}\n",
      "sim_tmp = collections.defaultdict(list)\n",
      "obs_tmp = collections.defaultdict(list)\n",
      "sim_tmp_date = collections.defaultdict(list)\n",
      "obs_tmp_date = collections.defaultdict(list)\n",
      "\n",
      "# Enter file path for sim. and obs. flow files\n",
      "for i, n in enumerate(rbm_id):\n",
      "    simtmppath[n] = str(mainpath)+\"sim\\\\baseline\\\\\"+\"seg\"+str(n)+\".temp.txt\"\n",
      "for i, n in enumerate(gage_id):\n",
      "    obstmppath[n] = str(mainpath)+\"obs\\\\\"+str(n)+\".txt\"\n",
      "    \n",
      "\n",
      "# Read flow sim and obs dates &  data\n",
      "for i, n in enumerate(gage_id):\n",
      "    obs_tmp_date[i] = np.genfromtxt(obstmppath[n], dtype=str, skiprows=0, usecols=[0])\n",
      "    obs_tmp[i] = np.genfromtxt(obstmppath[n], dtype=float, skiprows=0, usecols=[1])\n",
      "for i, n in enumerate(rbm_id):\n",
      "    sim_tmp[i] = np.genfromtxt(simtmppath[n], dtype=float, skiprows=0, usecols=[1])\n",
      "    sim_tmp_date[i] = np.genfromtxt(simtmppath[n], dtype=str, skiprows=0, usecols=[0])\n",
      "   "
     ],
     "language": "python",
     "metadata": {},
     "outputs": [],
     "prompt_number": 439
    },
    {
     "cell_type": "markdown",
     "metadata": {},
     "source": [
      "<font color='blue'>Average the hourly or 3-hourly simulated temperature date into daily values.</font>"
     ]
    },
    {
     "cell_type": "code",
     "collapsed": false,
     "input": [
      "simdate = collections.defaultdict(list)\n",
      "obsdate = collections.defaultdict(list)\n",
      "DailyPrecip = {}\n",
      "DailySim = {}\n",
      "DailyObs = {}\n",
      "MonthlySim = {}\n",
      "MonthlyObs = {}\n",
      "\n",
      "for i, n in enumerate(gage_id):\n",
      "    for j in range(len(obs_tmp_date[i])):\n",
      "        obsdate[i].append(datetime.datetime.strptime(obs_tmp_date[i][j],'%m/%d/%Y-%H:%M:%S'))\n",
      "for i, n in enumerate(rbm_id):\n",
      "    for j in range(len(sim_tmp_date[i])):\n",
      "        simdate[i].append(datetime.datetime.strptime(sim_tmp_date[i][j],'%m/%d/%Y-%H:%M'))\n",
      "\n",
      "# daily mean flow    \n",
      "for i,n in enumerate(rbm_id):\n",
      "    DailySim[i] = pd.Series(sim_tmp[i], index=simdate[i]).resample('D', how='mean')\n",
      "for i,n in enumerate(gage_id):\n",
      "    DailyObs[i] = pd.Series(obs_tmp[i], index=obsdate[i]).resample('D', how='mean')"
     ],
     "language": "python",
     "metadata": {},
     "outputs": [],
     "prompt_number": 440
    },
    {
     "cell_type": "markdown",
     "metadata": {},
     "source": [
      "<font color='blue'> **Truncate** the obs. and sim. flow files based on dates.</font>"
     ]
    },
    {
     "cell_type": "code",
     "collapsed": false,
     "input": [
      "startdate1 = datetime.datetime(2005,6,9) \n",
      "enddate1 = datetime.datetime(2006,4,19)\n",
      "\n",
      "startdate3 = datetime.datetime(2010,5,1) \n",
      "enddate3 = datetime.datetime(2010,9,13)\n",
      "\n",
      "startdate4 = datetime.datetime(2001,7,1) \n",
      "enddate4 = datetime.datetime(2004,7,1)\n",
      "\n",
      "startdate5 = datetime.datetime(2006,1,1) \n",
      "enddate5 = datetime.datetime(2007,3,11)\n",
      "\n",
      "startdate7 = datetime.datetime(2010,5,2) \n",
      "enddate7 = datetime.datetime(2010,9,12)\n",
      "\n",
      "# Truncate the data into desired time frame\n",
      "for i, n in enumerate(gage_id):\n",
      "    if (n==\"LConn14235\"):\n",
      "        DailySim[i] = DailySim[i].truncate(before=startdate1, after=enddate1)\n",
      "        DailyObs[i] = DailyObs[i].truncate(before=startdate1, after=enddate1)\n",
      "    elif (n==\"LConn16271\"):\n",
      "        DailySim[i] = DailySim[i].truncate(before=startdate3, after=enddate3)\n",
      "        DailyObs[i] = DailyObs[i].truncate(before=startdate3, after=enddate3)\n",
      "    elif (n==\"LConn14237\"):\n",
      "        DailySim[i] = DailySim[i].truncate(before=startdate4, after=enddate4)\n",
      "        DailyObs[i] = DailyObs[i].truncate(before=startdate4, after=enddate4)\n",
      "    elif (n==\"LConn15047\"):\n",
      "        DailySim[i] = DailySim[i].truncate(before=startdate5, after=enddate5)\n",
      "        DailyObs[i] = DailyObs[i].truncate(before=startdate5, after=enddate5)\n",
      "    else:\n",
      "        DailySim[i] = DailySim[i].truncate(before=startdate7, after=enddate7)\n",
      "        DailyObs[i] = DailyObs[i].truncate(before=startdate7, after=enddate7)"
     ],
     "language": "python",
     "metadata": {},
     "outputs": [],
     "prompt_number": 441
    },
    {
     "cell_type": "code",
     "collapsed": false,
     "input": [
      "# monthly mean flow for each year\n",
      "for i,n in enumerate(rbm_id):\n",
      "    MonthlySim[i] = DailySim[i].resample('M', how='mean')\n",
      "    MonthlyObs[i] = DailyObs[i].resample('M', how='mean')\n",
      "    \n",
      "# average monthly streamflow over the period\n",
      "for i,n in enumerate(rbm_id):\n",
      "    MonthlySim[i] = MonthlySim[i].groupby(lambda x: x.month).mean()\n",
      "for i,n in enumerate(gage_id):\n",
      "    MonthlyObs[i] = MonthlyObs[i].groupby(lambda x: x.month).mean()"
     ],
     "language": "python",
     "metadata": {},
     "outputs": [],
     "prompt_number": 442
    },
    {
     "cell_type": "markdown",
     "metadata": {},
     "source": [
      "<font color='blue'>Compute **Nash** between daily sim. and obs.</font>"
     ]
    },
    {
     "cell_type": "code",
     "collapsed": false,
     "input": [
      "print \"Daily Nash:\"\n",
      "nash = {}\n",
      "for i, n in enumerate(rbm_id):\n",
      "    sim_mean= sum(DailySim[i])/float(len(DailySim[i]))\n",
      "    obs_mean= sum(DailyObs[i])/float(len(DailyObs[i]))\n",
      "    ss_tot = sum((x-obs_mean)**2 for x in DailyObs[i]) \n",
      "    ss_err = sum((y-x)**2 for y,x in zip(DailySim[i], DailyObs[i]))\n",
      "    nash[i] = 1 - (ss_err/ss_tot)\n",
      "    print \"[%s] = %.2f\" % (str(gage_id[i]), nash[i])"
     ],
     "language": "python",
     "metadata": {},
     "outputs": [
      {
       "output_type": "stream",
       "stream": "stdout",
       "text": [
        "Daily Nash:\n",
        "[LConn16567] = 0.77\n",
        "[LConn16271] = 0.73\n"
       ]
      }
     ],
     "prompt_number": 443
    },
    {
     "cell_type": "markdown",
     "metadata": {},
     "source": [
      "<font color='blue'>Compute **R2** between daily sim. and obs. </font>"
     ]
    },
    {
     "cell_type": "code",
     "collapsed": false,
     "input": [
      "DailySim[1].to_csv(str(mainpath)+'sim.txt',sep='\\t')\n",
      "DailyObs[1].to_csv(str(mainpath)+'obs.txt',sep='\\t')"
     ],
     "language": "python",
     "metadata": {},
     "outputs": [],
     "prompt_number": 444
    },
    {
     "cell_type": "code",
     "collapsed": false,
     "input": [
      "print \"Daily R2:\"\n",
      "R2 = {}\n",
      "for i, n in enumerate(rbm_id):\n",
      "    print str(n), len(DailySim[i]), len(DailyObs[i])\n",
      "    gradient, intercept, r_value, p_value, std_err = stats.linregress(DailySim[i],DailyObs[i])\n",
      "    R2[i] = r_value ** 2\n",
      "    print \"[%s] = %.2f\" % (str(gage_id[i]), R2[i])"
     ],
     "language": "python",
     "metadata": {},
     "outputs": [
      {
       "output_type": "stream",
       "stream": "stdout",
       "text": [
        "Daily R2:\n",
        "166 134 134\n",
        "[LConn16567] = 0.87\n",
        "250 136 136\n",
        "[LConn16271] = 0.85\n"
       ]
      }
     ],
     "prompt_number": 445
    },
    {
     "cell_type": "markdown",
     "metadata": {},
     "source": [
      "<font color='blue'>Compute **bias** between daily sim. and obs. </font>"
     ]
    },
    {
     "cell_type": "code",
     "collapsed": false,
     "input": [
      "print \"Daily Bias:\"\n",
      "Bias = {}\n",
      "for i, n in enumerate(rbm_id):\n",
      "    tot_num = len(DailySim[i])\n",
      "    Bias[i] = sum((y-x) for y,x in zip(DailySim[i], DailyObs[i]))/tot_num\n",
      "    print \"[%s] = %.2f\" % (str(gage_id[i]), Bias[i])"
     ],
     "language": "python",
     "metadata": {},
     "outputs": [
      {
       "output_type": "stream",
       "stream": "stdout",
       "text": [
        "Daily Bias:\n",
        "[LConn16567] = -0.01\n",
        "[LConn16271] = -0.95\n"
       ]
      }
     ],
     "prompt_number": 446
    },
    {
     "cell_type": "markdown",
     "metadata": {},
     "source": [
      "<font color='blue'>Compute **RMSE** between daily sim. and obs. </font>"
     ]
    },
    {
     "cell_type": "code",
     "collapsed": false,
     "input": [
      "print \"Daily RMSE:\"\n",
      "RMSE = {}\n",
      "for i, n in enumerate(rbm_id):\n",
      "    tot_num = len(DailySim[i])\n",
      "    RMSE[i] = (sum((y-x)**2 for y,x in zip(DailySim[i], DailyObs[i]))/tot_num) ** 0.5\n",
      "    print \"[%s] = %.2f\" % (str(gage_id[i]), RMSE[i])"
     ],
     "language": "python",
     "metadata": {},
     "outputs": [
      {
       "output_type": "stream",
       "stream": "stdout",
       "text": [
        "Daily RMSE:\n",
        "[LConn16567] = 1.35\n",
        "[LConn16271] = 1.60\n"
       ]
      }
     ],
     "prompt_number": 447
    },
    {
     "cell_type": "markdown",
     "metadata": {},
     "source": [
      "<font color='blue'>Plot sim. and obs. daily temperature</font>"
     ]
    },
    {
     "cell_type": "code",
     "collapsed": false,
     "input": [
      "fig=plt.figure(figsize=(12,3),dpi=400)\n",
      "jj = 1\n",
      "for i, n in enumerate(gage_id):\n",
      "    ax = plt.subplot(1, 2, jj)\n",
      "    jj = jj + 1\n",
      "    fig.subplots_adjust(hspace = 0.3, wspace = 0.15)\n",
      "    props = dict(boxstyle='round', facecolor='wheat', alpha=0.5)\n",
      "    ax.text(.02,.9, str(gage_id[i]), fontsize=14, color='purple', horizontalalignment='left', transform=ax.transAxes)\n",
      "    \n",
      "    textstr = 'Bias=%.1f$^\\circ$C\\nRMSE=%.1f$^\\circ$C\\nNash=%.2f   R$^{2}$=%.2f' % (Bias[i], RMSE[i], nash[i], R2[i])\n",
      "    ax.text(.02,.04, textstr, fontsize=12, horizontalalignment='left', transform=ax.transAxes, bbox=props)\n",
      "    \n",
      "    DailyObs[i].plot(label='Obs', color='grey', linewidth=2, style='-', alpha=0.8)\n",
      "    DailySim[i].plot(label='Sim', color='blue', linewidth=2, style='-', alpha=0.8)\n",
      "    ax.grid(True)  \n",
      "    \n",
      "    if (i == 0):\n",
      "        leg=ax.legend(loc=[0.75,0.05], numpoints = 1)\n",
      "        leg.get_frame().set_alpha(0.5)\n",
      "    plt.ylabel('Temp. ($^{o}C$)', fontsize=12., labelpad=5)\n",
      "    \n",
      "    plt.ylim([0, 28])\n",
      "    \n",
      "    \n",
      "outfig = str(mainpath)+'figs\\\\baseline_daily_tmp.png'    \n",
      "#plt.savefig(str(outfig),dpi=300,format = 'png',transparent='True')"
     ],
     "language": "python",
     "metadata": {},
     "outputs": [
      {
       "metadata": {},
       "output_type": "display_data",
       "png": "[encoded data removed]",
       "text": [
        "<matplotlib.figure.Figure at 0xc7537b8>"
       ]
      }
     ],
     "prompt_number": 448
    },
    {
     "cell_type": "markdown",
     "metadata": {},
     "source": [
      "<font color='blue'>Plot monthly sim. and obs. temperature</font>"
     ]
    },
    {
     "cell_type": "code",
     "collapsed": false,
     "input": [
      "print range(6,11)\n",
      "for i, n in enumerate(gage_id):\n",
      "    print MonthlyObs[i]"
     ],
     "language": "python",
     "metadata": {},
     "outputs": [
      {
       "output_type": "stream",
       "stream": "stdout",
       "text": [
        "[6, 7, 8, 9, 10]\n",
        "5    14.062722\n",
        "6    17.208194\n",
        "7    19.682876\n",
        "8    18.346868\n",
        "9    17.377083\n",
        "dtype: float64\n",
        "5    12.789059\n",
        "6    16.423699\n",
        "7    19.556323\n",
        "8    18.709254\n",
        "9    17.464254\n",
        "dtype: float64\n"
       ]
      }
     ],
     "prompt_number": 449
    },
    {
     "cell_type": "code",
     "collapsed": false,
     "input": [
      "fig=plt.figure(figsize=(12,3),dpi=400)\n",
      "for i, n in enumerate(gage_id):\n",
      "    ax = plt.subplot(1, 2, i+1)\n",
      "    fig.subplots_adjust(hspace = 0.3, wspace = 0.15)\n",
      "    props = dict(boxstyle='round', facecolor='wheat', alpha=0.5)\n",
      "    ax.text(.02,.9, 'seg-'+str(rbm_id[i]), fontsize=14, color='purple', horizontalalignment='left', transform=ax.transAxes)\n",
      "    \n",
      "    plt.plot(range(5, 10), MonthlyObs[i].values, color='grey', label='obs', linewidth=2.0, linestyle='-')\n",
      "    plt.plot(range(5, 10), MonthlySim[i].values, color='blue', label='sim', linewidth=2.0, linestyle='-')\n",
      "    ax.xaxis.set_major_locator(ticker.FixedLocator(np.arange(5,10)))\n",
      "    plt.xlim([5,9])\n",
      "    ax.xaxis.set_major_formatter(ticker.FixedFormatter(['May','Jun','Jul','Aug','Sep']))\n",
      "    \n",
      "    if (i==0 or i==2 or i==4 or i==6):\n",
      "        plt.ylabel('Temp. ($^{o}C$)', fontsize=12.)\n",
      "    \n",
      "    \n",
      "    grid(False)\n",
      "    if (i == 0):\n",
      "        ax.legend(loc='best', bbox_to_anchor=(1, 1))\n",
      "\n",
      "outfig = str(mainpath)+'figs\\\\baseline_monthly_tmp.png'    \n",
      "#plt.savefig(str(outfig),dpi=500,format = 'png',transparent='True')"
     ],
     "language": "python",
     "metadata": {},
     "outputs": [
      {
       "metadata": {},
       "output_type": "display_data",
       "png": "[encoded data removed]",
       "text": [
        "<matplotlib.figure.Figure at 0x1873f438>"
       ]
      }
     ],
     "prompt_number": 450
    },
    {
     "cell_type": "markdown",
     "metadata": {},
     "source": [
      "<font color='blue'>Compute **Nash** between sim. and obs. **monthly** flow </font>"
     ]
    },
    {
     "cell_type": "code",
     "collapsed": false,
     "input": [
      "print \"Monthly Nash:\"\n",
      "nash_month = {}\n",
      "for i, n in enumerate(gage_id):\n",
      "    sim_mean= sum(MonthlySim[i])/float(len(MonthlySim[i]))\n",
      "    obs_mean= sum(MonthlyObs[i])/float(len(MonthlyObs[i]))\n",
      "    ss_tot = sum((x-obs_mean)**2 for x in MonthlyObs[i]) \n",
      "    ss_err = sum((y-x)**2 for y,x in zip(MonthlySim[i], MonthlyObs[i]))\n",
      "    nash_month[i] = 1 - (ss_err/ss_tot)\n",
      "    print \"[%s] = %.2f\" % (str(gage_id[i]), nash_month[i])"
     ],
     "language": "python",
     "metadata": {},
     "outputs": [
      {
       "output_type": "stream",
       "stream": "stdout",
       "text": [
        "Monthly Nash:\n",
        "[LConn16567] = 0.99\n",
        "[LConn16271] = 0.76\n"
       ]
      }
     ],
     "prompt_number": 451
    },
    {
     "cell_type": "code",
     "collapsed": false,
     "input": [],
     "language": "python",
     "metadata": {},
     "outputs": [],
     "prompt_number": 451
    }
   ],
   "metadata": {}
  }
 ]
}