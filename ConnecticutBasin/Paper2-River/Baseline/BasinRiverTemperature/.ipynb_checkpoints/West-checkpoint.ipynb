{
 "metadata": {
  "name": "",
  "signature": "sha256:5accd02c25c4754a24e393c27ee7bccdb112f75275fa383d7b70226329e78cee"
 },
 "nbformat": 3,
 "nbformat_minor": 0,
 "worksheets": [
  {
   "cells": [
    {
     "cell_type": "markdown",
     "metadata": {},
     "source": [
      "###This notebook includes Python scripts for plotting the baseline sim. vs obs. TEMPERATURE in Black_Ottauquechee with all station data available."
     ]
    },
    {
     "cell_type": "code",
     "collapsed": false,
     "input": [
      "%pylab inline"
     ],
     "language": "python",
     "metadata": {},
     "outputs": [
      {
       "output_type": "stream",
       "stream": "stdout",
       "text": [
        "Populating the interactive namespace from numpy and matplotlib\n"
       ]
      },
      {
       "output_type": "stream",
       "stream": "stderr",
       "text": [
        "WARNING: pylab import has clobbered these variables: ['norm', 'gradient']\n",
        "`%matplotlib` prevents importing * from pylab and numpy\n"
       ]
      }
     ],
     "prompt_number": 37
    },
    {
     "cell_type": "code",
     "collapsed": false,
     "input": [
      "# Import all needed libraries \n",
      "import sys, os, datetime, time\n",
      "import collections\n",
      "import numpy as np\n",
      "import pandas as pd\n",
      "import numpy.ma as ma\n",
      "import math\n",
      "import matplotlib.dates as dates\n",
      "import matplotlib.ticker as ticker\n",
      "import matplotlib.pyplot as plt\n",
      "from matplotlib.backends.backend_pdf import PdfPages\n",
      "from scipy.stats import norm\n",
      "from scipy import stats\n",
      "\n",
      "import os\n",
      "os.getcwd() \n",
      "os.chdir(\"D:\\\\Dropbox\\\\Python_Scripts\")\n",
      "os.getcwd()"
     ],
     "language": "python",
     "metadata": {},
     "outputs": [
      {
       "metadata": {},
       "output_type": "pyout",
       "prompt_number": 38,
       "text": [
        "'D:\\\\Dropbox\\\\Python_Scripts'"
       ]
      }
     ],
     "prompt_number": 38
    },
    {
     "cell_type": "code",
     "collapsed": false,
     "input": [
      "import matplotlib as mpl\n",
      "mpl.rcParams['lines.linewidth'] = 2\n",
      "font = {'family' : 'sans-serif',\n",
      "        'sans-serif' : 'Verdana',\n",
      "        'weight' : 'medium',\n",
      "        'size'   : '12'}\n",
      "params1 = {\n",
      "          'axes.labelsize': 12,\n",
      "          'text.fontsize': 12,\n",
      "          'xtick.labelsize': 12,\n",
      "          'xtick.direction': 'out',\n",
      "          'ytick.labelsize': 12,\n",
      "          'legend.pad': 0.01,     # empty space around the legend box\n",
      "          'legend.fontsize': 12,\n",
      "          'legend.labelspacing':0.25,\n",
      "          'font.size': 12,\n",
      "          'font.style': 'normal',\n",
      "          'axes.style': 'normal',\n",
      "          'xtick.labelstyle': 'normal',\n",
      "          }\n",
      "mpl.RcParams.update(params1)\n",
      "mpl.rc('font', **font)\n",
      "plt.rc(\"xtick\", direction=\"out\")\n",
      "plt.rc(\"ytick\", direction=\"out\")\n",
      "plt.rc('legend',**{'fontsize':12})"
     ],
     "language": "python",
     "metadata": {},
     "outputs": [],
     "prompt_number": 39
    },
    {
     "cell_type": "markdown",
     "metadata": {},
     "source": [
      "<font color='blue'>Read the sim and obs temperature files</font>"
     ]
    },
    {
     "cell_type": "code",
     "collapsed": false,
     "input": [
      "basin_name = \"West\"\n",
      "gage_id = ['ColdDown','ColdUp']\n",
      "rbm_id = ['401','394']\n",
      "mainpath = \"D:\\\\Box Sync\\\\ConnecticutPaper2\\\\BasinRiverTemperature\\\\\"+str(basin_name)+\"\\\\\"\n",
      "\n",
      "simtmppath = {}\n",
      "obstmppath = {}\n",
      "sim_tmp = collections.defaultdict(list)\n",
      "obs_tmp = collections.defaultdict(list)\n",
      "sim_tmp_date = collections.defaultdict(list)\n",
      "obs_tmp_date = collections.defaultdict(list)\n",
      "\n",
      "# Enter file path for sim. and obs. flow files\n",
      "for i, n in enumerate(rbm_id):\n",
      "    simtmppath[n] = str(mainpath)+\"sim\\\\baseline\\\\\"+\"seg\"+str(n)+\".temp.txt\"\n",
      "for i, n in enumerate(gage_id):\n",
      "    obstmppath[n] = str(mainpath)+\"obs\\\\\"+str(n)+\".txt\"\n",
      "    \n",
      "\n",
      "# Read flow sim and obs dates &  data\n",
      "for i, n in enumerate(gage_id):\n",
      "    obs_tmp_date[i] = np.genfromtxt(obstmppath[n], dtype=str, skiprows=0, usecols=[0])\n",
      "    obs_tmp[i] = np.genfromtxt(obstmppath[n], dtype=float, skiprows=0, usecols=[1])\n",
      "for i, n in enumerate(rbm_id):\n",
      "    sim_tmp[i] = np.genfromtxt(simtmppath[n], dtype=float, skiprows=0, usecols=[1])\n",
      "    sim_tmp_date[i] = np.genfromtxt(simtmppath[n], dtype=str, skiprows=0, usecols=[0])\n",
      "   "
     ],
     "language": "python",
     "metadata": {},
     "outputs": [],
     "prompt_number": 40
    },
    {
     "cell_type": "markdown",
     "metadata": {},
     "source": [
      "<font color='blue'>Average the hourly or 3-hourly simulated temperature date into daily values.</font>"
     ]
    },
    {
     "cell_type": "code",
     "collapsed": false,
     "input": [
      "simdate = collections.defaultdict(list)\n",
      "obsdate = collections.defaultdict(list)\n",
      "DailyPrecip = {}\n",
      "DailySim = {}\n",
      "DailyObs = {}\n",
      "MonthlySim = {}\n",
      "MonthlyObs = {}\n",
      "\n",
      "for i, n in enumerate(gage_id):\n",
      "    for j in range(len(obs_tmp_date[i])):\n",
      "        obsdate[i].append(datetime.datetime.strptime(obs_tmp_date[i][j],'%m/%d/%Y-%H:%M:%S'))\n",
      "for i, n in enumerate(rbm_id):\n",
      "    for j in range(len(sim_tmp_date[i])):\n",
      "        simdate[i].append(datetime.datetime.strptime(sim_tmp_date[i][j],'%m/%d/%Y-%H:%M'))\n",
      "\n",
      "# daily mean flow    \n",
      "for i,n in enumerate(rbm_id):\n",
      "    DailySim[i] = pd.Series(sim_tmp[i], index=simdate[i]).resample('D', how='mean')\n",
      "for i,n in enumerate(gage_id):\n",
      "    DailyObs[i] = pd.Series(obs_tmp[i], index=obsdate[i]).resample('D', how='mean')"
     ],
     "language": "python",
     "metadata": {},
     "outputs": [],
     "prompt_number": 41
    },
    {
     "cell_type": "markdown",
     "metadata": {},
     "source": [
      "<font color='blue'> **Truncate** the obs. and sim. flow files based on dates.</font>"
     ]
    },
    {
     "cell_type": "code",
     "collapsed": false,
     "input": [
      "startdate1 = datetime.datetime(1999,6,1) \n",
      "enddate1 = datetime.datetime(1999,9,7)\n",
      "\n",
      "startdate3 = datetime.datetime(2001,5,18) \n",
      "enddate3 = datetime.datetime(2001,8,30)\n",
      "\n",
      "startdate4 = datetime.datetime(2002,6,8) \n",
      "enddate4 = datetime.datetime(2002,9,14)\n",
      "\n",
      "startdate5 = datetime.datetime(2003,6,1) \n",
      "enddate5 = datetime.datetime(2003,9,14)\n",
      "\n",
      "startdate6 = datetime.datetime(2004,6,1) \n",
      "enddate6 = datetime.datetime(2004,9,14)\n",
      "\n",
      "startdate2 = datetime.datetime(2005,6,1) \n",
      "enddate2 = datetime.datetime(2005,9,14)\n",
      "\n",
      "startdate7 = datetime.datetime(2005,6,7) \n",
      "enddate7 = datetime.datetime(2005,9,27)\n",
      "\n",
      "# Truncate the data into desired time frame\n",
      "for i, n in enumerate(gage_id):\n",
      "    if (n==\"ColdDown\"):\n",
      "        DailySim[i] = DailySim[i].truncate(before=startdate3, after=enddate3)\n",
      "        DailyObs[i] = DailyObs[i].truncate(before=startdate3, after=enddate3)\n",
      "    elif (n==\"ColdUp\"):\n",
      "        frame = [DailySim[i].truncate(before=startdate4, after=enddate4), DailySim[i].truncate(before=startdate5, after=enddate5), DailySim[i].truncate(before=startdate6, after=enddate6), DailySim[i].truncate(before=startdate2, after=enddate2)]\n",
      "        DailySim[i] = pd.concat(frame)\n",
      "        frame = [DailyObs[i].truncate(before=startdate4, after=enddate4), DailyObs[i].truncate(before=startdate5, after=enddate5), DailyObs[i].truncate(before=startdate6, after=enddate6), DailyObs[i].truncate(before=startdate2, after=enddate2)]\n",
      "        DailyObs[i] = pd.concat(frame)\n",
      "    else:\n",
      "        DailySim[i] = DailySim[i].truncate(before=startdate7, after=enddate7)\n",
      "        DailyObs[i] = DailyObs[i].truncate(before=startdate7, after=enddate7)"
     ],
     "language": "python",
     "metadata": {},
     "outputs": [],
     "prompt_number": 42
    },
    {
     "cell_type": "code",
     "collapsed": false,
     "input": [
      "# monthly mean flow for each year\n",
      "for i,n in enumerate(rbm_id):\n",
      "    MonthlySim[i] = DailySim[i].resample('M', how='mean')\n",
      "    MonthlyObs[i] = DailyObs[i].resample('M', how='mean')\n",
      "    \n",
      "# average monthly streamflow over the period\n",
      "for i,n in enumerate(rbm_id):\n",
      "    MonthlySim[i] = MonthlySim[i].groupby(lambda x: x.month).mean()\n",
      "for i,n in enumerate(gage_id):\n",
      "    MonthlyObs[i] = MonthlyObs[i].groupby(lambda x: x.month).mean()"
     ],
     "language": "python",
     "metadata": {},
     "outputs": [],
     "prompt_number": 43
    },
    {
     "cell_type": "markdown",
     "metadata": {},
     "source": [
      "<font color='blue'>Compute **Nash** between daily sim. and obs.</font>"
     ]
    },
    {
     "cell_type": "code",
     "collapsed": false,
     "input": [
      "print \"Daily Nash:\"\n",
      "nash = {}\n",
      "for i, n in enumerate(rbm_id):\n",
      "    sim_mean= sum(DailySim[i])/float(len(DailySim[i]))\n",
      "    obs_mean= sum(DailyObs[i])/float(len(DailyObs[i]))\n",
      "    ss_tot = sum((x-obs_mean)**2 for x in DailyObs[i]) \n",
      "    ss_err = sum((y-x)**2 for y,x in zip(DailySim[i], DailyObs[i]))\n",
      "    nash[i] = 1 - (ss_err/ss_tot)\n",
      "    print \"[%s] = %.2f\" % (str(gage_id[i]), nash[i])"
     ],
     "language": "python",
     "metadata": {},
     "outputs": [
      {
       "output_type": "stream",
       "stream": "stdout",
       "text": [
        "Daily Nash:\n",
        "[ColdDown] = 0.54\n",
        "[ColdUp] = 0.58\n"
       ]
      }
     ],
     "prompt_number": 44
    },
    {
     "cell_type": "markdown",
     "metadata": {},
     "source": [
      "<font color='blue'>Compute **R2** between daily sim. and obs. </font>"
     ]
    },
    {
     "cell_type": "code",
     "collapsed": false,
     "input": [
      "print \"Daily R2:\"\n",
      "R2 = {}\n",
      "for i, n in enumerate(rbm_id):\n",
      "    print str(n), len(DailySim[i]), len(DailyObs[i])\n",
      "    gradient, intercept, r_value, p_value, std_err = stats.linregress(DailySim[i],DailyObs[i])\n",
      "    R2[i] = r_value ** 2\n",
      "    print \"[%s] = %.2f\" % (str(gage_id[i]), R2[i])"
     ],
     "language": "python",
     "metadata": {},
     "outputs": [
      {
       "output_type": "stream",
       "stream": "stdout",
       "text": [
        "Daily R2:\n",
        "401 105 105\n",
        "[ColdDown] = 0.70\n",
        "394 417 417\n",
        "[ColdUp] = 0.72\n"
       ]
      }
     ],
     "prompt_number": 45
    },
    {
     "cell_type": "markdown",
     "metadata": {},
     "source": [
      "<font color='blue'>Compute **bias** between daily sim. and obs. </font>"
     ]
    },
    {
     "cell_type": "code",
     "collapsed": false,
     "input": [
      "print \"Daily Bias:\"\n",
      "Bias = {}\n",
      "for i, n in enumerate(rbm_id):\n",
      "    tot_num = len(DailySim[i])\n",
      "    Bias[i] = sum((y-x) for y,x in zip(DailySim[i], DailyObs[i]))/tot_num\n",
      "    print \"[%s] = %.2f\" % (str(gage_id[i]), Bias[i])"
     ],
     "language": "python",
     "metadata": {},
     "outputs": [
      {
       "output_type": "stream",
       "stream": "stdout",
       "text": [
        "Daily Bias:\n",
        "[ColdDown] = -1.07\n",
        "[ColdUp] = -0.20\n"
       ]
      }
     ],
     "prompt_number": 46
    },
    {
     "cell_type": "markdown",
     "metadata": {},
     "source": [
      "<font color='blue'>Compute **RMSE** between daily sim. and obs. </font>"
     ]
    },
    {
     "cell_type": "code",
     "collapsed": false,
     "input": [
      "print \"Daily RMSE:\"\n",
      "RMSE = {}\n",
      "for i, n in enumerate(rbm_id):\n",
      "    tot_num = len(DailySim[i])\n",
      "    RMSE[i] = (sum((y-x)**2 for y,x in zip(DailySim[i], DailyObs[i]))/tot_num) ** 0.5\n",
      "    print \"[%s] = %.2f\" % (str(gage_id[i]), RMSE[i])"
     ],
     "language": "python",
     "metadata": {},
     "outputs": [
      {
       "output_type": "stream",
       "stream": "stdout",
       "text": [
        "Daily RMSE:\n",
        "[ColdDown] = 2.34\n",
        "[ColdUp] = 1.56\n"
       ]
      }
     ],
     "prompt_number": 47
    },
    {
     "cell_type": "markdown",
     "metadata": {},
     "source": [
      "<font color='blue'>Plot sim. and obs. daily temperature</font>"
     ]
    },
    {
     "cell_type": "code",
     "collapsed": false,
     "input": [
      "fig=plt.figure(figsize=(12,3),dpi=400)\n",
      "jj = 1\n",
      "for i, n in enumerate(gage_id):\n",
      "    ax = plt.subplot(1, 2, jj)\n",
      "    jj = jj + 1\n",
      "    fig.subplots_adjust(hspace = 0.3, wspace = 0.15)\n",
      "    props = dict(boxstyle='round', facecolor='wheat', alpha=0.5)\n",
      "    ax.text(.02,.9, str(gage_id[i]), fontsize=14, color='purple', horizontalalignment='left', transform=ax.transAxes)   \n",
      "    textstr = 'Bias=%.1f$^\\circ$C\\nRMSE=%.1f$^\\circ$C\\nNash=%.2f   R$^{2}$=%.2f' % (Bias[i], RMSE[i], nash[i], R2[i])\n",
      "    ax.text(.02,.04, textstr, fontsize=12, horizontalalignment='left', transform=ax.transAxes, bbox=props)\n",
      "    \n",
      "    if (n == 'ColdUp'):\n",
      "        gs = GridSpec(1, 8)\n",
      "        gs.update(left=0.17,  wspace=0.1)\n",
      "        ax1 = plt.subplot(gs[0, 4])\n",
      "        ax2 = plt.subplot(gs[0, 5],sharey=ax1)\n",
      "        ax3 = plt.subplot(gs[0, 6],sharey=ax1)\n",
      "        ax4 = plt.subplot(gs[0, 7],sharey=ax1)\n",
      "        #ax1.text(.02,.04, textstr, fontsize=12, horizontalalignment='left', transform=ax.transAxes, bbox=props)\n",
      "    \n",
      "\n",
      "        DailyObs[i][startdate4:enddate4].plot(ax=ax1,label='Obs', color='grey', linewidth=2, style='-', alpha=0.8)\n",
      "        DailySim[i][startdate4:enddate4].plot(ax=ax1,label='Sim', color='blue', linewidth=2, style='-', alpha=0.8)\n",
      "        DailyObs[i][startdate5:enddate5].plot(ax=ax2,label='Obs', color='grey', linewidth=2, style='-', alpha=0.8)\n",
      "        DailySim[i][startdate5:enddate5].plot(ax=ax2,label='Sim', color='blue', linewidth=2, style='-', alpha=0.8)\n",
      "        DailyObs[i][startdate6:enddate6].plot(ax=ax3,label='Obs', color='grey', linewidth=2, style='-', alpha=0.8)\n",
      "        DailySim[i][startdate6:enddate6].plot(ax=ax3,label='Sim', color='blue', linewidth=2, style='-', alpha=0.8)\n",
      "        DailyObs[i][startdate2:enddate2].plot(ax=ax4,label='Obs', color='grey', linewidth=2, style='-', alpha=0.8)\n",
      "        DailySim[i][startdate2:enddate2].plot(ax=ax4,label='Sim', color='blue', linewidth=2, style='-', alpha=0.8)\n",
      "        \n",
      "        ax1.spines['right'].set_visible(False)\n",
      "        ax2.spines['right'].set_visible(False)\n",
      "        ax2.spines['left'].set_visible(False)\n",
      "        ax3.spines['left'].set_visible(False)\n",
      "        ax3.spines['right'].set_visible(False)\n",
      "        ax4.spines['left'].set_visible(False)\n",
      "        \n",
      "        \n",
      "        ax1.yaxis.tick_left()\n",
      "        ax1.tick_params(labeltop='off') \n",
      "        ax2.tick_params(axis='y', left='off',right='off',labelleft='off') # don't put tick labels at the top\n",
      "        ax3.tick_params(axis='y', left='off',right='off',labelleft='off') # don't put tick labels at the top\n",
      "        ax4.tick_params(axis='y', left='off',right='off',labelleft='off') # don't put tick labels at the top\n",
      "\n",
      "        \n",
      "        d = .02 # how big to make the diagonal lines in axes coordinates\n",
      "        \n",
      "        # arguments to pass plot, just so we don't keep repeating them\n",
      "        kwargs = dict(transform=ax1.transAxes, color='k', clip_on=False)\n",
      "        ax1.plot((1-d,1+d),(-d,+d), **kwargs) # top-left diagonal\n",
      "        ax1.plot((1-d,1+d),(1-d,1+d), **kwargs) # bottom-left diagonal\n",
      "        kwargs.update(transform=ax4.transAxes) # switch to the bottom axes\n",
      "        ax2.plot((-d,d),(-d,+d), **kwargs) # top-left diagonal\n",
      "        ax2.plot((-d,d),(1-d,1+d), **kwargs) # bottom-left diagonal\n",
      "        \n",
      "        kwargs.update(transform=ax3.transAxes) # switch to the bottom axes\n",
      "        ax3.plot((-d,d),(-d,+d), **kwargs) # top-right diagonal\n",
      "        ax3.plot((-d,d),(1-d,1+d), **kwargs) # bottom-right diagonal\n",
      "        ax3.plot((1-d,1+d),(-d,+d), **kwargs) # top-left diagonal\n",
      "        ax3.plot((1-d,1+d),(1-d,1+d), **kwargs)\n",
      "        \n",
      "        kwargs.update(transform=ax2.transAxes) # switch to the bottom axes\n",
      "        ax2.plot((-d,d),(-d,+d), **kwargs) # top-right diagonal\n",
      "        ax2.plot((-d,d),(1-d,1+d), **kwargs) # bottom-right diagonal\n",
      "        ax2.plot((1-d,1+d),(-d,+d), **kwargs) # top-left diagonal\n",
      "        ax2.plot((1-d,1+d),(1-d,1+d), **kwargs)\n",
      "        \n",
      "        months = MonthLocator(range(1, 13), bymonthday=1, interval=2)\n",
      "        monthsFmt = dates.DateFormatter(\"%b\\n%Y\")\n",
      "        ax1.xaxis.set_major_locator(months)\n",
      "        ax1.xaxis.set_major_formatter(monthsFmt)\n",
      "        \n",
      "    else:\n",
      "        DailyObs[i].plot(label='Obs', color='grey', linewidth=2, style='-', alpha=0.8)\n",
      "        DailySim[i].plot(label='Sim', color='blue', linewidth=2, style='-', alpha=0.8)\n",
      "    \n",
      "    ax.grid(True)  \n",
      "    \n",
      "    if (i == 0):\n",
      "        leg=ax.legend(loc='best', numpoints = 1)\n",
      "        leg.get_frame().set_alpha(0.5)\n",
      "        plt.ylabel('Temp. ($^{o}C$)', fontsize=12., labelpad=5)\n",
      "    \n",
      "    plt.ylim([0, 28])\n",
      "    \n",
      "    \n",
      "outfig = str(mainpath)+'figs\\\\baseline_daily_tmp.png'    \n",
      "#plt.savefig(str(outfig),dpi=300,format = 'png',transparent='True')"
     ],
     "language": "python",
     "metadata": {},
     "outputs": [
      {
       "metadata": {},
       "output_type": "display_data",
       "png": "[encoded data removed]",
       "text": [
        "<matplotlib.figure.Figure at 0xc4c71d0>"
       ]
      }
     ],
     "prompt_number": 109
    },
    {
     "cell_type": "markdown",
     "metadata": {},
     "source": [
      "<font color='blue'>Plot monthly sim. and obs. temperature</font>"
     ]
    },
    {
     "cell_type": "code",
     "collapsed": false,
     "input": [
      "print range(6,11)\n",
      "for i, n in enumerate(gage_id):\n",
      "    print MonthlyObs[i]"
     ],
     "language": "python",
     "metadata": {},
     "outputs": [
      {
       "output_type": "stream",
       "stream": "stdout",
       "text": [
        "[6, 7, 8, 9, 10]\n",
        "5    13.318226\n",
        "6    17.456506\n",
        "7    19.490364\n",
        "8    21.866603\n",
        "dtype: float64\n",
        "1           NaN\n",
        "2           NaN\n",
        "3           NaN\n",
        "4           NaN\n",
        "5           NaN\n",
        "6     16.408586\n",
        "7     19.011732\n",
        "8     18.609614\n",
        "9     15.763961\n",
        "10          NaN\n",
        "11          NaN\n",
        "12          NaN\n",
        "dtype: float64\n"
       ]
      }
     ],
     "prompt_number": 110
    },
    {
     "cell_type": "code",
     "collapsed": false,
     "input": [
      "fig=plt.figure(figsize=(12,3),dpi=400)\n",
      "for i, n in enumerate(gage_id):\n",
      "    ax = plt.subplot(1, 2, i+1)\n",
      "    fig.subplots_adjust(hspace = 0.3, wspace = 0.15)\n",
      "    props = dict(boxstyle='round', facecolor='wheat', alpha=0.5)\n",
      "    ax.text(.02,.9, 'seg-'+str(rbm_id[i]), fontsize=14, color='purple', horizontalalignment='left', transform=ax.transAxes)\n",
      "    if (i==0):\n",
      "        plt.plot(range(5, 9), MonthlyObs[i].values, color='grey', label='obs', linewidth=2.0, linestyle='-')\n",
      "        plt.plot(range(5, 9), MonthlySim[i].values, color='blue', label='sim', linewidth=2.0, linestyle='-')\n",
      "        ax.xaxis.set_major_locator(ticker.FixedLocator(np.arange(5,9)))\n",
      "        plt.xlim([5,8])\n",
      "        ax.xaxis.set_major_formatter(ticker.FixedFormatter(['May','Jun','Jul','Aug']))\n",
      "    else:\n",
      "        plt.plot(range(6, 10), MonthlyObs[i][5:9].values, color='grey', label='obs', linewidth=2.0, linestyle='-')\n",
      "        plt.plot(range(6, 10), MonthlySim[i][5:9].values, color='blue', label='sim', linewidth=2.0, linestyle='-')\n",
      "        ax.xaxis.set_major_locator(ticker.FixedLocator(np.arange(6,10)))\n",
      "        plt.xlim([6,9])\n",
      "        ax.xaxis.set_major_formatter(ticker.FixedFormatter(['Jun','Jul','Aug','Sep']))\n",
      "   \n",
      "    if (i==0 or i==2 or i==4 or i==6):\n",
      "        plt.ylabel('Temp. ($^{o}C$)', fontsize=12.)\n",
      "    \n",
      "    grid(False)\n",
      "    if (i == 0):\n",
      "        ax.legend(loc='best')\n",
      "\n",
      "outfig = str(mainpath)+'figs\\\\baseline_monthly_tmp.png'    \n",
      "#plt.savefig(str(outfig),dpi=500,format = 'png',transparent='True')"
     ],
     "language": "python",
     "metadata": {},
     "outputs": [
      {
       "metadata": {},
       "output_type": "display_data",
       "png": "[encoded data removed]",
       "text": [
        "<matplotlib.figure.Figure at 0x15ce4f28>"
       ]
      }
     ],
     "prompt_number": 115
    },
    {
     "cell_type": "markdown",
     "metadata": {},
     "source": [
      "<font color='blue'>Compute **Nash** between sim. and obs. **monthly** flow </font>"
     ]
    },
    {
     "cell_type": "code",
     "collapsed": false,
     "input": [
      "print \"Monthly Nash:\"\n",
      "nash_month = {}\n",
      "for i, n in enumerate(gage_id):\n",
      "    if (i==0):\n",
      "        sim_mean= sum(MonthlySim[i])/float(len(MonthlySim[i]))\n",
      "        obs_mean= sum(MonthlyObs[i])/float(len(MonthlyObs[i]))\n",
      "        ss_tot = sum((x-obs_mean)**2 for x in MonthlyObs[i]) \n",
      "        ss_err = sum((y-x)**2 for y,x in zip(MonthlySim[i], MonthlyObs[i]))\n",
      "    else:\n",
      "        sim_mean= sum(MonthlySim[i][5:9])/float(len(MonthlySim[i][5:9]))\n",
      "        obs_mean= sum(MonthlyObs[i][5:9])/float(len(MonthlyObs[i][5:9]))\n",
      "        ss_tot = sum((x-obs_mean)**2 for x in MonthlyObs[i][5:9]) \n",
      "        ss_err = sum((y-x)**2 for y,x in zip(MonthlySim[i][5:9], MonthlyObs[i][5:9]))\n",
      "    nash_month[i] = 1 - (ss_err/ss_tot)\n",
      "    print \"[%s] = %.2f\" % (str(gage_id[i]), nash_month[i])"
     ],
     "language": "python",
     "metadata": {},
     "outputs": [
      {
       "output_type": "stream",
       "stream": "stdout",
       "text": [
        "Monthly Nash:\n",
        "[ColdDown] = 0.81\n",
        "[ColdUp] = 0.82\n"
       ]
      }
     ],
     "prompt_number": 117
    }
   ],
   "metadata": {}
  }
 ]
}