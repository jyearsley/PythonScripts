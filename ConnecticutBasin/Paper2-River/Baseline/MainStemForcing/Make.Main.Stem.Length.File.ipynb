{
 "metadata": {
  "name": "",
  "signature": "sha256:ac6bed34f3d8ec69d8df8e09cad3da23765b59a95d821c2be6843913e9989552"
 },
 "nbformat": 3,
 "nbformat_minor": 0,
 "worksheets": [
  {
   "cells": [
    {
     "cell_type": "markdown",
     "metadata": {},
     "source": [
      "###This notebook includes Python scripts for make a file storing the length of each segment on the main stem."
     ]
    },
    {
     "cell_type": "code",
     "collapsed": false,
     "input": [
      "%pylab inline"
     ],
     "language": "python",
     "metadata": {},
     "outputs": [
      {
       "output_type": "stream",
       "stream": "stdout",
       "text": [
        "Populating the interactive namespace from numpy and matplotlib\n"
       ]
      },
      {
       "output_type": "stream",
       "stream": "stderr",
       "text": [
        "WARNING: pylab import has clobbered these variables: ['norm']\n",
        "`%matplotlib` prevents importing * from pylab and numpy\n"
       ]
      }
     ],
     "prompt_number": 17
    },
    {
     "cell_type": "code",
     "collapsed": false,
     "input": [
      "# Import all needed libraries \n",
      "import sys, os, datetime, time\n",
      "import collections\n",
      "import numpy as np\n",
      "import pandas as pd\n",
      "import numpy.ma as ma\n",
      "import math\n",
      "import matplotlib.dates as dates\n",
      "import matplotlib.ticker as ticker\n",
      "import matplotlib.pyplot as plt\n",
      "from matplotlib.backends.backend_pdf import PdfPages\n",
      "from scipy.stats import norm\n",
      "from scipy import stats\n",
      "\n",
      "import os\n",
      "os.getcwd() \n",
      "os.chdir(\"D:\\\\Dropbox\\\\Python_Scripts\")\n",
      "os.getcwd()"
     ],
     "language": "python",
     "metadata": {},
     "outputs": [
      {
       "metadata": {},
       "output_type": "pyout",
       "prompt_number": 18,
       "text": [
        "'D:\\\\Dropbox\\\\Python_Scripts'"
       ]
      }
     ],
     "prompt_number": 18
    },
    {
     "cell_type": "code",
     "collapsed": false,
     "input": [
      "import matplotlib as mpl\n",
      "mpl.rcParams['lines.linewidth'] = 2\n",
      "font = {'family' : 'sans-serif',\n",
      "        'sans-serif' : 'Verdana',\n",
      "        'weight' : 'medium',\n",
      "        'size'   : '12'}\n",
      "params1 = {\n",
      "          'axes.labelsize': 12,\n",
      "          'text.fontsize': 12,\n",
      "          'xtick.labelsize': 12,\n",
      "          'xtick.direction': 'out',\n",
      "          'ytick.labelsize': 12,\n",
      "          'legend.pad': 0.01,     # empty space around the legend box\n",
      "          'legend.fontsize': 12,\n",
      "          'legend.labelspacing':0.25,\n",
      "          'font.size': 12,\n",
      "          'font.style': 'normal',\n",
      "          'axes.style': 'normal',\n",
      "          'xtick.labelstyle': 'normal',\n",
      "          }\n",
      "mpl.RcParams.update(params1)\n",
      "mpl.rc('font', **font)\n",
      "plt.rc(\"xtick\", direction=\"out\")\n",
      "plt.rc(\"ytick\", direction=\"out\")\n",
      "plt.rc('legend',**{'fontsize':12})"
     ],
     "language": "python",
     "metadata": {},
     "outputs": [],
     "prompt_number": 19
    },
    {
     "cell_type": "markdown",
     "metadata": {},
     "source": [
      "<font color='blue'>Read the input files</font>"
     ]
    },
    {
     "cell_type": "code",
     "collapsed": false,
     "input": [
      "mainpath = \"D:\\\\Box Sync\\\\Connecticut_Basin\\\\TheRiver\\\\River_Network\\\\\"\n",
      "\n",
      "# segmap has the projection from RBM sequence to DHSVM sequence\n",
      "MainStemFile = str(mainpath)  + \"Conn.Main.Stem2\"\n",
      "\n",
      "# source file to extract data from\n",
      "InputFile = str(mainpath) + \"Main.Stem.Length\"\n",
      "\n",
      "BasinMain = np.genfromtxt(MainStemFile, dtype=str, skiprows=1, usecols=[0])\n",
      "BasinSub = np.genfromtxt(InputFile, dtype=str, skiprows=0, usecols=[0])\n",
      "\n",
      "RBMSeq = np.genfromtxt(MainStemFile, dtype=int, skiprows=1, usecols=[1])\n",
      "DHSVMSeq = np.genfromtxt(MainStemFile, dtype=int, skiprows=1, usecols=[2])\n",
      "NewSeq = np.genfromtxt(MainStemFile, dtype=int, skiprows=1, usecols=[3])\n",
      "\n",
      "DHSVMSeq2 = np.genfromtxt(InputFile, dtype=int, skiprows=0, usecols=[1])\n",
      "Length = np.genfromtxt(InputFile, dtype=float, skiprows=0, usecols=[2])"
     ],
     "language": "python",
     "metadata": {},
     "outputs": [],
     "prompt_number": 20
    },
    {
     "cell_type": "markdown",
     "metadata": {},
     "source": [
      "<font color='blue'>Find the location (in column number) of main stem segments in the file</font>"
     ]
    },
    {
     "cell_type": "code",
     "collapsed": false,
     "input": [
      "Len = []\n",
      "# locate the column number of desired segment ID in the first line of the file\n",
      "for j in range(len(DHSVMSeq)):\n",
      "    for i in range(len(DHSVMSeq2)):\n",
      "        if (BasinSub[i] == BasinMain[j] and DHSVMSeq2[i] == DHSVMSeq[j]):\n",
      "            Len.append(Length[i])   "
     ],
     "language": "python",
     "metadata": {},
     "outputs": [],
     "prompt_number": 22
    },
    {
     "cell_type": "code",
     "collapsed": false,
     "input": [
      "f=open(str(mainpath)+\"Conn.Main.Stem3\", 'w')\n",
      "for i in range(len(DHSVMSeq)):\n",
      "    f.write(\"%s %d %d %d %.2f\\n\" % (BasinMain[i], RBMSeq[i], DHSVMSeq[i], NewSeq[i], Len[i]))\n",
      "f.close()"
     ],
     "language": "python",
     "metadata": {},
     "outputs": [],
     "prompt_number": 24
    },
    {
     "cell_type": "code",
     "collapsed": false,
     "input": [],
     "language": "python",
     "metadata": {},
     "outputs": []
    }
   ],
   "metadata": {}
  }
 ]
}