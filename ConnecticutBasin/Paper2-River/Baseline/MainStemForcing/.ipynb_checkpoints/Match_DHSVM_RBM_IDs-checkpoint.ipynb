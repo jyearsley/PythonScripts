{
 "metadata": {
  "name": "",
  "signature": "sha256:dfd4968382f6e757752ed85a1d651be55b040fa44b658568113f76811c6e1348"
 },
 "nbformat": 3,
 "nbformat_minor": 0,
 "worksheets": [
  {
   "cells": [
    {
     "cell_type": "markdown",
     "metadata": {},
     "source": [
      "###This notebook includes Python scripts for assigning RBM ID based on DHSVM ID to all segments with temperature gages."
     ]
    },
    {
     "cell_type": "code",
     "collapsed": false,
     "input": [
      "%pylab inline"
     ],
     "language": "python",
     "metadata": {},
     "outputs": [
      {
       "output_type": "stream",
       "stream": "stdout",
       "text": [
        "Populating the interactive namespace from numpy and matplotlib\n"
       ]
      },
      {
       "output_type": "stream",
       "stream": "stderr",
       "text": [
        "WARNING: pylab import has clobbered these variables: ['norm']\n",
        "`%matplotlib` prevents importing * from pylab and numpy\n"
       ]
      }
     ],
     "prompt_number": 5
    },
    {
     "cell_type": "code",
     "collapsed": false,
     "input": [
      "# Import all needed libraries \n",
      "import sys, os, datetime, time\n",
      "import collections\n",
      "import numpy as np\n",
      "import pandas as pd\n",
      "import numpy.ma as ma\n",
      "import math\n",
      "import matplotlib.dates as dates\n",
      "import matplotlib.ticker as ticker\n",
      "import matplotlib.pyplot as plt\n",
      "from matplotlib.backends.backend_pdf import PdfPages\n",
      "from scipy.stats import norm\n",
      "from scipy import stats\n",
      "\n",
      "import os\n",
      "os.getcwd() \n",
      "os.chdir(\"D:\\\\Dropbox\\\\Python_Scripts\")\n",
      "os.getcwd()"
     ],
     "language": "python",
     "metadata": {},
     "outputs": [
      {
       "metadata": {},
       "output_type": "pyout",
       "prompt_number": 6,
       "text": [
        "'D:\\\\Dropbox\\\\Python_Scripts'"
       ]
      }
     ],
     "prompt_number": 6
    },
    {
     "cell_type": "code",
     "collapsed": false,
     "input": [
      "import matplotlib as mpl\n",
      "mpl.rcParams['lines.linewidth'] = 2\n",
      "font = {'family' : 'sans-serif',\n",
      "        'sans-serif' : 'Verdana',\n",
      "        'weight' : 'medium',\n",
      "        'size'   : '12'}\n",
      "params1 = {\n",
      "          'axes.labelsize': 12,\n",
      "          'text.fontsize': 12,\n",
      "          'xtick.labelsize': 12,\n",
      "          'xtick.direction': 'out',\n",
      "          'ytick.labelsize': 12,\n",
      "          'legend.pad': 0.01,     # empty space around the legend box\n",
      "          'legend.fontsize': 12,\n",
      "          'legend.labelspacing':0.25,\n",
      "          'font.size': 12,\n",
      "          'font.style': 'normal',\n",
      "          'axes.style': 'normal',\n",
      "          'xtick.labelstyle': 'normal',\n",
      "          }\n",
      "mpl.RcParams.update(params1)\n",
      "mpl.rc('font', **font)\n",
      "plt.rc(\"xtick\", direction=\"out\")\n",
      "plt.rc(\"ytick\", direction=\"out\")\n",
      "plt.rc('legend',**{'fontsize':12})"
     ],
     "language": "python",
     "metadata": {},
     "outputs": [],
     "prompt_number": 7
    },
    {
     "cell_type": "markdown",
     "metadata": {},
     "source": [
      "<font color='blue'>Read the input files</font>"
     ]
    },
    {
     "cell_type": "code",
     "collapsed": false,
     "input": [
      "mainpath = \"D:\\\\Box Sync\\\\Connecticut_Basin\\\\TheRiver\\\\River_Network\\\\\"\n",
      "\n",
      "# segmap has the projection from RBM sequence to DHSVM sequence\n",
      "MainStemFile = str(mainpath)  + \"Conn.Main.Stem2\"\n",
      "# trib files indicate the tributaries to each main stem\n",
      "TributaryFile = str(mainpath)  + \"Conn.Main.Trib2\"\n",
      "# file with temperature gage info\n",
      "TmpGageFile = str(mainpath) + \"tmp_gages.txt\"\n",
      "\n",
      "Basin2 = np.genfromtxt(TributaryFile, dtype=str, skiprows=1, usecols=[0])\n",
      "RBMSeq2 = np.genfromtxt(TributaryFile, dtype=int, skiprows=1, usecols=[3])\n",
      "DHSVMSeq2 = np.genfromtxt(TributaryFile, dtype=int, skiprows=1, usecols=[4])\n",
      "\n",
      "Basin1 = np.genfromtxt(MainStemFile, dtype=str, skiprows=1, usecols=[0])\n",
      "DHSVMSeq1 = np.genfromtxt(MainStemFile, dtype=int, skiprows=1, usecols=[2])\n",
      "RBMSeq1 = np.genfromtxt(MainStemFile, dtype=int, skiprows=1, usecols=[1])\n",
      "\n",
      "gage_dhsvm_id = np.genfromtxt(TmpGageFile, dtype=int, skiprows=1, usecols=[5])\n",
      "gage_basin = np.genfromtxt(TmpGageFile, dtype=str, skiprows=1, usecols=[0])"
     ],
     "language": "python",
     "metadata": {},
     "outputs": [],
     "prompt_number": 8
    },
    {
     "cell_type": "markdown",
     "metadata": {},
     "source": [
      "<font color=blue>Assign the RBM ID based on its DHSVM ID. </font>"
     ]
    },
    {
     "cell_type": "code",
     "collapsed": false,
     "input": [
      "gage_rbm_id = [0] * len(gage_dhsvm_id)\n",
      "for j in range(len(gage_basin)):\n",
      "    for i in range(len(Basin1)):\n",
      "        if (gage_basin[j]==Basin1[i] and gage_dhsvm_id[j]=DHSVMSeq1[i]):\n",
      "            gage_rbm_id[j] = RBMSeq1[i]\n",
      "        else:\n",
      "            gage_rbm_id[j] = -9999"
     ],
     "language": "python",
     "metadata": {},
     "outputs": [],
     "prompt_number": 11
    },
    {
     "cell_type": "code",
     "collapsed": false,
     "input": [
      "for j in range(len(gage_basin)):\n",
      "    for i in range(len(Basin2)):\n",
      "        if (gage_basin[j]==Basin2[i] and gage_dhsvm_id[j]=DHSVMSeq2[i]):\n",
      "            gage_rbm_id[j] = RBMSeq2[i]"
     ],
     "language": "python",
     "metadata": {},
     "outputs": [],
     "prompt_number": 12
    },
    {
     "cell_type": "code",
     "collapsed": false,
     "input": [
      "f = open(str(mainpath)+\"junk9.txt\", 'w')\n",
      "for i in range(len(gage_basin)):\n",
      "    f.write(\"%s %d %d\\n\" % (gage_basin[i], gage_dhsvm_id[i], gage_rbm_id[i]))\n",
      "f.close()"
     ],
     "language": "python",
     "metadata": {},
     "outputs": [],
     "prompt_number": 13
    }
   ],
   "metadata": {}
  }
 ]
}