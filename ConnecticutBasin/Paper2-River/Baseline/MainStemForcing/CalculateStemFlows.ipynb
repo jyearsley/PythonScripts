{
 "metadata": {
  "name": "",
  "signature": "sha256:347b1e73a6f621c50cbd70e65a4dfaf1f31a20984a67337a364f1b6109d04e00"
 },
 "nbformat": 3,
 "nbformat_minor": 0,
 "worksheets": [
  {
   "cells": [
    {
     "cell_type": "markdown",
     "metadata": {},
     "source": [
      "###This notebook includes Python scripts for accumulating the values column wise for the main stem streamflows."
     ]
    },
    {
     "cell_type": "code",
     "collapsed": false,
     "input": [
      "%pylab inline"
     ],
     "language": "python",
     "metadata": {},
     "outputs": [
      {
       "output_type": "stream",
       "stream": "stdout",
       "text": [
        "Populating the interactive namespace from numpy and matplotlib\n"
       ]
      },
      {
       "output_type": "stream",
       "stream": "stderr",
       "text": [
        "WARNING: pylab import has clobbered these variables: ['norm', 'f', 'mat']\n",
        "`%matplotlib` prevents importing * from pylab and numpy\n"
       ]
      }
     ],
     "prompt_number": 43
    },
    {
     "cell_type": "code",
     "collapsed": false,
     "input": [
      "# Import all needed libraries \n",
      "import sys, os, datetime, time\n",
      "import collections\n",
      "import numpy as np\n",
      "import pandas as pd\n",
      "import numpy.ma as ma\n",
      "import math\n",
      "import matplotlib.dates as dates\n",
      "import matplotlib.ticker as ticker\n",
      "import matplotlib.pyplot as plt\n",
      "from matplotlib.backends.backend_pdf import PdfPages\n",
      "from scipy.stats import norm\n",
      "from scipy import stats\n",
      "\n",
      "import os\n",
      "os.getcwd() \n",
      "os.chdir(\"D:\\\\Dropbox\\\\Python_Scripts\")\n",
      "os.getcwd()"
     ],
     "language": "python",
     "metadata": {},
     "outputs": [
      {
       "metadata": {},
       "output_type": "pyout",
       "prompt_number": 44,
       "text": [
        "'D:\\\\Dropbox\\\\Python_Scripts'"
       ]
      }
     ],
     "prompt_number": 44
    },
    {
     "cell_type": "code",
     "collapsed": false,
     "input": [
      "import matplotlib as mpl\n",
      "mpl.rcParams['lines.linewidth'] = 2\n",
      "font = {'family' : 'sans-serif',\n",
      "        'sans-serif' : 'Verdana',\n",
      "        'weight' : 'medium',\n",
      "        'size'   : '12'}\n",
      "params1 = {\n",
      "          'axes.labelsize': 12,\n",
      "          'text.fontsize': 12,\n",
      "          'xtick.labelsize': 12,\n",
      "          'xtick.direction': 'out',\n",
      "          'ytick.labelsize': 12,\n",
      "          'legend.pad': 0.01,     # empty space around the legend box\n",
      "          'legend.fontsize': 12,\n",
      "          'legend.labelspacing':0.25,\n",
      "          'font.size': 12,\n",
      "          'font.style': 'normal',\n",
      "          'axes.style': 'normal',\n",
      "          'xtick.labelstyle': 'normal',\n",
      "          }\n",
      "mpl.RcParams.update(params1)\n",
      "mpl.rc('font', **font)\n",
      "plt.rc(\"xtick\", direction=\"out\")\n",
      "plt.rc(\"ytick\", direction=\"out\")\n",
      "plt.rc('legend',**{'fontsize':12})"
     ],
     "language": "python",
     "metadata": {},
     "outputs": [],
     "prompt_number": 45
    },
    {
     "cell_type": "markdown",
     "metadata": {},
     "source": [
      "<font color='blue'>Read the input files into matrix</font>"
     ]
    },
    {
     "cell_type": "code",
     "collapsed": false,
     "input": [
      "mainpath = \"D:\\\\Box Sync\\\\Connecticut_Basin\\\\TheRiver\\\\River_Network\\\\\"\n",
      "mat = []\n",
      "# read the file into a matrix of strings\n",
      "f = open(str(mainpath)+\"main.stem.Outflow.Only\", 'r')\n",
      "for line in f.readlines():\n",
      "    mat.append(line.split())"
     ],
     "language": "python",
     "metadata": {},
     "outputs": [],
     "prompt_number": 46
    },
    {
     "cell_type": "code",
     "collapsed": false,
     "input": [
      "# convert multi-dimensional list to numpy array\n",
      "a = np.array(mat)\n",
      "\n",
      "# slice the first row then first column of the array\n",
      "c = a[1:, 1:].astype(np.float)\n",
      "#print c\n",
      "\n",
      "# segment index\n",
      "b = a[0][1:].astype(np.int)\n",
      "#print b"
     ],
     "language": "python",
     "metadata": {},
     "outputs": [],
     "prompt_number": 47
    },
    {
     "cell_type": "code",
     "collapsed": false,
     "input": [
      "print y[row][np.where(b==112)[0]]"
     ],
     "language": "python",
     "metadata": {},
     "outputs": [
      {
       "output_type": "stream",
       "stream": "stdout",
       "text": [
        "['79.6373']\n"
       ]
      }
     ],
     "prompt_number": 48
    },
    {
     "cell_type": "code",
     "collapsed": false,
     "input": [
      "ChicopeeFlow = np.genfromtxt(str(mainpath)+\"Chicopee.Flow\", dtype=float, skiprows=0, usecols=[0])\n",
      "DeerfieldFlow = np.genfromtxt(str(mainpath)+'Deerfield.Flow', dtype=float, skiprows=0, usecols=[0])\n",
      "FarmingtonFlow = np.genfromtxt(str(mainpath)+'Farmington.Flow', dtype=float, skiprows=0, usecols=[0])\n",
      "MillerFlow = np.genfromtxt(str(mainpath)+ 'Miller.Flow', dtype=float, skiprows=0, usecols=[0])\n",
      "PassumpsicFlow = np.genfromtxt(str(mainpath)+'Passumpsic.Flow', dtype=float, skiprows=0, usecols=[0])\n",
      "WestfieldFlow = np.genfromtxt(str(mainpath)+'Westfield.Flow', dtype=float, skiprows=0, usecols=[0])\n",
      "WhiteFlow = np.genfromtxt(str(mainpath)+'White.Flow', dtype=float, skiprows=0, usecols=[0])"
     ],
     "language": "python",
     "metadata": {},
     "outputs": [],
     "prompt_number": 49
    },
    {
     "cell_type": "markdown",
     "metadata": {},
     "source": [
      "<font color=blue>Accumulate flows from the biggest ID to smallest ID.</font>"
     ]
    },
    {
     "cell_type": "code",
     "collapsed": false,
     "input": [
      "y = np.zeros((len(c[:,0]), len(c[0,:])))\n",
      "\n",
      "for row in range(len(c[:,0])):\n",
      "    for col in range(len(c[0,:])):\n",
      "        if (b[col]>=199 and b[col]<=248):\n",
      "            y[row][col] = c[row][col]\n",
      "        if (b[col]>=163 and b[col]<=198):\n",
      "            y[row][col] = c[row][col] + y[row][np.where(b==199)[0]]\n",
      "        if (b[col]>=163 and b[col]<=180):\n",
      "            y[row][col] += PassumpsicFlow[row] # add Passumpsic Flow\n",
      "        if (b[col]>=139 and b[col]<=162):\n",
      "            y[row][col] = c[row][col] + y[row][np.where(b==163)[0]]  \n",
      "        if (b[col]>=112 and b[col]<=138): \n",
      "            y[row][col] = c[row][col] + y[row][np.where(b==139)[0]] + WhiteFlow[row] # add White Flow\n",
      "        if (b[col]>=78 and b[col]<=111): \n",
      "            y[row][col] = c[row][col] + y[row][np.where(b==112)[0]] \n",
      "        if (b[col]>=45 and b[col]<=77): \n",
      "            y[row][col] = c[row][col] + y[row][np.where(b==78)[0]]\n",
      "        if (b[col]>=45 and b[col]<=65): \n",
      "            y[row][col] += DeerfieldFlow[row]\n",
      "        if (b[col]>=45 and b[col]<=68): \n",
      "            y[row][col] += MillerFlow[row]\n",
      "        if (b[col]>=45 and b[col]<=49): \n",
      "            y[row][col] += ChicopeeFlow[row]\n",
      "        if (b[col]>=1 and b[col]<=44): \n",
      "            y[row][col] = c[row][col] + y[row][np.where(b==45)[0]] + WestfieldFlow[row]\n",
      "        if (b[col]>=1 and b[col]<=34): \n",
      "            y[row][col] += FarmingtonFlow[row] \n",
      "     \n",
      "#print y"
     ],
     "language": "python",
     "metadata": {},
     "outputs": [],
     "prompt_number": 50
    },
    {
     "cell_type": "code",
     "collapsed": false,
     "input": [
      "y = y.astype(np.str)"
     ],
     "language": "python",
     "metadata": {},
     "outputs": [],
     "prompt_number": 51
    },
    {
     "cell_type": "code",
     "collapsed": false,
     "input": [
      "# add the time stamp to the first column\n",
      "y= np.insert(y, 0, a[1:, 0], axis=1)\n",
      "\n",
      "print len(y[0])\n",
      "print len(a[0])\n",
      "\n",
      "# add the seg ID to the first row\n",
      "y= np.insert(y, 0, a[0], axis=0)"
     ],
     "language": "python",
     "metadata": {},
     "outputs": [
      {
       "output_type": "stream",
       "stream": "stdout",
       "text": [
        "249\n",
        "249\n"
       ]
      }
     ],
     "prompt_number": 52
    },
    {
     "cell_type": "code",
     "collapsed": false,
     "input": [
      "np.savetxt(str(mainpath)+\"main.stem.Outflow.Final\", y, delimiter=\" \", fmt=\"%s\") \n",
      "f.close()"
     ],
     "language": "python",
     "metadata": {},
     "outputs": [],
     "prompt_number": 53
    },
    {
     "cell_type": "code",
     "collapsed": false,
     "input": [],
     "language": "python",
     "metadata": {},
     "outputs": [],
     "prompt_number": 53
    }
   ],
   "metadata": {}
  }
 ]
}