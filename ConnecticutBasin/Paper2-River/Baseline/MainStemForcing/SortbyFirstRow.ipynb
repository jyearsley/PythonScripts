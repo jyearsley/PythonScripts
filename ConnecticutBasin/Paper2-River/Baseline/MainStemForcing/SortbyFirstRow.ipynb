{
 "metadata": {
  "name": "",
  "signature": "sha256:5e55c6fdcde8f6cf283c3b1a441ba6e85abff26087bede62c246679b8119a66f"
 },
 "nbformat": 3,
 "nbformat_minor": 0,
 "worksheets": [
  {
   "cells": [
    {
     "cell_type": "markdown",
     "metadata": {},
     "source": [
      "###This notebook includes Python scripts for transposing matrices."
     ]
    },
    {
     "cell_type": "code",
     "collapsed": false,
     "input": [
      "%pylab inline"
     ],
     "language": "python",
     "metadata": {},
     "outputs": [
      {
       "output_type": "stream",
       "stream": "stdout",
       "text": [
        "Populating the interactive namespace from numpy and matplotlib\n"
       ]
      },
      {
       "output_type": "stream",
       "stream": "stderr",
       "text": [
        "WARNING: pylab import has clobbered these variables: ['norm', 'f', 'mat', 'e']\n",
        "`%matplotlib` prevents importing * from pylab and numpy\n"
       ]
      }
     ],
     "prompt_number": 24
    },
    {
     "cell_type": "code",
     "collapsed": false,
     "input": [
      "# Import all needed libraries \n",
      "import sys, os, datetime, time\n",
      "import collections\n",
      "import numpy as np\n",
      "import pandas as pd\n",
      "import numpy.ma as ma\n",
      "import math\n",
      "import matplotlib.dates as dates\n",
      "import matplotlib.ticker as ticker\n",
      "import matplotlib.pyplot as plt\n",
      "from matplotlib.backends.backend_pdf import PdfPages\n",
      "from scipy.stats import norm\n",
      "from scipy import stats\n",
      "\n",
      "import os\n",
      "os.getcwd() \n",
      "os.chdir(\"D:\\\\Dropbox\\\\Python_Scripts\")\n",
      "os.getcwd()"
     ],
     "language": "python",
     "metadata": {},
     "outputs": [
      {
       "metadata": {},
       "output_type": "pyout",
       "prompt_number": 25,
       "text": [
        "'D:\\\\Dropbox\\\\Python_Scripts'"
       ]
      }
     ],
     "prompt_number": 25
    },
    {
     "cell_type": "code",
     "collapsed": false,
     "input": [
      "import matplotlib as mpl\n",
      "mpl.rcParams['lines.linewidth'] = 2\n",
      "font = {'family' : 'sans-serif',\n",
      "        'sans-serif' : 'Verdana',\n",
      "        'weight' : 'medium',\n",
      "        'size'   : '12'}\n",
      "params1 = {\n",
      "          'axes.labelsize': 12,\n",
      "          'text.fontsize': 12,\n",
      "          'xtick.labelsize': 12,\n",
      "          'xtick.direction': 'out',\n",
      "          'ytick.labelsize': 12,\n",
      "          'legend.pad': 0.01,     # empty space around the legend box\n",
      "          'legend.fontsize': 12,\n",
      "          'legend.labelspacing':0.25,\n",
      "          'font.size': 12,\n",
      "          'font.style': 'normal',\n",
      "          'axes.style': 'normal',\n",
      "          'xtick.labelstyle': 'normal',\n",
      "          }\n",
      "mpl.RcParams.update(params1)\n",
      "mpl.rc('font', **font)\n",
      "plt.rc(\"xtick\", direction=\"out\")\n",
      "plt.rc(\"ytick\", direction=\"out\")\n",
      "plt.rc('legend',**{'fontsize':12})"
     ],
     "language": "python",
     "metadata": {},
     "outputs": [],
     "prompt_number": 26
    },
    {
     "cell_type": "markdown",
     "metadata": {},
     "source": [
      "<font color='blue'>Read the input files into matrix</font>"
     ]
    },
    {
     "cell_type": "code",
     "collapsed": false,
     "input": [
      "mainpath = \"D:\\\\Box Sync\\\\Connecticut_Basin\\\\TheRiver\\\\River_Network\\\\\"\n",
      "mat = []\n",
      "# segmap has the projection from RBM sequence to DHSVM sequence\n",
      "#f = open(str(mainpath)+\"main.stem.Inflow.Only2\", 'r')\n",
      "f = open(str(mainpath)+\"main.stem.ATP.Only\", 'r')\n",
      "for line in f.readlines():\n",
      "    mat.append(line.split())"
     ],
     "language": "python",
     "metadata": {},
     "outputs": [],
     "prompt_number": 27
    },
    {
     "cell_type": "markdown",
     "metadata": {},
     "source": [
      "<font color=blue>Sort the matrix by the first row</font>"
     ]
    },
    {
     "cell_type": "code",
     "collapsed": false,
     "input": [
      "a = np.array(mat)\n",
      "print a.shape\n",
      "\n",
      "c =  a[0, ::-1] # inverse the row\n",
      "# print c\n",
      "\n",
      "# extract the seg ID values\n",
      "d = a[0, 1:]\n",
      "# convert from string to int\n",
      "d = d.astype(np.int)\n",
      "\n",
      "# the index of sorted row \n",
      "e = d.argsort()[::-1]\n",
      "\n",
      "# add the Date field to the index row\n",
      "e = [e[i] + 1 for i in range(len(e))]\n",
      "print e\n",
      "e = np.insert(e, 0, 0)\n",
      "print e\n",
      "\n",
      "# convert string arry to int array\n",
      "b = a[:, e]\n",
      "print b"
     ],
     "language": "python",
     "metadata": {},
     "outputs": [
      {
       "output_type": "stream",
       "stream": "stdout",
       "text": [
        "(10954L, 249L)\n",
        "[178, 177, 176, 175, 174, 173, 172, 171, 170, 169, 168, 167, 166, 165, 164, 163, 162, 161, 160, 159, 158, 157, 156, 155, 154, 153, 152, 151, 150, 149, 148, 147, 146, 145, 144, 143, 142, 141, 140, 139, 138, 137, 136, 135, 134, 133, 132, 131, 130, 129, 214, 213, 212, 211, 210, 209, 208, 207, 206, 205, 204, 203, 202, 201, 200, 199, 198, 197, 196, 195, 194, 193, 192, 191, 190, 189, 188, 187, 186, 185, 184, 183, 182, 181, 180, 179, 95, 94, 93, 92, 91, 90, 89, 88, 87, 86, 85, 84, 83, 82, 81, 80, 79, 78, 77, 76, 75, 74, 73, 72, 27, 26, 25, 24, 23, 22, 21, 20, 19, 18, 17, 16, 15, 14, 13, 12, 11, 10, 9, 8, 7, 6, 5, 4, 3, 2, 1, 248, 247, 246, 245, 244, 243, 242, 241, 240, 239, 238, 237, 236, 235, 234, 233, 232, 231, 230, 229, 228, 227, 226, 225, 224, 223, 222, 221, 220, 219, 218, 217, 216, 215, 128, 127, 126, 125, 124, 123, 122, 121, 120, 119, 118, 117, 116, 115, 114, 113, 112, 111, 110, 109, 108, 107, 106, 105, 104, 103, 102, 101, 100, 99, 98, 97, 96, 71, 70, 69, 68, 67, 66, 65, 64, 63, 62, 61, 60, 59, 58, 57, 56, 55, 54, 53, 52, 51, 50, 49, 48, 47, 46, 45, 44, 43, 42, 41, 40, 39, 38, 37, 36, 35, 34, 33, 32, 31, 30, 29, 28]\n",
        "[  0 178 177 176 175 174 173 172 171 170 169 168 167 166 165 164 163 162\n",
        " 161 160 159 158 157 156 155 154 153 152 151 150 149 148 147 146 145 144\n",
        " 143 142 141 140 139 138 137 136 135 134 133 132 131 130 129 214 213 212\n",
        " 211 210 209 208 207 206 205 204 203 202 201 200 199 198 197 196 195 194\n",
        " 193 192 191 190 189 188 187 186 185 184 183 182 181 180 179  95  94  93\n",
        "  92  91  90  89  88  87  86  85  84  83  82  81  80  79  78  77  76  75\n",
        "  74  73  72  27  26  25  24  23  22  21  20  19  18  17  16  15  14  13\n",
        "  12  11  10   9   8   7   6   5   4   3   2   1 248 247 246 245 244 243\n",
        " 242 241 240 239 238 237 236 235 234 233 232 231 230 229 228 227 226 225\n",
        " 224 223 222 221 220 219 218 217 216 215 128 127 126 125 124 123 122 121\n",
        " 120 119 118 117 116 115 114 113 112 111 110 109 108 107 106 105 104 103\n",
        " 102 101 100  99  98  97  96  71  70  69  68  67  66  65  64  63  62  61\n",
        "  60  59  58  57  56  55  54  53  52  51  50  49  48  47  46  45  44  43\n",
        "  42  41  40  39  38  37  36  35  34  33  32  31  30  29  28]\n",
        "[['Date' '248' '247' ..., '3' '2' '1']\n",
        " ['01.01.2005-00:00:00' '-13.90' '-13.81' ..., '1.04' '0.89' '1.07']\n",
        " ['01.01.2005-03:00:00' '-17.90' '-17.81' ..., '-0.41' '-0.42' '-0.26']\n",
        " ..., \n",
        " ['09.30.2008-18:00:00' '11.13' '11.22' ..., '20.85' '20.01' '20.43']\n",
        " ['09.30.2008-21:00:00' '10.64' '10.74' ..., '18.38' '17.68' '18.06']\n",
        " ['10.01.2008-00:00:00' '10.19' '10.28' ..., '16.04' '15.48' '15.83']]"
       ]
      },
      {
       "output_type": "stream",
       "stream": "stdout",
       "text": [
        "\n"
       ]
      }
     ],
     "prompt_number": 28
    },
    {
     "cell_type": "code",
     "collapsed": false,
     "input": [
      "f=open(str(mainpath)+\"junk3.txt\", 'w')\n",
      "np.savetxt(str(mainpath)+\"junk3.txt\", b, delimiter=\" \", fmt=\"%s\") \n",
      "f.close()"
     ],
     "language": "python",
     "metadata": {},
     "outputs": [],
     "prompt_number": 33
    },
    {
     "cell_type": "code",
     "collapsed": false,
     "input": [],
     "language": "python",
     "metadata": {},
     "outputs": []
    }
   ],
   "metadata": {}
  }
 ]
}