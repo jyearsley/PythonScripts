{
 "metadata": {
  "name": "",
  "signature": "sha256:8ca5f624104fb68e35f99d2990bcf02727ab0dd7389af4c5fbec7829e2f81886"
 },
 "nbformat": 3,
 "nbformat_minor": 0,
 "worksheets": [
  {
   "cells": [
    {
     "cell_type": "markdown",
     "metadata": {},
     "source": [
      "###This notebook includes Python scripts for assigning new unique IDs to the Connecticut River main stem and tributary segments."
     ]
    },
    {
     "cell_type": "code",
     "collapsed": false,
     "input": [
      "%pylab inline"
     ],
     "language": "python",
     "metadata": {},
     "outputs": [
      {
       "output_type": "stream",
       "stream": "stdout",
       "text": [
        "Populating the interactive namespace from numpy and matplotlib\n"
       ]
      },
      {
       "output_type": "stream",
       "stream": "stderr",
       "text": [
        "WARNING: pylab import has clobbered these variables: ['norm']\n",
        "`%matplotlib` prevents importing * from pylab and numpy\n"
       ]
      }
     ],
     "prompt_number": 5
    },
    {
     "cell_type": "code",
     "collapsed": false,
     "input": [
      "# Import all needed libraries \n",
      "import sys, os, datetime, time\n",
      "import collections\n",
      "import numpy as np\n",
      "import pandas as pd\n",
      "import numpy.ma as ma\n",
      "import math\n",
      "import matplotlib.dates as dates\n",
      "import matplotlib.ticker as ticker\n",
      "import matplotlib.pyplot as plt\n",
      "from matplotlib.backends.backend_pdf import PdfPages\n",
      "from scipy.stats import norm\n",
      "from scipy import stats\n",
      "\n",
      "import os\n",
      "os.getcwd() \n",
      "os.chdir(\"D:\\\\Dropbox\\\\Python_Scripts\")\n",
      "os.getcwd()"
     ],
     "language": "python",
     "metadata": {},
     "outputs": [
      {
       "metadata": {},
       "output_type": "pyout",
       "prompt_number": 6,
       "text": [
        "'D:\\\\Dropbox\\\\Python_Scripts'"
       ]
      }
     ],
     "prompt_number": 6
    },
    {
     "cell_type": "code",
     "collapsed": false,
     "input": [
      "import matplotlib as mpl\n",
      "mpl.rcParams['lines.linewidth'] = 2\n",
      "font = {'family' : 'sans-serif',\n",
      "        'sans-serif' : 'Verdana',\n",
      "        'weight' : 'medium',\n",
      "        'size'   : '12'}\n",
      "params1 = {\n",
      "          'axes.labelsize': 12,\n",
      "          'text.fontsize': 12,\n",
      "          'xtick.labelsize': 12,\n",
      "          'xtick.direction': 'out',\n",
      "          'ytick.labelsize': 12,\n",
      "          'legend.pad': 0.01,     # empty space around the legend box\n",
      "          'legend.fontsize': 12,\n",
      "          'legend.labelspacing':0.25,\n",
      "          'font.size': 12,\n",
      "          'font.style': 'normal',\n",
      "          'axes.style': 'normal',\n",
      "          'xtick.labelstyle': 'normal',\n",
      "          }\n",
      "mpl.RcParams.update(params1)\n",
      "mpl.rc('font', **font)\n",
      "plt.rc(\"xtick\", direction=\"out\")\n",
      "plt.rc(\"ytick\", direction=\"out\")\n",
      "plt.rc('legend',**{'fontsize':12})"
     ],
     "language": "python",
     "metadata": {},
     "outputs": [],
     "prompt_number": 7
    },
    {
     "cell_type": "markdown",
     "metadata": {},
     "source": [
      "<font color='blue'>Read the input files</font>"
     ]
    },
    {
     "cell_type": "code",
     "collapsed": false,
     "input": [
      "mainpath = \"D:\\\\Box Sync\\\\Connecticut_Basin\\\\TheRiver\\\\River_Network\\\\\"\n",
      "\n",
      "# segmap has the projection from RBM sequence to DHSVM sequence\n",
      "MainStemFile = str(mainpath)  + \"Conn.Main.Stem\"\n",
      "# trib files indicate the tributaries to each main stem\n",
      "TributaryFile = str(mainpath)  + \"Conn.Main.Trib\"\n",
      "\n",
      "\n",
      "TribBasin = np.genfromtxt(TributaryFile, dtype=str, skiprows=1, usecols=[0])\n",
      "TribRBMSeq = np.genfromtxt(TributaryFile, dtype=int, skiprows=1, usecols=[3])\n",
      "TribDHSVMSeq = np.genfromtxt(TributaryFile, dtype=int, skiprows=1, usecols=[4])\n",
      "StemDHSVMSeq = np.genfromtxt(TributaryFile, dtype=int, skiprows=1, usecols=[2])\n",
      "StemRBMSeq = np.genfromtxt(TributaryFile, dtype=int, skiprows=1, usecols=[1])\n",
      "\n",
      "Basin = np.genfromtxt(MainStemFile, dtype=str, skiprows=1, usecols=[0])\n",
      "DHSVMSeq = np.genfromtxt(MainStemFile, dtype=int, skiprows=1, usecols=[2])\n",
      "RBMSeq = np.genfromtxt(MainStemFile, dtype=int, skiprows=1, usecols=[1])"
     ],
     "language": "python",
     "metadata": {},
     "outputs": [],
     "prompt_number": 8
    },
    {
     "cell_type": "markdown",
     "metadata": {},
     "source": [
      "<font color=blue>Assign a new unique ID to river main stem segments first </font>"
     ]
    },
    {
     "cell_type": "code",
     "collapsed": false,
     "input": [
      "StemID = len(Basin)*[0]\n",
      "id = 1\n",
      "for i in range(len(Basin)):\n",
      "    StemID[i] = id\n",
      "    id = id +1"
     ],
     "language": "python",
     "metadata": {},
     "outputs": [],
     "prompt_number": 9
    },
    {
     "cell_type": "markdown",
     "metadata": {},
     "source": [
      "<font color=blue>Output the new main stem segment .</font>"
     ]
    },
    {
     "cell_type": "code",
     "collapsed": false,
     "input": [
      "f = open(str(mainpath)+\"Conn.Main.Stem2\", 'w')\n",
      "for i in range(len(Basin)):\n",
      "    f.write(\"%s %d %d %d\\n\" % (Basin[i], RBMSeq[i], DHSVMSeq[i], StemID[i]))\n",
      "f.close()"
     ],
     "language": "python",
     "metadata": {},
     "outputs": [],
     "prompt_number": 10
    },
    {
     "cell_type": "markdown",
     "metadata": {},
     "source": [
      "<font color=blue>Assign the new main stem ID to trib file according to stem file </font>"
     ]
    },
    {
     "cell_type": "code",
     "collapsed": false,
     "input": [
      "StemID2 = [0] * len(TribBasin)\n",
      "for j in range(len(TribBasin)):\n",
      "    for i in range(len(Basin)):\n",
      "        if (TribBasin[j]==Basin[i] and StemDHSVMSeq[j]==DHSVMSeq[i]):\n",
      "            StemID2[j] = StemID[i]"
     ],
     "language": "python",
     "metadata": {},
     "outputs": [],
     "prompt_number": 11
    },
    {
     "cell_type": "markdown",
     "metadata": {},
     "source": [
      "<font color=blue>Assign a new unique ID to river tributary segments first </font>"
     ]
    },
    {
     "cell_type": "code",
     "collapsed": false,
     "input": [
      "TribID = len(TribBasin)*[0]\n",
      "id = max(StemID)+1\n",
      "for i in range(len(TribBasin)):\n",
      "    TribID[i] = id\n",
      "    id = id +1"
     ],
     "language": "python",
     "metadata": {},
     "outputs": [],
     "prompt_number": 12
    },
    {
     "cell_type": "code",
     "collapsed": false,
     "input": [
      "f = open(str(mainpath)+\"Conn.Main.Trib2\", 'w')\n",
      "for i in range(len(TribBasin)):\n",
      "    f.write(\"%s %d %d %d %d %d %d\\n\" % (TribBasin[i], StemRBMSeq[i], StemDHSVMSeq[i], TribRBMSeq[i], TribDHSVMSeq[i], StemID2[i], TribID[i]))\n",
      "f.close()"
     ],
     "language": "python",
     "metadata": {},
     "outputs": [],
     "prompt_number": 13
    }
   ],
   "metadata": {}
  }
 ]
}