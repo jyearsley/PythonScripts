{
 "metadata": {
  "name": "",
  "signature": "sha256:b96cb08511da3b7801e49e0efa1d280b8b7a012034eabb5438800ce4b14dabfe"
 },
 "nbformat": 3,
 "nbformat_minor": 0,
 "worksheets": [
  {
   "cells": [
    {
     "cell_type": "markdown",
     "metadata": {},
     "source": [
      "###This notebook includes Python scripts for plotting the streamflow in Ottauquechee and White."
     ]
    },
    {
     "cell_type": "code",
     "collapsed": false,
     "input": [
      "%pylab inline"
     ],
     "language": "python",
     "metadata": {},
     "outputs": [
      {
       "output_type": "stream",
       "stream": "stdout",
       "text": [
        "Populating the interactive namespace from numpy and matplotlib\n"
       ]
      },
      {
       "output_type": "stream",
       "stream": "stderr",
       "text": [
        "WARNING: pylab import has clobbered these variables: ['norm', 'f']\n",
        "`%matplotlib` prevents importing * from pylab and numpy\n"
       ]
      }
     ],
     "prompt_number": 122
    },
    {
     "cell_type": "code",
     "collapsed": false,
     "input": [
      "# Import all needed libraries \n",
      "import sys, os, datetime, time\n",
      "import collections\n",
      "import numpy as np\n",
      "import pandas as pd\n",
      "import numpy.ma as ma\n",
      "import math\n",
      "import matplotlib.dates as dates\n",
      "import matplotlib.ticker as ticker\n",
      "import matplotlib.pyplot as plt\n",
      "from matplotlib.backends.backend_pdf import PdfPages\n",
      "from scipy.stats import norm\n",
      "from scipy import stats\n",
      "\n",
      "import os\n",
      "os.getcwd() \n",
      "os.chdir(\"D:\\\\Dropbox\\\\Python_Scripts\")\n",
      "os.getcwd()"
     ],
     "language": "python",
     "metadata": {},
     "outputs": [
      {
       "metadata": {},
       "output_type": "pyout",
       "prompt_number": 123,
       "text": [
        "'D:\\\\Dropbox\\\\Python_Scripts'"
       ]
      }
     ],
     "prompt_number": 123
    },
    {
     "cell_type": "code",
     "collapsed": false,
     "input": [
      "import matplotlib as mpl\n",
      "mpl.rcParams['lines.linewidth'] = 2\n",
      "font = {'family' : 'sans-serif',\n",
      "        'sans-serif' : 'Verdana',\n",
      "        'weight' : 'medium',\n",
      "        'size'   : '12'}\n",
      "params1 = {\n",
      "          'axes.labelsize': 12,\n",
      "          'text.fontsize': 12,\n",
      "          'xtick.labelsize': 12,\n",
      "          'xtick.direction': 'out',\n",
      "          'ytick.labelsize': 12,\n",
      "          'legend.pad': 0.01,     # empty space around the legend box\n",
      "          'legend.fontsize': 12,\n",
      "          'legend.labelspacing':0.25,\n",
      "          'font.size': 12,\n",
      "          'font.style': 'normal',\n",
      "          'axes.style': 'normal',\n",
      "          'xtick.labelstyle': 'normal',\n",
      "          }\n",
      "mpl.RcParams.update(params1)\n",
      "mpl.rc('font', **font)\n",
      "plt.rc(\"xtick\", direction=\"out\")\n",
      "plt.rc(\"ytick\", direction=\"out\")\n",
      "plt.rc('legend',**{'fontsize':12})"
     ],
     "language": "python",
     "metadata": {},
     "outputs": [],
     "prompt_number": 124
    },
    {
     "cell_type": "markdown",
     "metadata": {},
     "source": [
      "<font color='blue'>Read the input **streamflow** files (change the path if needed)</font>"
     ]
    },
    {
     "cell_type": "code",
     "collapsed": false,
     "input": [
      "mainpath = \"D:\\\\Box Sync\\\\Connecticut_Basin\\\\TheRiver\\\\Streamflows\\\\\"\n",
      "gage_id = ['01129200', '01129500', '01131500', '01138500', '01144500', '01154500', '01170500', '01184000']\n",
      "sim_id = ['233', '217', '198', '171', '138', '111', '65', '40']"
     ],
     "language": "python",
     "metadata": {},
     "outputs": [],
     "prompt_number": 125
    },
    {
     "cell_type": "code",
     "collapsed": false,
     "input": [
      "col_id = np.zeros(len(sim_id), dtype=int)\n",
      "\n",
      "# Enter file path for sim. and obs. flow files\n",
      "simflowpath = str(mainpath)+'main.stem.Outflow.Final'\n",
      "f = open(str(simflowpath), 'r')\n",
      "seg_ID = np.array(f.readlines()[0].split())\n",
      "# print seg_ID\n",
      "\n",
      "for i in range(len(sim_id)):\n",
      "    col_id[i] = np.where(seg_ID==sim_id[i])[0]\n",
      "print col_id"
     ],
     "language": "python",
     "metadata": {},
     "outputs": [
      {
       "output_type": "stream",
       "stream": "stdout",
       "text": [
        "[ 16  32  51  78 111 138 184 209]\n"
       ]
      }
     ],
     "prompt_number": 127
    },
    {
     "cell_type": "code",
     "collapsed": false,
     "input": [
      "simflowdata = {}\n",
      "tempobsflowdate = collections.defaultdict(list)\n",
      "tempsimflowdate = collections.defaultdict(list)\n",
      "\n",
      "# Read flow sim and obs dates & data\n",
      "for i, n in enumerate(gage_id):\n",
      "    simflowdata[n] = np.genfromtxt(simflowpath, dtype=float, skiprows=1, usecols=[col_id[i]])\n",
      "    tempsimflowdate[n] = np.genfromtxt(simflowpath, dtype=str, skiprows=1, usecols=[0])"
     ],
     "language": "python",
     "metadata": {},
     "outputs": [],
     "prompt_number": 128
    },
    {
     "cell_type": "markdown",
     "metadata": {},
     "source": [
      "<font color='blue'>Average the 3-hourly simulated flow into daily values.</font>"
     ]
    },
    {
     "cell_type": "code",
     "collapsed": false,
     "input": [
      "simflowdate = collections.defaultdict(list)\n",
      "DailyPrecip = {}\n",
      "DailySimFlow = {}\n",
      "\n",
      "for i, n in enumerate(gage_id):\n",
      "    for j in range(len(tempsimflowdate[n])):\n",
      "        simflowdate[n].append(datetime.datetime.strptime(tempsimflowdate[n][j],'%m.%d.%Y-%H:%M:%S'))\n",
      "\n",
      "# daily mean flow    \n",
      "for i,n in enumerate(gage_id):\n",
      "    DailySimFlow[n] = pd.Series(simflowdata[n], index=simflowdate[n]).resample('D', how='mean') #unit:m3/s"
     ],
     "language": "python",
     "metadata": {},
     "outputs": [],
     "prompt_number": 118
    },
    {
     "cell_type": "code",
     "collapsed": false,
     "input": [
      "for i,n in enumerate(gage_id):\n",
      "    f = open(str(mainpath)+'DailyFlow.'+str(gage_id[i]), 'w')\n",
      "    for i in range(len(DailySimFlow[n])):\n",
      "        f.write(\"%s %f \\n\" % (DailySimFlow[n].index[i], DailySimFlow[n][i])) \n",
      "    f.close()"
     ],
     "language": "python",
     "metadata": {},
     "outputs": [],
     "prompt_number": 121
    }
   ],
   "metadata": {}
  }
 ]
}