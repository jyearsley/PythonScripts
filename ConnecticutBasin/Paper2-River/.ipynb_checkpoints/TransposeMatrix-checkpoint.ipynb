{
 "metadata": {
  "name": "",
  "signature": "sha256:04a4a26071ec859538f6dfac646f6148a1c70e3f4634acff182ea449ef5cafe9"
 },
 "nbformat": 3,
 "nbformat_minor": 0,
 "worksheets": [
  {
   "cells": [
    {
     "cell_type": "markdown",
     "metadata": {},
     "source": [
      "###This notebook includes Python scripts for transposing matrices."
     ]
    },
    {
     "cell_type": "code",
     "collapsed": false,
     "input": [
      "%pylab inline"
     ],
     "language": "python",
     "metadata": {},
     "outputs": [
      {
       "output_type": "stream",
       "stream": "stdout",
       "text": [
        "Populating the interactive namespace from numpy and matplotlib\n"
       ]
      }
     ],
     "prompt_number": 1
    },
    {
     "cell_type": "code",
     "collapsed": false,
     "input": [
      "# Import all needed libraries \n",
      "import sys, os, datetime, time\n",
      "import collections\n",
      "import numpy as np\n",
      "import pandas as pd\n",
      "import numpy.ma as ma\n",
      "import math\n",
      "import matplotlib.dates as dates\n",
      "import matplotlib.ticker as ticker\n",
      "import matplotlib.pyplot as plt\n",
      "from matplotlib.backends.backend_pdf import PdfPages\n",
      "from scipy.stats import norm\n",
      "from scipy import stats\n",
      "\n",
      "import os\n",
      "os.getcwd() \n",
      "os.chdir(\"D:\\\\Dropbox\\\\Python_Scripts\")\n",
      "os.getcwd()"
     ],
     "language": "python",
     "metadata": {},
     "outputs": [
      {
       "metadata": {},
       "output_type": "pyout",
       "prompt_number": 2,
       "text": [
        "'D:\\\\Dropbox\\\\Python_Scripts'"
       ]
      }
     ],
     "prompt_number": 2
    },
    {
     "cell_type": "code",
     "collapsed": false,
     "input": [
      "import matplotlib as mpl\n",
      "mpl.rcParams['lines.linewidth'] = 2\n",
      "font = {'family' : 'sans-serif',\n",
      "        'sans-serif' : 'Verdana',\n",
      "        'weight' : 'medium',\n",
      "        'size'   : '12'}\n",
      "params1 = {\n",
      "          'axes.labelsize': 12,\n",
      "          'text.fontsize': 12,\n",
      "          'xtick.labelsize': 12,\n",
      "          'xtick.direction': 'out',\n",
      "          'ytick.labelsize': 12,\n",
      "          'legend.pad': 0.01,     # empty space around the legend box\n",
      "          'legend.fontsize': 12,\n",
      "          'legend.labelspacing':0.25,\n",
      "          'font.size': 12,\n",
      "          'font.style': 'normal',\n",
      "          'axes.style': 'normal',\n",
      "          'xtick.labelstyle': 'normal',\n",
      "          }\n",
      "mpl.RcParams.update(params1)\n",
      "mpl.rc('font', **font)\n",
      "plt.rc(\"xtick\", direction=\"out\")\n",
      "plt.rc(\"ytick\", direction=\"out\")\n",
      "plt.rc('legend',**{'fontsize':12})"
     ],
     "language": "python",
     "metadata": {},
     "outputs": [],
     "prompt_number": 3
    },
    {
     "cell_type": "markdown",
     "metadata": {},
     "source": [
      "<font color='blue'>Read the input files into matrix</font>"
     ]
    },
    {
     "cell_type": "code",
     "collapsed": false,
     "input": [
      "mainpath = \"D:\\\\Box Sync\\\\Connecticut_Basin\\\\TheRiver\\\\River_Network\\\\\"\n",
      "mat = []\n",
      "# segmap has the projection from RBM sequence to DHSVM sequence\n",
      "f = open(str(mainpath)+\"main.stem.ATP.Only\", 'r')\n",
      "for line in f.readlines():\n",
      "    mat.append(line.split())"
     ],
     "language": "python",
     "metadata": {},
     "outputs": [],
     "prompt_number": 4
    },
    {
     "cell_type": "markdown",
     "metadata": {},
     "source": [
      "<font color=blue>Sort the matrix by the first row</font>"
     ]
    },
    {
     "cell_type": "code",
     "collapsed": false,
     "input": [
      "a = np.array(mat)\n",
      "print a[0, :] # first row\n",
      "\n",
      "c =  a[0, ::-1] # inverse the row\n",
      "# print c\n",
      "\n",
      "# extract the seg ID values\n",
      "d = a[0, 1:]\n",
      "# convert from string to int\n",
      "d = d.astype(np.int)\n",
      "print d\n",
      "\n",
      "# sort the row \n",
      "e = d.argsort()[::-1]\n",
      "print e\n",
      "\n",
      "# convert string arry to int array\n",
      "b = a[:, e]\n",
      "print b"
     ],
     "language": "python",
     "metadata": {},
     "outputs": [
      {
       "output_type": "stream",
       "stream": "stdout",
       "text": [
        "['Date' '199' '200' '201' '202' '203' '204' '205' '206' '207' '208' '209'\n",
        " '210' '211' '212' '213' '214' '215' '216' '217' '218' '219' '220' '221'\n",
        " '222' '223' '224' '225' '226' '227' '228' '229' '230' '231' '232' '233'\n",
        " '234' '235' '236' '237' '238' '239' '240' '241' '242' '243' '244' '245'\n",
        " '246' '247' '248' '139' '140' '141' '142' '143' '144' '145' '146' '147'\n",
        " '148' '149' '150' '151' '152' '153' '154' '155' '156' '157' '158' '159'\n",
        " '160' '161' '162' '163' '164' '165' '166' '167' '168' '169' '170' '171'\n",
        " '172' '173' '174' '175' '176' '177' '178' '179' '180' '181' '182' '183'\n",
        " '184' '185' '186' '187' '188' '189' '190' '191' '192' '193' '194' '195'\n",
        " '196' '197' '198']\n",
        "[199 200 201 202 203 204 205 206 207 208 209 210 211 212 213 214 215 216\n",
        " 217 218 219 220 221 222 223 224 225 226 227 228 229 230 231 232 233 234\n",
        " 235 236 237 238 239 240 241 242 243 244 245 246 247 248 139 140 141 142\n",
        " 143 144 145 146 147 148 149 150 151 152 153 154 155 156 157 158 159 160\n",
        " 161 162 163 164 165 166 167 168 169 170 171 172 173 174 175 176 177 178\n",
        " 179 180 181 182 183 184 185 186 187 188 189 190 191 192 193 194 195 196\n",
        " 197 198]\n",
        "[ 49  48  47  46  45  44  43  42  41  40  39  38  37  36  35  34  33  32\n",
        "  31  30  29  28  27  26  25  24  23  22  21  20  19  18  17  16  15  14\n",
        "  13  12  11  10   9   8   7   6   5   4   3   2   1   0 109 108 107 106\n",
        " 105 104 103 102 101 100  99  98  97  96  95  94  93  92  91  90  89  88\n",
        "  87  86  85  84  83  82  81  80  79  78  77  76  75  74  73  72  71  70\n",
        "  69  68  67  66  65  64  63  62  61  60  59  58  57  56  55  54  53  52\n",
        "  51  50]\n",
        "[['247' '246' '245' ..., '140' '139' '248']\n",
        " ['-13.81' '-13.80' '-13.80' ..., '-0.12' '-0.44' '-13.90']\n",
        " ['-17.81' '-17.79' '-17.79' ..., '-1.59' '-1.23' '-17.90']\n",
        " ..., \n",
        " ['-3.61' '-3.60' '-3.60' ..., '1.62' '0.56' '-3.71']\n",
        " ['-4.29' '-4.27' '-4.27' ..., '1.06' '0.05' '-4.38']\n",
        " ['-5.14' '-5.13' '-5.13' ..., '0.36' '-0.58' '-5.23']]\n"
       ]
      }
     ],
     "prompt_number": 21
    },
    {
     "cell_type": "code",
     "collapsed": false,
     "input": [
      "f=open(str(mainpath)+\"junk3.txt\", 'w')\n",
      "np.savetxt(str(mainpath)+\"junk3.txt\", b, delimiter=\" \", fmt=\"%s\") \n",
      "f.close()"
     ],
     "language": "python",
     "metadata": {},
     "outputs": [],
     "prompt_number": 20
    },
    {
     "cell_type": "code",
     "collapsed": false,
     "input": [],
     "language": "python",
     "metadata": {},
     "outputs": []
    }
   ],
   "metadata": {}
  }
 ]
}