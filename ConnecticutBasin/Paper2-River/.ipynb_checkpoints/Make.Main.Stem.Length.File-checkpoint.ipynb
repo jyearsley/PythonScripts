{
 "metadata": {
  "name": "",
  "signature": "sha256:ce7d698d6dcc81984a6a114c62e1cf1755137375072a9efa3c8e8599e31cb7ec"
 },
 "nbformat": 3,
 "nbformat_minor": 0,
 "worksheets": [
  {
   "cells": [
    {
     "cell_type": "markdown",
     "metadata": {},
     "source": [
      "###This notebook includes Python scripts for make a file storing the length of each segment on the main stem."
     ]
    },
    {
     "cell_type": "code",
     "collapsed": false,
     "input": [
      "%pylab inline"
     ],
     "language": "python",
     "metadata": {},
     "outputs": [
      {
       "output_type": "stream",
       "stream": "stdout",
       "text": [
        "Populating the interactive namespace from numpy and matplotlib\n"
       ]
      }
     ],
     "prompt_number": 1
    },
    {
     "cell_type": "code",
     "collapsed": false,
     "input": [
      "# Import all needed libraries \n",
      "import sys, os, datetime, time\n",
      "import collections\n",
      "import numpy as np\n",
      "import pandas as pd\n",
      "import numpy.ma as ma\n",
      "import math\n",
      "import matplotlib.dates as dates\n",
      "import matplotlib.ticker as ticker\n",
      "import matplotlib.pyplot as plt\n",
      "from matplotlib.backends.backend_pdf import PdfPages\n",
      "from scipy.stats import norm\n",
      "from scipy import stats\n",
      "\n",
      "import os\n",
      "os.getcwd() \n",
      "os.chdir(\"D:\\\\Dropbox\\\\Python_Scripts\")\n",
      "os.getcwd()"
     ],
     "language": "python",
     "metadata": {},
     "outputs": [
      {
       "metadata": {},
       "output_type": "pyout",
       "prompt_number": 2,
       "text": [
        "'D:\\\\Dropbox\\\\Python_Scripts'"
       ]
      }
     ],
     "prompt_number": 2
    },
    {
     "cell_type": "code",
     "collapsed": false,
     "input": [
      "import matplotlib as mpl\n",
      "mpl.rcParams['lines.linewidth'] = 2\n",
      "font = {'family' : 'sans-serif',\n",
      "        'sans-serif' : 'Verdana',\n",
      "        'weight' : 'medium',\n",
      "        'size'   : '12'}\n",
      "params1 = {\n",
      "          'axes.labelsize': 12,\n",
      "          'text.fontsize': 12,\n",
      "          'xtick.labelsize': 12,\n",
      "          'xtick.direction': 'out',\n",
      "          'ytick.labelsize': 12,\n",
      "          'legend.pad': 0.01,     # empty space around the legend box\n",
      "          'legend.fontsize': 12,\n",
      "          'legend.labelspacing':0.25,\n",
      "          'font.size': 12,\n",
      "          'font.style': 'normal',\n",
      "          'axes.style': 'normal',\n",
      "          'xtick.labelstyle': 'normal',\n",
      "          }\n",
      "mpl.RcParams.update(params1)\n",
      "mpl.rc('font', **font)\n",
      "plt.rc(\"xtick\", direction=\"out\")\n",
      "plt.rc(\"ytick\", direction=\"out\")\n",
      "plt.rc('legend',**{'fontsize':12})"
     ],
     "language": "python",
     "metadata": {},
     "outputs": [],
     "prompt_number": 3
    },
    {
     "cell_type": "markdown",
     "metadata": {},
     "source": [
      "<font color='blue'>Read the input files</font>"
     ]
    },
    {
     "cell_type": "code",
     "collapsed": false,
     "input": [
      "mainpath = \"D:\\\\Box Sync\\\\Connecticut_Basin\\\\TheRiver\\\\River_Network\\\\\"\n",
      "\n",
      "# segmap has the projection from RBM sequence to DHSVM sequence\n",
      "MainStemFile = str(mainpath)  + \"Conn.Main.Stem2\"\n",
      "\n",
      "# source file to extract data from\n",
      "InputFile = str(mainpath) + \"Main.Stem.Length\"\n",
      "\n",
      "BasinMain = np.genfromtxt(MainStemFile, dtype=str, skiprows=1, usecols=[0])\n",
      "BasinSub = np.genfromtxt(InputFile, dtype=str, skiprows=0, usecols=[0])\n",
      "\n",
      "DHSVMSeq = np.genfromtxt(MainStemFile, dtype=int, skiprows=1, usecols=[2])\n",
      "NewSeq = np.genfromtxt(MainStemFile, dtype=int, skiprows=1, usecols=[3])\n",
      "\n",
      "DHSVMSeq2 = np.genfromtxt(InputFile, dtype=int, skiprows=0, usecols=[1])\n",
      "Length = np.genfromtxt(InputFile, dtype=float, skiprows=0, usecols=[2])"
     ],
     "language": "python",
     "metadata": {},
     "outputs": [],
     "prompt_number": 5
    },
    {
     "cell_type": "code",
     "collapsed": false,
     "input": [
      "print DHSVMSeq\n",
      "print NewSeq"
     ],
     "language": "python",
     "metadata": {},
     "outputs": [
      {
       "output_type": "stream",
       "stream": "stdout",
       "text": [
        "[319 317 314 312 307 305 297 295 289 288 286 270 268 260 258 248 244 223\n",
        " 221 226 219 198 194 181 159 154 152 150 143 140 135 124 120 101  92  80\n",
        "  74  69  62  50  43  40  28  22 361 359 358 357 355 347 343 337 315 308\n",
        " 305 303 289 287 278 252 249 227 219 211 203 194 196 195 192 189 185 184\n",
        " 176 171 168 162 159 433 432 427 420 415 413 407 398 387 376 373 352 342\n",
        " 336 324 315 300 297 289 284 273 253 249 228 224 201 190 185 166 146 144\n",
        " 131 129 120 371 369 367 360 353 346 334 327 326 324 298 292 270 267 239\n",
        " 238 231 205 181 179 166 164 141 121  90  85  65 288 286 282 280 278 266\n",
        " 262 261 256 251 250 240 232 226 220 182 171 164 159 151 139 128  97  91\n",
        " 315 309 312 311 298 284 281 274 245 243 208 203 186 182 166 144 136 119\n",
        " 116 114 102  98  95  72  75  76  67  64  50  44  37  26  23  20  15  14\n",
        " 361 355 347 345 340 333 326 320 305 301 300 278 259 248 240 229 224 218\n",
        " 210 198 183 180 167 162 148 141 124 117 115 111 107  98  94  85  84  72\n",
        "  67  66  61  58  49  43  42  37  35  32  28  24  17   9]\n",
        "[  1   2   3   4   5   6   7   8   9  10  11  12  13  14  15  16  17  18\n",
        "  19  20  21  22  23  24  25  26  27  28  29  30  31  32  33  34  35  36\n",
        "  37  38  39  40  41  42  43  44  45  46  47  48  49  50  51  52  53  54\n",
        "  55  56  57  58  59  60  61  62  63  64  65  66  67  68  69  70  71  72\n",
        "  73  74  75  76  77  78  79  80  81  82  83  84  85  86  87  88  89  90\n",
        "  91  92  93  94  95  96  97  98  99 100 101 102 103 104 105 106 107 108\n",
        " 109 110 111 112 113 114 115 116 117 118 119 120 121 122 123 124 125 126\n",
        " 127 128 129 130 131 132 133 134 135 136 137 138 139 140 141 142 143 144\n",
        " 145 146 147 148 149 150 151 152 153 154 155 156 157 158 159 160 161 162\n",
        " 163 164 165 166 167 168 169 170 171 172 173 174 175 176 177 178 179 180\n",
        " 181 182 183 184 185 186 187 188 189 190 191 192 193 194 195 196 197 198\n",
        " 199 200 201 202 203 204 205 206 207 208 209 210 211 212 213 214 215 216\n",
        " 217 218 219 220 221 222 223 224 225 226 227 228 229 230 231 232 233 234\n",
        " 235 236 237 238 239 240 241 242 243 244 245 246 247 248]\n"
       ]
      }
     ],
     "prompt_number": 7
    },
    {
     "cell_type": "markdown",
     "metadata": {},
     "source": [
      "<font color='blue'>Find the location (in column number) of main stem segments in the file</font>"
     ]
    },
    {
     "cell_type": "code",
     "collapsed": false,
     "input": [
      "Len = []\n",
      "# locate the column number of desired segment ID in the first line of the file\n",
      "for j in range(len(DHSVMSeq)):\n",
      "    for i in range(len(DHSVMSeq2)):\n",
      "        if (BasinSub[i] == BasinMain[j] and DHSVMSeq2[i] == DHSVMSeq[j]):\n",
      "            Len.append(Length[i])   "
     ],
     "language": "python",
     "metadata": {},
     "outputs": [],
     "prompt_number": 16
    },
    {
     "cell_type": "markdown",
     "metadata": {},
     "source": [
      "<font color='blue'>Store the new ID assigned to the main stem segments in the file.</font>"
     ]
    },
    {
     "cell_type": "code",
     "collapsed": false,
     "input": [
      "print range(len(idx))\n",
      "print\n",
      "print \"lenth of idx\", len(idx), \"\\n\"\n",
      "print \"idx:\\n\", idx, \"\\n\"\n",
      "print \"last item in idx is: \", idx[27]"
     ],
     "language": "python",
     "metadata": {},
     "outputs": [
      {
       "output_type": "stream",
       "stream": "stdout",
       "text": [
        "[0, 1, 2, 3, 4, 5, 6, 7, 8, 9, 10, 11, 12, 13, 14, 15, 16, 17, 18, 19, 20, 21, 22, 23, 24, 25, 26, 27, 28, 29, 30, 31, 32, 33, 34, 35, 36, 37, 38, 39, 40, 41, 42, 43, 44, 45, 46, 47, 48, 49, 50]\n",
        "\n",
        "lenth of idx 51 \n",
        "\n",
        "idx:\n",
        "[0, 357, 353, 345, 343, 338, 333, 326, 320, 305, 301, 300, 278, 259, 248, 240, 229, 224, 218, 210, 198, 183, 180, 167, 162, 148, 141, 124, 117, 115, 111, 107, 98, 94, 85, 84, 72, 67, 66, 61, 58, 49, 43, 42, 37, 35, 32, 28, 24, 17, 9] \n",
        "\n",
        "last item in idx is:  124\n"
       ]
      }
     ],
     "prompt_number": 26
    },
    {
     "cell_type": "code",
     "collapsed": false,
     "input": [
      "id = [] #store the new ID\n",
      "for i in range(len(NewSeq)):\n",
      "    if (Basin[i]==str(BasinName)):\n",
      "        id.append(NewSeq[i])\n",
      "print len(id)"
     ],
     "language": "python",
     "metadata": {},
     "outputs": [
      {
       "output_type": "stream",
       "stream": "stdout",
       "text": [
        "50\n"
       ]
      }
     ],
     "prompt_number": 34
    },
    {
     "cell_type": "code",
     "collapsed": false,
     "input": [
      "var = collections.defaultdict(list)\n",
      "for j in range(len(idx)):\n",
      "    for k, line in enumerate(lines[1:]):  \n",
      "        var[j].append(line.split()[idx[j]])"
     ],
     "language": "python",
     "metadata": {},
     "outputs": [
      {
       "output_type": "stream",
       "stream": "stdout",
       "text": [
        "357\n",
        "-4.38\n"
       ]
      }
     ],
     "prompt_number": 35
    },
    {
     "cell_type": "code",
     "collapsed": false,
     "input": [
      "f=open(str(mainpath)+\"junk.txt\", 'w')\n",
      "\n",
      "f.write(\"Date \")\n",
      "for i in range(len(id)):\n",
      "    f.write(\"%d \" % id[i])\n",
      "f.write(\"\\n\")\n",
      "for i in range(len(lines[1:])):\n",
      "    for j in range(len(idx)):\n",
      "        f.write(var[j][i])\n",
      "        f.write(\" \")\n",
      "    f.write(\"\\n\")\n",
      "f.close()\n",
      "f1.close()"
     ],
     "language": "python",
     "metadata": {},
     "outputs": [],
     "prompt_number": 36
    },
    {
     "cell_type": "markdown",
     "metadata": {},
     "source": [
      "<font color='blue'>Make files for tributaries.</font>"
     ]
    },
    {
     "cell_type": "code",
     "collapsed": false,
     "input": [
      "TribBasin = np.genfromtxt(TributaryFile, dtype=str, skiprows=1, usecols=[0])\n",
      "TribDHSVMSeq = np.genfromtxt(TributaryFile, dtype=int, skiprows=1, usecols=[4])\n",
      "StemDHSVMSeq = np.genfromtxt(TributaryFile, dtype=int, skiprows=1, usecols=[2])\n",
      "TribNewSeq = np.genfromtxt(TributaryFile, dtype=int, skiprows=1, usecols=[6])"
     ],
     "language": "python",
     "metadata": {},
     "outputs": [],
     "prompt_number": 38
    },
    {
     "cell_type": "markdown",
     "metadata": {},
     "source": [
      "<font color='blue'>Find the location (in column number) of tributary segments in the file</font>"
     ]
    },
    {
     "cell_type": "code",
     "collapsed": false,
     "input": [
      "idx = [] #stores the indices of desired segments\n",
      "seg = [] #stores the main stem segment ID in the string format\n",
      "\n",
      "# convert integer to string\n",
      "for i in range(len(TribDHSVMSeq)):\n",
      "    seg.append(str(TribDHSVMSeq[i])) \n",
      "    \n",
      "f1 = open(InputFile)\n",
      "# skip the header\n",
      "lines = f1.readlines()[1:]\n",
      "\n",
      "# add the 'Date' header to the first line so the segment ID and corresponding values match in column number.\n",
      "lines[0] = 'Date' + lines[0]\n",
      "\n",
      "# locate the column number of desired segment ID in the first line of the file\n",
      "for j in range(len(TribDHSVMSeq)):\n",
      "    if (TribBasin[j]==str(BasinName)):\n",
      "        idx.append(lines[0].split().index(seg[j]))\n",
      "        \n",
      "# insert the 1st column which stores the timestamp\n",
      "idx.insert(0, 0)\n",
      "\n",
      "print \"idx:\\n\", idx"
     ],
     "language": "python",
     "metadata": {},
     "outputs": [
      {
       "output_type": "stream",
       "stream": "stdout",
       "text": [
        "idx:\n",
        "[0, 354, 347, 346, 342, 339, 332, 327, 319, 307, 306, 311, 299, 277, 258, 251, 239, 245, 223, 220, 211, 199, 184, 182, 171, 168, 163, 149, 144, 130, 132, 116, 112, 106, 104, 95, 81, 86, 73, 65, 77, 62, 57, 50, 44, 41, 38, 36, 31, 27, 23, 18, 10, 6]\n"
       ]
      }
     ],
     "prompt_number": 39
    },
    {
     "cell_type": "markdown",
     "metadata": {},
     "source": [
      "<font color='blue'>Store the new ID assigned to the tributary segments in the file.</font>"
     ]
    },
    {
     "cell_type": "code",
     "collapsed": false,
     "input": [
      "id = [] #store the new ID\n",
      "for i in range(len(TribNewSeq)):\n",
      "    if (TribBasin[i]==str(BasinName)):\n",
      "        id.append(TribNewSeq[i])\n",
      "print \"id:\\n\", id"
     ],
     "language": "python",
     "metadata": {},
     "outputs": [
      {
       "output_type": "stream",
       "stream": "stdout",
       "text": [
        "id:\n",
        "[249, 250, 251, 252, 253, 254, 255, 256, 257, 258, 259, 260, 261, 262, 263, 264, 265, 266, 267, 268, 269, 270, 271, 272, 273, 274, 275, 276, 277, 278, 279, 280, 281, 282, 283, 284, 285, 286, 287, 288, 289, 290, 291, 292, 293, 294, 295, 296, 297, 298, 299, 300, 301]\n"
       ]
      }
     ],
     "prompt_number": 40
    },
    {
     "cell_type": "code",
     "collapsed": false,
     "input": [
      "var = collections.defaultdict(list)\n",
      "for j in range(len(idx)):\n",
      "    for k, line in enumerate(lines[1:]):  \n",
      "        var[j].append(line.split()[idx[j]])"
     ],
     "language": "python",
     "metadata": {},
     "outputs": [],
     "prompt_number": 41
    },
    {
     "cell_type": "code",
     "collapsed": false,
     "input": [
      "f=open(str(mainpath)+\"junk2.txt\", 'w')\n",
      "\n",
      "f.write(\"Date \")\n",
      "for i in range(len(id)):\n",
      "    f.write(\"%d \" % id[i])\n",
      "f.write(\"\\n\")\n",
      "for i in range(len(lines[1:])):\n",
      "    for j in range(len(idx)):\n",
      "        f.write(var[j][i])\n",
      "        f.write(\" \")\n",
      "    f.write(\"\\n\")\n",
      "f.close()\n",
      "f1.close()"
     ],
     "language": "python",
     "metadata": {},
     "outputs": [],
     "prompt_number": 42
    },
    {
     "cell_type": "code",
     "collapsed": false,
     "input": [],
     "language": "python",
     "metadata": {},
     "outputs": []
    }
   ],
   "metadata": {}
  }
 ]
}