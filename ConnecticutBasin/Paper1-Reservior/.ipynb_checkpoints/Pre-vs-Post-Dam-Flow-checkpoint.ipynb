{
 "metadata": {
  "name": "",
  "signature": "sha256:85ce56a8b030bb2873e00279c78c84dcc35d1c637ffd6bbc329828a023b9cd2d"
 },
 "nbformat": 3,
 "nbformat_minor": 0,
 "worksheets": [
  {
   "cells": [
    {
     "cell_type": "markdown",
     "metadata": {},
     "source": [
      "###This notebook includes Python scripts for plotting the streamflow in Ottauquechee and White."
     ]
    },
    {
     "cell_type": "code",
     "collapsed": false,
     "input": [
      "%pylab inline"
     ],
     "language": "python",
     "metadata": {},
     "outputs": [
      {
       "output_type": "stream",
       "stream": "stdout",
       "text": [
        "Populating the interactive namespace from numpy and matplotlib\n"
       ]
      }
     ],
     "prompt_number": 1
    },
    {
     "cell_type": "code",
     "collapsed": false,
     "input": [
      "# Import all needed libraries \n",
      "import sys, os, datetime, time\n",
      "import collections\n",
      "import numpy as np\n",
      "import pandas as pd\n",
      "import numpy.ma as ma\n",
      "import math\n",
      "import matplotlib.dates as dates\n",
      "import matplotlib.ticker as ticker\n",
      "import matplotlib.pyplot as plt\n",
      "from matplotlib.backends.backend_pdf import PdfPages\n",
      "from scipy.stats import norm\n",
      "from scipy import stats\n",
      "\n",
      "import os\n",
      "os.getcwd() \n",
      "os.chdir(\"D:\\\\Dropbox\\\\Python_Scripts\")\n",
      "os.getcwd()"
     ],
     "language": "python",
     "metadata": {},
     "outputs": [
      {
       "metadata": {},
       "output_type": "pyout",
       "prompt_number": 2,
       "text": [
        "'D:\\\\Dropbox\\\\Python_Scripts'"
       ]
      }
     ],
     "prompt_number": 2
    },
    {
     "cell_type": "code",
     "collapsed": false,
     "input": [
      "import matplotlib as mpl\n",
      "mpl.rcParams['lines.linewidth'] = 2\n",
      "font = {'family' : 'sans-serif',\n",
      "        'sans-serif' : 'Verdana',\n",
      "        'weight' : 'medium',\n",
      "        'size'   : '12'}\n",
      "params1 = {\n",
      "          'axes.labelsize': 12,\n",
      "          'text.fontsize': 12,\n",
      "          'xtick.labelsize': 12,\n",
      "          'xtick.direction': 'out',\n",
      "          'ytick.labelsize': 12,\n",
      "          'legend.pad': 0.01,     # empty space around the legend box\n",
      "          'legend.fontsize': 12,\n",
      "          'legend.labelspacing':0.25,\n",
      "          'font.size': 12,\n",
      "          'font.style': 'normal',\n",
      "          'axes.style': 'normal',\n",
      "          'xtick.labelstyle': 'normal',\n",
      "          }\n",
      "mpl.RcParams.update(params1)\n",
      "mpl.rc('font', **font)\n",
      "plt.rc(\"xtick\", direction=\"out\")\n",
      "plt.rc(\"ytick\", direction=\"out\")\n",
      "plt.rc('legend',**{'fontsize':12})"
     ],
     "language": "python",
     "metadata": {},
     "outputs": [],
     "prompt_number": 3
    },
    {
     "cell_type": "markdown",
     "metadata": {},
     "source": [
      "<font color='blue'>Read the input **streamflow** files (change the path if needed)</font>"
     ]
    },
    {
     "cell_type": "code",
     "collapsed": false,
     "input": [
      "gage_id = ['01151500', '01144000']\n",
      "basin_name = ['Ottauquechee', 'White']\n",
      "folder_name = ['black_ottau', 'white']\n",
      "mainpath = \"D:\\\\Dropbox\\\\Python_Scripts\\\\Conn_Streamflow\\\\\"\n",
      "obsflowpath = {}\n",
      "obsflowdata = {}\n",
      "simflowdata = {}\n",
      "simflowpath = {}\n",
      "tempsimflowdate = collections.defaultdict(list)\n",
      "tempobsflowdate = collections.defaultdict(list)\n",
      "\n",
      "# Enter file path for obs. flow files\n",
      "for i, n in enumerate(gage_id):\n",
      "    obsflowpath[n] = str(mainpath)+str(folder_name[i])+'\\\\streamflow.'+str(n) +'.txt'\n",
      "\n",
      "# Read flow sim and obs dates\n",
      "for i, n in enumerate(gage_id):\n",
      "    obsflowdata[n] = np.genfromtxt(obsflowpath[n], dtype=float, usecols=[1])\n",
      "    tempobsflowdate[n] = np.genfromtxt(obsflowpath[n], dtype=str, skiprows=0, usecols=[0])"
     ],
     "language": "python",
     "metadata": {},
     "outputs": [],
     "prompt_number": 4
    },
    {
     "cell_type": "code",
     "collapsed": false,
     "input": [
      "obsflowdate = collections.defaultdict(list)\n",
      "DailyObsFlow = {}\n",
      "\n",
      "for i, n in enumerate(gage_id):\n",
      "    for j in range(len(tempobsflowdate[n])):\n",
      "        obsflowdate[n].append(datetime.datetime.strptime(tempobsflowdate[n][j],'%Y-%m-%d'))\n",
      "\n",
      "# daily mean flow    \n",
      "for i,n in enumerate(gage_id):\n",
      "    DailyObsFlow[n] = pd.Series(obsflowdata[n], index=obsflowdate[n])"
     ],
     "language": "python",
     "metadata": {},
     "outputs": [],
     "prompt_number": 5
    },
    {
     "cell_type": "markdown",
     "metadata": {},
     "source": [
      "<font color='blue'> **Truncate** the obs. flow files based on the dam construction dates.</font>"
     ]
    },
    {
     "cell_type": "code",
     "collapsed": false,
     "input": [
      "PreDamFlow = {}\n",
      "PostDamFlow = {}\n",
      "#dam was constructed during 1958-1961\n",
      "startdate1 = datetime.datetime(1952,10,1) # pre-dam \n",
      "enddate1 = datetime.datetime(1957,9,30)\n",
      "startdate2 = datetime.datetime(1962,10,1) # post-dam\n",
      "enddate2 = datetime.datetime(1967,9,30)\n",
      "\n",
      "# Truncate the data into desired time frame\n",
      "for i, n in enumerate(gage_id):\n",
      "    PreDamFlow[n] = DailyObsFlow[n].truncate(before=startdate1, after=enddate1)\n",
      "    PostDamFlow[n] = DailyObsFlow[n].truncate(before=startdate2, after=enddate2)"
     ],
     "language": "python",
     "metadata": {},
     "outputs": [],
     "prompt_number": 6
    },
    {
     "cell_type": "markdown",
     "metadata": {},
     "source": [
      "<font color='blue'> **Monthly** obs. and sim. flow.</font>"
     ]
    },
    {
     "cell_type": "code",
     "collapsed": false,
     "input": [
      "PreDamMonthlyFlow = {}\n",
      "PostDamMonthlyFlow = {}\n",
      "\n",
      "# monthly mean flow for each year\n",
      "for i,n in enumerate(gage_id):\n",
      "    PreDamMonthlyFlow[n] = PreDamFlow[n].resample('M', how='mean')\n",
      "    PostDamMonthlyFlow[n] = PostDamFlow[n].resample('M', how='mean')\n",
      "    \n",
      "# mean annual flow on monthly basis\n",
      "for i,n in enumerate(gage_id):\n",
      "    PreDamMonthlyFlow[n] = PreDamMonthlyFlow[n].groupby(lambda x: x.month).mean()\n",
      "    PostDamMonthlyFlow[n] = PostDamMonthlyFlow[n].groupby(lambda x: x.month).mean()"
     ],
     "language": "python",
     "metadata": {},
     "outputs": [],
     "prompt_number": 7
    },
    {
     "cell_type": "markdown",
     "metadata": {},
     "source": [
      "<font color='blue'>Plot pre-dam against post-dam flow</font>"
     ]
    },
    {
     "cell_type": "code",
     "collapsed": false,
     "input": [
      "for i, n in enumerate(gage_id):\n",
      "    print PreDamMonthlyFlow[n] "
     ],
     "language": "python",
     "metadata": {},
     "outputs": [
      {
       "output_type": "stream",
       "stream": "stdout",
       "text": [
        "1      8.144094\n",
        "2      8.393923\n",
        "3     19.641994\n",
        "4     35.923825\n",
        "5     20.946028\n",
        "6      8.934706\n",
        "7      3.777406\n",
        "8      4.145744\n",
        "9      4.354746\n",
        "10     4.906023\n",
        "11     8.290593\n",
        "12     9.610905\n",
        "dtype: float64\n",
        "1      22.602486\n",
        "2      25.501912\n",
        "3      53.782410\n",
        "4     109.586093\n",
        "5      61.012151\n",
        "6      25.609543\n",
        "7      12.833183\n",
        "8       8.458691\n",
        "9      11.956116\n",
        "10     11.822546\n",
        "11     22.016894\n",
        "12     26.689425\n",
        "dtype: float64\n"
       ]
      }
     ],
     "prompt_number": 8
    },
    {
     "cell_type": "code",
     "collapsed": false,
     "input": [
      "# Reorganize the data set to conform to the wateryear (ie. Oct-Sep)\n",
      "for i, n in enumerate(gage_id):\n",
      "    PreDamMonthlyFlow[n] = PreDamMonthlyFlow[n][9:].append(PreDamMonthlyFlow[n][:9])\n",
      "    PostDamMonthlyFlow[n] = PostDamMonthlyFlow[n][9:].append(PostDamMonthlyFlow[n][:9])"
     ],
     "language": "python",
     "metadata": {},
     "outputs": [],
     "prompt_number": 9
    },
    {
     "cell_type": "code",
     "collapsed": false,
     "input": [
      "fig=plt.figure(figsize=(6,9),dpi=400)\n",
      "for i, n in enumerate(gage_id):\n",
      "    ax = plt.subplot((2, 1, i+1)\n",
      "    fig.subplots_adjust(hspace = 0.3, wspace = 0.4)\n",
      "    props = dict(boxstyle='round', facecolor='wheat', alpha=0.5)\n",
      "    ax.text(.02,.9, str(basin_name[i])+' - '+str(n), fontsize=12, horizontalalignment='left', transform=ax.transAxes)\n",
      "    \n",
      "    plt.plot(range(1, 13), PreDamMonthlyFlow[n].values, color='grey', label='pre-dam', linewidth=2.0, linestyle='-', alpha=0.8)\n",
      "    plt.plot(range(1, 13), PostDamMonthlyFlow[n].values, color='blue', label='post-dam', linewidth=2.0, linestyle='-', alpha=0.8)\n",
      "    \n",
      "    ax.grid(True)\n",
      "    if (i == 0):\n",
      "        leg=ax.legend(loc='best', numpoints = 1)\n",
      "        leg.get_frame().set_alpha(0.5)\n",
      "    ax.xaxis.set_major_locator(ticker.FixedLocator(np.arange(1,13)))\n",
      "    ax.xaxis.set_major_formatter(ticker.FixedFormatter(['Oct','Nov','Dec','Jan','Feb','Mar','Apr','May','Jun','Jul','Aug','Sep']))\n",
      "    plt.ylabel('flow ($m^{3}/s$)', fontsize=12., labelpad=5)\n",
      "    "
     ],
     "language": "python",
     "metadata": {},
     "outputs": [
      {
       "ename": "SyntaxError",
       "evalue": "invalid syntax (<ipython-input-16-18cc60e3c9cf>, line 4)",
       "output_type": "pyerr",
       "traceback": [
        "\u001b[1;36m  File \u001b[1;32m\"<ipython-input-16-18cc60e3c9cf>\"\u001b[1;36m, line \u001b[1;32m4\u001b[0m\n\u001b[1;33m    fig.subplots_adjust(hspace = 0.3, wspace = 0.4)\u001b[0m\n\u001b[1;37m      ^\u001b[0m\n\u001b[1;31mSyntaxError\u001b[0m\u001b[1;31m:\u001b[0m invalid syntax\n"
       ]
      }
     ],
     "prompt_number": 16
    },
    {
     "cell_type": "code",
     "collapsed": false,
     "input": [
      "#################### Cumulative Distribution Function ####################\n",
      "    jj = jj + 1\n",
      "    ax = plt.subplot2grid((len(gage_id), 3), (0+i, 2), colspan=1)\n",
      "    jj = jj + 1\n",
      "    \n",
      "    nn = len(PreDamMonthlyFlow)\n",
      "    # log-normal probability plot\n",
      "    d = np.linspace(1, nn, num=nn)/(nn+1)\n",
      "    y = norm.ppf(d, 0, 1)\n",
      "        \n",
      "    # create the axis ticks\n",
      "    p  = [0.01, 0.2, 0.5, 0.90, 0.999];\n",
      "    \n",
      "    # relate var \"p\" with \"y\"\n",
      "    tick  = norm.ppf(p,0,1);\n",
      "    label = ['0.01','0.2','0.5','0.90','0.999'];\n",
      "    \n",
      "    # sort the data in an ascending order\n",
      "    PreDamMonthlyFlow[n].sort()\n",
      "    PostDamMonthlyFlow[n].sort()\n",
      "    ax.plot(y, PreDamMonthlyFlow[n],'*', color = '0.9', alpha = 0.8, label='pre-dam')\n",
      "    ax.plot(y, PostDamMonthlyFlow[n], 'b+', label='post-dam')\n",
      "    \n",
      "    # use numpoints option so the markeres don't appear twice in one legend\n",
      "    ax.xaxis.set_major_locator(ticker.FixedLocator(tick))\n",
      "    ax.xaxis.set_major_formatter(ticker.FixedFormatter(label))\n",
      "    ax.grid(True)\n",
      "    \n",
      "    # Changing the label's font-size\n",
      "    ax.tick_params(axis='x', labelsize=11)\n",
      "    \n",
      "    if (i == 0):\n",
      "        leg=ax.legend(loc='best', numpoints = 1)\n",
      "        leg.get_frame().set_alpha(0.5)\n",
      "    plt.ylabel('flow ($m^{3}/s$)', fontsize=12., labelpad=5)\n",
      "    if (i == 1):\n",
      "        plt.xlabel('probability', fontsize=12., labelpad=5)\n",
      "    \n",
      "outfig = 'D:\\\\Box Sync\\\\ConnecticutPaper\\\\Paper1\\\\Fig\\\\'+'MonthlyFlow.png'    \n",
      "#plt.savefig(str(outfig),dpi=500,format = 'png',transparent='True')"
     ],
     "language": "python",
     "metadata": {},
     "outputs": []
    }
   ],
   "metadata": {}
  }
 ]
}